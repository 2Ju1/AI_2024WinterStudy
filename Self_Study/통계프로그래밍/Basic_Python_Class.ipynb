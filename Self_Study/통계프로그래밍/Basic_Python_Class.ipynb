{
 "cells": [
  {
   "cell_type": "markdown",
   "metadata": {
    "id": "07jvyDi6yllQ"
   },
   "source": [
    "# 1. Class\n",
    "\n",
    "Almost everything in Python is an object, with its properties and methods.  Every object belongs to its class.\n",
    "\n",
    "A Class can be also understood as an object constructor, or a \"blueprint\" for creating objects.\n",
    "\n",
    "## 1.1 Object"
   ]
  },
  {
   "cell_type": "code",
   "execution_count": null,
   "metadata": {
    "colab": {
     "base_uri": "https://localhost:8080/"
    },
    "executionInfo": {
     "elapsed": 3,
     "status": "ok",
     "timestamp": 1663026863820,
     "user": {
      "displayName": "﻿안재윤(전임교원/통계학과)",
      "userId": "02619146530199681853"
     },
     "user_tz": -540
    },
    "id": "pwj9BTuzy1Hv",
    "outputId": "a68214b0-5c60-471e-dac8-0518941bb499"
   },
   "outputs": [
    {
     "name": "stdout",
     "output_type": "stream",
     "text": [
      "[1, 2, 10, 20]\n"
     ]
    }
   ],
   "source": [
    "mylist = [1, 10, 2, 20] # Object\n",
    "\n",
    "\n",
    "mylist.sort() # sort is an method in the object.\n",
    "\n",
    "\n",
    "print(mylist)\n"
   ]
  },
  {
   "cell_type": "markdown",
   "metadata": {
    "id": "7XoGgH38y9An"
   },
   "source": [
    "## Class is consist of the followings:\n",
    "\n",
    "1> constructor\n",
    "\n",
    "2> method\n",
    "\n",
    "3> member"
   ]
  },
  {
   "cell_type": "markdown",
   "metadata": {
    "id": "72ZSxpI02zC3"
   },
   "source": [
    "### Create Class"
   ]
  },
  {
   "cell_type": "code",
   "execution_count": null,
   "metadata": {
    "id": "SuvenuZ0Za6o"
   },
   "outputs": [],
   "source": [
    "class MyClass:\n",
    "  x = [1,10,2,20]"
   ]
  },
  {
   "cell_type": "markdown",
   "metadata": {
    "id": "LuYb-3F_3DtO"
   },
   "source": [
    "### Now use the class named MyClass to create objects:"
   ]
  },
  {
   "cell_type": "code",
   "execution_count": null,
   "metadata": {
    "colab": {
     "base_uri": "https://localhost:8080/"
    },
    "executionInfo": {
     "elapsed": 298,
     "status": "ok",
     "timestamp": 1663026882274,
     "user": {
      "displayName": "﻿안재윤(전임교원/통계학과)",
      "userId": "02619146530199681853"
     },
     "user_tz": -540
    },
    "id": "CABonY4P2xfX",
    "outputId": "1bee13b9-01db-4dbe-8fb8-863565e41031"
   },
   "outputs": [
    {
     "name": "stdout",
     "output_type": "stream",
     "text": [
      "[1, 10, 2, 20]\n",
      "<__main__.MyClass object at 0x7f9821842510>\n",
      "<class '__main__.MyClass'>\n"
     ]
    }
   ],
   "source": [
    "p1 = MyClass() #object named p1\n",
    "print(p1.x)\n",
    "print(p1)\n",
    "print(type(p1))"
   ]
  },
  {
   "cell_type": "markdown",
   "metadata": {
    "id": "drfX8VxX3XXW"
   },
   "source": [
    "### Object Methods\n",
    "\n",
    "Methods in objects are functions that belong to the object.\n",
    "\n",
    "Let us create a method:"
   ]
  },
  {
   "cell_type": "code",
   "execution_count": null,
   "metadata": {
    "id": "zndCPUEsZx_Q"
   },
   "outputs": [],
   "source": [
    "class MyClass:\n",
    "  def setdata(self, a):\n",
    "    self.x=a"
   ]
  },
  {
   "cell_type": "code",
   "execution_count": null,
   "metadata": {
    "colab": {
     "base_uri": "https://localhost:8080/"
    },
    "executionInfo": {
     "elapsed": 326,
     "status": "ok",
     "timestamp": 1663026899215,
     "user": {
      "displayName": "﻿안재윤(전임교원/통계학과)",
      "userId": "02619146530199681853"
     },
     "user_tz": -540
    },
    "id": "ATEoOumvZ1pq",
    "outputId": "49183daa-b9a1-4dc5-91bf-fe324eeb603d"
   },
   "outputs": [
    {
     "name": "stdout",
     "output_type": "stream",
     "text": [
      "[1, 10, 2, 20]\n"
     ]
    }
   ],
   "source": [
    "p1 = MyClass()\n",
    "p1.setdata([1, 10, 2, 20])\n",
    "print(p1.x)\n",
    "p2 = MyClass()\n",
    "# print(p2.x) # error"
   ]
  },
  {
   "cell_type": "markdown",
   "metadata": {
    "id": "oxfKdzDe5RgX"
   },
   "source": [
    "## The self Parameter:\n",
    "\n",
    "The self parameter is a reference to the current instance of the class, and is used to access variables that belongs to the class.\n",
    "\n",
    "It does not have to be named self , you can call it whatever you like, but it has to be the first parameter of any function in the class:"
   ]
  },
  {
   "cell_type": "code",
   "execution_count": null,
   "metadata": {
    "colab": {
     "base_uri": "https://localhost:8080/"
    },
    "executionInfo": {
     "elapsed": 3,
     "status": "ok",
     "timestamp": 1663026908877,
     "user": {
      "displayName": "﻿안재윤(전임교원/통계학과)",
      "userId": "02619146530199681853"
     },
     "user_tz": -540
    },
    "id": "9yp7I3jc5UVd",
    "outputId": "10c4465c-6064-47c4-a4bd-1e0844deb440"
   },
   "outputs": [
    {
     "name": "stdout",
     "output_type": "stream",
     "text": [
      "[2, 5, 1, 4]\n"
     ]
    }
   ],
   "source": [
    "class MyClass:\n",
    "  def setdata(apple, a):\n",
    "    apple.x=a\n",
    "\n",
    "p3 = MyClass()\n",
    "p3.setdata([2,5,1,4])\n",
    "print(p3.x)"
   ]
  },
  {
   "cell_type": "code",
   "execution_count": null,
   "metadata": {
    "id": "zyYSzpddamzz"
   },
   "outputs": [],
   "source": [
    "class MyClass:\n",
    "  # You can say \"x=[2,4,1,3,7,5]\" without having setdata.\n",
    "  def setdata(self, a):\n",
    "    self.x=a\n",
    "\n",
    "  def my_max(self):\n",
    "    temp = self.x\n",
    "    n = len(self.x)\n",
    "    current_max=temp[0]\n",
    "    for i in range(1, n):\n",
    "      if current_max < temp[i]:\n",
    "        current_max=temp[i]\n",
    "    return current_max\n",
    "\n"
   ]
  },
  {
   "cell_type": "code",
   "execution_count": null,
   "metadata": {
    "colab": {
     "base_uri": "https://localhost:8080/"
    },
    "executionInfo": {
     "elapsed": 469,
     "status": "ok",
     "timestamp": 1663026940256,
     "user": {
      "displayName": "﻿안재윤(전임교원/통계학과)",
      "userId": "02619146530199681853"
     },
     "user_tz": -540
    },
    "id": "_qLhXR1jbGbn",
    "outputId": "5994ce65-c0dc-4319-cad0-c9ad4bc1663b"
   },
   "outputs": [
    {
     "name": "stdout",
     "output_type": "stream",
     "text": [
      "[2, 4, 1, 3, 7, 5]\n",
      "7\n"
     ]
    }
   ],
   "source": [
    "p1 = MyClass()\n",
    "p1.setdata([2,4,1,3,7,5])\n",
    "print(p1.x)\n",
    "sorted = p1.my_max()\n",
    "print(sorted)"
   ]
  },
  {
   "cell_type": "markdown",
   "metadata": {
    "id": "7CodI1_u4S1H"
   },
   "source": [
    "## Special method\n",
    "\n",
    "### 1.  The __init__() Function\n",
    "\n",
    "All classes have a function called __init__(), which is always executed when the class is being initiated.\n",
    "\n",
    "Use the __init__() function to assign values to object properties, or other operations that are necessary to do when the object is being created:"
   ]
  },
  {
   "cell_type": "code",
   "execution_count": null,
   "metadata": {
    "colab": {
     "base_uri": "https://localhost:8080/"
    },
    "executionInfo": {
     "elapsed": 322,
     "status": "ok",
     "timestamp": 1663029045467,
     "user": {
      "displayName": "﻿안재윤(전임교원/통계학과)",
      "userId": "02619146530199681853"
     },
     "user_tz": -540
    },
    "id": "sxihpnVt5wo-",
    "outputId": "7608c844-0a7c-4bbf-8af3-aefb5c0857fe"
   },
   "outputs": [
    {
     "name": "stdout",
     "output_type": "stream",
     "text": [
      "John\n",
      "[2, 5, 1, 3, 4]\n"
     ]
    }
   ],
   "source": [
    "class Person:\n",
    "  def __init__(self, x1, x2):\n",
    "    self.x1 = x1\n",
    "    self.x2 = x2\n",
    "\n",
    "p1 = Person(\"John\", [2,5,1,3,4])\n",
    "\n",
    "print(p1.x1)\n",
    "print(p1.x2)"
   ]
  },
  {
   "cell_type": "markdown",
   "metadata": {
    "id": "ExVoLMwN3a2P"
   },
   "source": [
    "### Modify object properties and delete object properties\n"
   ]
  },
  {
   "cell_type": "code",
   "execution_count": null,
   "metadata": {
    "colab": {
     "base_uri": "https://localhost:8080/"
    },
    "executionInfo": {
     "elapsed": 2,
     "status": "ok",
     "timestamp": 1663029045776,
     "user": {
      "displayName": "﻿안재윤(전임교원/통계학과)",
      "userId": "02619146530199681853"
     },
     "user_tz": -540
    },
    "id": "WflJxxfd3d2j",
    "outputId": "aec6a60e-7f68-4ac6-f7e0-15f1e3661011"
   },
   "outputs": [
    {
     "name": "stdout",
     "output_type": "stream",
     "text": [
      "Ahn\n"
     ]
    }
   ],
   "source": [
    "p1.x1=\"Ahn\"\n",
    "print(p1.x1)\n",
    "del p1.x1\n"
   ]
  },
  {
   "cell_type": "markdown",
   "metadata": {
    "id": "raDOzUR4P8xQ"
   },
   "source": [
    "### 2. `__call__` method"
   ]
  },
  {
   "cell_type": "code",
   "execution_count": null,
   "metadata": {
    "id": "V9xWO5AnPSl_"
   },
   "outputs": [],
   "source": [
    "class Student(Person):\n",
    "  def __init__(self, x1, x2):\n",
    "    super().__init__(x1, x2)\n",
    "  def run(self):\n",
    "    print(self.x1, self.x2, \" can run.\")\n",
    "  def __call__(self):\n",
    "    return \"This is automatically called \", self.x1\n",
    "  def __len__(self):\n",
    "    return len(self.x1)\n",
    "    #print(\"Length of the first name \", len(self.x1))\n",
    "\n",
    "Me = Student(\"Jaeyoun\", \"Ahn\")"
   ]
  },
  {
   "cell_type": "code",
   "execution_count": null,
   "metadata": {
    "colab": {
     "base_uri": "https://localhost:8080/"
    },
    "executionInfo": {
     "elapsed": 3,
     "status": "ok",
     "timestamp": 1663029258523,
     "user": {
      "displayName": "﻿안재윤(전임교원/통계학과)",
      "userId": "02619146530199681853"
     },
     "user_tz": -540
    },
    "id": "9UUSrlNsQAx-",
    "outputId": "bfacfa28-f049-49fb-a476-e74eb59cb4e2"
   },
   "outputs": [
    {
     "name": "stdout",
     "output_type": "stream",
     "text": [
      "Jaeyoun Ahn  can run.\n"
     ]
    }
   ],
   "source": [
    "Me.run()"
   ]
  },
  {
   "cell_type": "code",
   "execution_count": null,
   "metadata": {
    "colab": {
     "base_uri": "https://localhost:8080/"
    },
    "executionInfo": {
     "elapsed": 2,
     "status": "ok",
     "timestamp": 1663029259048,
     "user": {
      "displayName": "﻿안재윤(전임교원/통계학과)",
      "userId": "02619146530199681853"
     },
     "user_tz": -540
    },
    "id": "tf1_Rc68QYLZ",
    "outputId": "86ea7008-5b6e-48d9-b42f-9e71e73e1855"
   },
   "outputs": [
    {
     "data": {
      "text/plain": [
       "('This is automatically called ', 'Jaeyoun')"
      ]
     },
     "execution_count": 78,
     "metadata": {},
     "output_type": "execute_result"
    }
   ],
   "source": [
    "Me()"
   ]
  },
  {
   "cell_type": "code",
   "execution_count": null,
   "metadata": {
    "colab": {
     "base_uri": "https://localhost:8080/"
    },
    "executionInfo": {
     "elapsed": 1,
     "status": "ok",
     "timestamp": 1663029259847,
     "user": {
      "displayName": "﻿안재윤(전임교원/통계학과)",
      "userId": "02619146530199681853"
     },
     "user_tz": -540
    },
    "id": "adzDPa-4QaN3",
    "outputId": "b1bc4e95-1658-4d0d-faab-fe6993f8ad2f"
   },
   "outputs": [
    {
     "data": {
      "text/plain": [
       "('This is automatically called ', 'Jaeyoun')"
      ]
     },
     "execution_count": 79,
     "metadata": {},
     "output_type": "execute_result"
    }
   ],
   "source": [
    "Me.__call__()"
   ]
  },
  {
   "cell_type": "code",
   "execution_count": null,
   "metadata": {
    "colab": {
     "base_uri": "https://localhost:8080/"
    },
    "executionInfo": {
     "elapsed": 2,
     "status": "ok",
     "timestamp": 1663029261555,
     "user": {
      "displayName": "﻿안재윤(전임교원/통계학과)",
      "userId": "02619146530199681853"
     },
     "user_tz": -540
    },
    "id": "2XRRkzt1QxAw",
    "outputId": "05b770c8-5ea4-4652-9e95-7b579404bc9f"
   },
   "outputs": [
    {
     "data": {
      "text/plain": [
       "7"
      ]
     },
     "execution_count": 80,
     "metadata": {},
     "output_type": "execute_result"
    }
   ],
   "source": [
    "len(Me)"
   ]
  },
  {
   "cell_type": "markdown",
   "metadata": {
    "id": "JoZsp4pf38xF"
   },
   "source": [
    "## 1.2 Inheritance\n",
    "\n",
    "### Create a parent class:\n",
    "\n",
    "Any class can be a parent class, so the syntax is the same as creating any other class:"
   ]
  },
  {
   "cell_type": "code",
   "execution_count": null,
   "metadata": {
    "colab": {
     "base_uri": "https://localhost:8080/"
    },
    "executionInfo": {
     "elapsed": 358,
     "status": "ok",
     "timestamp": 1663026971248,
     "user": {
      "displayName": "﻿안재윤(전임교원/통계학과)",
      "userId": "02619146530199681853"
     },
     "user_tz": -540
    },
    "id": "CH2zIgv93iPE",
    "outputId": "0f552834-44c5-48c5-dfc7-2dbed57b0e18"
   },
   "outputs": [
    {
     "name": "stdout",
     "output_type": "stream",
     "text": [
      "John Doe\n"
     ]
    }
   ],
   "source": [
    "class Person:\n",
    "  def __init__(self, fname, lname):\n",
    "    self.firstname = fname\n",
    "    self.lastname = lname\n",
    "\n",
    "  def printname(self):\n",
    "    print(self.firstname, self.lastname)\n",
    "\n",
    "#Use the Person class to create an object, and then execute the printname method:\n",
    "\n",
    "x = Person(\"John\", \"Doe\")\n",
    "x.printname()"
   ]
  },
  {
   "cell_type": "markdown",
   "metadata": {
    "id": "UUJ_HpkV4X40"
   },
   "source": [
    "### Create a Child Class:\n",
    "\n",
    "To create a class that inherits the functionality from another class, send the parent class as a parameter when creating the child class:"
   ]
  },
  {
   "cell_type": "code",
   "execution_count": null,
   "metadata": {
    "id": "ZZY-rgzD4VT7"
   },
   "outputs": [],
   "source": [
    " class Student(Person):\n",
    "  def play(self):\n",
    "    print(self.firstname, \"play basketball.\")"
   ]
  },
  {
   "cell_type": "code",
   "execution_count": null,
   "metadata": {
    "id": "E99tBP_I4sib"
   },
   "outputs": [],
   "source": [
    "s1 = Person(\"Jaeyoun\", \"Ahn\")\n",
    "s2 = Student(\"Jaeyoun\", \"Ahn\")"
   ]
  },
  {
   "cell_type": "code",
   "execution_count": null,
   "metadata": {
    "colab": {
     "base_uri": "https://localhost:8080/"
    },
    "executionInfo": {
     "elapsed": 2,
     "status": "ok",
     "timestamp": 1663026999228,
     "user": {
      "displayName": "﻿안재윤(전임교원/통계학과)",
      "userId": "02619146530199681853"
     },
     "user_tz": -540
    },
    "id": "NwmXQ0IZ4xqL",
    "outputId": "00428c01-af23-4559-be20-5a5e157dc0d2"
   },
   "outputs": [
    {
     "name": "stdout",
     "output_type": "stream",
     "text": [
      "Jaeyoun Ahn\n",
      "Jaeyoun play basketball.\n",
      "Jaeyoun Ahn\n"
     ]
    }
   ],
   "source": [
    "#s1.play() #error\n",
    "s1.printname()\n",
    "s2.play()\n",
    "s2.printname()"
   ]
  },
  {
   "cell_type": "code",
   "execution_count": null,
   "metadata": {
    "id": "EQ9yJXu84yuM"
   },
   "outputs": [],
   "source": [
    "class Student(Person):\n",
    "  def __init__(self, fname, lname, year):\n",
    "    super().__init__(fname, lname)\n",
    "    self.graduationyear = year\n",
    "  def printname(self):\n",
    "    super().printname()\n",
    "    print(\"graduated in\", self.graduationyear)\n",
    "  def play(self):\n",
    "    print(self.firstname, \"play basketball.\")"
   ]
  },
  {
   "cell_type": "code",
   "execution_count": null,
   "metadata": {
    "colab": {
     "base_uri": "https://localhost:8080/"
    },
    "executionInfo": {
     "elapsed": 2,
     "status": "ok",
     "timestamp": 1663027025808,
     "user": {
      "displayName": "﻿안재윤(전임교원/통계학과)",
      "userId": "02619146530199681853"
     },
     "user_tz": -540
    },
    "id": "BDZBhztW5pYr",
    "outputId": "928f9507-e9ec-49de-afd2-955ec3df94a7"
   },
   "outputs": [
    {
     "name": "stdout",
     "output_type": "stream",
     "text": [
      "Jaeyoun Ahn\n",
      "graduated in 2012\n",
      "Jaeyoun play basketball.\n"
     ]
    }
   ],
   "source": [
    "s = Student(\"Jaeyoun\", \"Ahn\", 2012)\n",
    "s.printname()\n",
    "s.play()"
   ]
  },
  {
   "cell_type": "markdown",
   "metadata": {
    "id": "knugonbL_h-G"
   },
   "source": [
    "### Example:\n",
    "\n",
    "Write a Rectangle class in Python language, allowing you to build a rectangle with length and width attributes.\n",
    "    \n",
    "Create a Perimeter() method to calculate the perimeter of the rectangle and a Area() method to calculate the area of ​​the rectangle.\n",
    "    \n",
    "Create a method display() that display the length, width, perimeter and area of an object created using an instantiation on rectangle class.\n",
    "    \n",
    "    \n",
    "Create a Parallelepipede child class inheriting from the Rectangle class and with a height attribute and another Volume() method to calculate the volume of the Parallelepiped.\n"
   ]
  },
  {
   "cell_type": "code",
   "execution_count": null,
   "metadata": {
    "id": "62woxH0M0Q82"
   },
   "outputs": [],
   "source": []
  }
 ],
 "metadata": {
  "colab": {
   "provenance": []
  },
  "kernelspec": {
   "display_name": "Python 3 (ipykernel)",
   "language": "python",
   "name": "python3"
  },
  "language_info": {
   "codemirror_mode": {
    "name": "ipython",
    "version": 3
   },
   "file_extension": ".py",
   "mimetype": "text/x-python",
   "name": "python",
   "nbconvert_exporter": "python",
   "pygments_lexer": "ipython3",
   "version": "3.11.5"
  }
 },
 "nbformat": 4,
 "nbformat_minor": 1
}
