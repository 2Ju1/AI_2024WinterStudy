{
 "cells": [
  {
   "cell_type": "markdown",
   "id": "10b153d3-dc8d-4202-a397-75b32ac07943",
   "metadata": {
    "id": "10b153d3-dc8d-4202-a397-75b32ac07943"
   },
   "source": [
    "# Chapter 2. Pytorch\n",
    "\n",
    "## Derivative\n"
   ]
  },
  {
   "cell_type": "markdown",
   "id": "dpnr7dNDxiMz",
   "metadata": {
    "id": "dpnr7dNDxiMz"
   },
   "source": [
    "# 3. Derivatives"
   ]
  },
  {
   "cell_type": "markdown",
   "id": "7FN2-gozxiMz",
   "metadata": {
    "id": "7FN2-gozxiMz"
   },
   "source": [
    "## 3.1. Derivatives"
   ]
  },
  {
   "cell_type": "markdown",
   "id": "W8tXij_yxiMz",
   "metadata": {
    "id": "W8tXij_yxiMz"
   },
   "source": [
    "Determine the derivative of\n",
    "\n",
    "$ y = 2x^3+x $   \n",
    "\n",
    "at   $x=1$.\n"
   ]
  },
  {
   "cell_type": "code",
   "execution_count": null,
   "id": "VWRHXs90xiMz",
   "metadata": {
    "colab": {
     "base_uri": "https://localhost:8080/"
    },
    "executionInfo": {
     "elapsed": 344,
     "status": "ok",
     "timestamp": 1690256464066,
     "user": {
      "displayName": "﻿안재윤(전임교원/통계학과)",
      "userId": "02619146530199681853"
     },
     "user_tz": -540
    },
    "id": "VWRHXs90xiMz",
    "outputId": "d229f545-3c80-42ed-f43c-11e3a7afbaa4"
   },
   "outputs": [
    {
     "data": {
      "text/plain": [
       "tensor(7.)"
      ]
     },
     "execution_count": 49,
     "metadata": {},
     "output_type": "execute_result"
    }
   ],
   "source": [
    "x = torch.tensor(1., requires_grad=True) #every operation on them should be tracked\n",
    "\n",
    "y = 2 * x ** 3 + x\n",
    "\n",
    "y.backward() # calculate derivatives and stores them in the respective tensors' .grad\n",
    "\n",
    "x.grad"
   ]
  },
  {
   "cell_type": "markdown",
   "id": "gV739GmyxiM0",
   "metadata": {
    "id": "gV739GmyxiM0"
   },
   "source": [
    "$ \\frac{dy(x)}{dx} = 6x^{2} + 1$  "
   ]
  },
  {
   "cell_type": "markdown",
   "id": "EM9vTVcfxiM0",
   "metadata": {
    "id": "EM9vTVcfxiM0"
   },
   "source": [
    "$ \\frac{dy(x=1)}{dx} = 6*1^{2} + 1$"
   ]
  },
  {
   "cell_type": "code",
   "execution_count": null,
   "id": "TnaMgoqAIxqt",
   "metadata": {
    "colab": {
     "base_uri": "https://localhost:8080/"
    },
    "executionInfo": {
     "elapsed": 3,
     "status": "ok",
     "timestamp": 1690256525137,
     "user": {
      "displayName": "﻿안재윤(전임교원/통계학과)",
      "userId": "02619146530199681853"
     },
     "user_tz": -540
    },
    "id": "TnaMgoqAIxqt",
    "outputId": "782f81be-2097-45c5-8751-11d91f082963"
   },
   "outputs": [
    {
     "data": {
      "text/plain": [
       "tensor(140.5988)"
      ]
     },
     "execution_count": 51,
     "metadata": {},
     "output_type": "execute_result"
    }
   ],
   "source": [
    "x = torch.tensor(1., requires_grad=True) #every operation on them should be tracked\n",
    "y = 2 * x ** 3 + x\n",
    "z = torch.exp(y)\n",
    "z.backward()\n",
    "x.grad"
   ]
  },
  {
   "cell_type": "code",
   "execution_count": null,
   "id": "mIuxPdl9xiM0",
   "metadata": {
    "colab": {
     "base_uri": "https://localhost:8080/"
    },
    "executionInfo": {
     "elapsed": 347,
     "status": "ok",
     "timestamp": 1690257267257,
     "user": {
      "displayName": "﻿안재윤(전임교원/통계학과)",
      "userId": "02619146530199681853"
     },
     "user_tz": -540
    },
    "id": "mIuxPdl9xiM0",
    "outputId": "b4017f19-b5f1-4580-93c7-75a542853ac6"
   },
   "outputs": [
    {
     "name": "stdout",
     "output_type": "stream",
     "text": [
      "tensor(1., requires_grad=True)\n",
      "data: tensor(1.)\n",
      "grad: tensor(140.5988)\n"
     ]
    }
   ],
   "source": [
    "print(x)\n",
    "print('data:',x.data)\n",
    "print('grad:',x.grad)\n",
    "\n"
   ]
  },
  {
   "cell_type": "code",
   "execution_count": null,
   "id": "pwe9nvR-zJQU",
   "metadata": {
    "colab": {
     "base_uri": "https://localhost:8080/"
    },
    "executionInfo": {
     "elapsed": 262,
     "status": "ok",
     "timestamp": 1629869613701,
     "user": {
      "displayName": "﻿안재윤(전임교원/통계학과)",
      "photoUrl": "",
      "userId": "02619146530199681853"
     },
     "user_tz": -540
    },
    "id": "pwe9nvR-zJQU",
    "outputId": "83f08f23-6093-429b-db93-dfc8b8d33810"
   },
   "outputs": [
    {
     "name": "stdout",
     "output_type": "stream",
     "text": [
      "is_leaf: True\n",
      "requires_grad: True\n"
     ]
    }
   ],
   "source": [
    "print(\"is_leaf:\",x.is_leaf)\n",
    "print(\"requires_grad:\",x.requires_grad)"
   ]
  },
  {
   "cell_type": "code",
   "execution_count": null,
   "id": "zVK8Xu_xxiM0",
   "metadata": {
    "colab": {
     "base_uri": "https://localhost:8080/"
    },
    "executionInfo": {
     "elapsed": 239,
     "status": "ok",
     "timestamp": 1629869637610,
     "user": {
      "displayName": "﻿안재윤(전임교원/통계학과)",
      "photoUrl": "",
      "userId": "02619146530199681853"
     },
     "user_tz": -540
    },
    "id": "zVK8Xu_xxiM0",
    "outputId": "e2336a62-b88a-4ba8-a22a-683ab9f0bc9f"
   },
   "outputs": [
    {
     "name": "stdout",
     "output_type": "stream",
     "text": [
      "data: tensor(3.)\n",
      "grad_fn: <AddBackward0 object at 0x7ff520953dd0>\n",
      "grad: None\n"
     ]
    },
    {
     "name": "stderr",
     "output_type": "stream",
     "text": [
      "/usr/local/lib/python3.7/dist-packages/ipykernel_launcher.py:3: UserWarning: The .grad attribute of a Tensor that is not a leaf Tensor is being accessed. Its .grad attribute won't be populated during autograd.backward(). If you indeed want the gradient for a non-leaf Tensor, use .retain_grad() on the non-leaf Tensor. If you access the non-leaf Tensor by mistake, make sure you access the leaf Tensor instead. See github.com/pytorch/pytorch/pull/30531 for more information.\n",
      "  This is separate from the ipykernel package so we can avoid doing imports until\n"
     ]
    }
   ],
   "source": [
    "print('data:',y.data)\n",
    "print('grad_fn:',y.grad_fn)\n",
    "print('grad:',y.grad)\n"
   ]
  },
  {
   "cell_type": "code",
   "execution_count": null,
   "id": "e0Os9lrazTu8",
   "metadata": {
    "colab": {
     "base_uri": "https://localhost:8080/"
    },
    "executionInfo": {
     "elapsed": 258,
     "status": "ok",
     "timestamp": 1629869655769,
     "user": {
      "displayName": "﻿안재윤(전임교원/통계학과)",
      "photoUrl": "",
      "userId": "02619146530199681853"
     },
     "user_tz": -540
    },
    "id": "e0Os9lrazTu8",
    "outputId": "31b41573-c46c-445a-fc20-e78ee15fd043"
   },
   "outputs": [
    {
     "name": "stdout",
     "output_type": "stream",
     "text": [
      "is_leaf: False\n",
      "requires_grad: True\n"
     ]
    }
   ],
   "source": [
    "print(\"is_leaf:\",y.is_leaf)\n",
    "print(\"requires_grad:\",y.requires_grad)"
   ]
  },
  {
   "cell_type": "markdown",
   "id": "4hMH1w1FxiM1",
   "metadata": {
    "id": "4hMH1w1FxiM1"
   },
   "source": [
    "### 2-4. Partial Derivates"
   ]
  },
  {
   "cell_type": "markdown",
   "id": "9QcAgKyuxiM1",
   "metadata": {
    "id": "9QcAgKyuxiM1"
   },
   "source": [
    "#### 참고  \n",
    "* `requires_grads=True`인 tensor는 tensor를 바로 .numpy() 로 변환 불가능  \n",
    "* `.detach().numpy()` 로 변환 가능"
   ]
  },
  {
   "cell_type": "markdown",
   "id": "d7U-W4ojxiM2",
   "metadata": {
    "id": "d7U-W4ojxiM2"
   },
   "source": [
    "Try to determine partial derivative  $u$ of the following function where $u=2$ and $v=1$: $ f=uv+(uv)^2$\n"
   ]
  },
  {
   "cell_type": "code",
   "execution_count": null,
   "id": "DwVCRvBIxiM2",
   "metadata": {
    "colab": {
     "base_uri": "https://localhost:8080/"
    },
    "executionInfo": {
     "elapsed": 253,
     "status": "ok",
     "timestamp": 1629869764083,
     "user": {
      "displayName": "﻿안재윤(전임교원/통계학과)",
      "photoUrl": "",
      "userId": "02619146530199681853"
     },
     "user_tz": -540
    },
    "id": "DwVCRvBIxiM2",
    "outputId": "299cbd75-f74d-4e09-a664-06b08d51dd19"
   },
   "outputs": [
    {
     "name": "stdout",
     "output_type": "stream",
     "text": [
      "tensor(5.) tensor(10.)\n"
     ]
    }
   ],
   "source": [
    "# Practice: Calculate the derivative of f = u * v + (u * v) ** 2 at u = 2, v = 1\n",
    "\n",
    "# Type the code here\n",
    "u = torch.tensor(2., requires_grad=True)\n",
    "v = torch.tensor(1., requires_grad=True)\n",
    "y = u*v + (u*v)**2\n",
    "\n",
    "y.backward()\n",
    "print(u.grad, v.grad)"
   ]
  },
  {
   "cell_type": "markdown",
   "id": "q2uzQh170r1_",
   "metadata": {
    "id": "q2uzQh170r1_"
   },
   "source": [
    "### Exercise 2:\n",
    "You are given\n",
    "\n",
    "$y=\\exp(2x_1)+x_2^2$.\n",
    "\n",
    "Calculate $\\triangledown y = \\left( \\frac{\\delta y}{\\delta x_1},\n",
    "\\frac{\\delta y}{\\delta x_2} \\right)$ at $x_1=1.0$ and $x_2=2.0$."
   ]
  },
  {
   "cell_type": "code",
   "execution_count": null,
   "id": "ioSxcy8ukLOr",
   "metadata": {
    "colab": {
     "base_uri": "https://localhost:8080/"
    },
    "executionInfo": {
     "elapsed": 2,
     "status": "ok",
     "timestamp": 1690270130689,
     "user": {
      "displayName": "﻿안재윤(전임교원/통계학과)",
      "userId": "02619146530199681853"
     },
     "user_tz": -540
    },
    "id": "ioSxcy8ukLOr",
    "outputId": "8ee517a4-2921-4252-8c93-b65a10b3afbb"
   },
   "outputs": [
    {
     "data": {
      "text/plain": [
       "tensor([14.7781,  4.0000])"
      ]
     },
     "execution_count": 61,
     "metadata": {},
     "output_type": "execute_result"
    }
   ],
   "source": [
    "x = torch.tensor([1.0, 2.0], requires_grad=True, dtype=torch.float32)\n",
    "y=torch.exp(2*x[0])+x[1]**2\n",
    "y.backward()\n",
    "x.grad"
   ]
  },
  {
   "cell_type": "code",
   "execution_count": null,
   "id": "kSjDvNJC8hxm",
   "metadata": {
    "colab": {
     "base_uri": "https://localhost:8080/",
     "height": 228
    },
    "executionInfo": {
     "elapsed": 4,
     "status": "error",
     "timestamp": 1690270210822,
     "user": {
      "displayName": "﻿안재윤(전임교원/통계학과)",
      "userId": "02619146530199681853"
     },
     "user_tz": -540
    },
    "id": "kSjDvNJC8hxm",
    "outputId": "949545b5-1b3d-4916-ca4e-1aa4fa337021"
   },
   "outputs": [
    {
     "ename": "AttributeError",
     "evalue": "ignored",
     "output_type": "error",
     "traceback": [
      "\u001b[0;31m---------------------------------------------------------------------------\u001b[0m",
      "\u001b[0;31mAttributeError\u001b[0m                            Traceback (most recent call last)",
      "\u001b[0;32m<ipython-input-62-ac2574918c29>\u001b[0m in \u001b[0;36m<cell line: 4>\u001b[0;34m()\u001b[0m\n\u001b[1;32m      2\u001b[0m \u001b[0mx\u001b[0m \u001b[0;34m=\u001b[0m \u001b[0mtorch\u001b[0m\u001b[0;34m.\u001b[0m\u001b[0mtensor\u001b[0m\u001b[0;34m(\u001b[0m\u001b[0;34m[\u001b[0m\u001b[0;36m1.0\u001b[0m\u001b[0;34m,\u001b[0m \u001b[0;36m2.0\u001b[0m\u001b[0;34m]\u001b[0m\u001b[0;34m,\u001b[0m \u001b[0mrequires_grad\u001b[0m\u001b[0;34m=\u001b[0m\u001b[0;32mTrue\u001b[0m\u001b[0;34m,\u001b[0m \u001b[0mdtype\u001b[0m\u001b[0;34m=\u001b[0m\u001b[0mtorch\u001b[0m\u001b[0;34m.\u001b[0m\u001b[0mfloat32\u001b[0m\u001b[0;34m)\u001b[0m\u001b[0;34m\u001b[0m\u001b[0;34m\u001b[0m\u001b[0m\n\u001b[1;32m      3\u001b[0m \u001b[0my\u001b[0m\u001b[0;34m=\u001b[0m\u001b[0mtorch\u001b[0m\u001b[0;34m.\u001b[0m\u001b[0mmath\u001b[0m\u001b[0;34m.\u001b[0m\u001b[0mexp\u001b[0m\u001b[0;34m(\u001b[0m\u001b[0;36m2\u001b[0m\u001b[0;34m*\u001b[0m\u001b[0mx\u001b[0m\u001b[0;34m[\u001b[0m\u001b[0;36m0\u001b[0m\u001b[0;34m]\u001b[0m\u001b[0;34m)\u001b[0m\u001b[0;34m\u001b[0m\u001b[0;34m\u001b[0m\u001b[0m\n\u001b[0;32m----> 4\u001b[0;31m \u001b[0my\u001b[0m\u001b[0;34m.\u001b[0m\u001b[0mbackward\u001b[0m\u001b[0;34m(\u001b[0m\u001b[0;34m)\u001b[0m\u001b[0;34m\u001b[0m\u001b[0;34m\u001b[0m\u001b[0m\n\u001b[0m\u001b[1;32m      5\u001b[0m \u001b[0mx\u001b[0m\u001b[0;34m.\u001b[0m\u001b[0mgrad\u001b[0m\u001b[0;34m\u001b[0m\u001b[0;34m\u001b[0m\u001b[0m\n",
      "\u001b[0;31mAttributeError\u001b[0m: 'float' object has no attribute 'backward'"
     ]
    }
   ],
   "source": [
    "### See why the following is not working\n",
    "x = torch.tensor([1.0, 2.0], requires_grad=True, dtype=torch.float32)\n",
    "y=torch.math.exp(2*x[0])\n",
    "y.backward()\n",
    "x.grad"
   ]
  },
  {
   "cell_type": "markdown",
   "id": "ZC49BTTdvuc7",
   "metadata": {
    "id": "ZC49BTTdvuc7"
   },
   "source": [
    "## 2.5 Chain rules amd gradients\n",
    "\n"
   ]
  },
  {
   "cell_type": "markdown",
   "id": "VkS3YLbk-i4u",
   "metadata": {
    "id": "VkS3YLbk-i4u"
   },
   "source": [
    "## Example 1:\n",
    "\n",
    "You are given $f(x_1, x_2)=(x_1+2x_2^3)^2$.\n",
    "\n",
    "* Calculate grad $f$ at $(x_1, x_2)=(1,2)$.\n",
    "\n",
    "Here, we are presenting two solutions. What is the difference?"
   ]
  },
  {
   "cell_type": "code",
   "execution_count": null,
   "id": "i85LbKcH_Mbb",
   "metadata": {
    "colab": {
     "base_uri": "https://localhost:8080/"
    },
    "executionInfo": {
     "elapsed": 1,
     "status": "ok",
     "timestamp": 1690270784642,
     "user": {
      "displayName": "﻿안재윤(전임교원/통계학과)",
      "userId": "02619146530199681853"
     },
     "user_tz": -540
    },
    "id": "i85LbKcH_Mbb",
    "outputId": "284b9da8-2955-4d0c-d815-0cccd63322bb"
   },
   "outputs": [
    {
     "data": {
      "text/plain": [
       "tensor([ 34., 816.])"
      ]
     },
     "execution_count": 73,
     "metadata": {},
     "output_type": "execute_result"
    }
   ],
   "source": [
    "x = torch.tensor([1.0, 2.0], requires_grad=True)\n",
    "f = (x[0]+2*x[1]**3)**2\n",
    "f.backward()\n",
    "x.grad"
   ]
  },
  {
   "cell_type": "code",
   "execution_count": null,
   "id": "Q0mwBaC_-iND",
   "metadata": {
    "colab": {
     "base_uri": "https://localhost:8080/"
    },
    "executionInfo": {
     "elapsed": 4,
     "status": "ok",
     "timestamp": 1690270785083,
     "user": {
      "displayName": "﻿안재윤(전임교원/통계학과)",
      "userId": "02619146530199681853"
     },
     "user_tz": -540
    },
    "id": "Q0mwBaC_-iND",
    "outputId": "5e67dbb7-874c-4074-9a83-25eeec6120b9"
   },
   "outputs": [
    {
     "data": {
      "text/plain": [
       "tensor([[ 34., 816.]])"
      ]
     },
     "execution_count": 74,
     "metadata": {},
     "output_type": "execute_result"
    }
   ],
   "source": [
    "x = torch.tensor([[1.0, 2.0]], requires_grad=True)\n",
    "f = (x[0,0]+2*x[0,1]**3)**2\n",
    "f.backward()\n",
    "x.grad"
   ]
  },
  {
   "cell_type": "markdown",
   "id": "itswXHsE-gGG",
   "metadata": {
    "id": "itswXHsE-gGG"
   },
   "source": [
    "### Example 2:\n",
    "\n",
    "Let $f(x)=x_1^2+2x_2$ and $g(t)=\\begin{pmatrix} \\sin(t) \\\\ \\cos(t)\\end{pmatrix}.$"
   ]
  },
  {
   "cell_type": "code",
   "execution_count": null,
   "id": "xwZYKhzk8oGO",
   "metadata": {
    "colab": {
     "base_uri": "https://localhost:8080/"
    },
    "executionInfo": {
     "elapsed": 8,
     "status": "ok",
     "timestamp": 1690270242858,
     "user": {
      "displayName": "﻿안재윤(전임교원/통계학과)",
      "userId": "02619146530199681853"
     },
     "user_tz": -540
    },
    "id": "xwZYKhzk8oGO",
    "outputId": "8931b818-2401-428d-baf3-4184854698a7"
   },
   "outputs": [
    {
     "data": {
      "text/plain": [
       "tensor([-0.7736])"
      ]
     },
     "execution_count": 66,
     "metadata": {},
     "output_type": "execute_result"
    }
   ],
   "source": [
    "import torch\n",
    "t=torch.tensor([1.0], requires_grad=True)\n",
    "g=torch.sin(t)**2+2* torch.cos(t)\n",
    "g.backward()\n",
    "t.grad"
   ]
  },
  {
   "cell_type": "code",
   "execution_count": null,
   "id": "We0PnA-UvtTc",
   "metadata": {
    "colab": {
     "base_uri": "https://localhost:8080/"
    },
    "executionInfo": {
     "elapsed": 4,
     "status": "ok",
     "timestamp": 1690271913525,
     "user": {
      "displayName": "﻿안재윤(전임교원/통계학과)",
      "userId": "02619146530199681853"
     },
     "user_tz": -540
    },
    "id": "We0PnA-UvtTc",
    "outputId": "f2d42fc2-9db7-4320-cbb7-d1087dc9d729"
   },
   "outputs": [
    {
     "name": "stdout",
     "output_type": "stream",
     "text": [
      "tensor([-0.7736])\n"
     ]
    }
   ],
   "source": [
    "import torch\n",
    "t=torch.tensor([1.0], requires_grad=True)\n",
    "g=[torch.sin(t), torch.cos(t)]\n",
    "f=g[0]**2 + 2*g[1]\n",
    "f.backward()\n",
    "print(t.grad)"
   ]
  },
  {
   "cell_type": "code",
   "execution_count": null,
   "id": "piaO4B6lwQsU",
   "metadata": {
    "id": "piaO4B6lwQsU"
   },
   "outputs": [],
   "source": []
  },
  {
   "cell_type": "markdown",
   "id": "Qb2YElefSeWn",
   "metadata": {
    "id": "Qb2YElefSeWn"
   },
   "source": [
    "## 2.6$^*$ Jacobian (Second derivatives)\n",
    "\n"
   ]
  },
  {
   "cell_type": "code",
   "execution_count": null,
   "id": "hNmCSKBbSink",
   "metadata": {
    "colab": {
     "base_uri": "https://localhost:8080/"
    },
    "executionInfo": {
     "elapsed": 3,
     "status": "ok",
     "timestamp": 1690326430451,
     "user": {
      "displayName": "﻿안재윤(전임교원/통계학과)",
      "userId": "02619146530199681853"
     },
     "user_tz": -540
    },
    "id": "hNmCSKBbSink",
    "outputId": "77149355-6d87-41cb-dfea-5c38d04683a2"
   },
   "outputs": [
    {
     "name": "stdout",
     "output_type": "stream",
     "text": [
      "(tensor([0.3463]), tensor([0.5210]))\n"
     ]
    },
    {
     "data": {
      "text/plain": [
       "(tensor([[2.8276]]), tensor([[3.]]))"
      ]
     },
     "execution_count": 3,
     "metadata": {},
     "output_type": "execute_result"
    }
   ],
   "source": [
    "import torch\n",
    "def myftn(x, y):\n",
    "    return 2 * torch.exp(x) + 3 * y\n",
    "\n",
    "inputs = (torch.rand(1), torch.rand(1)) # arguments for the function\n",
    "print(inputs)\n",
    "torch.autograd.functional.jacobian(myftn, inputs)"
   ]
  },
  {
   "cell_type": "markdown",
   "id": "c4RGZgC-BPcx",
   "metadata": {
    "id": "c4RGZgC-BPcx"
   },
   "source": [
    "## HW 1:\n",
    "\n",
    "You are given $X$ and $Y$. Using the linear regression, you want to have the following model\n",
    "\n",
    "$\\widehat{Y}=\\widehat{\\beta}_0+\\widehat{\\beta}_1X$\n",
    "\n",
    "by minimizing the following square loss\n",
    "\n",
    "$g(\\beta_0, \\beta_1)=\\sum\\limits_{i=1}^{20}(y_i-(\\beta_0+\\beta_1 x_i))^2$.\n",
    "\n",
    "Answer the following questions.\n",
    "\n",
    "1. Calculate grad $g$ at $(\\beta_0, \\beta_1)=(1.0, 0.5)$ without using autograd.\n",
    "\n",
    "2. Calculate grad $g$ at $(\\beta_0, \\beta_1)=(1.0, 0.5)$ using autograd.\n",
    "\n",
    "3. Reshape $X$ into the shape of $[20,1]$ and name it as $XX$. Then, calculate grad $g$ at $(\\beta_0, \\beta_1)=(1.0, 0.5)$ using autograd. (Caution: your answer should be the same as in 2.)\n",
    "\n",
    "4. Stack $X$ and $Y$ to make $MY\\_data1$ of shape $[20,2]$. Then, calculate grad $g$ at $(\\beta_0, \\beta_1)=(1.0, 0.5)$ using autograd. (Caution: your answer should be the same as in 2.)\n",
    "\n",
    "5. Concatenate $X$ and $Y$ to make $MY\\_data2$ of shape $[20,2]$. (Use the reshape if necessary) Then, calculate grad $g$ at $(\\beta_0, \\beta_1)=(1.0, 0.5)$ using autograd. (Caution: your answer should be the same as in 2.)"
   ]
  },
  {
   "cell_type": "code",
   "execution_count": null,
   "id": "rj-hsS6h7rl1",
   "metadata": {
    "id": "rj-hsS6h7rl1"
   },
   "outputs": [],
   "source": [
    "X=torch.tensor([-3.0000e+00, -2.7000e+00, -2.4000e+00, -2.1000e+00, -1.8000e+00,\n",
    "        -1.5000e+00, -1.2000e+00, -9.0000e-01, -6.0000e-01, -3.0000e-01,\n",
    "        -2.3842e-08,  3.0000e-01,  6.0000e-01,  9.0000e-01,  1.2000e+00,\n",
    "         1.5000e+00,  1.8000e+00,  2.1000e+00,  2.4000e+00,  2.7000e+00])"
   ]
  },
  {
   "cell_type": "code",
   "execution_count": null,
   "id": "-J--aAeqBTKV",
   "metadata": {
    "id": "-J--aAeqBTKV"
   },
   "outputs": [],
   "source": [
    "Y = torch.tensor([-7.1452, -5.4253, -5.1977, -3.6225, -3.8022, -4.4101, -4.6622, -3.1932,\n",
    "        -1.7325, -1.8879, -1.0742, -0.2320,  1.8226,  1.5453, -1.5535,  0.8857,\n",
    "         1.7537,  3.1607,  1.8912,  4.0895])"
   ]
  },
  {
   "cell_type": "code",
   "execution_count": null,
   "id": "HVUuut1iBXLM",
   "metadata": {
    "id": "HVUuut1iBXLM"
   },
   "outputs": [],
   "source": []
  },
  {
   "cell_type": "markdown",
   "id": "slWy4oJhDtD-",
   "metadata": {
    "id": "slWy4oJhDtD-"
   },
   "source": [
    "## HW 2:\n",
    "\n",
    "You are given\n",
    "\n",
    "$f(x)=x^3-3x^2+4$\n",
    "\n",
    "Answer the following questions.\n",
    "\n",
    "1. Draw the graph of $(x,f(x))$ for $x\\in [-5, 5]$.\n",
    "2. Draw the graph of $(x,f^{\\prime}(x))$ for $x\\in [-5, 5]$ using augograd in torch.\n",
    "\n",
    "\n"
   ]
  },
  {
   "cell_type": "code",
   "execution_count": null,
   "id": "ea3ywnhlEH1Q",
   "metadata": {
    "id": "ea3ywnhlEH1Q"
   },
   "outputs": [],
   "source": []
  }
 ],
 "metadata": {
  "accelerator": "GPU",
  "colab": {
   "machine_shape": "hm",
   "provenance": [
    {
     "file_id": "16lA7xc3uQhXISadh3Oj0x7A7eDcM9Bd0",
     "timestamp": 1693806059833
    },
    {
     "file_id": "1US2cBGgOkEnkALpql5cQT-C433hzCBej",
     "timestamp": 1693805595578
    }
   ]
  },
  "kernelspec": {
   "display_name": "Python 3 (ipykernel)",
   "language": "python",
   "name": "python3"
  },
  "language_info": {
   "codemirror_mode": {
    "name": "ipython",
    "version": 3
   },
   "file_extension": ".py",
   "mimetype": "text/x-python",
   "name": "python",
   "nbconvert_exporter": "python",
   "pygments_lexer": "ipython3",
   "version": "3.11.5"
  }
 },
 "nbformat": 4,
 "nbformat_minor": 5
}
