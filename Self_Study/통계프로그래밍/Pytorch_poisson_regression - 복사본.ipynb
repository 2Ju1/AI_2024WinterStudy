{
 "cells": [
  {
   "cell_type": "markdown",
   "id": "GU3HZYN1CNz_",
   "metadata": {
    "id": "GU3HZYN1CNz_"
   },
   "source": [
    "# 0. Linear regression to MLE\n",
    "\n",
    "## 0.1 Boston Data\n",
    "\n"
   ]
  },
  {
   "cell_type": "code",
   "execution_count": 1,
   "id": "bQC48nSsp3LH",
   "metadata": {
    "colab": {
     "base_uri": "https://localhost:8080/",
     "height": 1000
    },
    "executionInfo": {
     "elapsed": 18811,
     "status": "ok",
     "timestamp": 1698813919234,
     "user": {
      "displayName": "﻿안재윤(전임교원/통계학과)",
      "userId": "02619146530199681853"
     },
     "user_tz": -540
    },
    "id": "bQC48nSsp3LH",
    "outputId": "76f81a5d-4376-4d16-f216-65bab99ff412"
   },
   "outputs": [
    {
     "name": "stdout",
     "output_type": "stream",
     "text": [
      "Collecting ISLP\n",
      "  Downloading ISLP-0.3.21-py3-none-any.whl (3.6 MB)\n",
      "\u001b[?25l     \u001b[90m━━━━━━━━━━━━━━━━━━━━━━━━━━━━━━━━━━━━━━━━\u001b[0m \u001b[32m0.0/3.6 MB\u001b[0m \u001b[31m?\u001b[0m eta \u001b[36m-:--:--\u001b[0m\r",
      "\u001b[2K     \u001b[91m━━━━\u001b[0m\u001b[90m╺\u001b[0m\u001b[90m━━━━━━━━━━━━━━━━━━━━━━━━━━━━━━━━━━━\u001b[0m \u001b[32m0.4/3.6 MB\u001b[0m \u001b[31m11.7 MB/s\u001b[0m eta \u001b[36m0:00:01\u001b[0m\r",
      "\u001b[2K     \u001b[91m━━━━━━━━━━━━━━━━━━━━━━━━━━━━━━━━━━━━━━━\u001b[0m\u001b[91m╸\u001b[0m \u001b[32m3.6/3.6 MB\u001b[0m \u001b[31m60.8 MB/s\u001b[0m eta \u001b[36m0:00:01\u001b[0m\r",
      "\u001b[2K     \u001b[90m━━━━━━━━━━━━━━━━━━━━━━━━━━━━━━━━━━━━━━━━\u001b[0m \u001b[32m3.6/3.6 MB\u001b[0m \u001b[31m46.5 MB/s\u001b[0m eta \u001b[36m0:00:00\u001b[0m\n",
      "\u001b[?25hRequirement already satisfied: numpy<1.25,>=1.7.1 in /usr/local/lib/python3.10/dist-packages (from ISLP) (1.23.5)\n",
      "Requirement already satisfied: scipy>=0.9 in /usr/local/lib/python3.10/dist-packages (from ISLP) (1.11.3)\n",
      "Requirement already satisfied: pandas<=1.9,>=0.20 in /usr/local/lib/python3.10/dist-packages (from ISLP) (1.5.3)\n",
      "Requirement already satisfied: lxml in /usr/local/lib/python3.10/dist-packages (from ISLP) (4.9.3)\n",
      "Requirement already satisfied: scikit-learn>=1.2 in /usr/local/lib/python3.10/dist-packages (from ISLP) (1.2.2)\n",
      "Requirement already satisfied: joblib in /usr/local/lib/python3.10/dist-packages (from ISLP) (1.3.2)\n",
      "Requirement already satisfied: statsmodels>=0.13 in /usr/local/lib/python3.10/dist-packages (from ISLP) (0.14.0)\n",
      "Collecting lifelines (from ISLP)\n",
      "  Downloading lifelines-0.27.8-py3-none-any.whl (350 kB)\n",
      "\u001b[2K     \u001b[90m━━━━━━━━━━━━━━━━━━━━━━━━━━━━━━━━━━━━━━━━\u001b[0m \u001b[32m350.7/350.7 kB\u001b[0m \u001b[31m42.7 MB/s\u001b[0m eta \u001b[36m0:00:00\u001b[0m\n",
      "\u001b[?25hCollecting pygam (from ISLP)\n",
      "  Downloading pygam-0.9.0-py3-none-any.whl (522 kB)\n",
      "\u001b[2K     \u001b[90m━━━━━━━━━━━━━━━━━━━━━━━━━━━━━━━━━━━━━━━━\u001b[0m \u001b[32m522.2/522.2 kB\u001b[0m \u001b[31m56.7 MB/s\u001b[0m eta \u001b[36m0:00:00\u001b[0m\n",
      "\u001b[?25hRequirement already satisfied: torch in /usr/local/lib/python3.10/dist-packages (from ISLP) (2.1.0+cu118)\n",
      "Collecting pytorch-lightning (from ISLP)\n",
      "  Downloading pytorch_lightning-2.1.0-py3-none-any.whl (774 kB)\n",
      "\u001b[2K     \u001b[90m━━━━━━━━━━━━━━━━━━━━━━━━━━━━━━━━━━━━━━━━\u001b[0m \u001b[32m774.6/774.6 kB\u001b[0m \u001b[31m67.6 MB/s\u001b[0m eta \u001b[36m0:00:00\u001b[0m\n",
      "\u001b[?25hCollecting torchmetrics (from ISLP)\n",
      "  Downloading torchmetrics-1.2.0-py3-none-any.whl (805 kB)\n",
      "\u001b[2K     \u001b[90m━━━━━━━━━━━━━━━━━━━━━━━━━━━━━━━━━━━━━━━━\u001b[0m \u001b[32m805.2/805.2 kB\u001b[0m \u001b[31m71.7 MB/s\u001b[0m eta \u001b[36m0:00:00\u001b[0m\n",
      "\u001b[?25hRequirement already satisfied: python-dateutil>=2.8.1 in /usr/local/lib/python3.10/dist-packages (from pandas<=1.9,>=0.20->ISLP) (2.8.2)\n",
      "Requirement already satisfied: pytz>=2020.1 in /usr/local/lib/python3.10/dist-packages (from pandas<=1.9,>=0.20->ISLP) (2023.3.post1)\n",
      "Requirement already satisfied: threadpoolctl>=2.0.0 in /usr/local/lib/python3.10/dist-packages (from scikit-learn>=1.2->ISLP) (3.2.0)\n",
      "Requirement already satisfied: patsy>=0.5.2 in /usr/local/lib/python3.10/dist-packages (from statsmodels>=0.13->ISLP) (0.5.3)\n",
      "Requirement already satisfied: packaging>=21.3 in /usr/local/lib/python3.10/dist-packages (from statsmodels>=0.13->ISLP) (23.2)\n",
      "Requirement already satisfied: matplotlib>=3.0 in /usr/local/lib/python3.10/dist-packages (from lifelines->ISLP) (3.7.1)\n",
      "Requirement already satisfied: autograd>=1.5 in /usr/local/lib/python3.10/dist-packages (from lifelines->ISLP) (1.6.2)\n",
      "Collecting autograd-gamma>=0.3 (from lifelines->ISLP)\n",
      "  Downloading autograd-gamma-0.5.0.tar.gz (4.0 kB)\n",
      "  Preparing metadata (setup.py) ... \u001b[?25l\u001b[?25hdone\n",
      "Collecting formulaic>=0.2.2 (from lifelines->ISLP)\n",
      "  Downloading formulaic-0.6.6-py3-none-any.whl (91 kB)\n",
      "\u001b[2K     \u001b[90m━━━━━━━━━━━━━━━━━━━━━━━━━━━━━━━━━━━━━━━━\u001b[0m \u001b[32m91.0/91.0 kB\u001b[0m \u001b[31m14.3 MB/s\u001b[0m eta \u001b[36m0:00:00\u001b[0m\n",
      "\u001b[?25hCollecting numpy<1.25,>=1.7.1 (from ISLP)\n",
      "  Downloading numpy-1.24.4-cp310-cp310-manylinux_2_17_x86_64.manylinux2014_x86_64.whl (17.3 MB)\n",
      "\u001b[2K     \u001b[90m━━━━━━━━━━━━━━━━━━━━━━━━━━━━━━━━━━━━━━━━\u001b[0m \u001b[32m17.3/17.3 MB\u001b[0m \u001b[31m31.0 MB/s\u001b[0m eta \u001b[36m0:00:00\u001b[0m\n",
      "\u001b[?25hRequirement already satisfied: progressbar2<5.0.0,>=4.2.0 in /usr/local/lib/python3.10/dist-packages (from pygam->ISLP) (4.2.0)\n",
      "Requirement already satisfied: tqdm>=4.57.0 in /usr/local/lib/python3.10/dist-packages (from pytorch-lightning->ISLP) (4.66.1)\n",
      "Requirement already satisfied: PyYAML>=5.4 in /usr/local/lib/python3.10/dist-packages (from pytorch-lightning->ISLP) (6.0.1)\n",
      "Requirement already satisfied: fsspec[http]>2021.06.0 in /usr/local/lib/python3.10/dist-packages (from pytorch-lightning->ISLP) (2023.6.0)\n",
      "Requirement already satisfied: typing-extensions>=4.0.0 in /usr/local/lib/python3.10/dist-packages (from pytorch-lightning->ISLP) (4.5.0)\n",
      "Collecting lightning-utilities>=0.8.0 (from pytorch-lightning->ISLP)\n",
      "  Downloading lightning_utilities-0.9.0-py3-none-any.whl (23 kB)\n",
      "Requirement already satisfied: filelock in /usr/local/lib/python3.10/dist-packages (from torch->ISLP) (3.12.4)\n",
      "Requirement already satisfied: sympy in /usr/local/lib/python3.10/dist-packages (from torch->ISLP) (1.12)\n",
      "Requirement already satisfied: networkx in /usr/local/lib/python3.10/dist-packages (from torch->ISLP) (3.2)\n",
      "Requirement already satisfied: jinja2 in /usr/local/lib/python3.10/dist-packages (from torch->ISLP) (3.1.2)\n",
      "Requirement already satisfied: triton==2.1.0 in /usr/local/lib/python3.10/dist-packages (from torch->ISLP) (2.1.0)\n",
      "Requirement already satisfied: future>=0.15.2 in /usr/local/lib/python3.10/dist-packages (from autograd>=1.5->lifelines->ISLP) (0.18.3)\n",
      "Collecting astor>=0.8 (from formulaic>=0.2.2->lifelines->ISLP)\n",
      "  Downloading astor-0.8.1-py2.py3-none-any.whl (27 kB)\n",
      "Collecting interface-meta>=1.2.0 (from formulaic>=0.2.2->lifelines->ISLP)\n",
      "  Downloading interface_meta-1.3.0-py3-none-any.whl (14 kB)\n",
      "Requirement already satisfied: wrapt>=1.0 in /usr/local/lib/python3.10/dist-packages (from formulaic>=0.2.2->lifelines->ISLP) (1.14.1)\n",
      "Requirement already satisfied: requests in /usr/local/lib/python3.10/dist-packages (from fsspec[http]>2021.06.0->pytorch-lightning->ISLP) (2.31.0)\n",
      "Requirement already satisfied: aiohttp!=4.0.0a0,!=4.0.0a1 in /usr/local/lib/python3.10/dist-packages (from fsspec[http]>2021.06.0->pytorch-lightning->ISLP) (3.8.6)\n",
      "Requirement already satisfied: contourpy>=1.0.1 in /usr/local/lib/python3.10/dist-packages (from matplotlib>=3.0->lifelines->ISLP) (1.1.1)\n",
      "Requirement already satisfied: cycler>=0.10 in /usr/local/lib/python3.10/dist-packages (from matplotlib>=3.0->lifelines->ISLP) (0.12.1)\n",
      "Requirement already satisfied: fonttools>=4.22.0 in /usr/local/lib/python3.10/dist-packages (from matplotlib>=3.0->lifelines->ISLP) (4.43.1)\n",
      "Requirement already satisfied: kiwisolver>=1.0.1 in /usr/local/lib/python3.10/dist-packages (from matplotlib>=3.0->lifelines->ISLP) (1.4.5)\n",
      "Requirement already satisfied: pillow>=6.2.0 in /usr/local/lib/python3.10/dist-packages (from matplotlib>=3.0->lifelines->ISLP) (9.4.0)\n",
      "Requirement already satisfied: pyparsing>=2.3.1 in /usr/local/lib/python3.10/dist-packages (from matplotlib>=3.0->lifelines->ISLP) (3.1.1)\n",
      "Requirement already satisfied: six in /usr/local/lib/python3.10/dist-packages (from patsy>=0.5.2->statsmodels>=0.13->ISLP) (1.16.0)\n",
      "Requirement already satisfied: python-utils>=3.0.0 in /usr/local/lib/python3.10/dist-packages (from progressbar2<5.0.0,>=4.2.0->pygam->ISLP) (3.8.1)\n",
      "Requirement already satisfied: MarkupSafe>=2.0 in /usr/local/lib/python3.10/dist-packages (from jinja2->torch->ISLP) (2.1.3)\n",
      "Requirement already satisfied: mpmath>=0.19 in /usr/local/lib/python3.10/dist-packages (from sympy->torch->ISLP) (1.3.0)\n",
      "Requirement already satisfied: attrs>=17.3.0 in /usr/local/lib/python3.10/dist-packages (from aiohttp!=4.0.0a0,!=4.0.0a1->fsspec[http]>2021.06.0->pytorch-lightning->ISLP) (23.1.0)\n",
      "Requirement already satisfied: charset-normalizer<4.0,>=2.0 in /usr/local/lib/python3.10/dist-packages (from aiohttp!=4.0.0a0,!=4.0.0a1->fsspec[http]>2021.06.0->pytorch-lightning->ISLP) (3.3.1)\n",
      "Requirement already satisfied: multidict<7.0,>=4.5 in /usr/local/lib/python3.10/dist-packages (from aiohttp!=4.0.0a0,!=4.0.0a1->fsspec[http]>2021.06.0->pytorch-lightning->ISLP) (6.0.4)\n",
      "Requirement already satisfied: async-timeout<5.0,>=4.0.0a3 in /usr/local/lib/python3.10/dist-packages (from aiohttp!=4.0.0a0,!=4.0.0a1->fsspec[http]>2021.06.0->pytorch-lightning->ISLP) (4.0.3)\n",
      "Requirement already satisfied: yarl<2.0,>=1.0 in /usr/local/lib/python3.10/dist-packages (from aiohttp!=4.0.0a0,!=4.0.0a1->fsspec[http]>2021.06.0->pytorch-lightning->ISLP) (1.9.2)\n",
      "Requirement already satisfied: frozenlist>=1.1.1 in /usr/local/lib/python3.10/dist-packages (from aiohttp!=4.0.0a0,!=4.0.0a1->fsspec[http]>2021.06.0->pytorch-lightning->ISLP) (1.4.0)\n",
      "Requirement already satisfied: aiosignal>=1.1.2 in /usr/local/lib/python3.10/dist-packages (from aiohttp!=4.0.0a0,!=4.0.0a1->fsspec[http]>2021.06.0->pytorch-lightning->ISLP) (1.3.1)\n",
      "Requirement already satisfied: idna<4,>=2.5 in /usr/local/lib/python3.10/dist-packages (from requests->fsspec[http]>2021.06.0->pytorch-lightning->ISLP) (3.4)\n",
      "Requirement already satisfied: urllib3<3,>=1.21.1 in /usr/local/lib/python3.10/dist-packages (from requests->fsspec[http]>2021.06.0->pytorch-lightning->ISLP) (2.0.7)\n",
      "Requirement already satisfied: certifi>=2017.4.17 in /usr/local/lib/python3.10/dist-packages (from requests->fsspec[http]>2021.06.0->pytorch-lightning->ISLP) (2023.7.22)\n",
      "Building wheels for collected packages: autograd-gamma\n",
      "  Building wheel for autograd-gamma (setup.py) ... \u001b[?25l\u001b[?25hdone\n",
      "  Created wheel for autograd-gamma: filename=autograd_gamma-0.5.0-py3-none-any.whl size=4031 sha256=aa59768f2487b89f4c22bc750402fae2d5a74c9cb2341e0387ee3a4ff52a85f6\n",
      "  Stored in directory: /root/.cache/pip/wheels/25/cc/e0/ef2969164144c899fedb22b338f6703e2b9cf46eeebf254991\n",
      "Successfully built autograd-gamma\n",
      "Installing collected packages: numpy, lightning-utilities, interface-meta, astor, torchmetrics, pygam, formulaic, autograd-gamma, pytorch-lightning, lifelines, ISLP\n",
      "  Attempting uninstall: numpy\n",
      "    Found existing installation: numpy 1.23.5\n",
      "    Uninstalling numpy-1.23.5:\n",
      "      Successfully uninstalled numpy-1.23.5\n",
      "\u001b[31mERROR: pip's dependency resolver does not currently take into account all the packages that are installed. This behaviour is the source of the following dependency conflicts.\n",
      "lida 0.0.10 requires fastapi, which is not installed.\n",
      "lida 0.0.10 requires kaleido, which is not installed.\n",
      "lida 0.0.10 requires python-multipart, which is not installed.\n",
      "lida 0.0.10 requires uvicorn, which is not installed.\n",
      "numba 0.56.4 requires numpy<1.24,>=1.18, but you have numpy 1.24.4 which is incompatible.\u001b[0m\u001b[31m\n",
      "\u001b[0mSuccessfully installed ISLP-0.3.21 astor-0.8.1 autograd-gamma-0.5.0 formulaic-0.6.6 interface-meta-1.3.0 lifelines-0.27.8 lightning-utilities-0.9.0 numpy-1.24.4 pygam-0.9.0 pytorch-lightning-2.1.0 torchmetrics-1.2.0\n"
     ]
    },
    {
     "data": {
      "application/vnd.colab-display-data+json": {
       "pip_warning": {
        "packages": [
         "numpy"
        ]
       }
      }
     },
     "metadata": {},
     "output_type": "display_data"
    }
   ],
   "source": [
    "!pip install ISLP"
   ]
  },
  {
   "cell_type": "code",
   "execution_count": 23,
   "id": "xoLASZ4KEmAN",
   "metadata": {
    "executionInfo": {
     "elapsed": 6615,
     "status": "ok",
     "timestamp": 1698814004705,
     "user": {
      "displayName": "﻿안재윤(전임교원/통계학과)",
      "userId": "02619146530199681853"
     },
     "user_tz": -540
    },
    "id": "xoLASZ4KEmAN"
   },
   "outputs": [],
   "source": [
    "import ISLP\n",
    "import torch"
   ]
  },
  {
   "cell_type": "code",
   "execution_count": 24,
   "id": "X2XixjTBIbxC",
   "metadata": {
    "executionInfo": {
     "elapsed": 501,
     "status": "ok",
     "timestamp": 1698816828930,
     "user": {
      "displayName": "﻿안재윤(전임교원/통계학과)",
      "userId": "02619146530199681853"
     },
     "user_tz": -540
    },
    "id": "X2XixjTBIbxC"
   },
   "outputs": [],
   "source": [
    "Auto = ISLP.load_data(\"Auto\")\n",
    "\n",
    "X = torch.tensor(Auto[\"horsepower\"])\n",
    "Y = torch.tensor(Auto[\"mpg\"])\n"
   ]
  },
  {
   "cell_type": "markdown",
   "id": "zmu4kPCsC0jN",
   "metadata": {
    "id": "zmu4kPCsC0jN"
   },
   "source": [
    "Now you want to model\n",
    "\n",
    "```\n",
    "Y ~ X + X^2\n",
    "```"
   ]
  },
  {
   "cell_type": "code",
   "execution_count": 70,
   "id": "YAPWx2RSDJO3",
   "metadata": {
    "colab": {
     "base_uri": "https://localhost:8080/"
    },
    "executionInfo": {
     "elapsed": 3,
     "status": "ok",
     "timestamp": 1698816829471,
     "user": {
      "displayName": "﻿안재윤(전임교원/통계학과)",
      "userId": "02619146530199681853"
     },
     "user_tz": -540
    },
    "id": "YAPWx2RSDJO3",
    "outputId": "0e4f46ec-8be0-45dc-c175-d6215d518023"
   },
   "outputs": [
    {
     "name": "stdout",
     "output_type": "stream",
     "text": [
      "torch.Size([392]) torch.Size([392])\n"
     ]
    },
    {
     "data": {
      "text/plain": [
       "392"
      ]
     },
     "execution_count": 70,
     "metadata": {},
     "output_type": "execute_result"
    }
   ],
   "source": [
    "print(X.shape, Y.shape)\n",
    "n=X.shape[0]\n",
    "n"
   ]
  },
  {
   "cell_type": "code",
   "execution_count": 26,
   "id": "s_Au0XqXC5u8",
   "metadata": {
    "executionInfo": {
     "elapsed": 3,
     "status": "ok",
     "timestamp": 1698816829800,
     "user": {
      "displayName": "﻿안재윤(전임교원/통계학과)",
      "userId": "02619146530199681853"
     },
     "user_tz": -540
    },
    "id": "s_Au0XqXC5u8"
   },
   "outputs": [
    {
     "data": {
      "text/plain": [
       "tensor([[ 1.0000,  0.6633,  0.4594],\n",
       "        [ 1.0000,  1.5726,  1.5115],\n",
       "        [ 1.0000,  1.1829,  1.0300],\n",
       "        ...,\n",
       "        [ 1.0000, -0.5318, -0.5437],\n",
       "        [ 1.0000, -0.6617, -0.6267],\n",
       "        [ 1.0000, -0.5838, -0.5775]])"
      ]
     },
     "execution_count": 26,
     "metadata": {},
     "output_type": "execute_result"
    }
   ],
   "source": [
    "ones = torch.ones([X.shape[0]])\n",
    "XX = torch.stack([ones, X, X*X], axis=1)\n",
    "XX.shape\n",
    "\n",
    "X_mean = torch.mean(XX, axis=0)\n",
    "X_sd = torch.std(XX, axis=0)\n",
    "XX = (XX-X_mean)/X_sd\n",
    "\n",
    "XX[:, 0]=torch.ones([1])\n",
    "XX"
   ]
  },
  {
   "cell_type": "code",
   "execution_count": null,
   "id": "9ffec17a",
   "metadata": {},
   "outputs": [],
   "source": [
    "XX"
   ]
  },
  {
   "cell_type": "code",
   "execution_count": 72,
   "id": "b56b8ac6",
   "metadata": {},
   "outputs": [
    {
     "data": {
      "text/plain": [
       "tensor([[ 1.0000,  0.6633,  0.4594],\n",
       "        [ 1.0000,  1.5726,  1.5115],\n",
       "        [ 1.0000,  1.1829,  1.0300],\n",
       "        ...,\n",
       "        [ 1.0000, -0.5318, -0.5437],\n",
       "        [ 1.0000, -0.6617, -0.6267],\n",
       "        [ 1.0000, -0.5838, -0.5775]])"
      ]
     },
     "execution_count": 72,
     "metadata": {},
     "output_type": "execute_result"
    }
   ],
   "source": [
    "XX"
   ]
  },
  {
   "cell_type": "code",
   "execution_count": 73,
   "id": "mdcOjv1-Ezg7",
   "metadata": {
    "colab": {
     "base_uri": "https://localhost:8080/"
    },
    "executionInfo": {
     "elapsed": 4,
     "status": "ok",
     "timestamp": 1698816829801,
     "user": {
      "displayName": "﻿안재윤(전임교원/통계학과)",
      "userId": "02619146530199681853"
     },
     "user_tz": -540
    },
    "id": "mdcOjv1-Ezg7",
    "outputId": "f61e7da8-86ab-465c-8e8b-875b88038728"
   },
   "outputs": [
    {
     "data": {
      "text/plain": [
       "tensor([[ 1.0000,  0.6633,  0.4594],\n",
       "        [ 1.0000,  1.5726,  1.5115],\n",
       "        [ 1.0000,  1.1829,  1.0300],\n",
       "        ...,\n",
       "        [ 1.0000, -0.5318, -0.5437],\n",
       "        [ 1.0000, -0.6617, -0.6267],\n",
       "        [ 1.0000, -0.5838, -0.5775]])"
      ]
     },
     "execution_count": 73,
     "metadata": {},
     "output_type": "execute_result"
    }
   ],
   "source": [
    "XX[:, 0]=torch.ones([1])\n",
    "XX"
   ]
  },
  {
   "cell_type": "markdown",
   "id": "1HnxMnb9I6H1",
   "metadata": {
    "id": "1HnxMnb9I6H1"
   },
   "source": [
    "## 0.2 Train the model by minimizing MSE"
   ]
  },
  {
   "cell_type": "code",
   "execution_count": 74,
   "id": "pwt4EqZ6DiN4",
   "metadata": {
    "executionInfo": {
     "elapsed": 1,
     "status": "ok",
     "timestamp": 1698816830204,
     "user": {
      "displayName": "﻿안재윤(전임교원/통계학과)",
      "userId": "02619146530199681853"
     },
     "user_tz": -540
    },
    "id": "pwt4EqZ6DiN4"
   },
   "outputs": [],
   "source": [
    "from torch.utils.data import Dataset, DataLoader, TensorDataset\n",
    "dataset = TensorDataset(XX,Y.reshape([n,1]))\n",
    "trainloader = DataLoader(dataset=dataset, batch_size=10, shuffle=True)"
   ]
  },
  {
   "cell_type": "code",
   "execution_count": null,
   "id": "Ryhha3nkNJTQ",
   "metadata": {
    "executionInfo": {
     "elapsed": 1,
     "status": "ok",
     "timestamp": 1698816830797,
     "user": {
      "displayName": "﻿안재윤(전임교원/통계학과)",
      "userId": "02619146530199681853"
     },
     "user_tz": -540
    },
    "id": "Ryhha3nkNJTQ"
   },
   "outputs": [],
   "source": []
  },
  {
   "cell_type": "markdown",
   "id": "R7B1Zqv8EJeX",
   "metadata": {
    "id": "R7B1Zqv8EJeX"
   },
   "source": [
    "Now train the linear model."
   ]
  },
  {
   "cell_type": "code",
   "execution_count": 75,
   "id": "VhbYuTRN2ciZ",
   "metadata": {
    "executionInfo": {
     "elapsed": 2,
     "status": "ok",
     "timestamp": 1698816832052,
     "user": {
      "displayName": "﻿안재윤(전임교원/통계학과)",
      "userId": "02619146530199681853"
     },
     "user_tz": -540
    },
    "id": "VhbYuTRN2ciZ"
   },
   "outputs": [],
   "source": [
    "model = torch.nn.Linear(3, 1, bias=False)\n",
    "def criterion(yhat, y):\n",
    "  return torch.mean((yhat-y)**2)\n",
    "my_optimizer = torch.optim.SGD(model.parameters(), lr=0.1)"
   ]
  },
  {
   "cell_type": "code",
   "execution_count": 76,
   "id": "a4iOdmLLEZB7",
   "metadata": {
    "colab": {
     "base_uri": "https://localhost:8080/"
    },
    "executionInfo": {
     "elapsed": 2,
     "status": "ok",
     "timestamp": 1698816832468,
     "user": {
      "displayName": "﻿안재윤(전임교원/통계학과)",
      "userId": "02619146530199681853"
     },
     "user_tz": -540
    },
    "id": "a4iOdmLLEZB7",
    "outputId": "12d2b7cb-95ca-47a3-ad95-ab34e7bafb38"
   },
   "outputs": [
    {
     "data": {
      "text/plain": [
       "tensor([[1.0000, 0.6633, 0.4594],\n",
       "        [1.0000, 1.5726, 1.5115],\n",
       "        [1.0000, 1.1829, 1.0300]])"
      ]
     },
     "execution_count": 76,
     "metadata": {},
     "output_type": "execute_result"
    }
   ],
   "source": [
    "XX[:3, :]"
   ]
  },
  {
   "cell_type": "code",
   "execution_count": 77,
   "id": "OPgPuv8u2uD8",
   "metadata": {
    "executionInfo": {
     "elapsed": 2705,
     "status": "ok",
     "timestamp": 1698816835593,
     "user": {
      "displayName": "﻿안재윤(전임교원/통계학과)",
      "userId": "02619146530199681853"
     },
     "user_tz": -540
    },
    "id": "OPgPuv8u2uD8"
   },
   "outputs": [],
   "source": [
    "epochs=100\n",
    "history=[]\n",
    "n=len(XX)\n",
    "\n",
    "for epoch in range(epochs):\n",
    "  LOSS_sum = 0\n",
    "  for xx, yy in trainloader:\n",
    "    yhat = model(xx)\n",
    "    loss = criterion(yhat, yy)\n",
    "    LOSS_sum = LOSS_sum + loss * len(yy)\n",
    "    my_optimizer.zero_grad()\n",
    "    loss.backward()\n",
    "    my_optimizer.step()\n",
    "  history.append(LOSS_sum.item()/n)\n"
   ]
  },
  {
   "cell_type": "code",
   "execution_count": 78,
   "id": "LbGFutScEHlD",
   "metadata": {
    "colab": {
     "base_uri": "https://localhost:8080/",
     "height": 448
    },
    "executionInfo": {
     "elapsed": 8,
     "status": "ok",
     "timestamp": 1698816835594,
     "user": {
      "displayName": "﻿안재윤(전임교원/통계학과)",
      "userId": "02619146530199681853"
     },
     "user_tz": -540
    },
    "id": "LbGFutScEHlD",
    "outputId": "f3dc057e-151b-401f-cae1-d55e3cacf1d0"
   },
   "outputs": [
    {
     "data": {
      "text/plain": [
       "[<matplotlib.lines.Line2D at 0x134845290>]"
      ]
     },
     "execution_count": 78,
     "metadata": {},
     "output_type": "execute_result"
    },
    {
     "data": {
      "image/png": "[encoded data removed]",
      "text/plain": [
       "<Figure size 640x480 with 1 Axes>"
      ]
     },
     "metadata": {},
     "output_type": "display_data"
    }
   ],
   "source": [
    "import matplotlib.pyplot as plt\n",
    "plt.plot(history)"
   ]
  },
  {
   "cell_type": "code",
   "execution_count": 79,
   "id": "BVfZdY9pFJoD",
   "metadata": {
    "colab": {
     "base_uri": "https://localhost:8080/"
    },
    "executionInfo": {
     "elapsed": 6,
     "status": "ok",
     "timestamp": 1698816835594,
     "user": {
      "displayName": "﻿안재윤(전임교원/통계학과)",
      "userId": "02619146530199681853"
     },
     "user_tz": -540
    },
    "id": "BVfZdY9pFJoD",
    "outputId": "76840613-c2b7-47f0-c26d-08696bf0ae5b"
   },
   "outputs": [
    {
     "data": {
      "text/plain": [
       "tensor(19.1966, dtype=torch.float64, grad_fn=<MeanBackward0>)"
      ]
     },
     "execution_count": 79,
     "metadata": {},
     "output_type": "execute_result"
    }
   ],
   "source": [
    "Yhat = model(XX)\n",
    "\n",
    "torch.mean((Yhat.reshape([-1]) - Y.reshape([-1]))**2)"
   ]
  },
  {
   "cell_type": "code",
   "execution_count": 80,
   "id": "dWw4hCaKR3P8",
   "metadata": {
    "colab": {
     "base_uri": "https://localhost:8080/"
    },
    "executionInfo": {
     "elapsed": 4,
     "status": "ok",
     "timestamp": 1698816835594,
     "user": {
      "displayName": "﻿안재윤(전임교원/통계학과)",
      "userId": "02619146530199681853"
     },
     "user_tz": -540
    },
    "id": "dWw4hCaKR3P8",
    "outputId": "8130e2c4-cae3-4eb0-acae-b32c42b8aa6c"
   },
   "outputs": [
    {
     "data": {
      "text/plain": [
       "tensor(60.7627, dtype=torch.float64)"
      ]
     },
     "execution_count": 80,
     "metadata": {},
     "output_type": "execute_result"
    }
   ],
   "source": [
    "torch.mean((torch.mean(Y) - Y.reshape([-1]))**2)"
   ]
  },
  {
   "cell_type": "code",
   "execution_count": 81,
   "id": "CEMKs_XOT1Vt",
   "metadata": {
    "colab": {
     "base_uri": "https://localhost:8080/"
    },
    "executionInfo": {
     "elapsed": 3,
     "status": "ok",
     "timestamp": 1698816836122,
     "user": {
      "displayName": "﻿안재윤(전임교원/통계학과)",
      "userId": "02619146530199681853"
     },
     "user_tz": -540
    },
    "id": "CEMKs_XOT1Vt",
    "outputId": "6069910b-b1ce-4974-947d-a84befb32244"
   },
   "outputs": [
    {
     "data": {
      "text/plain": [
       "[Parameter containing:\n",
       " tensor([[ 23.0018, -17.9164,  11.9283]], requires_grad=True)]"
      ]
     },
     "execution_count": 81,
     "metadata": {},
     "output_type": "execute_result"
    }
   ],
   "source": [
    "list(model.parameters())"
   ]
  },
  {
   "cell_type": "code",
   "execution_count": 82,
   "id": "zK99rqjsT8i1",
   "metadata": {
    "colab": {
     "base_uri": "https://localhost:8080/",
     "height": 448
    },
    "executionInfo": {
     "elapsed": 4,
     "status": "ok",
     "timestamp": 1698816836733,
     "user": {
      "displayName": "﻿안재윤(전임교원/통계학과)",
      "userId": "02619146530199681853"
     },
     "user_tz": -540
    },
    "id": "zK99rqjsT8i1",
    "outputId": "bfba1e75-9292-45d4-e0a0-951768c56558"
   },
   "outputs": [
    {
     "data": {
      "text/plain": [
       "<matplotlib.collections.PathCollection at 0x1347eb850>"
      ]
     },
     "execution_count": 82,
     "metadata": {},
     "output_type": "execute_result"
    },
    {
     "data": {
      "image/png": "[encoded data removed]",
      "text/plain": [
       "<Figure size 640x480 with 1 Axes>"
      ]
     },
     "metadata": {},
     "output_type": "display_data"
    }
   ],
   "source": [
    "plt.scatter(Y.detach().numpy(), Yhat.detach().numpy())"
   ]
  },
  {
   "cell_type": "markdown",
   "id": "xlMN2vDLJBdH",
   "metadata": {
    "id": "xlMN2vDLJBdH"
   },
   "source": [
    "## 0.3 Train the model by MLE method"
   ]
  },
  {
   "cell_type": "markdown",
   "id": "0urrr98aFM7J",
   "metadata": {
    "id": "0urrr98aFM7J"
   },
   "source": [
    "Here in linear regression so far, your loss function is given by\n",
    "\n",
    "```\n",
    "loss(yy, yhat)\n",
    "```\n",
    "where `loss(yy, yhat)` is defined by\n",
    "\n",
    "$\\frac{1}{n}\\sum\\limits_{i=1}^n \\left( y_i-\\widehat{y}_i\\left(x_i; \\beta\\right)\\right)^2$. We estimate $\\beta = \\widehat{\\beta}$ by minimizing the above loss function.\n",
    "\n",
    "However, in actual linear regression, we use maximum likelihood estimation method (MLE) where the loss function is defined by log-likelihood function by assuming\n",
    "\n",
    "$\n",
    "y_i\\sim N\\left( \\widehat{y_i}(x_i, \\beta),\\,\\, \\sigma^2 \\right).\n",
    "$\n",
    "\n",
    "We calculate a log-likelihood function by\n",
    "$\n",
    "\\ell(\\beta, \\sigma) := \\sum\\limits_{i=1}^{n} \\log\\left(f\\left(y_i; \\widehat{y_i}, \\, \\sigma^2   \\right)\\right)\n",
    "$\n",
    "\n",
    "where\n",
    "\n",
    "$f\\left(y; \\mu, \\, \\sigma^2   \\right)=\\frac{1}{\\sqrt{2\\pi}\\sigma}\\exp\\left(- \\frac{\\left( y-\\mu\\right)^2}{2\\sigma^2}\\right)$\n",
    "\n",
    "\n"
   ]
  },
  {
   "cell_type": "markdown",
   "id": "msyD1uByHnDs",
   "metadata": {
    "id": "msyD1uByHnDs"
   },
   "source": [
    "As a result, we have parameters $\\sigma^2$ as well as $\\beta$. Now, let's do estimation using MLE by maximizing $\\ell(\\beta, \\sigma)$.\n",
    "\n"
   ]
  },
  {
   "cell_type": "code",
   "execution_count": 18,
   "id": "lYvhEkEsHe1d",
   "metadata": {
    "executionInfo": {
     "elapsed": 2,
     "status": "ok",
     "timestamp": 1698816838489,
     "user": {
      "displayName": "﻿안재윤(전임교원/통계학과)",
      "userId": "02619146530199681853"
     },
     "user_tz": -540
    },
    "id": "lYvhEkEsHe1d"
   },
   "outputs": [],
   "source": [
    "import numpy as np\n",
    "import torch\n",
    "from torch.utils.data import TensorDataset, DataLoader"
   ]
  },
  {
   "cell_type": "code",
   "execution_count": 9,
   "id": "-Ok9x_FEHCTt",
   "metadata": {
    "colab": {
     "base_uri": "https://localhost:8080/"
    },
    "executionInfo": {
     "elapsed": 3,
     "status": "ok",
     "timestamp": 1698816839175,
     "user": {
      "displayName": "﻿안재윤(전임교원/통계학과)",
      "userId": "02619146530199681853"
     },
     "user_tz": -540
    },
    "id": "-Ok9x_FEHCTt",
    "outputId": "e97cdca3-10dc-4362-bf07-4f8092c00fb6"
   },
   "outputs": [
    {
     "data": {
      "text/plain": [
       "1.1447298858494002"
      ]
     },
     "execution_count": 9,
     "metadata": {},
     "output_type": "execute_result"
    }
   ],
   "source": [
    "np.log(torch.pi)"
   ]
  },
  {
   "cell_type": "code",
   "execution_count": 29,
   "id": "3QsV6zDbGudQ",
   "metadata": {
    "colab": {
     "base_uri": "https://localhost:8080/"
    },
    "executionInfo": {
     "elapsed": 432,
     "status": "ok",
     "timestamp": 1698816873144,
     "user": {
      "displayName": "﻿안재윤(전임교원/통계학과)",
      "userId": "02619146530199681853"
     },
     "user_tz": -540
    },
    "id": "3QsV6zDbGudQ",
    "outputId": "d06486c8-26f5-48b7-8f99-d2d4ad8ab484"
   },
   "outputs": [
    {
     "name": "stderr",
     "output_type": "stream",
     "text": [
      "/var/folders/vl/yt67rw7s1tl_87hvr6bgvvw00000gn/T/ipykernel_14464/3065729652.py:2: UserWarning: To copy construct from a tensor, it is recommended to use sourceTensor.clone().detach() or sourceTensor.clone().detach().requires_grad_(True), rather than torch.tensor(sourceTensor).\n",
      "  log_sigma = torch.tensor(torch.rand([1])*0.01, requires_grad=True)\n"
     ]
    }
   ],
   "source": [
    "model = torch.nn.Linear(3, 1, bias=False)\n",
    "log_sigma = torch.tensor(torch.rand([1])*0.01, requires_grad=True)\n",
    "def criterion(yhat, y):\n",
    "  log_lik = -torch.mean( -1/2 *np.log(2*torch.pi)-log_sigma+(-(y-yhat)**2)/(2*torch.exp(log_sigma)**2) )\n",
    "  #log_lik = -torch.mean( -log_sigma+(-(y-yhat)**2)/(2*torch.exp(log_sigma)**2) )\n",
    "  return log_lik\n",
    "my_optimizer = torch.optim.SGD(list(model.parameters())+[log_sigma], lr=0.05)\n",
    "\n",
    "dataset = TensorDataset(XX, Y)\n",
    "trainloader = DataLoader(dataset=dataset, batch_size=10, shuffle=True)"
   ]
  },
  {
   "cell_type": "code",
   "execution_count": 30,
   "id": "3EBuKrpzJWPn",
   "metadata": {
    "executionInfo": {
     "elapsed": 16725,
     "status": "ok",
     "timestamp": 1698816890677,
     "user": {
      "displayName": "﻿안재윤(전임교원/통계학과)",
      "userId": "02619146530199681853"
     },
     "user_tz": -540
    },
    "id": "3EBuKrpzJWPn"
   },
   "outputs": [],
   "source": [
    "epochs=500\n",
    "history=[]\n",
    "\n",
    "for epoch in range(epochs):\n",
    "  LOSS_sum = 0\n",
    "  for xx, yy in trainloader:\n",
    "    yhat = model(xx)\n",
    "    loss = criterion(yhat, yy)\n",
    "    LOSS_sum = LOSS_sum + loss * len(yy)\n",
    "    my_optimizer.zero_grad()\n",
    "    loss.backward()\n",
    "    my_optimizer.step()\n",
    "  history.append(LOSS_sum.item()/len(trainloader.dataset))"
   ]
  },
  {
   "cell_type": "code",
   "execution_count": 32,
   "id": "Pp5R0SXGaT1U",
   "metadata": {
    "colab": {
     "base_uri": "https://localhost:8080/",
     "height": 448
    },
    "executionInfo": {
     "elapsed": 26,
     "status": "ok",
     "timestamp": 1698816890677,
     "user": {
      "displayName": "﻿안재윤(전임교원/통계학과)",
      "userId": "02619146530199681853"
     },
     "user_tz": -540
    },
    "id": "Pp5R0SXGaT1U",
    "outputId": "4d4163b0-f7a4-460f-e422-ccf6d281c187"
   },
   "outputs": [
    {
     "data": {
      "text/plain": [
       "[<matplotlib.lines.Line2D at 0x142e76290>]"
      ]
     },
     "execution_count": 32,
     "metadata": {},
     "output_type": "execute_result"
    },
    {
     "data": {
      "image/png": "[encoded data removed]",
      "text/plain": [
       "<Figure size 640x480 with 1 Axes>"
      ]
     },
     "metadata": {},
     "output_type": "display_data"
    }
   ],
   "source": [
    "import matplotlib.pyplot as plt\n",
    "plt.plot(history)"
   ]
  },
  {
   "cell_type": "code",
   "execution_count": 88,
   "id": "aktodN2lSGsM",
   "metadata": {
    "colab": {
     "base_uri": "https://localhost:8080/"
    },
    "executionInfo": {
     "elapsed": 24,
     "status": "ok",
     "timestamp": 1698816890678,
     "user": {
      "displayName": "﻿안재윤(전임교원/통계학과)",
      "userId": "02619146530199681853"
     },
     "user_tz": -540
    },
    "id": "aktodN2lSGsM",
    "outputId": "dc5338f2-bf72-45b6-b762-179332dfe84e"
   },
   "outputs": [
    {
     "data": {
      "text/plain": [
       "[Parameter containing:\n",
       " tensor([[23.4544, -9.0080,  3.1274]], requires_grad=True)]"
      ]
     },
     "execution_count": 88,
     "metadata": {},
     "output_type": "execute_result"
    }
   ],
   "source": [
    "list(model.parameters())"
   ]
  },
  {
   "cell_type": "code",
   "execution_count": 89,
   "id": "NJdzDNaxSGxA",
   "metadata": {
    "colab": {
     "base_uri": "https://localhost:8080/"
    },
    "executionInfo": {
     "elapsed": 22,
     "status": "ok",
     "timestamp": 1698816890678,
     "user": {
      "displayName": "﻿안재윤(전임교원/통계학과)",
      "userId": "02619146530199681853"
     },
     "user_tz": -540
    },
    "id": "NJdzDNaxSGxA",
    "outputId": "3947774e-61f6-43e3-cfb0-aed1f48a1264"
   },
   "outputs": [
    {
     "data": {
      "text/plain": [
       "tensor(21.7278, dtype=torch.float64, grad_fn=<MeanBackward0>)"
      ]
     },
     "execution_count": 89,
     "metadata": {},
     "output_type": "execute_result"
    }
   ],
   "source": [
    "Yhat = model(XX)\n",
    "\n",
    "torch.mean((Yhat.reshape([-1]) - Y.reshape([-1]))**2)"
   ]
  },
  {
   "cell_type": "code",
   "execution_count": 90,
   "id": "qrMr6QU9SGxA",
   "metadata": {
    "colab": {
     "base_uri": "https://localhost:8080/"
    },
    "executionInfo": {
     "elapsed": 19,
     "status": "ok",
     "timestamp": 1698816890678,
     "user": {
      "displayName": "﻿안재윤(전임교원/통계학과)",
      "userId": "02619146530199681853"
     },
     "user_tz": -540
    },
    "id": "qrMr6QU9SGxA",
    "outputId": "8c862d93-6d68-49fd-aacb-0bae15671762"
   },
   "outputs": [
    {
     "data": {
      "text/plain": [
       "tensor(60.7627, dtype=torch.float64)"
      ]
     },
     "execution_count": 90,
     "metadata": {},
     "output_type": "execute_result"
    }
   ],
   "source": [
    "torch.mean((torch.mean(Y) - Y.reshape([-1]))**2)"
   ]
  },
  {
   "cell_type": "markdown",
   "id": "LmuFfKYvImVD",
   "metadata": {
    "id": "LmuFfKYvImVD"
   },
   "source": [
    "## Exercise 0.1\n",
    "\n",
    "The loss function can be conveniently written using `torch.distributions.normal.Normal` function. Repeat the traning procedure using new loss function defined by `torch.distributions.normal.Normal` function. Answer the following questions:\n",
    "\n",
    "1> Calculate MSE.\n",
    "\n",
    "2> Calculate AIC.\n",
    "\n",
    "3> Assume that `horsepower=14.0`. Calculate the corresponding predictive value of `mpg`, $\\widehat{y}_i$."
   ]
  },
  {
   "cell_type": "markdown",
   "id": "S83e96rpJKG7",
   "metadata": {
    "id": "S83e96rpJKG7"
   },
   "source": [
    "Hint:\n",
    "Here is hot to define Exponential distribution\n",
    "\n",
    "\n",
    "\n",
    "```\n",
    "rate = 10 # mean of exponential distribution\n",
    "m = torch.distributions.exponential.Exponential(torch.tensor([rate]))\n",
    "```\n",
    "\n",
    "Here is how to do random sample from $X\\sim$ Exponential distribution of mean 10.0:\n",
    "```\n",
    "m.sample([10])\n",
    "```\n",
    "\n",
    "With the following, we calculate $P(X\\le x)=1-\\exp(x)$\n",
    "```\n",
    "x=2.0\n",
    "m.cdf(x)\n",
    "```\n",
    "\n",
    "With the following, we calculate log-likelihood function at $X=x$ which is written by\n",
    "\n",
    "$\\log\\left(f_X(x)\\right)= - \\log(rate) - \\frac{x}{rate}$\n",
    "\n",
    "\n",
    "```\n",
    "m.log_prob(x)\n",
    "```"
   ]
  },
  {
   "cell_type": "code",
   "execution_count": 91,
   "id": "IoWRITXOKZX3",
   "metadata": {
    "colab": {
     "base_uri": "https://localhost:8080/"
    },
    "executionInfo": {
     "elapsed": 340,
     "status": "ok",
     "timestamp": 1698815012962,
     "user": {
      "displayName": "﻿안재윤(전임교원/통계학과)",
      "userId": "02619146530199681853"
     },
     "user_tz": -540
    },
    "id": "IoWRITXOKZX3",
    "outputId": "82a23921-858f-467b-ec2c-438883b4f365"
   },
   "outputs": [
    {
     "name": "stderr",
     "output_type": "stream",
     "text": [
      "/var/folders/vl/yt67rw7s1tl_87hvr6bgvvw00000gn/T/ipykernel_36252/968406915.py:2: UserWarning: To copy construct from a tensor, it is recommended to use sourceTensor.clone().detach() or sourceTensor.clone().detach().requires_grad_(True), rather than torch.tensor(sourceTensor).\n",
      "  log_sigma = torch.tensor(torch.rand([1]), requires_grad=True)\n"
     ]
    }
   ],
   "source": [
    "model = torch.nn.Linear(3, 1, bias=False)\n",
    "log_sigma = torch.tensor(torch.rand([1]), requires_grad=True)\n",
    "# def criterion(yhat, y):\n",
    "#   log_lik = -torch.mean( -1/2 *np.log(2*torch.pi)-log_sigma-(y-yhat)**2)/(2*torch.exp(log_sigma)**2)\n",
    "#   return log_lik\n",
    "def criterion(yhat, y):\n",
    "  m = torch.distributions.normal.Normal(yhat, torch.exp(log_sigma), validate_args=None)\n",
    "  log_lik = -torch.mean(m.log_prob(y))\n",
    "  return log_lik\n",
    "my_optimizer = torch.optim.SGD(list(model.parameters())+[log_sigma], lr=0.01)"
   ]
  },
  {
   "cell_type": "code",
   "execution_count": null,
   "id": "Bg24ga9JPv6w",
   "metadata": {
    "executionInfo": {
     "elapsed": 4,
     "status": "ok",
     "timestamp": 1698815014748,
     "user": {
      "displayName": "﻿안재윤(전임교원/통계학과)",
      "userId": "02619146530199681853"
     },
     "user_tz": -540
    },
    "id": "Bg24ga9JPv6w"
   },
   "outputs": [],
   "source": []
  },
  {
   "cell_type": "code",
   "execution_count": 92,
   "id": "bJ_TiSFpJy6U",
   "metadata": {
    "executionInfo": {
     "elapsed": 3198,
     "status": "ok",
     "timestamp": 1698815018818,
     "user": {
      "displayName": "﻿안재윤(전임교원/통계학과)",
      "userId": "02619146530199681853"
     },
     "user_tz": -540
    },
    "id": "bJ_TiSFpJy6U"
   },
   "outputs": [],
   "source": [
    "epochs=50\n",
    "history=[]\n",
    "n=len(XX)\n",
    "\n",
    "for epoch in range(epochs):\n",
    "  LOSS_sum = 0.0\n",
    "  for xx, yy in trainloader:\n",
    "    yhat = model(xx)\n",
    "    loss = criterion(yhat, yy)\n",
    "    LOSS_sum = LOSS_sum + loss * len(yy)\n",
    "    my_optimizer.zero_grad()\n",
    "    loss.backward()\n",
    "    my_optimizer.step()\n",
    "  history.append(LOSS_sum.item()/n)\n"
   ]
  },
  {
   "cell_type": "code",
   "execution_count": 93,
   "id": "G8d62kQOP8_f",
   "metadata": {
    "colab": {
     "base_uri": "https://localhost:8080/",
     "height": 452
    },
    "executionInfo": {
     "elapsed": 733,
     "status": "ok",
     "timestamp": 1698815019935,
     "user": {
      "displayName": "﻿안재윤(전임교원/통계학과)",
      "userId": "02619146530199681853"
     },
     "user_tz": -540
    },
    "id": "G8d62kQOP8_f",
    "outputId": "1ae05d8a-56d2-4654-835d-9d78f4942c70"
   },
   "outputs": [
    {
     "data": {
      "text/plain": [
       "[<matplotlib.lines.Line2D at 0x13497e710>]"
      ]
     },
     "execution_count": 93,
     "metadata": {},
     "output_type": "execute_result"
    },
    {
     "data": {
      "image/png": "[encoded data removed]",
      "text/plain": [
       "<Figure size 640x480 with 1 Axes>"
      ]
     },
     "metadata": {},
     "output_type": "display_data"
    }
   ],
   "source": [
    "plt.plot(history)"
   ]
  },
  {
   "cell_type": "code",
   "execution_count": 94,
   "id": "thHRtgJQQIim",
   "metadata": {
    "colab": {
     "base_uri": "https://localhost:8080/"
    },
    "executionInfo": {
     "elapsed": 343,
     "status": "ok",
     "timestamp": 1698815024348,
     "user": {
      "displayName": "﻿안재윤(전임교원/통계학과)",
      "userId": "02619146530199681853"
     },
     "user_tz": -540
    },
    "id": "thHRtgJQQIim",
    "outputId": "b650c199-7021-42da-b85c-d07c36fabfb1"
   },
   "outputs": [
    {
     "data": {
      "text/plain": [
       "torch.Size([392, 1])"
      ]
     },
     "execution_count": 94,
     "metadata": {},
     "output_type": "execute_result"
    }
   ],
   "source": [
    "# AIC\n",
    "\n",
    "Yhat = model(XX)\n",
    "Yhat.shape"
   ]
  },
  {
   "cell_type": "code",
   "execution_count": 95,
   "id": "3bceb0bb",
   "metadata": {},
   "outputs": [
    {
     "data": {
      "text/plain": [
       "[Parameter containing:\n",
       " tensor([[ 1.3724, -0.6106, -0.3799]], requires_grad=True)]"
      ]
     },
     "execution_count": 95,
     "metadata": {},
     "output_type": "execute_result"
    }
   ],
   "source": [
    "list(model.parameters())"
   ]
  },
  {
   "cell_type": "code",
   "execution_count": 96,
   "id": "VcniFfo6RewS",
   "metadata": {
    "colab": {
     "base_uri": "https://localhost:8080/"
    },
    "executionInfo": {
     "elapsed": 3,
     "status": "ok",
     "timestamp": 1698815145733,
     "user": {
      "displayName": "﻿안재윤(전임교원/통계학과)",
      "userId": "02619146530199681853"
     },
     "user_tz": -540
    },
    "id": "VcniFfo6RewS",
    "outputId": "266e2348-cc2b-4044-f75a-cf4ffa682acf",
    "scrolled": true
   },
   "outputs": [
    {
     "data": {
      "text/plain": [
       "tensor([[ 1.0000,  0.6633,  0.4594],\n",
       "        [ 1.0000,  1.5726,  1.5115],\n",
       "        [ 1.0000,  1.1829,  1.0300],\n",
       "        ...,\n",
       "        [ 1.0000, -0.5318, -0.5437],\n",
       "        [ 1.0000, -0.6617, -0.6267],\n",
       "        [ 1.0000, -0.5838, -0.5775]])"
      ]
     },
     "execution_count": 96,
     "metadata": {},
     "output_type": "execute_result"
    }
   ],
   "source": [
    "XX"
   ]
  },
  {
   "cell_type": "code",
   "execution_count": 97,
   "id": "3bsmOUBLQIgK",
   "metadata": {
    "colab": {
     "base_uri": "https://localhost:8080/"
    },
    "executionInfo": {
     "elapsed": 327,
     "status": "ok",
     "timestamp": 1698815029369,
     "user": {
      "displayName": "﻿안재윤(전임교원/통계학과)",
      "userId": "02619146530199681853"
     },
     "user_tz": -540
    },
    "id": "3bsmOUBLQIgK",
    "outputId": "06b73508-8019-47ee-b31c-9713d8b845c0"
   },
   "outputs": [
    {
     "data": {
      "text/plain": [
       "torch.Size([392])"
      ]
     },
     "execution_count": 97,
     "metadata": {},
     "output_type": "execute_result"
    }
   ],
   "source": [
    "Y.shape"
   ]
  },
  {
   "cell_type": "code",
   "execution_count": 98,
   "id": "fwDbChItQIdh",
   "metadata": {
    "colab": {
     "base_uri": "https://localhost:8080/"
    },
    "executionInfo": {
     "elapsed": 8,
     "status": "ok",
     "timestamp": 1698815029880,
     "user": {
      "displayName": "﻿안재윤(전임교원/통계학과)",
      "userId": "02619146530199681853"
     },
     "user_tz": -540
    },
    "id": "fwDbChItQIdh",
    "outputId": "7714af2d-b07e-4fba-9fe2-ab5a517d4897"
   },
   "outputs": [
    {
     "data": {
      "text/plain": [
       "tensor(17.1246, dtype=torch.float64, grad_fn=<AddBackward0>)"
      ]
     },
     "execution_count": 98,
     "metadata": {},
     "output_type": "execute_result"
    }
   ],
   "source": [
    "2*4 + 2*criterion(Yhat, Y.reshape([-1,1]))"
   ]
  },
  {
   "cell_type": "code",
   "execution_count": 99,
   "id": "lxIfy115RI47",
   "metadata": {
    "colab": {
     "base_uri": "https://localhost:8080/"
    },
    "executionInfo": {
     "elapsed": 4,
     "status": "ok",
     "timestamp": 1698815064276,
     "user": {
      "displayName": "﻿안재윤(전임교원/통계학과)",
      "userId": "02619146530199681853"
     },
     "user_tz": -540
    },
    "id": "lxIfy115RI47",
    "outputId": "3b35acbb-7889-40d0-c108-f595c0acaffa"
   },
   "outputs": [
    {
     "data": {
      "text/plain": [
       "torch.Size([392, 1])"
      ]
     },
     "execution_count": 99,
     "metadata": {},
     "output_type": "execute_result"
    }
   ],
   "source": [
    "Y.reshape([-1,1]).shape"
   ]
  },
  {
   "cell_type": "code",
   "execution_count": 100,
   "id": "iWF4AOWrRM2m",
   "metadata": {
    "colab": {
     "base_uri": "https://localhost:8080/",
     "height": 448
    },
    "executionInfo": {
     "elapsed": 767,
     "status": "ok",
     "timestamp": 1698815112090,
     "user": {
      "displayName": "﻿안재윤(전임교원/통계학과)",
      "userId": "02619146530199681853"
     },
     "user_tz": -540
    },
    "id": "iWF4AOWrRM2m",
    "outputId": "dd7def6b-44d7-40e3-feb5-dfa1c7722251"
   },
   "outputs": [
    {
     "data": {
      "text/plain": [
       "<matplotlib.collections.PathCollection at 0x1349f22d0>"
      ]
     },
     "execution_count": 100,
     "metadata": {},
     "output_type": "execute_result"
    },
    {
     "data": {
      "image/png": "[encoded data removed]",
      "text/plain": [
       "<Figure size 640x480 with 1 Axes>"
      ]
     },
     "metadata": {},
     "output_type": "display_data"
    }
   ],
   "source": [
    "plt.scatter(Y.detach().numpy(), Yhat.detach().numpy().reshape([-1]))"
   ]
  },
  {
   "cell_type": "code",
   "execution_count": 101,
   "id": "jJ-nNk2xQgDr",
   "metadata": {
    "colab": {
     "base_uri": "https://localhost:8080/"
    },
    "executionInfo": {
     "elapsed": 447,
     "status": "ok",
     "timestamp": 1698815031876,
     "user": {
      "displayName": "﻿안재윤(전임교원/통계학과)",
      "userId": "02619146530199681853"
     },
     "user_tz": -540
    },
    "id": "jJ-nNk2xQgDr",
    "outputId": "6f470a71-c843-435a-fb35-77b4953ba3be"
   },
   "outputs": [
    {
     "data": {
      "text/plain": [
       "tensor(537.3603, dtype=torch.float64, grad_fn=<MeanBackward0>)"
      ]
     },
     "execution_count": 101,
     "metadata": {},
     "output_type": "execute_result"
    }
   ],
   "source": [
    "#MSE\n",
    "\n",
    "torch.mean((Y.reshape([-1,1])-Yhat)**2)\n",
    "\n"
   ]
  },
  {
   "cell_type": "code",
   "execution_count": 102,
   "id": "Y0vBidHqQpac",
   "metadata": {
    "colab": {
     "base_uri": "https://localhost:8080/"
    },
    "executionInfo": {
     "elapsed": 442,
     "status": "ok",
     "timestamp": 1698815034421,
     "user": {
      "displayName": "﻿안재윤(전임교원/통계학과)",
      "userId": "02619146530199681853"
     },
     "user_tz": -540
    },
    "id": "Y0vBidHqQpac",
    "outputId": "27c4468d-359c-47ae-bb6c-d45dab4c118f"
   },
   "outputs": [
    {
     "data": {
      "text/plain": [
       "tensor(60.7627, dtype=torch.float64)"
      ]
     },
     "execution_count": 102,
     "metadata": {},
     "output_type": "execute_result"
    }
   ],
   "source": [
    "torch.mean((Y.reshape([-1,1])-torch.mean(Y))**2)"
   ]
  },
  {
   "cell_type": "code",
   "execution_count": null,
   "id": "qhzSCOiUWt6A",
   "metadata": {
    "id": "qhzSCOiUWt6A"
   },
   "outputs": [],
   "source": []
  },
  {
   "cell_type": "markdown",
   "id": "3oSL_cLemi3d",
   "metadata": {
    "id": "3oSL_cLemi3d"
   },
   "source": [
    "# 1. Poisson regression with Python"
   ]
  },
  {
   "cell_type": "markdown",
   "id": "0oOXA4GknT0A",
   "metadata": {
    "id": "0oOXA4GknT0A"
   },
   "source": [
    "Assume\n",
    "\n",
    "$y_i \\sim {\\rm Pois}(\\lambda_i)\\quad$   for $\\quad i=1, \\cdots, n$\n",
    "\n",
    "where $\\lambda_i=\\exp(X_iW)$.\n",
    "\n",
    "Then likelihood function is given by\n",
    "\n",
    "$L(W):=\\prod\\limits_{i=1}^{n} f_{W}(y_i; X_i)$\n",
    "\n",
    "where\n",
    "\n",
    "$f_{W}(y_i; X_i)=\n",
    "\\frac{\\exp(-\\lambda_i)\\lambda_i^{y_i}}{y_i !}\n",
    "$"
   ]
  },
  {
   "cell_type": "markdown",
   "id": "x74x-XZROW3a",
   "metadata": {
    "id": "x74x-XZROW3a"
   },
   "source": [
    "Equivalently, we have the following log-likelihood function:\n",
    "\n",
    "$\n",
    "\\ell(W)=\\frac{1}{n}\\sum\\limits_{i=1}^{n}\\log\\left( f_W(y_i; X_i)\\right)\n",
    "$"
   ]
  },
  {
   "cell_type": "code",
   "execution_count": 38,
   "id": "9f21851b",
   "metadata": {},
   "outputs": [
    {
     "data": {
      "text/plain": [
       "tensor([2.])"
      ]
     },
     "execution_count": 38,
     "metadata": {},
     "output_type": "execute_result"
    }
   ],
   "source": [
    "torch.exp(torch.lgamma(torch.tensor([3])))"
   ]
  },
  {
   "cell_type": "markdown",
   "id": "JGlW17ey7hpe",
   "metadata": {
    "id": "JGlW17ey7hpe"
   },
   "source": [
    "We first start with by\n",
    "\n",
    "1> Defining `Lambda = X @ W`\n",
    "\n",
    "2> Defining loss function:\n",
    "```\n",
    "def my_log_lik(lambda, y):\n",
    "  temp  torch.sum(-lambda + y * torch.log(lambda) -  torch.lgamma(torch.tensor(y+1)))\n",
    "```"
   ]
  },
  {
   "cell_type": "markdown",
   "id": "tFTtpWvF9IyA",
   "metadata": {
    "id": "tFTtpWvF9IyA"
   },
   "source": [
    "Here, note that $\\Gamma(n+1)=n$, and log of Gamma function can be calculated by\n",
    "\n",
    "```\n",
    "x=3.0\n",
    "torch.lgamma(torch.tensor(x))\n",
    "```\n",
    "which is equivalent with $\\log\\left(\\Gamma(3.0)\\right)=\\log(2!)=\\log(2)$.\n",
    "\n"
   ]
  },
  {
   "cell_type": "markdown",
   "id": "cw8eBk5SRcWC",
   "metadata": {
    "id": "cw8eBk5SRcWC"
   },
   "source": [
    "Define\n",
    "\n",
    "$\\lambda_i = \\widehat{y}_i=\\exp\\left( X_i\\beta\\right)$\n",
    "\n",
    "and use `model` function to define $\\widehat{y}_i$.\n",
    "\n"
   ]
  },
  {
   "cell_type": "code",
   "execution_count": 103,
   "id": "32vk0XNOUFG-",
   "metadata": {
    "colab": {
     "base_uri": "https://localhost:8080/"
    },
    "executionInfo": {
     "elapsed": 530,
     "status": "ok",
     "timestamp": 1697541498930,
     "user": {
      "displayName": "﻿안재윤(전임교원/통계학과)",
      "userId": "02619146530199681853"
     },
     "user_tz": -540
    },
    "id": "32vk0XNOUFG-",
    "outputId": "c1385726-cc70-494a-a6f5-8c28396fc3cd"
   },
   "outputs": [
    {
     "data": {
      "text/plain": [
       "392"
      ]
     },
     "execution_count": 103,
     "metadata": {},
     "output_type": "execute_result"
    }
   ],
   "source": [
    "n"
   ]
  },
  {
   "cell_type": "code",
   "execution_count": null,
   "id": "8QgtkgAENLs_",
   "metadata": {
    "colab": {
     "base_uri": "https://localhost:8080/"
    },
    "executionInfo": {
     "elapsed": 286,
     "status": "ok",
     "timestamp": 1697589589444,
     "user": {
      "displayName": "﻿안재윤(전임교원/통계학과)",
      "userId": "02619146530199681853"
     },
     "user_tz": -540
    },
    "id": "8QgtkgAENLs_",
    "outputId": "1a9e90fd-c24e-44a0-c27d-0e2c191e27f6"
   },
   "outputs": [
    {
     "data": {
      "text/plain": [
       "torch.Size([2000, 1])"
      ]
     },
     "execution_count": 31,
     "metadata": {},
     "output_type": "execute_result"
    }
   ],
   "source": [
    "\n",
    "m=2000\n",
    "x1 = torch.randn([m])\n",
    "x2 = torch.randn([m])\n",
    "ones = torch.ones([m])\n",
    "XX = torch.stack([ones, x1, x2], axis=1)\n",
    "bbeta = torch.tensor([[0.2, -0.5, 0.5]]).T\n",
    "yhat = torch.exp(XX @ bbeta)\n",
    "mod =  torch.distributions.poisson.Poisson(yhat)\n",
    "YY = mod.sample()\n",
    "YY.shape"
   ]
  },
  {
   "cell_type": "code",
   "execution_count": null,
   "id": "ixYqO47pNfA9",
   "metadata": {
    "id": "ixYqO47pNfA9"
   },
   "outputs": [],
   "source": [
    "from torch.utils.data import Dataset, DataLoader, TensorDataset\n",
    "dataset = TensorDataset(XX, YY)\n",
    "trainloader = DataLoader(dataset=dataset, batch_size=128, shuffle=True)"
   ]
  },
  {
   "cell_type": "code",
   "execution_count": null,
   "id": "xVwYWCoLG9LF",
   "metadata": {
    "colab": {
     "base_uri": "https://localhost:8080/"
    },
    "executionInfo": {
     "elapsed": 432,
     "status": "ok",
     "timestamp": 1697589973106,
     "user": {
      "displayName": "﻿안재윤(전임교원/통계학과)",
      "userId": "02619146530199681853"
     },
     "user_tz": -540
    },
    "id": "xVwYWCoLG9LF",
    "outputId": "456bf110-734f-4b9b-b3be-acd688a6d8aa"
   },
   "outputs": [
    {
     "name": "stderr",
     "output_type": "stream",
     "text": [
      "<ipython-input-56-43d3720264c1>:1: UserWarning: To copy construct from a tensor, it is recommended to use sourceTensor.clone().detach() or sourceTensor.clone().detach().requires_grad_(True), rather than torch.tensor(sourceTensor).\n",
      "  beta = torch.tensor(torch.randn([3,1])*0.01, requires_grad=True)\n"
     ]
    }
   ],
   "source": [
    "beta = torch.tensor(torch.randn([3,1])*0.01, requires_grad=True)\n",
    "def model(xx):\n",
    "  temp = torch.exp(xx @ beta)\n",
    "  return temp\n",
    "def criterion(yhat, yy):\n",
    "  temp = -torch.mean(-yhat + yy*torch.log(yhat)-torch.lgamma(yy+1))\n",
    "  return temp\n",
    "\n",
    "my_optimizer = torch.optim.SGD([beta], lr=0.01)"
   ]
  },
  {
   "cell_type": "code",
   "execution_count": null,
   "id": "hU6ZvIP-SpiB",
   "metadata": {
    "id": "hU6ZvIP-SpiB"
   },
   "outputs": [],
   "source": [
    "epochs=20\n",
    "history=[]\n",
    "\n",
    "for epoch in range(epochs):\n",
    "  LOSS_sum = 0\n",
    "  for xx, yy in trainloader:\n",
    "    yhat = model(xx)\n",
    "    loss = criterion(yhat, yy)\n",
    "    LOSS_sum = LOSS_sum + loss * len(yy)\n",
    "    my_optimizer.zero_grad()\n",
    "    loss.backward()\n",
    "    my_optimizer.step()\n",
    "  history.append(LOSS_sum.item()/n)\n"
   ]
  },
  {
   "cell_type": "code",
   "execution_count": null,
   "id": "9MOW7xF4SpiB",
   "metadata": {
    "colab": {
     "base_uri": "https://localhost:8080/",
     "height": 463
    },
    "executionInfo": {
     "elapsed": 522,
     "status": "ok",
     "timestamp": 1697589982159,
     "user": {
      "displayName": "﻿안재윤(전임교원/통계학과)",
      "userId": "02619146530199681853"
     },
     "user_tz": -540
    },
    "id": "9MOW7xF4SpiB",
    "outputId": "42d1d1ea-913c-4f45-ec31-da48a081f30f"
   },
   "outputs": [
    {
     "data": {
      "text/plain": [
       "[<matplotlib.lines.Line2D at 0x7e6f613b5510>]"
      ]
     },
     "execution_count": 58,
     "metadata": {},
     "output_type": "execute_result"
    },
    {
     "data": {
      "image/png": "[encoded data removed]",
      "text/plain": [
       "<Figure size 640x480 with 1 Axes>"
      ]
     },
     "metadata": {},
     "output_type": "display_data"
    }
   ],
   "source": [
    "plt.plot(history)"
   ]
  },
  {
   "cell_type": "code",
   "execution_count": null,
   "id": "VfPYNiSGY5dD",
   "metadata": {
    "colab": {
     "base_uri": "https://localhost:8080/"
    },
    "executionInfo": {
     "elapsed": 274,
     "status": "ok",
     "timestamp": 1697589987305,
     "user": {
      "displayName": "﻿안재윤(전임교원/통계학과)",
      "userId": "02619146530199681853"
     },
     "user_tz": -540
    },
    "id": "VfPYNiSGY5dD",
    "outputId": "5f4e74af-7c67-4425-b434-9d6316153d39"
   },
   "outputs": [
    {
     "data": {
      "text/plain": [
       "tensor([[-0.0029],\n",
       "        [-0.0169],\n",
       "        [-0.0131]], requires_grad=True)"
      ]
     },
     "execution_count": 59,
     "metadata": {},
     "output_type": "execute_result"
    }
   ],
   "source": [
    "beta"
   ]
  },
  {
   "cell_type": "markdown",
   "id": "YFnRxRu3Sor8",
   "metadata": {
    "id": "YFnRxRu3Sor8"
   },
   "source": []
  },
  {
   "cell_type": "code",
   "execution_count": null,
   "id": "tHzC27XjV-lo",
   "metadata": {
    "colab": {
     "base_uri": "https://localhost:8080/"
    },
    "executionInfo": {
     "elapsed": 1298,
     "status": "ok",
     "timestamp": 1697541990668,
     "user": {
      "displayName": "﻿안재윤(전임교원/통계학과)",
      "userId": "02619146530199681853"
     },
     "user_tz": -540
    },
    "id": "tHzC27XjV-lo",
    "outputId": "b1d20368-569c-4852-f4b4-547510cdf1a9"
   },
   "outputs": [
    {
     "data": {
      "text/plain": [
       "tensor([[ 0.1574],\n",
       "        [-0.0096],\n",
       "        [-0.0024]], requires_grad=True)"
      ]
     },
     "execution_count": 181,
     "metadata": {},
     "output_type": "execute_result"
    }
   ],
   "source": [
    "beta"
   ]
  },
  {
   "cell_type": "code",
   "execution_count": null,
   "id": "RKu4lEbObHfO",
   "metadata": {
    "id": "RKu4lEbObHfO"
   },
   "outputs": [],
   "source": [
    "Check"
   ]
  },
  {
   "cell_type": "markdown",
   "id": "TkhADLsebIfX",
   "metadata": {
    "id": "TkhADLsebIfX"
   },
   "source": [
    "### Check your answer with the result by GLM package."
   ]
  },
  {
   "cell_type": "code",
   "execution_count": null,
   "id": "lsYlE3oXVLz4",
   "metadata": {
    "id": "lsYlE3oXVLz4"
   },
   "outputs": [],
   "source": [
    "import statsmodels.api as sm\n",
    "from ISLP.models import (ModelSpec as MS,\n",
    "                         summarize)\n",
    "M_pois = sm.GLM(Y.numpy(), X.numpy(), family=sm.families.Poisson()).fit()\n",
    "S_pois = summarize(M_pois)"
   ]
  },
  {
   "cell_type": "code",
   "execution_count": null,
   "id": "wZTcF3FWVzJJ",
   "metadata": {
    "colab": {
     "base_uri": "https://localhost:8080/",
     "height": 143
    },
    "executionInfo": {
     "elapsed": 5,
     "status": "ok",
     "timestamp": 1697590010995,
     "user": {
      "displayName": "﻿안재윤(전임교원/통계학과)",
      "userId": "02619146530199681853"
     },
     "user_tz": -540
    },
    "id": "wZTcF3FWVzJJ",
    "outputId": "80e167dd-5a19-40bd-be75-596d2d9286ea"
   },
   "outputs": [
    {
     "data": {
      "text/html": [
       "\n",
       "  <div id=\"df-2f87fe15-a57a-4614-82ec-8fd9983beebf\" class=\"colab-df-container\">\n",
       "    <div>\n",
       "<style scoped>\n",
       "    .dataframe tbody tr th:only-of-type {\n",
       "        vertical-align: middle;\n",
       "    }\n",
       "\n",
       "    .dataframe tbody tr th {\n",
       "        vertical-align: top;\n",
       "    }\n",
       "\n",
       "    .dataframe thead th {\n",
       "        text-align: right;\n",
       "    }\n",
       "</style>\n",
       "<table border=\"1\" class=\"dataframe\">\n",
       "  <thead>\n",
       "    <tr style=\"text-align: right;\">\n",
       "      <th></th>\n",
       "      <th>coef</th>\n",
       "      <th>std err</th>\n",
       "      <th>z</th>\n",
       "      <th>P&gt;|z|</th>\n",
       "    </tr>\n",
       "  </thead>\n",
       "  <tbody>\n",
       "    <tr>\n",
       "      <th>const</th>\n",
       "      <td>-0.0028</td>\n",
       "      <td>0.01</td>\n",
       "      <td>-0.278</td>\n",
       "      <td>0.781</td>\n",
       "    </tr>\n",
       "    <tr>\n",
       "      <th>x1</th>\n",
       "      <td>-0.0171</td>\n",
       "      <td>0.01</td>\n",
       "      <td>-1.658</td>\n",
       "      <td>0.097</td>\n",
       "    </tr>\n",
       "    <tr>\n",
       "      <th>x2</th>\n",
       "      <td>-0.0130</td>\n",
       "      <td>0.01</td>\n",
       "      <td>-1.256</td>\n",
       "      <td>0.209</td>\n",
       "    </tr>\n",
       "  </tbody>\n",
       "</table>\n",
       "</div>\n",
       "    <div class=\"colab-df-buttons\">\n",
       "\n",
       "  <div class=\"colab-df-container\">\n",
       "    <button class=\"colab-df-convert\" onclick=\"convertToInteractive('df-2f87fe15-a57a-4614-82ec-8fd9983beebf')\"\n",
       "            title=\"Convert this dataframe to an interactive table.\"\n",
       "            style=\"display:none;\">\n",
       "\n",
       "  <svg xmlns=\"http://www.w3.org/2000/svg\" height=\"24px\" viewBox=\"0 -960 960 960\">\n",
       "    <path d=\"M120-120v-720h720v720H120Zm60-500h600v-160H180v160Zm220 220h160v-160H400v160Zm0 220h160v-160H400v160ZM180-400h160v-160H180v160Zm440 0h160v-160H620v160ZM180-180h160v-160H180v160Zm440 0h160v-160H620v160Z\"/>\n",
       "  </svg>\n",
       "    </button>\n",
       "\n",
       "  <style>\n",
       "    .colab-df-container {\n",
       "      display:flex;\n",
       "      gap: 12px;\n",
       "    }\n",
       "\n",
       "    .colab-df-convert {\n",
       "      background-color: #E8F0FE;\n",
       "      border: none;\n",
       "      border-radius: 50%;\n",
       "      cursor: pointer;\n",
       "      display: none;\n",
       "      fill: #1967D2;\n",
       "      height: 32px;\n",
       "      padding: 0 0 0 0;\n",
       "      width: 32px;\n",
       "    }\n",
       "\n",
       "    .colab-df-convert:hover {\n",
       "      background-color: #E2EBFA;\n",
       "      box-shadow: 0px 1px 2px rgba(60, 64, 67, 0.3), 0px 1px 3px 1px rgba(60, 64, 67, 0.15);\n",
       "      fill: #174EA6;\n",
       "    }\n",
       "\n",
       "    .colab-df-buttons div {\n",
       "      margin-bottom: 4px;\n",
       "    }\n",
       "\n",
       "    [theme=dark] .colab-df-convert {\n",
       "      background-color: #3B4455;\n",
       "      fill: #D2E3FC;\n",
       "    }\n",
       "\n",
       "    [theme=dark] .colab-df-convert:hover {\n",
       "      background-color: #434B5C;\n",
       "      box-shadow: 0px 1px 3px 1px rgba(0, 0, 0, 0.15);\n",
       "      filter: drop-shadow(0px 1px 2px rgba(0, 0, 0, 0.3));\n",
       "      fill: #FFFFFF;\n",
       "    }\n",
       "  </style>\n",
       "\n",
       "    <script>\n",
       "      const buttonEl =\n",
       "        document.querySelector('#df-2f87fe15-a57a-4614-82ec-8fd9983beebf button.colab-df-convert');\n",
       "      buttonEl.style.display =\n",
       "        google.colab.kernel.accessAllowed ? 'block' : 'none';\n",
       "\n",
       "      async function convertToInteractive(key) {\n",
       "        const element = document.querySelector('#df-2f87fe15-a57a-4614-82ec-8fd9983beebf');\n",
       "        const dataTable =\n",
       "          await google.colab.kernel.invokeFunction('convertToInteractive',\n",
       "                                                    [key], {});\n",
       "        if (!dataTable) return;\n",
       "\n",
       "        const docLinkHtml = 'Like what you see? Visit the ' +\n",
       "          '<a target=\"_blank\" href=https://colab.research.google.com/notebooks/data_table.ipynb>data table notebook</a>'\n",
       "          + ' to learn more about interactive tables.';\n",
       "        element.innerHTML = '';\n",
       "        dataTable['output_type'] = 'display_data';\n",
       "        await google.colab.output.renderOutput(dataTable, element);\n",
       "        const docLink = document.createElement('div');\n",
       "        docLink.innerHTML = docLinkHtml;\n",
       "        element.appendChild(docLink);\n",
       "      }\n",
       "    </script>\n",
       "  </div>\n",
       "\n",
       "\n",
       "<div id=\"df-b4c3173d-c5cd-4878-bfcd-463afa08aa8f\">\n",
       "  <button class=\"colab-df-quickchart\" onclick=\"quickchart('df-b4c3173d-c5cd-4878-bfcd-463afa08aa8f')\"\n",
       "            title=\"Suggest charts.\"\n",
       "            style=\"display:none;\">\n",
       "\n",
       "<svg xmlns=\"http://www.w3.org/2000/svg\" height=\"24px\"viewBox=\"0 0 24 24\"\n",
       "     width=\"24px\">\n",
       "    <g>\n",
       "        <path d=\"M19 3H5c-1.1 0-2 .9-2 2v14c0 1.1.9 2 2 2h14c1.1 0 2-.9 2-2V5c0-1.1-.9-2-2-2zM9 17H7v-7h2v7zm4 0h-2V7h2v10zm4 0h-2v-4h2v4z\"/>\n",
       "    </g>\n",
       "</svg>\n",
       "  </button>\n",
       "\n",
       "<style>\n",
       "  .colab-df-quickchart {\n",
       "      --bg-color: #E8F0FE;\n",
       "      --fill-color: #1967D2;\n",
       "      --hover-bg-color: #E2EBFA;\n",
       "      --hover-fill-color: #174EA6;\n",
       "      --disabled-fill-color: #AAA;\n",
       "      --disabled-bg-color: #DDD;\n",
       "  }\n",
       "\n",
       "  [theme=dark] .colab-df-quickchart {\n",
       "      --bg-color: #3B4455;\n",
       "      --fill-color: #D2E3FC;\n",
       "      --hover-bg-color: #434B5C;\n",
       "      --hover-fill-color: #FFFFFF;\n",
       "      --disabled-bg-color: #3B4455;\n",
       "      --disabled-fill-color: #666;\n",
       "  }\n",
       "\n",
       "  .colab-df-quickchart {\n",
       "    background-color: var(--bg-color);\n",
       "    border: none;\n",
       "    border-radius: 50%;\n",
       "    cursor: pointer;\n",
       "    display: none;\n",
       "    fill: var(--fill-color);\n",
       "    height: 32px;\n",
       "    padding: 0;\n",
       "    width: 32px;\n",
       "  }\n",
       "\n",
       "  .colab-df-quickchart:hover {\n",
       "    background-color: var(--hover-bg-color);\n",
       "    box-shadow: 0 1px 2px rgba(60, 64, 67, 0.3), 0 1px 3px 1px rgba(60, 64, 67, 0.15);\n",
       "    fill: var(--button-hover-fill-color);\n",
       "  }\n",
       "\n",
       "  .colab-df-quickchart-complete:disabled,\n",
       "  .colab-df-quickchart-complete:disabled:hover {\n",
       "    background-color: var(--disabled-bg-color);\n",
       "    fill: var(--disabled-fill-color);\n",
       "    box-shadow: none;\n",
       "  }\n",
       "\n",
       "  .colab-df-spinner {\n",
       "    border: 2px solid var(--fill-color);\n",
       "    border-color: transparent;\n",
       "    border-bottom-color: var(--fill-color);\n",
       "    animation:\n",
       "      spin 1s steps(1) infinite;\n",
       "  }\n",
       "\n",
       "  @keyframes spin {\n",
       "    0% {\n",
       "      border-color: transparent;\n",
       "      border-bottom-color: var(--fill-color);\n",
       "      border-left-color: var(--fill-color);\n",
       "    }\n",
       "    20% {\n",
       "      border-color: transparent;\n",
       "      border-left-color: var(--fill-color);\n",
       "      border-top-color: var(--fill-color);\n",
       "    }\n",
       "    30% {\n",
       "      border-color: transparent;\n",
       "      border-left-color: var(--fill-color);\n",
       "      border-top-color: var(--fill-color);\n",
       "      border-right-color: var(--fill-color);\n",
       "    }\n",
       "    40% {\n",
       "      border-color: transparent;\n",
       "      border-right-color: var(--fill-color);\n",
       "      border-top-color: var(--fill-color);\n",
       "    }\n",
       "    60% {\n",
       "      border-color: transparent;\n",
       "      border-right-color: var(--fill-color);\n",
       "    }\n",
       "    80% {\n",
       "      border-color: transparent;\n",
       "      border-right-color: var(--fill-color);\n",
       "      border-bottom-color: var(--fill-color);\n",
       "    }\n",
       "    90% {\n",
       "      border-color: transparent;\n",
       "      border-bottom-color: var(--fill-color);\n",
       "    }\n",
       "  }\n",
       "</style>\n",
       "\n",
       "  <script>\n",
       "    async function quickchart(key) {\n",
       "      const quickchartButtonEl =\n",
       "        document.querySelector('#' + key + ' button');\n",
       "      quickchartButtonEl.disabled = true;  // To prevent multiple clicks.\n",
       "      quickchartButtonEl.classList.add('colab-df-spinner');\n",
       "      try {\n",
       "        const charts = await google.colab.kernel.invokeFunction(\n",
       "            'suggestCharts', [key], {});\n",
       "      } catch (error) {\n",
       "        console.error('Error during call to suggestCharts:', error);\n",
       "      }\n",
       "      quickchartButtonEl.classList.remove('colab-df-spinner');\n",
       "      quickchartButtonEl.classList.add('colab-df-quickchart-complete');\n",
       "    }\n",
       "    (() => {\n",
       "      let quickchartButtonEl =\n",
       "        document.querySelector('#df-b4c3173d-c5cd-4878-bfcd-463afa08aa8f button');\n",
       "      quickchartButtonEl.style.display =\n",
       "        google.colab.kernel.accessAllowed ? 'block' : 'none';\n",
       "    })();\n",
       "  </script>\n",
       "</div>\n",
       "    </div>\n",
       "  </div>\n"
      ],
      "text/plain": [
       "         coef  std err      z  P>|z|\n",
       "const -0.0028     0.01 -0.278  0.781\n",
       "x1    -0.0171     0.01 -1.658  0.097\n",
       "x2    -0.0130     0.01 -1.256  0.209"
      ]
     },
     "execution_count": 61,
     "metadata": {},
     "output_type": "execute_result"
    }
   ],
   "source": [
    "S_pois"
   ]
  },
  {
   "cell_type": "code",
   "execution_count": null,
   "id": "EZNN4iLB76Bk",
   "metadata": {
    "id": "EZNN4iLB76Bk"
   },
   "outputs": [],
   "source": []
  },
  {
   "cell_type": "code",
   "execution_count": null,
   "id": "Ti_1BSxn5PUw",
   "metadata": {
    "id": "Ti_1BSxn5PUw"
   },
   "outputs": [],
   "source": []
  },
  {
   "cell_type": "code",
   "execution_count": null,
   "id": "zy2su89xQP4O",
   "metadata": {
    "id": "zy2su89xQP4O"
   },
   "outputs": [],
   "source": []
  },
  {
   "cell_type": "markdown",
   "id": "xmrTBX95QmFw",
   "metadata": {
    "id": "xmrTBX95QmFw"
   },
   "source": [
    "## 1.1 Exercise\n",
    "\n",
    "Answer the following questions.\n",
    "\n",
    "1> Calculate AIC in the above model.\n",
    "\n",
    "2> Calculate the train MSE error.\n",
    "\n",
    "3> Calculate $\\widehat{y}_i$ when $X_{i}=[1.0, 0.5, -0.3]$"
   ]
  },
  {
   "cell_type": "markdown",
   "id": "xsOTBcyrQaHF",
   "metadata": {
    "id": "xsOTBcyrQaHF"
   },
   "source": [
    "## 1.2 Exercise:\n",
    "Do the Poisson regression with the following data. Answer the following questions.\n",
    "\n",
    "1. Provide the proper Poisson regression model, and train the model using the train dataset. Before the training, you may want to reformulate your data so that it is standardized.\n",
    "\n",
    "2. After the training, calculate Test MSE. Are you sure your model is better than no model?\n",
    "\n"
   ]
  },
  {
   "cell_type": "code",
   "execution_count": 38,
   "id": "u0z0v8tJ1yE8",
   "metadata": {
    "id": "u0z0v8tJ1yE8"
   },
   "outputs": [],
   "source": [
    "import torch\n",
    "import numpy as np\n",
    "import matplotlib.pyplot as plt\n",
    "import sklearn.datasets"
   ]
  },
  {
   "cell_type": "code",
   "execution_count": 39,
   "id": "NZtFwgr_5Lqf",
   "metadata": {
    "colab": {
     "base_uri": "https://localhost:8080/",
     "height": 206
    },
    "executionInfo": {
     "elapsed": 5531,
     "status": "ok",
     "timestamp": 1698816192186,
     "user": {
      "displayName": "﻿안재윤(전임교원/통계학과)",
      "userId": "02619146530199681853"
     },
     "user_tz": -540
    },
    "id": "NZtFwgr_5Lqf",
    "outputId": "e685d389-e751-4067-b638-c01d358f1723"
   },
   "outputs": [
    {
     "data": {
      "text/html": [
       "<div>\n",
       "<style scoped>\n",
       "    .dataframe tbody tr th:only-of-type {\n",
       "        vertical-align: middle;\n",
       "    }\n",
       "\n",
       "    .dataframe tbody tr th {\n",
       "        vertical-align: top;\n",
       "    }\n",
       "\n",
       "    .dataframe thead th {\n",
       "        text-align: right;\n",
       "    }\n",
       "</style>\n",
       "<table border=\"1\" class=\"dataframe\">\n",
       "  <thead>\n",
       "    <tr style=\"text-align: right;\">\n",
       "      <th></th>\n",
       "      <th>IDpol</th>\n",
       "      <th>ClaimNb</th>\n",
       "      <th>Exposure</th>\n",
       "      <th>Area</th>\n",
       "      <th>VehPower</th>\n",
       "      <th>VehAge</th>\n",
       "      <th>DrivAge</th>\n",
       "      <th>BonusMalus</th>\n",
       "      <th>VehBrand</th>\n",
       "      <th>VehGas</th>\n",
       "      <th>Density</th>\n",
       "      <th>Region</th>\n",
       "    </tr>\n",
       "  </thead>\n",
       "  <tbody>\n",
       "    <tr>\n",
       "      <th>0</th>\n",
       "      <td>1.0</td>\n",
       "      <td>1</td>\n",
       "      <td>0.10</td>\n",
       "      <td>D</td>\n",
       "      <td>5</td>\n",
       "      <td>0</td>\n",
       "      <td>55</td>\n",
       "      <td>50</td>\n",
       "      <td>B12</td>\n",
       "      <td>'Regular'</td>\n",
       "      <td>1217</td>\n",
       "      <td>R82</td>\n",
       "    </tr>\n",
       "    <tr>\n",
       "      <th>1</th>\n",
       "      <td>3.0</td>\n",
       "      <td>1</td>\n",
       "      <td>0.77</td>\n",
       "      <td>D</td>\n",
       "      <td>5</td>\n",
       "      <td>0</td>\n",
       "      <td>55</td>\n",
       "      <td>50</td>\n",
       "      <td>B12</td>\n",
       "      <td>'Regular'</td>\n",
       "      <td>1217</td>\n",
       "      <td>R82</td>\n",
       "    </tr>\n",
       "    <tr>\n",
       "      <th>2</th>\n",
       "      <td>5.0</td>\n",
       "      <td>1</td>\n",
       "      <td>0.75</td>\n",
       "      <td>B</td>\n",
       "      <td>6</td>\n",
       "      <td>2</td>\n",
       "      <td>52</td>\n",
       "      <td>50</td>\n",
       "      <td>B12</td>\n",
       "      <td>'Diesel'</td>\n",
       "      <td>54</td>\n",
       "      <td>R22</td>\n",
       "    </tr>\n",
       "    <tr>\n",
       "      <th>3</th>\n",
       "      <td>10.0</td>\n",
       "      <td>1</td>\n",
       "      <td>0.09</td>\n",
       "      <td>B</td>\n",
       "      <td>7</td>\n",
       "      <td>0</td>\n",
       "      <td>46</td>\n",
       "      <td>50</td>\n",
       "      <td>B12</td>\n",
       "      <td>'Diesel'</td>\n",
       "      <td>76</td>\n",
       "      <td>R72</td>\n",
       "    </tr>\n",
       "    <tr>\n",
       "      <th>4</th>\n",
       "      <td>11.0</td>\n",
       "      <td>1</td>\n",
       "      <td>0.84</td>\n",
       "      <td>B</td>\n",
       "      <td>7</td>\n",
       "      <td>0</td>\n",
       "      <td>46</td>\n",
       "      <td>50</td>\n",
       "      <td>B12</td>\n",
       "      <td>'Diesel'</td>\n",
       "      <td>76</td>\n",
       "      <td>R72</td>\n",
       "    </tr>\n",
       "  </tbody>\n",
       "</table>\n",
       "</div>"
      ],
      "text/plain": [
       "   IDpol  ClaimNb  Exposure Area  VehPower  VehAge  DrivAge  BonusMalus  \\\n",
       "0    1.0        1      0.10    D         5       0       55          50   \n",
       "1    3.0        1      0.77    D         5       0       55          50   \n",
       "2    5.0        1      0.75    B         6       2       52          50   \n",
       "3   10.0        1      0.09    B         7       0       46          50   \n",
       "4   11.0        1      0.84    B         7       0       46          50   \n",
       "\n",
       "  VehBrand     VehGas  Density Region  \n",
       "0      B12  'Regular'     1217    R82  \n",
       "1      B12  'Regular'     1217    R82  \n",
       "2      B12   'Diesel'       54    R22  \n",
       "3      B12   'Diesel'       76    R72  \n",
       "4      B12   'Diesel'       76    R72  "
      ]
     },
     "execution_count": 39,
     "metadata": {},
     "output_type": "execute_result"
    }
   ],
   "source": [
    "from sklearn.datasets import fetch_openml\n",
    "\n",
    "df = fetch_openml(data_id=41214, as_frame=True, parser=\"pandas\").frame\n",
    "df.head()"
   ]
  },
  {
   "cell_type": "code",
   "execution_count": 40,
   "id": "WQl4kcIo5nba",
   "metadata": {
    "id": "WQl4kcIo5nba"
   },
   "outputs": [],
   "source": [
    "Y = torch.tensor(df[\"ClaimNb\"])[:10000]\n",
    "xx = torch.tensor( df[[\"Exposure\", \"BonusMalus\"]].values, dtype=torch.float32)[:10000]\n",
    "\n",
    "Y_test = torch.tensor(df[\"ClaimNb\"])[10000:20000]\n",
    "xx_test = torch.tensor( df[[\"Exposure\", \"BonusMalus\"]].values, dtype=torch.float32)[10000:20000]"
   ]
  },
  {
   "cell_type": "code",
   "execution_count": 41,
   "id": "WM-S2g8r53cU",
   "metadata": {
    "id": "WM-S2g8r53cU"
   },
   "outputs": [],
   "source": [
    "n=len(Y)\n",
    "ones = torch.ones([n,1])\n",
    "X = torch.concat([ones, xx], axis=1)\n",
    "X.shape\n",
    "\n",
    "X_test = torch.concat([ones, xx_test], axis=1)"
   ]
  },
  {
   "cell_type": "code",
   "execution_count": 42,
   "id": "048973de",
   "metadata": {},
   "outputs": [
    {
     "data": {
      "text/plain": [
       "tensor([1, 1, 1,  ..., 0, 0, 0])"
      ]
     },
     "execution_count": 42,
     "metadata": {},
     "output_type": "execute_result"
    }
   ],
   "source": [
    "Y"
   ]
  },
  {
   "cell_type": "code",
   "execution_count": null,
   "id": "DYrLZcUEViCu",
   "metadata": {
    "colab": {
     "base_uri": "https://localhost:8080/"
    },
    "executionInfo": {
     "elapsed": 3,
     "status": "ok",
     "timestamp": 1698816214510,
     "user": {
      "displayName": "﻿안재윤(전임교원/통계학과)",
      "userId": "02619146530199681853"
     },
     "user_tz": -540
    },
    "id": "DYrLZcUEViCu",
    "outputId": "79bc97b1-67c6-46b9-e87f-fc9d0d8fb759",
    "scrolled": true
   },
   "outputs": [],
   "source": []
  },
  {
   "cell_type": "code",
   "execution_count": 43,
   "id": "9UMNQJCWPKn9",
   "metadata": {
    "id": "9UMNQJCWPKn9"
   },
   "outputs": [],
   "source": [
    "x1_mean=torch.mean(X[:,1])\n",
    "x2_mean=torch.mean(X[:,2])\n",
    "x1_std=torch.std(X[:,1])\n",
    "x2_std=torch.std(X[:,2])\n",
    "X[:,1]= (X[:,1]-x1_mean)/x1_std\n",
    "X[:,2]= (X[:,2]-x2_mean)/x2_std"
   ]
  },
  {
   "cell_type": "code",
   "execution_count": 44,
   "id": "4FmjfNT-S3uf",
   "metadata": {
    "id": "4FmjfNT-S3uf"
   },
   "outputs": [],
   "source": [
    "from torch.utils.data import Dataset, DataLoader, TensorDataset\n",
    "dataset = TensorDataset(X,Y.reshape([n,1]))\n",
    "trainloader = DataLoader(dataset=dataset, batch_size=512, shuffle=True)\n",
    "testloader = DataLoader(dataset=dataset, batch_size=n, shuffle=True)"
   ]
  },
  {
   "cell_type": "code",
   "execution_count": null,
   "id": "86285ef2",
   "metadata": {},
   "outputs": [],
   "source": []
  }
 ],
 "metadata": {
  "accelerator": "GPU",
  "colab": {
   "machine_shape": "hm",
   "provenance": []
  },
  "kernelspec": {
   "display_name": "Python 3 (ipykernel)",
   "language": "python",
   "name": "python3"
  },
  "language_info": {
   "codemirror_mode": {
    "name": "ipython",
    "version": 3
   },
   "file_extension": ".py",
   "mimetype": "text/x-python",
   "name": "python",
   "nbconvert_exporter": "python",
   "pygments_lexer": "ipython3",
   "version": "3.11.5"
  }
 },
 "nbformat": 4,
 "nbformat_minor": 5
}
