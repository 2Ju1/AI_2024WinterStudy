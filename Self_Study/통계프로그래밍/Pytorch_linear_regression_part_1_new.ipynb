{
 "cells": [
  {
   "cell_type": "markdown",
   "id": "Adw-5Rx02ohB",
   "metadata": {
    "id": "Adw-5Rx02ohB"
   },
   "source": [
    "# Pytorch Session 2: Linear regression"
   ]
  },
  {
   "cell_type": "code",
   "execution_count": 21,
   "id": "sZ5KyFvM3bdS",
   "metadata": {
    "executionInfo": {
     "elapsed": 3377,
     "status": "ok",
     "timestamp": 1697262239277,
     "user": {
      "displayName": "﻿안재윤(전임교원/통계학과)",
      "userId": "02619146530199681853"
     },
     "user_tz": -540
    },
    "id": "sZ5KyFvM3bdS"
   },
   "outputs": [],
   "source": [
    "import torch\n",
    "import numpy as np"
   ]
  },
  {
   "cell_type": "markdown",
   "id": "lYUwt5RBFUS0",
   "metadata": {
    "id": "lYUwt5RBFUS0"
   },
   "source": [
    "## 1. Data Generation:\n"
   ]
  },
  {
   "cell_type": "markdown",
   "id": "Ne4AmwinFUS8",
   "metadata": {
    "id": "Ne4AmwinFUS8"
   },
   "source": [
    "Let us create the following expressions:\n"
   ]
  },
  {
   "cell_type": "markdown",
   "id": "yVMK11q4FUS8",
   "metadata": {
    "id": "yVMK11q4FUS8"
   },
   "source": [
    "$b=-1,w=2$\n",
    "\n",
    "$\\hat{y}=wx+b$\n"
   ]
  },
  {
   "cell_type": "markdown",
   "id": "Ujs1awtUFUS8",
   "metadata": {
    "id": "Ujs1awtUFUS8"
   },
   "source": [
    "First, define the parameters:\n"
   ]
  },
  {
   "cell_type": "code",
   "execution_count": 22,
   "id": "1IOBXYrl3SJS",
   "metadata": {
    "executionInfo": {
     "elapsed": 12,
     "status": "ok",
     "timestamp": 1697262239278,
     "user": {
      "displayName": "﻿안재윤(전임교원/통계학과)",
      "userId": "02619146530199681853"
     },
     "user_tz": -540
    },
    "id": "1IOBXYrl3SJS"
   },
   "outputs": [],
   "source": [
    "import torch\n",
    "w0 = torch.tensor(2.0)\n",
    "b0 = torch.tensor(-1.0)"
   ]
  },
  {
   "cell_type": "code",
   "execution_count": 23,
   "id": "khkshLll5vl8",
   "metadata": {
    "colab": {
     "base_uri": "https://localhost:8080/"
    },
    "executionInfo": {
     "elapsed": 12,
     "status": "ok",
     "timestamp": 1697262239278,
     "user": {
      "displayName": "﻿안재윤(전임교원/통계학과)",
      "userId": "02619146530199681853"
     },
     "user_tz": -540
    },
    "id": "khkshLll5vl8",
    "outputId": "ee11b801-4c0d-4979-dc6a-8b54f695122b"
   },
   "outputs": [
    {
     "name": "stdout",
     "output_type": "stream",
     "text": [
      "torch.Size([20, 1]) torch.Size([20, 1])\n"
     ]
    }
   ],
   "source": [
    "torch.manual_seed(2021)\n",
    "X = torch.arange(-3,3, 0.3).view(-1, 1)\n",
    "f = w0*X+b0\n",
    "print(X.shape, f.shape)"
   ]
  },
  {
   "cell_type": "code",
   "execution_count": 24,
   "id": "wpvf8US2Gtvp",
   "metadata": {
    "executionInfo": {
     "elapsed": 10,
     "status": "ok",
     "timestamp": 1697262239278,
     "user": {
      "displayName": "﻿안재윤(전임교원/통계학과)",
      "userId": "02619146530199681853"
     },
     "user_tz": -540
    },
    "id": "wpvf8US2Gtvp"
   },
   "outputs": [],
   "source": [
    "Y = f + torch.randn(f.shape)"
   ]
  },
  {
   "cell_type": "code",
   "execution_count": 25,
   "id": "Aoa7lhKGWc9Q",
   "metadata": {
    "colab": {
     "base_uri": "https://localhost:8080/"
    },
    "executionInfo": {
     "elapsed": 9,
     "status": "ok",
     "timestamp": 1697262239278,
     "user": {
      "displayName": "﻿안재윤(전임교원/통계학과)",
      "userId": "02619146530199681853"
     },
     "user_tz": -540
    },
    "id": "Aoa7lhKGWc9Q",
    "outputId": "4b10d997-09f5-46c7-fd84-063b15a08269"
   },
   "outputs": [
    {
     "name": "stdout",
     "output_type": "stream",
     "text": [
      "torch.Size([20, 1]) torch.Size([20, 1])\n"
     ]
    }
   ],
   "source": [
    "print(X.shape, Y.shape)"
   ]
  },
  {
   "cell_type": "code",
   "execution_count": 26,
   "id": "nrKKtqzWG-vg",
   "metadata": {
    "colab": {
     "base_uri": "https://localhost:8080/",
     "height": 449
    },
    "executionInfo": {
     "elapsed": 8,
     "status": "ok",
     "timestamp": 1697262239278,
     "user": {
      "displayName": "﻿안재윤(전임교원/통계학과)",
      "userId": "02619146530199681853"
     },
     "user_tz": -540
    },
    "id": "nrKKtqzWG-vg",
    "outputId": "02499b9b-b055-44c1-804a-0d0631962365"
   },
   "outputs": [
    {
     "data": {
      "text/plain": [
       "[<matplotlib.lines.Line2D at 0x12852ca10>]"
      ]
     },
     "execution_count": 26,
     "metadata": {},
     "output_type": "execute_result"
    },
    {
     "data": {
      "image/png": "[encoded data removed]",
      "text/plain": [
       "<Figure size 640x480 with 1 Axes>"
      ]
     },
     "metadata": {},
     "output_type": "display_data"
    }
   ],
   "source": [
    "import matplotlib.pyplot as plt\n",
    "plt.scatter(X.numpy(),Y.numpy())\n",
    "plt.plot(X.numpy(),f.numpy())"
   ]
  },
  {
   "cell_type": "markdown",
   "id": "9k4yI2P_Htjc",
   "metadata": {
    "id": "9k4yI2P_Htjc"
   },
   "source": [
    "## 2. Linear regression model"
   ]
  },
  {
   "cell_type": "markdown",
   "id": "3FknTBaFIUQj",
   "metadata": {
    "id": "3FknTBaFIUQj"
   },
   "source": [
    "You are given X and Y.\n",
    "\n",
    "Your goal is to find the best linear model to explain the relation between X and Y by minimizing the following\n",
    "\n",
    "$Loss(w, b)=\\sum\\limits_{i=1}^{n}(Y_i-Yhat_i)^2$\n",
    "\n",
    "where\n",
    "\n",
    "$Yhat_i:=X_i*w +b$."
   ]
  },
  {
   "cell_type": "code",
   "execution_count": 27,
   "id": "tdM7lZzxHH1I",
   "metadata": {
    "colab": {
     "base_uri": "https://localhost:8080/"
    },
    "executionInfo": {
     "elapsed": 1004,
     "status": "ok",
     "timestamp": 1697262240276,
     "user": {
      "displayName": "﻿안재윤(전임교원/통계학과)",
      "userId": "02619146530199681853"
     },
     "user_tz": -540
    },
    "id": "tdM7lZzxHH1I",
    "outputId": "b391f806-0597-4fca-c7ee-c82b392d1014"
   },
   "outputs": [
    {
     "name": "stderr",
     "output_type": "stream",
     "text": [
      "/var/folders/vl/yt67rw7s1tl_87hvr6bgvvw00000gn/T/ipykernel_12403/1239943648.py:7: UserWarning: To copy construct from a tensor, it is recommended to use sourceTensor.clone().detach() or sourceTensor.clone().detach().requires_grad_(True), rather than torch.tensor(sourceTensor).\n",
      "  w = torch.tensor(torch.randn([1,1]), requires_grad=True)\n",
      "/var/folders/vl/yt67rw7s1tl_87hvr6bgvvw00000gn/T/ipykernel_12403/1239943648.py:8: UserWarning: To copy construct from a tensor, it is recommended to use sourceTensor.clone().detach() or sourceTensor.clone().detach().requires_grad_(True), rather than torch.tensor(sourceTensor).\n",
      "  b = torch.tensor(torch.randn([1,1]), requires_grad=True)\n"
     ]
    }
   ],
   "source": [
    "def forward(x):\n",
    "  return x*w+b\n",
    "\n",
    "def criterion(yhat, y):\n",
    "  return torch.mean((yhat-y)**2)\n",
    "\n",
    "w = torch.tensor(torch.randn([1,1]), requires_grad=True)\n",
    "b = torch.tensor(torch.randn([1,1]), requires_grad=True)\n"
   ]
  },
  {
   "cell_type": "code",
   "execution_count": 40,
   "id": "muCeizk7JXK7",
   "metadata": {
    "executionInfo": {
     "elapsed": 8,
     "status": "ok",
     "timestamp": 1697262240276,
     "user": {
      "displayName": "﻿안재윤(전임교원/통계학과)",
      "userId": "02619146530199681853"
     },
     "user_tz": -540
    },
    "id": "muCeizk7JXK7"
   },
   "outputs": [],
   "source": [
    "history=[]\n",
    "lr=0.1\n",
    "for epoch in range(100):\n",
    "  Yhat = forward(X)\n",
    "  loss = criterion(Yhat,Y)\n",
    "  history.append(loss.item())\n",
    "  loss.backward()\n",
    "  w.data = w.data-lr*w.grad.data\n",
    "  b.data = b.data-lr*b.grad.data\n",
    "  w.grad = None\n",
    "  b.grad = None\n",
    "\n",
    "\n"
   ]
  },
  {
   "cell_type": "code",
   "execution_count": 41,
   "id": "yQp3BeFKKIqs",
   "metadata": {
    "colab": {
     "base_uri": "https://localhost:8080/"
    },
    "executionInfo": {
     "elapsed": 8,
     "status": "ok",
     "timestamp": 1697262240276,
     "user": {
      "displayName": "﻿안재윤(전임교원/통계학과)",
      "userId": "02619146530199681853"
     },
     "user_tz": -540
    },
    "id": "yQp3BeFKKIqs",
    "outputId": "6d145c08-9fcb-4d30-d5e3-45adc3b4452e"
   },
   "outputs": [
    {
     "name": "stdout",
     "output_type": "stream",
     "text": [
      "tensor([[1.7149]], requires_grad=True) tensor([[-1.1823]], requires_grad=True)\n"
     ]
    }
   ],
   "source": [
    "print(w, b)"
   ]
  },
  {
   "cell_type": "code",
   "execution_count": 42,
   "id": "At1ER7CVWJa7",
   "metadata": {
    "colab": {
     "base_uri": "https://localhost:8080/",
     "height": 449
    },
    "executionInfo": {
     "elapsed": 6,
     "status": "ok",
     "timestamp": 1697262240276,
     "user": {
      "displayName": "﻿안재윤(전임교원/통계학과)",
      "userId": "02619146530199681853"
     },
     "user_tz": -540
    },
    "id": "At1ER7CVWJa7",
    "outputId": "51ec0b77-23ba-4732-9055-d7a3744240d3"
   },
   "outputs": [
    {
     "data": {
      "text/plain": [
       "[<matplotlib.lines.Line2D at 0x128679790>]"
      ]
     },
     "execution_count": 42,
     "metadata": {},
     "output_type": "execute_result"
    },
    {
     "data": {
      "image/png": "[encoded data removed]",
      "text/plain": [
       "<Figure size 640x480 with 1 Axes>"
      ]
     },
     "metadata": {},
     "output_type": "display_data"
    }
   ],
   "source": [
    "plt.plot(history)"
   ]
  },
  {
   "cell_type": "markdown",
   "id": "-whmINjP-fqO",
   "metadata": {
    "id": "-whmINjP-fqO"
   },
   "source": [
    "### 2.1 Further consideration: `torch.optim.SGD`\n",
    "\n",
    "Using the following optimizer\n",
    "`my_optimizer = torch.optim.SGD([w,b], lr=0.1)`, we can excute a gradient descent one time by the following command:\n",
    "\n",
    "1> Gradient descent\n",
    "\n",
    "`my_optimizer.step()`\n",
    "\n",
    "which is equivalent with\n",
    "` w.data = w.data-lr*w.grad.data`\n",
    "\n",
    "`b.data = b.data-lr*b.grad.data`\n",
    "\n",
    "2> Making zero-grad before differentiation\n",
    "\n",
    "`my_optimizer.zero_grad()`\n",
    "\n",
    "which is equivalent with\n",
    "\n",
    "`w.grad = None`\n",
    "\n",
    "`b.grad = None`"
   ]
  },
  {
   "cell_type": "markdown",
   "id": "m0Me6ICQCiJV",
   "metadata": {
    "id": "m0Me6ICQCiJV"
   },
   "source": [
    "### Exercise 2.1.1\n",
    "\n",
    "Train the same model above using `torch.optim.SGD` function."
   ]
  },
  {
   "cell_type": "code",
   "execution_count": null,
   "id": "DQACTuIvo_DA",
   "metadata": {
    "id": "DQACTuIvo_DA"
   },
   "outputs": [],
   "source": []
  },
  {
   "cell_type": "markdown",
   "id": "uuKnPCfUKaPY",
   "metadata": {
    "id": "uuKnPCfUKaPY"
   },
   "source": [
    "## 3. Stochastic Gradient Descent (SGD) using Dataset and DataLoader"
   ]
  },
  {
   "cell_type": "code",
   "execution_count": 43,
   "id": "WmtPmA5eXBH7",
   "metadata": {
    "executionInfo": {
     "elapsed": 391,
     "status": "ok",
     "timestamp": 1697264041755,
     "user": {
      "displayName": "﻿안재윤(전임교원/통계학과)",
      "userId": "02619146530199681853"
     },
     "user_tz": -540
    },
    "id": "WmtPmA5eXBH7"
   },
   "outputs": [],
   "source": [
    "# Import libraries\n",
    "import torch\n",
    "from torch.utils.data import Dataset, DataLoader, TensorDataset"
   ]
  },
  {
   "cell_type": "markdown",
   "id": "vs45g3MTHrKu",
   "metadata": {
    "id": "vs45g3MTHrKu"
   },
   "source": [
    "Now, for educational purpose, let's include intercept in the model matrix `X`. For this, you can use the following command."
   ]
  },
  {
   "cell_type": "code",
   "execution_count": 44,
   "id": "CfD9nXvkF7L8",
   "metadata": {
    "executionInfo": {
     "elapsed": 1,
     "status": "ok",
     "timestamp": 1697264042033,
     "user": {
      "displayName": "﻿안재윤(전임교원/통계학과)",
      "userId": "02619146530199681853"
     },
     "user_tz": -540
    },
    "id": "CfD9nXvkF7L8"
   },
   "outputs": [],
   "source": [
    "ones = torch.ones([X.shape[0],1])\n",
    "XX = torch.concat([ones, X], axis=1)"
   ]
  },
  {
   "cell_type": "code",
   "execution_count": 45,
   "id": "xJQGBA18K6eV",
   "metadata": {
    "executionInfo": {
     "elapsed": 1,
     "status": "ok",
     "timestamp": 1697264042352,
     "user": {
      "displayName": "﻿안재윤(전임교원/통계학과)",
      "userId": "02619146530199681853"
     },
     "user_tz": -540
    },
    "id": "xJQGBA18K6eV"
   },
   "outputs": [],
   "source": [
    "dataset = TensorDataset(XX,Y)"
   ]
  },
  {
   "cell_type": "code",
   "execution_count": 46,
   "id": "13FBz6JrK8e4",
   "metadata": {
    "executionInfo": {
     "elapsed": 1,
     "status": "ok",
     "timestamp": 1697264043299,
     "user": {
      "displayName": "﻿안재윤(전임교원/통계학과)",
      "userId": "02619146530199681853"
     },
     "user_tz": -540
    },
    "id": "13FBz6JrK8e4"
   },
   "outputs": [],
   "source": [
    "trainloader=DataLoader(dataset = dataset, batch_size=5, shuffle=True)"
   ]
  },
  {
   "cell_type": "code",
   "execution_count": 47,
   "id": "Ikya8BXW3B_2",
   "metadata": {
    "executionInfo": {
     "elapsed": 2,
     "status": "ok",
     "timestamp": 1697264043862,
     "user": {
      "displayName": "﻿안재윤(전임교원/통계학과)",
      "userId": "02619146530199681853"
     },
     "user_tz": -540
    },
    "id": "Ikya8BXW3B_2"
   },
   "outputs": [],
   "source": [
    "from torch import optim"
   ]
  },
  {
   "cell_type": "code",
   "execution_count": 48,
   "id": "7yDHTFY6wbBb",
   "metadata": {
    "colab": {
     "base_uri": "https://localhost:8080/"
    },
    "executionInfo": {
     "elapsed": 437,
     "status": "ok",
     "timestamp": 1697264045685,
     "user": {
      "displayName": "﻿안재윤(전임교원/통계학과)",
      "userId": "02619146530199681853"
     },
     "user_tz": -540
    },
    "id": "7yDHTFY6wbBb",
    "outputId": "d766cf7e-d6fa-46f7-ee22-5adf59d8f87c"
   },
   "outputs": [
    {
     "name": "stderr",
     "output_type": "stream",
     "text": [
      "/var/folders/vl/yt67rw7s1tl_87hvr6bgvvw00000gn/T/ipykernel_12403/2309595000.py:1: UserWarning: To copy construct from a tensor, it is recommended to use sourceTensor.clone().detach() or sourceTensor.clone().detach().requires_grad_(True), rather than torch.tensor(sourceTensor).\n",
      "  beta = torch.tensor(torch.randn([2,1]), requires_grad=True)\n"
     ]
    }
   ],
   "source": [
    "beta = torch.tensor(torch.randn([2,1]), requires_grad=True)\n",
    "def model(x):\n",
    "    return x @ beta\n",
    "\n",
    "#torch.nn.Linear(1, 1, bias=True)\n",
    "def criterion(yhat, y):\n",
    "  return torch.mean((yhat-y)**2)\n",
    "my_optimizer = torch.optim.SGD([beta], lr=0.1)\n",
    "#optim.SGD(model.parameters(), lr=0.1)"
   ]
  },
  {
   "cell_type": "code",
   "execution_count": 49,
   "id": "xEi-PX2y8uYT",
   "metadata": {
    "id": "xEi-PX2y8uYT"
   },
   "outputs": [],
   "source": [
    "epochs=100\n",
    "history=[]\n",
    "n=len(XX)\n",
    "\n",
    "for epoch in range(epochs):\n",
    "  LOSS_sum = 0\n",
    "  for xx, yy in trainloader:\n",
    "    yhat = model(xx)\n",
    "    loss = criterion(yhat, yy)\n",
    "    LOSS_sum = LOSS_sum + loss * len(yy)\n",
    "    my_optimizer.zero_grad()\n",
    "    loss.backward()\n",
    "    my_optimizer.step()\n",
    "  history.append(LOSS_sum.item()/n)\n"
   ]
  },
  {
   "cell_type": "markdown",
   "id": "gJHrO2Bz8hsK",
   "metadata": {
    "id": "gJHrO2Bz8hsK"
   },
   "source": [
    "Here, make sure you understand how `loss` is defined."
   ]
  },
  {
   "cell_type": "code",
   "execution_count": 50,
   "id": "XwJtNhv03n5x",
   "metadata": {
    "colab": {
     "base_uri": "https://localhost:8080/",
     "height": 451
    },
    "executionInfo": {
     "elapsed": 5,
     "status": "ok",
     "timestamp": 1697197072780,
     "user": {
      "displayName": "﻿안재윤(전임교원/통계학과)",
      "userId": "02619146530199681853"
     },
     "user_tz": -540
    },
    "id": "XwJtNhv03n5x",
    "outputId": "0b16ea05-233b-4f7d-defc-35c947a71b5f"
   },
   "outputs": [
    {
     "data": {
      "text/plain": [
       "[<matplotlib.lines.Line2D at 0x1286de090>]"
      ]
     },
     "execution_count": 50,
     "metadata": {},
     "output_type": "execute_result"
    },
    {
     "data": {
      "image/png": "[encoded data removed]",
      "text/plain": [
       "<Figure size 640x480 with 1 Axes>"
      ]
     },
     "metadata": {},
     "output_type": "display_data"
    }
   ],
   "source": [
    "plt.plot(history)"
   ]
  },
  {
   "cell_type": "code",
   "execution_count": 39,
   "id": "fItgdqIl81w2",
   "metadata": {
    "colab": {
     "base_uri": "https://localhost:8080/"
    },
    "executionInfo": {
     "elapsed": 3,
     "status": "ok",
     "timestamp": 1697197090240,
     "user": {
      "displayName": "﻿안재윤(전임교원/통계학과)",
      "userId": "02619146530199681853"
     },
     "user_tz": -540
    },
    "id": "fItgdqIl81w2",
    "outputId": "3b2e56c6-2293-4b73-8326-53d05c5c6ffa"
   },
   "outputs": [
    {
     "data": {
      "text/plain": [
       "tensor([[-1.1659],\n",
       "        [ 1.5250]], requires_grad=True)"
      ]
     },
     "execution_count": 39,
     "metadata": {},
     "output_type": "execute_result"
    }
   ],
   "source": [
    "beta"
   ]
  },
  {
   "cell_type": "markdown",
   "id": "NINZosgA3tCe",
   "metadata": {
    "id": "NINZosgA3tCe"
   },
   "source": [
    "### Prediction of the model\n",
    "\n",
    "For $x=3.0$ our prediction for $y$ can be calculated as\n",
    "```\n",
    "xx=torch.tensor([[1, 3.0]])\n",
    "model(xx)\n",
    "```"
   ]
  },
  {
   "cell_type": "markdown",
   "id": "YmWy_htS1K6k",
   "metadata": {
    "id": "YmWy_htS1K6k"
   },
   "source": [
    "### 3.1 Pytorch function of `model`\n",
    "\n",
    "```\n",
    "def model(x):\n",
    "    return x @ beta\n",
    "```\n",
    "can be replaced by\n",
    "```\n",
    "model = torch.nn.Linear(2, 1, bias=false)\n",
    "```\n",
    "where `2` means the dimension of the input. In our case, input `XX` has two columns so that we have the dimension of the input is `2`."
   ]
  },
  {
   "cell_type": "markdown",
   "id": "zkHxzJu02IUS",
   "metadata": {
    "id": "zkHxzJu02IUS"
   },
   "source": [
    "### 3.1.1 Example:\n",
    "\n",
    "The following code the rewriting of the above training procedure where model is defined by `torch.nn.Linear`."
   ]
  },
  {
   "cell_type": "code",
   "execution_count": null,
   "id": "VhbYuTRN2ciZ",
   "metadata": {
    "colab": {
     "base_uri": "https://localhost:8080/"
    },
    "executionInfo": {
     "elapsed": 4,
     "status": "ok",
     "timestamp": 1697197532410,
     "user": {
      "displayName": "﻿안재윤(전임교원/통계학과)",
      "userId": "02619146530199681853"
     },
     "user_tz": -540
    },
    "id": "VhbYuTRN2ciZ",
    "outputId": "cb04d528-44f4-46db-f975-17d6f5436b4a"
   },
   "outputs": [
    {
     "name": "stderr",
     "output_type": "stream",
     "text": [
      "<ipython-input-27-8f055009decb>:1: UserWarning: To copy construct from a tensor, it is recommended to use sourceTensor.clone().detach() or sourceTensor.clone().detach().requires_grad_(True), rather than torch.tensor(sourceTensor).\n",
      "  beta = torch.tensor(torch.randn([2,1]), requires_grad=True)\n"
     ]
    }
   ],
   "source": [
    "model = torch.nn.Linear(2, 1, bias=True)\n",
    "def criterion(yhat, y):\n",
    "  return torch.mean((yhat-y)**2)\n",
    "my_optimizer = torch.optim.SGD(model.parameters(), lr=0.1)"
   ]
  },
  {
   "cell_type": "code",
   "execution_count": null,
   "id": "OPgPuv8u2uD8",
   "metadata": {
    "id": "OPgPuv8u2uD8"
   },
   "outputs": [],
   "source": [
    "epochs=100\n",
    "history=[]\n",
    "n=len(XX)\n",
    "\n",
    "for epoch in range(epochs):\n",
    "  LOSS_sum = 0\n",
    "  for xx, yy in trainloader:\n",
    "    yhat = model(xx)\n",
    "    loss = criterion(yhat, yy)\n",
    "    LOSS_sum = LOSS_sum + loss * len(yy)\n",
    "    my_optimizer.zero_grad()\n",
    "    loss.backward()\n",
    "    my_optimizer.step()\n",
    "  history.append(LOSS_sum.item()/n)\n"
   ]
  },
  {
   "cell_type": "code",
   "execution_count": null,
   "id": "70v5FLt723R_",
   "metadata": {
    "colab": {
     "base_uri": "https://localhost:8080/",
     "height": 452
    },
    "executionInfo": {
     "elapsed": 741,
     "status": "ok",
     "timestamp": 1697197570830,
     "user": {
      "displayName": "﻿안재윤(전임교원/통계학과)",
      "userId": "02619146530199681853"
     },
     "user_tz": -540
    },
    "id": "70v5FLt723R_",
    "outputId": "43d20df3-76c3-4197-e048-26f9a3f61338"
   },
   "outputs": [
    {
     "data": {
      "text/plain": [
       "[<matplotlib.lines.Line2D at 0x7f74015fc970>]"
      ]
     },
     "execution_count": 29,
     "metadata": {},
     "output_type": "execute_result"
    },
    {
     "data": {
      "image/png": "[encoded data removed]",
      "text/plain": [
       "<Figure size 640x480 with 1 Axes>"
      ]
     },
     "metadata": {},
     "output_type": "display_data"
    }
   ],
   "source": [
    "plt.plot(history)"
   ]
  },
  {
   "cell_type": "markdown",
   "id": "ByXncj_A2-cp",
   "metadata": {
    "id": "ByXncj_A2-cp"
   },
   "source": [
    "The following command is important command to check the parameters of the model in `torch.nn.Linear`, and identify the name of each parameter. In this example, we can use parameters using the following commands\n",
    "\n",
    "```\n",
    "print(model.weight, model.bias)\n",
    "```"
   ]
  },
  {
   "cell_type": "code",
   "execution_count": null,
   "id": "dulLerts9IpJ",
   "metadata": {
    "colab": {
     "base_uri": "https://localhost:8080/"
    },
    "executionInfo": {
     "elapsed": 389,
     "status": "ok",
     "timestamp": 1697197578142,
     "user": {
      "displayName": "﻿안재윤(전임교원/통계학과)",
      "userId": "02619146530199681853"
     },
     "user_tz": -540
    },
    "id": "dulLerts9IpJ",
    "outputId": "2c3adc3f-47db-4a6a-f349-526836425456"
   },
   "outputs": [
    {
     "data": {
      "text/plain": [
       "OrderedDict([('weight', tensor([[-0.7431,  1.6765]])),\n",
       "             ('bias', tensor([-0.4042]))])"
      ]
     },
     "execution_count": 30,
     "metadata": {},
     "output_type": "execute_result"
    }
   ],
   "source": [
    "model.state_dict()"
   ]
  },
  {
   "cell_type": "code",
   "execution_count": null,
   "id": "tUMbcwFm9OJw",
   "metadata": {
    "colab": {
     "base_uri": "https://localhost:8080/"
    },
    "executionInfo": {
     "elapsed": 382,
     "status": "ok",
     "timestamp": 1697197746233,
     "user": {
      "displayName": "﻿안재윤(전임교원/통계학과)",
      "userId": "02619146530199681853"
     },
     "user_tz": -540
    },
    "id": "tUMbcwFm9OJw",
    "outputId": "ec72e5c4-d04e-4af6-fd0c-e5695f7f2d10"
   },
   "outputs": [
    {
     "data": {
      "text/plain": [
       "Parameter containing:\n",
       "tensor([[-0.7431,  1.6765]], requires_grad=True)"
      ]
     },
     "execution_count": 31,
     "metadata": {},
     "output_type": "execute_result"
    }
   ],
   "source": [
    "model.weight"
   ]
  },
  {
   "cell_type": "code",
   "execution_count": null,
   "id": "6faxvwAX9QJh",
   "metadata": {
    "colab": {
     "base_uri": "https://localhost:8080/"
    },
    "executionInfo": {
     "elapsed": 2,
     "status": "ok",
     "timestamp": 1697197748476,
     "user": {
      "displayName": "﻿안재윤(전임교원/통계학과)",
      "userId": "02619146530199681853"
     },
     "user_tz": -540
    },
    "id": "6faxvwAX9QJh",
    "outputId": "3ca27ece-4d1e-4cdd-8faf-8b09344ce0ec"
   },
   "outputs": [
    {
     "data": {
      "text/plain": [
       "Parameter containing:\n",
       "tensor([-0.4042], requires_grad=True)"
      ]
     },
     "execution_count": 32,
     "metadata": {},
     "output_type": "execute_result"
    }
   ],
   "source": [
    "model.bias"
   ]
  },
  {
   "cell_type": "markdown",
   "id": "hE9Sd7vnKP-r",
   "metadata": {
    "id": "hE9Sd7vnKP-r"
   },
   "source": [
    "If you want to do gradient descent without using `torch.optimizer.SGD`, you can use the following commands:\n",
    "\n",
    "```\n",
    "model.weight.data = model.weight.data - lr * model.weight.grad\n",
    "\n",
    "model.bias.data = model.bias.data - lr * model.bias.grad\n",
    "\n",
    "```"
   ]
  },
  {
   "cell_type": "code",
   "execution_count": null,
   "id": "ygTonLrh9SyH",
   "metadata": {
    "id": "ygTonLrh9SyH"
   },
   "outputs": [],
   "source": []
  },
  {
   "cell_type": "code",
   "execution_count": null,
   "id": "aQ6rHSs6sRIW",
   "metadata": {
    "colab": {
     "base_uri": "https://localhost:8080/",
     "height": 448
    },
    "executionInfo": {
     "elapsed": 494,
     "status": "ok",
     "timestamp": 1697011973923,
     "user": {
      "displayName": "﻿안재윤(전임교원/통계학과)",
      "userId": "02619146530199681853"
     },
     "user_tz": -540
    },
    "id": "aQ6rHSs6sRIW",
    "outputId": "ce1f3d37-63e4-488d-db32-ac38fd42be16"
   },
   "outputs": [
    {
     "data": {
      "text/plain": [
       "[<matplotlib.lines.Line2D at 0x7bf3fdf46fb0>]"
      ]
     },
     "execution_count": 36,
     "metadata": {},
     "output_type": "execute_result"
    },
    {
     "data": {
      "image/png": "[encoded data removed]",
      "text/plain": [
       "<Figure size 640x480 with 1 Axes>"
      ]
     },
     "metadata": {},
     "output_type": "display_data"
    }
   ],
   "source": [
    "plt.plot(history)"
   ]
  },
  {
   "cell_type": "markdown",
   "id": "9oHEoiX-Utai",
   "metadata": {
    "id": "9oHEoiX-Utai"
   },
   "source": [
    "## Exercise 3.1.2:\n",
    "\n",
    "Repeat the above training procedure with\n",
    "\n",
    "   1> batch size equals 4\n",
    "   \n",
    "   2> Use `forward = torch.nn.Linear(1, 1, bias=False)` and `bias=torch.tensor(torch.randn([1]), requires_grad=True`. In this case, we define\n",
    "   ```\n",
    "yhat = forward(x) + bias\n",
    "   ```\n",
    "   Here, you may use `X` instead of `XX` and redefine `trainloader`.\n",
    "   3> After training, calculate `yhat` corresponding `X=2.0`.\n",
    "\n",
    "   4> Repeat the above procedures without using `torch.optim.SGD`."
   ]
  },
  {
   "cell_type": "markdown",
   "id": "dETfm0OTK8xo",
   "metadata": {
    "id": "dETfm0OTK8xo"
   },
   "source": []
  },
  {
   "cell_type": "code",
   "execution_count": null,
   "id": "JYbhk935_BMd",
   "metadata": {
    "id": "JYbhk935_BMd"
   },
   "outputs": [],
   "source": []
  },
  {
   "cell_type": "code",
   "execution_count": null,
   "id": "o4tLYjwaJhvN",
   "metadata": {
    "id": "o4tLYjwaJhvN"
   },
   "outputs": [],
   "source": []
  },
  {
   "cell_type": "markdown",
   "id": "ZxrNBcjapzRD",
   "metadata": {
    "id": "ZxrNBcjapzRD"
   },
   "source": [
    "### Exercise 3.1.3\n",
    "\n"
   ]
  },
  {
   "cell_type": "markdown",
   "id": "vyesTrGcFFTV",
   "metadata": {
    "id": "vyesTrGcFFTV"
   },
   "source": [
    "Using `Auto` data set in `ISLP` package, excute the following data processing procedures\n",
    "\n",
    "- Create the design matrix `X` of shape `[n,2]` where the first column is column of ones and the second column is `horsepower`.\n",
    "\n",
    "- Standardize `X` and save it into `XX` so that the mean of the second column is zero and the variance of the second column is one.\n",
    "\n",
    "- Define `Y` as `mpg`.\n",
    "\n",
    "Now with `XX` (or equivalently `X`) and `Y`, you want to train the following model\n",
    "\n",
    "```\n",
    "Yhat = XX @ beta\n",
    "```\n",
    "via the following minimization problem\n",
    "```\n",
    "torch.mean( (Y-Yhat)**2 )\n",
    "```\n",
    "where `beta` is `[2,1]` column parameters. Train the model using the stochastic batch learning with the various instructions. For each problem, you also calculate `Yhat` when `horsepower=2.0`.\n",
    "\n",
    "1> First method\n",
    "- Define the loss function\n",
    "- Use `model = torch.nn.Linear(2,1, bias=False) ` to define the model.\n",
    "- Use `torch.optim.SGD` to define your optimizer.\n",
    "\n",
    "2> Second method\n",
    "- Define the loss function\n",
    "- Use `model = torch.nn.Linear(1,1, bias=True)` to define the model.\n",
    "- Do not use `torch.optim.SGD` to do gradient descent.\n",
    "\n",
    "3> Third method\n",
    "- Define the loss function\n",
    "- Use `model = torch.nn.Linear(1,1, bias=False) + beta0` and `beta0 = torch.tensor(torch.randn([1], requires_grad=True)` to define the model.\n",
    "- Do not use `torch.optim.SGD` to do gradient descent.\n",
    "\n",
    "4> Fourth method\n",
    "- Define the loss function\n",
    "- Use `model = torch.nn.Linear(1,1, bias=False) + beta0` and `beta0 = torch.tensor(torch.randn([1], requires_grad=True)` to define the model.\n",
    "- Use `torch.optim.SGD` to do gradient descent.\n",
    "\n",
    "\n"
   ]
  },
  {
   "cell_type": "code",
   "execution_count": null,
   "id": "bQC48nSsp3LH",
   "metadata": {
    "id": "bQC48nSsp3LH"
   },
   "outputs": [],
   "source": [
    "!pip install ISLP"
   ]
  },
  {
   "cell_type": "code",
   "execution_count": 10,
   "id": "xoLASZ4KEmAN",
   "metadata": {
    "id": "xoLASZ4KEmAN"
   },
   "outputs": [],
   "source": [
    "import ISLP\n",
    "import torch\n",
    "from torch.utils.data import DataLoader, TensorDataset"
   ]
  },
  {
   "cell_type": "code",
   "execution_count": 18,
   "id": "X2XixjTBIbxC",
   "metadata": {
    "colab": {
     "base_uri": "https://localhost:8080/"
    },
    "executionInfo": {
     "elapsed": 8,
     "status": "ok",
     "timestamp": 1697252702035,
     "user": {
      "displayName": "﻿안재윤(전임교원/통계학과)",
      "userId": "02619146530199681853"
     },
     "user_tz": -540
    },
    "id": "X2XixjTBIbxC",
    "outputId": "07d85d18-509d-4b5f-854e-e2e294afe338"
   },
   "outputs": [],
   "source": [
    "Auto = ISLP.load_data(\"Auto\")\n",
    "\n",
    "X = torch.tensor(Auto[\"horsepower\"]).to(torch.float32).reshape(-1,1)\n",
    "Y = torch.tensor(Auto[\"mpg\"]).to(torch.float32).reshape(-1,1)\n",
    "\n",
    "X_mean = torch.mean(X, axis=0)\n",
    "X_std = torch.std(X, axis=0)\n",
    "XX = (X - X_mean)/X_std"
   ]
  },
  {
   "cell_type": "markdown",
   "id": "UyVfUifc1Wtw",
   "metadata": {
    "id": "UyVfUifc1Wtw"
   },
   "source": [
    "# 4. Custom layer\n",
    "\n",
    "Repeat the above procedure with user defined layer."
   ]
  },
  {
   "cell_type": "markdown",
   "id": "_GRJg2VPvzC8",
   "metadata": {
    "id": "_GRJg2VPvzC8"
   },
   "source": [
    "## 4.1. Layers without Parameters\n",
    "\n",
    "To start, we construct a custom layer that does not have any parameters of its own. The following CenteredLayer class simply subtracts the mean from its input. To build it, we simply need to inherit from the base layer class and implement the forward propagation function."
   ]
  },
  {
   "cell_type": "code",
   "execution_count": 13,
   "id": "68jkepqdvxyS",
   "metadata": {
    "executionInfo": {
     "elapsed": 2,
     "status": "ok",
     "timestamp": 1697262929600,
     "user": {
      "displayName": "﻿안재윤(전임교원/통계학과)",
      "userId": "02619146530199681853"
     },
     "user_tz": -540
    },
    "id": "68jkepqdvxyS"
   },
   "outputs": [],
   "source": [
    "class CenteredLayer(torch.nn.Module):\n",
    "    def __init__(self):\n",
    "        super().__init__()\n",
    "\n",
    "    def forward(self, X):\n",
    "        return X - X.mean()"
   ]
  },
  {
   "cell_type": "markdown",
   "id": "poINfoA_wK-0",
   "metadata": {
    "id": "poINfoA_wK-0"
   },
   "source": [
    "Let’s verify that our layer works as intended by feeding some data through it."
   ]
  },
  {
   "cell_type": "code",
   "execution_count": 14,
   "id": "O5m57gVgwHeZ",
   "metadata": {
    "colab": {
     "base_uri": "https://localhost:8080/"
    },
    "executionInfo": {
     "elapsed": 2,
     "status": "ok",
     "timestamp": 1697262930927,
     "user": {
      "displayName": "﻿안재윤(전임교원/통계학과)",
      "userId": "02619146530199681853"
     },
     "user_tz": -540
    },
    "id": "O5m57gVgwHeZ",
    "outputId": "c16b8b0d-8329-49af-f7e3-bca7815a1ed0"
   },
   "outputs": [
    {
     "data": {
      "text/plain": [
       "tensor([-2., -1.,  0.,  1.,  2.])"
      ]
     },
     "execution_count": 14,
     "metadata": {},
     "output_type": "execute_result"
    }
   ],
   "source": [
    "layer = CenteredLayer()\n",
    "layer(torch.tensor([1.0, 2, 3, 4, 5]))"
   ]
  },
  {
   "cell_type": "markdown",
   "id": "vwi8xV_CwXZu",
   "metadata": {
    "id": "vwi8xV_CwXZu"
   },
   "source": [
    "## 4.2. Layers with Parameters\n",
    "\n",
    "Now that we know how to define simple layers, let’s move on to defining layers with parameters that can be adjusted through training. We can use built-in functions to create parameters, which provide some basic housekeeping functionality. In particular, they govern access, initialization, sharing, saving, and loading model parameters. This way, among other benefits, we will not need to write custom serialization routines for every custom layer.\n",
    "\n",
    "Now let’s implement our own version of the `Linear` layer. Recall that this layer requires two parameters, one to represent the weight and the other for the bias. This layer requires two input arguments: `in_units` and `units`, which denote the number of inputs and outputs, respectively.\n",
    "\n",
    "Mathematically, we have\n",
    "\n",
    "```\n",
    "weight = torch.tensor( torch.randn([in_units, units]), requires_grad=True)\n",
    "```\n",
    "and\n",
    "```\n",
    "bias = torch.tensor( torch.randn([units]), requires_grad=True)\n",
    "```\n",
    "\n",
    "Hence, we are aiming to create\n",
    "\n",
    "`Yhat = X @ W + b`\n",
    "\n",
    "where `X` is `[n,in_units]` matrix.\n",
    "\n",
    "However, in `torch.nn.Module`, the following command\n",
    "```\n",
    "weight = torch.tensor( torch.randn([in_units, units]), requires_grad=True)\n",
    "```\n",
    "should be written as\n",
    "```\n",
    "weight = torch.nn.Parameter( torch.randn([in_units, units]))\n",
    "```\n",
    "\n",
    "The following is the code how to define `torch.nn.Linear` layer.\n",
    "\n",
    "\n",
    "\n"
   ]
  },
  {
   "cell_type": "code",
   "execution_count": 18,
   "id": "4ChRBVU6w0TO",
   "metadata": {
    "executionInfo": {
     "elapsed": 505,
     "status": "ok",
     "timestamp": 1697263665291,
     "user": {
      "displayName": "﻿안재윤(전임교원/통계학과)",
      "userId": "02619146530199681853"
     },
     "user_tz": -540
    },
    "id": "4ChRBVU6w0TO"
   },
   "outputs": [],
   "source": [
    "class MyLinear(torch.nn.Module):\n",
    "    def __init__(self, in_units, units):\n",
    "        super().__init__()\n",
    "        self.weight = torch.nn.Parameter(torch.randn(in_units, units))\n",
    "        self.bias = torch.nn.Parameter(torch.randn(units,))\n",
    "\n",
    "    def forward(self, X):\n",
    "        temp = X @ self.weight + self.bias\n",
    "        return temp"
   ]
  },
  {
   "cell_type": "markdown",
   "id": "VE7GlBvsytcv",
   "metadata": {
    "id": "VE7GlBvsytcv"
   },
   "source": [
    "Now, let's verify that it is working as intended."
   ]
  },
  {
   "cell_type": "code",
   "execution_count": 24,
   "id": "uJ8dawvuy1XW",
   "metadata": {
    "colab": {
     "base_uri": "https://localhost:8080/"
    },
    "executionInfo": {
     "elapsed": 380,
     "status": "ok",
     "timestamp": 1697263759233,
     "user": {
      "displayName": "﻿안재윤(전임교원/통계학과)",
      "userId": "02619146530199681853"
     },
     "user_tz": -540
    },
    "id": "uJ8dawvuy1XW",
    "outputId": "483d2484-3c4c-4ad1-b28a-85452978bcfa"
   },
   "outputs": [
    {
     "name": "stdout",
     "output_type": "stream",
     "text": [
      "Parameter containing:\n",
      "tensor([[-0.1197],\n",
      "        [ 1.6899]], requires_grad=True)\n",
      "OrderedDict([('weight', tensor([[-0.1197],\n",
      "        [ 1.6899]])), ('bias', tensor([-0.0710]))])\n"
     ]
    }
   ],
   "source": [
    "model = MyLinear(2,1)\n",
    "print(model.weight)\n",
    "print(model.state_dict())"
   ]
  },
  {
   "cell_type": "code",
   "execution_count": 25,
   "id": "ICNYSql6zU8R",
   "metadata": {
    "colab": {
     "base_uri": "https://localhost:8080/"
    },
    "executionInfo": {
     "elapsed": 3,
     "status": "ok",
     "timestamp": 1697263759642,
     "user": {
      "displayName": "﻿안재윤(전임교원/통계학과)",
      "userId": "02619146530199681853"
     },
     "user_tz": -540
    },
    "id": "ICNYSql6zU8R",
    "outputId": "391fadd7-55f2-4873-a914-1dee8fed4ccf"
   },
   "outputs": [
    {
     "data": {
      "text/plain": [
       "tensor([[3.1891]], grad_fn=<AddBackward0>)"
      ]
     },
     "execution_count": 25,
     "metadata": {},
     "output_type": "execute_result"
    }
   ],
   "source": [
    "model(torch.tensor([[1.0, 2.0]]))"
   ]
  },
  {
   "cell_type": "markdown",
   "id": "Bn2vtiMP4SN1",
   "metadata": {
    "id": "Bn2vtiMP4SN1"
   },
   "source": [
    "## 4.2.1 Using torch.nn module to construct and train the model."
   ]
  },
  {
   "cell_type": "code",
   "execution_count": 23,
   "id": "NqLjKR7mzCuf",
   "metadata": {
    "executionInfo": {
     "elapsed": 359,
     "status": "ok",
     "timestamp": 1697264459865,
     "user": {
      "displayName": "﻿안재윤(전임교원/통계학과)",
      "userId": "02619146530199681853"
     },
     "user_tz": -540
    },
    "id": "NqLjKR7mzCuf"
   },
   "outputs": [],
   "source": [
    "class linear_regression(torch.nn.Module):\n",
    "  def __init__(self, input_size, output_size):\n",
    "    super().__init__()\n",
    "    self.bias = torch.nn.Parameter(torch.randn([output_size]))\n",
    "    self.weight = torch.nn.Parameter(torch.randn([input_size,output_size]))\n",
    "  def forward(self,x):\n",
    "    yhat = x @ self.weight + self.bias\n",
    "    return yhat\n",
    "\n",
    "model = linear_regression(1,1)"
   ]
  },
  {
   "cell_type": "markdown",
   "id": "EzrZJjnY1Tpo",
   "metadata": {
    "id": "EzrZJjnY1Tpo"
   },
   "source": [
    "Note that the above can be equivalently written as follows. In this case, try\n",
    "\n",
    "```\n",
    "class linear_regression(torch.nn.Module):\n",
    "  def __init__(self, input_size, output_size):\n",
    "    super().__init__()\n",
    "    self.model_1 = torch.nn.Linear(input_size, output_size, bias=False)\n",
    "    self.bias = torch.nn.Parameter(torch.randn([output_size]))\n",
    "  def forward(self,x):\n",
    "    yhat = self.model_1(x) + self.bias\n",
    "    return yhat\n",
    "\n",
    "model = linear_regression(2,1)\n",
    "```\n",
    "\n",
    "Here, try `model.state_dict()` in each definition. Can you see the difference in parameter names?"
   ]
  },
  {
   "cell_type": "code",
   "execution_count": 24,
   "id": "t8ym49Vn1YMk",
   "metadata": {
    "colab": {
     "base_uri": "https://localhost:8080/"
    },
    "executionInfo": {
     "elapsed": 3,
     "status": "ok",
     "timestamp": 1697264527051,
     "user": {
      "displayName": "﻿안재윤(전임교원/통계학과)",
      "userId": "02619146530199681853"
     },
     "user_tz": -540
    },
    "id": "t8ym49Vn1YMk",
    "outputId": "2537ffab-6adb-487a-c2c5-b76a167e49bf"
   },
   "outputs": [
    {
     "data": {
      "text/plain": [
       "OrderedDict([('bias', tensor([0.4139])), ('weight', tensor([[0.8770]]))])"
      ]
     },
     "execution_count": 24,
     "metadata": {},
     "output_type": "execute_result"
    }
   ],
   "source": [
    "model.state_dict()"
   ]
  },
  {
   "cell_type": "code",
   "execution_count": 25,
   "id": "GN91t3Z22N-m",
   "metadata": {
    "executionInfo": {
     "elapsed": 311,
     "status": "ok",
     "timestamp": 1697264464989,
     "user": {
      "displayName": "﻿안재윤(전임교원/통계학과)",
      "userId": "02619146530199681853"
     },
     "user_tz": -540
    },
    "id": "GN91t3Z22N-m"
   },
   "outputs": [],
   "source": [
    "dataset = TensorDataset(XX,Y)\n",
    "trainloader = DataLoader(dataset=dataset, batch_size=10, shuffle=True)\n",
    "\n",
    "def criterion(yhat, y):\n",
    "  return torch.mean((yhat-y)**2)\n",
    "optimizer = torch.optim.SGD(model.parameters(), lr=0.1)"
   ]
  },
  {
   "cell_type": "code",
   "execution_count": 26,
   "id": "ByjQ9S4v2UWe",
   "metadata": {
    "executionInfo": {
     "elapsed": 3,
     "status": "ok",
     "timestamp": 1697264370818,
     "user": {
      "displayName": "﻿안재윤(전임교원/통계학과)",
      "userId": "02619146530199681853"
     },
     "user_tz": -540
    },
    "id": "ByjQ9S4v2UWe"
   },
   "outputs": [],
   "source": [
    "iters = 30\n",
    "history = []\n",
    "for epoch in range(iters):\n",
    "  current_epoch_loss = 0\n",
    "  for x,y in trainloader:\n",
    "    yhat = model(x)\n",
    "    loss = criterion(yhat, y)\n",
    "    current_epoch_loss += loss.item()\n",
    "    loss.backward()\n",
    "    optimizer.step()\n",
    "    optimizer.zero_grad()\n",
    "  history.append(current_epoch_loss)"
   ]
  },
  {
   "cell_type": "code",
   "execution_count": 28,
   "id": "w8LrqNlq2VGx",
   "metadata": {
    "colab": {
     "base_uri": "https://localhost:8080/",
     "height": 454
    },
    "executionInfo": {
     "elapsed": 5,
     "status": "ok",
     "timestamp": 1697264373048,
     "user": {
      "displayName": "﻿안재윤(전임교원/통계학과)",
      "userId": "02619146530199681853"
     },
     "user_tz": -540
    },
    "id": "w8LrqNlq2VGx",
    "outputId": "87b6d6b3-5a68-49bf-fed1-b4c3d35e64c5"
   },
   "outputs": [
    {
     "data": {
      "text/plain": [
       "[<matplotlib.lines.Line2D at 0x12e558390>]"
      ]
     },
     "execution_count": 28,
     "metadata": {},
     "output_type": "execute_result"
    },
    {
     "data": {
      "image/png": "[encoded data removed]",
      "text/plain": [
       "<Figure size 640x480 with 1 Axes>"
      ]
     },
     "metadata": {},
     "output_type": "display_data"
    }
   ],
   "source": [
    "import matplotlib.pyplot as plt\n",
    "plt.plot(history)"
   ]
  },
  {
   "cell_type": "markdown",
   "id": "OcfIjgCf4jyi",
   "metadata": {
    "id": "OcfIjgCf4jyi"
   },
   "source": [
    "## Exercise 4.2.2:\n",
    "\n",
    "Visit `Auto` exercise using custom layer."
   ]
  },
  {
   "cell_type": "code",
   "execution_count": null,
   "id": "CbyVlI5x7MJc",
   "metadata": {
    "id": "CbyVlI5x7MJc"
   },
   "outputs": [],
   "source": []
  },
  {
   "cell_type": "code",
   "execution_count": null,
   "id": "M4-bqAamI5hm",
   "metadata": {
    "id": "M4-bqAamI5hm"
   },
   "outputs": [],
   "source": []
  }
 ],
 "metadata": {
  "accelerator": "GPU",
  "colab": {
   "machine_shape": "hm",
   "provenance": []
  },
  "kernelspec": {
   "display_name": "Python 3 (ipykernel)",
   "language": "python",
   "name": "python3"
  },
  "language_info": {
   "codemirror_mode": {
    "name": "ipython",
    "version": 3
   },
   "file_extension": ".py",
   "mimetype": "text/x-python",
   "name": "python",
   "nbconvert_exporter": "python",
   "pygments_lexer": "ipython3",
   "version": "3.11.5"
  }
 },
 "nbformat": 4,
 "nbformat_minor": 5
}
