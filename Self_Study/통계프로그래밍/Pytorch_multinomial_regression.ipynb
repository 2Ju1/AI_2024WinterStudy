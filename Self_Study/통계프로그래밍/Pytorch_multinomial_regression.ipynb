{
 "cells": [
  {
   "cell_type": "markdown",
   "id": "3oSL_cLemi3d",
   "metadata": {
    "id": "3oSL_cLemi3d"
   },
   "source": [
    "# 1. Multinomial regression with Python\n"
   ]
  },
  {
   "cell_type": "markdown",
   "id": "_9RudE_-zi19",
   "metadata": {
    "id": "_9RudE_-zi19"
   },
   "source": [
    "## 1.1 Revisit logistic regression"
   ]
  },
  {
   "cell_type": "markdown",
   "id": "wr7trLZn5GhR",
   "metadata": {
    "id": "wr7trLZn5GhR"
   },
   "source": [
    "## Example 1.1.1: (Heart attack patients)\n"
   ]
  },
  {
   "cell_type": "markdown",
   "id": "6JhXDF387kPr",
   "metadata": {
    "id": "6JhXDF387kPr"
   },
   "source": [
    "Suppose that we are working with some doctors on heart attack patients. The dependent variable is whether the patient has had a second heart attack ($Y$)within 1 year (yes = 1). We have two independent variables, one is whether the patient completed a treatment consistent of anger control practices ($x_1$) (yes=1). The other is a score on a trait anxiety scale ($x_2$) (a higher score means more anxious). You want to model\n",
    "\n",
    "$Y\\sim {\\rm Ber}(p_i)$\n",
    "\n",
    "where $p_i=\\sigma(x_iW+b)$ with $W=\n",
    "\\left(\\begin{matrix}\n",
    "W_1\\\\\n",
    "W_2\n",
    "\\end{matrix}\\right).\n",
    "$\n",
    "\n",
    "Answer the following problems:\n",
    "\n",
    "1. Transform `Y` into `T` with one-hot encoding.\n",
    "\n",
    "2. Build the model which best describe the heart attack mechanism. You may want to standardize the explanatory variables before define the model.\n",
    "\n",
    "3. In the model, make the probability function `Q`, then train the logistic model.\n",
    "\n",
    "4. Calculate the train accuracy of the model.\n",
    "\n",
    "<img src=\"https://drive.google.com/uc?id=1BJMmWmeDUJFXis6nc7X7Sd6o832B1_OC\" height=\"600\" width=\"400\">"
   ]
  },
  {
   "cell_type": "code",
   "execution_count": 7,
   "id": "f97WRkvDwFfp",
   "metadata": {
    "colab": {
     "base_uri": "https://localhost:8080/"
    },
    "executionInfo": {
     "elapsed": 5314,
     "status": "ok",
     "timestamp": 1698362288339,
     "user": {
      "displayName": "﻿안재윤(전임교원/통계학과)",
      "userId": "02619146530199681853"
     },
     "user_tz": -540
    },
    "id": "f97WRkvDwFfp",
    "outputId": "ee0527cc-1ba2-46ab-975c-ee8fa6ee4525"
   },
   "outputs": [
    {
     "data": {
      "text/plain": [
       "array([[ 1.,  1., 70.],\n",
       "       [ 1.,  1., 80.],\n",
       "       [ 1.,  1., 50.],\n",
       "       [ 1.,  0., 60.],\n",
       "       [ 1.,  0., 40.],\n",
       "       [ 1.,  0., 65.],\n",
       "       [ 1.,  0., 75.],\n",
       "       [ 1.,  0., 80.],\n",
       "       [ 1.,  0., 70.],\n",
       "       [ 1.,  0., 60.],\n",
       "       [ 0.,  1., 65.],\n",
       "       [ 0.,  1., 50.],\n",
       "       [ 0.,  1., 45.],\n",
       "       [ 0.,  1., 35.],\n",
       "       [ 0.,  1., 40.],\n",
       "       [ 0.,  1., 50.],\n",
       "       [ 0.,  0., 55.],\n",
       "       [ 0.,  0., 45.],\n",
       "       [ 0.,  0., 50.],\n",
       "       [ 0.,  0., 60.]], dtype=float32)"
      ]
     },
     "execution_count": 7,
     "metadata": {},
     "output_type": "execute_result"
    }
   ],
   "source": [
    "import numpy as np\n",
    "import torch\n",
    "import matplotlib.pyplot as plt\n",
    "from torch.utils.data import Dataset, DataLoader, TensorDataset\n",
    "data = np.array([[1,1,70], [1,1,80], [1,1,50],[1,0,60], [1,0,40], [1, 0, 65], [1,0,75], [1,0,80], [1,0,70], [1,0,60], [0,1,65], [0,1,50], [0,1,45], [0,1,35], [0,1,40], [0,1,50], [0,0,55], [0,0,45], [0,0,50], [0,0,60]], dtype=np.float32)\n",
    "data"
   ]
  },
  {
   "cell_type": "markdown",
   "id": "EGfgBS230U6F",
   "metadata": {
    "id": "EGfgBS230U6F"
   },
   "source": [
    "#### Transformation of `Y` of shape `[n,1]` into one-hot encoding `T` of shape `[n,2]`."
   ]
  },
  {
   "cell_type": "code",
   "execution_count": 8,
   "id": "tO-lkjHZ0SqR",
   "metadata": {
    "id": "tO-lkjHZ0SqR"
   },
   "outputs": [],
   "source": [
    "Y = torch.tensor(data[:, 0], dtype=torch.int64)\n",
    "T = torch.nn.functional.one_hot(Y, num_classes=2)\n",
    "T = T.to(torch.float32)"
   ]
  },
  {
   "cell_type": "markdown",
   "id": "SlUj02hO0k4q",
   "metadata": {
    "id": "SlUj02hO0k4q"
   },
   "source": [
    "#### Standardization of `X` of shape `[n,2]` into `XX` of shape `[n,2]`"
   ]
  },
  {
   "cell_type": "code",
   "execution_count": 9,
   "id": "DotnI1SlwHWB",
   "metadata": {
    "id": "DotnI1SlwHWB"
   },
   "outputs": [],
   "source": [
    "X = torch.tensor(data[:, 1:], dtype=torch.float32)\n",
    "X_mean = torch.mean(X, axis=0)\n",
    "X_std = torch.std(X, axis=0)\n",
    "XX = (X-X_mean) / X_std"
   ]
  },
  {
   "cell_type": "markdown",
   "id": "UMFYfbMI0yIr",
   "metadata": {
    "id": "UMFYfbMI0yIr"
   },
   "source": [
    "#### Create the trainloader with `T` and `XX`. Note that, while we use batch learning, we use `batch_size=20`."
   ]
  },
  {
   "cell_type": "code",
   "execution_count": 10,
   "id": "MPMNbyjjz0PB",
   "metadata": {
    "id": "MPMNbyjjz0PB"
   },
   "outputs": [],
   "source": [
    "dataset = TensorDataset(T,XX)\n",
    "trainloader = DataLoader(dataset=dataset, batch_size=20, shuffle=True) # We set batch_size = 20 on purpose. Otherwise, train is not working very well."
   ]
  },
  {
   "cell_type": "markdown",
   "id": "9j8J-gpgSYis",
   "metadata": {
    "id": "9j8J-gpgSYis"
   },
   "source": [
    "Now, we train the model with `T` and `XX` but not `Y`."
   ]
  },
  {
   "cell_type": "code",
   "execution_count": 11,
   "id": "K2_k6zXvHx-5",
   "metadata": {
    "id": "K2_k6zXvHx-5"
   },
   "outputs": [],
   "source": [
    "model = torch.nn.Sequential(\n",
    "    torch.nn.Linear(2,1, bias=True),\n",
    "    torch.nn.Sigmoid()\n",
    ")\n",
    "\n",
    "\n",
    "def loss_ftn(tt, yhat):\n",
    "  p1 = yhat\n",
    "  p0 = 1-yhat\n",
    "  Q = torch.concatenate([p0, p1], axis=1)\n",
    "  temp = -torch.mean(torch.sum(tt * torch.log(Q), axis=1))\n",
    "  return temp\n",
    "\n",
    "optimizer = torch.optim.SGD(model.parameters(), lr= 0.1)"
   ]
  },
  {
   "cell_type": "code",
   "execution_count": 12,
   "id": "aNBnjc5-zZNy",
   "metadata": {
    "id": "aNBnjc5-zZNy"
   },
   "outputs": [],
   "source": [
    "history=[]\n",
    "epochs = 1000\n",
    "n=len(XX)\n",
    "for i in range(epochs):\n",
    "  epoch_loss = 0.0\n",
    "  for tt, xx in trainloader:\n",
    "    yhat = model(xx)\n",
    "    loss = loss_ftn(tt, yhat)\n",
    "    loss.backward()\n",
    "    optimizer.step()\n",
    "    optimizer.zero_grad()\n",
    "    eopch_loss = epoch_loss + loss.item()*len(tt)\n",
    "  history.append(eopch_loss)"
   ]
  },
  {
   "cell_type": "code",
   "execution_count": 13,
   "id": "BywclAwqxwhJ",
   "metadata": {
    "colab": {
     "base_uri": "https://localhost:8080/",
     "height": 451
    },
    "executionInfo": {
     "elapsed": 584,
     "status": "ok",
     "timestamp": 1698362292123,
     "user": {
      "displayName": "﻿안재윤(전임교원/통계학과)",
      "userId": "02619146530199681853"
     },
     "user_tz": -540
    },
    "id": "BywclAwqxwhJ",
    "outputId": "5a485fe4-7951-4e04-cffa-cca21cf35f88"
   },
   "outputs": [
    {
     "data": {
      "text/plain": [
       "[<matplotlib.lines.Line2D at 0x12467d190>]"
      ]
     },
     "execution_count": 13,
     "metadata": {},
     "output_type": "execute_result"
    },
    {
     "data": {
      "image/png": "[encoded data removed]",
      "text/plain": [
       "<Figure size 640x480 with 1 Axes>"
      ]
     },
     "metadata": {},
     "output_type": "display_data"
    }
   ],
   "source": [
    "plt.plot(history)"
   ]
  },
  {
   "cell_type": "markdown",
   "id": "qMKdWCnSSiH-",
   "metadata": {
    "id": "qMKdWCnSSiH-"
   },
   "source": [
    "Now, check the accuracy of the model using `phat=model(XX)` of shape `[n,1]`and `Y` of shape `[n,1]`."
   ]
  },
  {
   "cell_type": "code",
   "execution_count": 14,
   "id": "liMawOLL4dMZ",
   "metadata": {
    "id": "liMawOLL4dMZ"
   },
   "outputs": [],
   "source": [
    "def accuracy_ftn(phat, t):\n",
    "  yhat = (phat>0.5).to(torch.float32)\n",
    "  y = torch.argmax(t, axis=1).to(torch.float32)\n",
    "  accuracy = torch.mean((y.reshape([-1,1])==yhat).to(torch.float32))\n",
    "  return accuracy\n"
   ]
  },
  {
   "cell_type": "code",
   "execution_count": 15,
   "id": "02s19rUI446l",
   "metadata": {
    "colab": {
     "base_uri": "https://localhost:8080/"
    },
    "executionInfo": {
     "elapsed": 25,
     "status": "ok",
     "timestamp": 1698362292124,
     "user": {
      "displayName": "﻿안재윤(전임교원/통계학과)",
      "userId": "02619146530199681853"
     },
     "user_tz": -540
    },
    "id": "02s19rUI446l",
    "outputId": "19fc5c9f-9d9f-4b03-db0a-ef2d93038d02"
   },
   "outputs": [
    {
     "data": {
      "text/plain": [
       "tensor(0.7500)"
      ]
     },
     "execution_count": 15,
     "metadata": {},
     "output_type": "execute_result"
    }
   ],
   "source": [
    "phat = model(XX)\n",
    "accuracy = accuracy_ftn(phat, T)\n",
    "accuracy"
   ]
  },
  {
   "cell_type": "markdown",
   "id": "N5nHnwIxIS3g",
   "metadata": {
    "id": "N5nHnwIxIS3g"
   },
   "source": [
    "## 1.2 Modification of the logistic regression based on the multinomial logistic regression method"
   ]
  },
  {
   "cell_type": "markdown",
   "id": "2oxxelQr5GrR",
   "metadata": {
    "id": "2oxxelQr5GrR"
   },
   "source": [
    "## Example 1.2.1: (Revisit heart attack patients)\n",
    "\n",
    "Now, we do other way of logistic regression.\n",
    "\n",
    "Here,\n",
    "with the following parameters\n",
    "```\n",
    "weight0: [3,1]\n",
    "weight1: [3,1]\n",
    "```\n",
    "we design\n",
    "```\n",
    "p0_hat = torch.exp( XX @ weight0 )\n",
    "p1_hat = torch.exp( XX @ weight1 )\n",
    "```\n",
    "This model is equivalent with\n",
    "```\n",
    "p_hat = torch.exp( XX @ weight )\n",
    "```\n",
    "with the following parameters\n",
    "```\n",
    "weight1: [2,2]\n",
    "```\n",
    "\n",
    "Of course, theses are not the legitimate probabilities, and should be normalized.\n"
   ]
  },
  {
   "cell_type": "markdown",
   "id": "SQ1WC5K6R-22",
   "metadata": {
    "id": "SQ1WC5K6R-22"
   },
   "source": [
    "#### Standardization of `X` of shape `[n,2]` into `XX` of shape `[n,2]` and add intercetption term so that `XX` becomes the shape of `[n,3]`"
   ]
  },
  {
   "cell_type": "code",
   "execution_count": 16,
   "id": "AhXWCeM4R-23",
   "metadata": {
    "colab": {
     "base_uri": "https://localhost:8080/"
    },
    "executionInfo": {
     "elapsed": 19,
     "status": "ok",
     "timestamp": 1698362292125,
     "user": {
      "displayName": "﻿안재윤(전임교원/통계학과)",
      "userId": "02619146530199681853"
     },
     "user_tz": -540
    },
    "id": "AhXWCeM4R-23",
    "outputId": "0d584b3b-209c-49d5-b65c-41a631b7105e"
   },
   "outputs": [
    {
     "data": {
      "text/plain": [
       "torch.Size([20, 3])"
      ]
     },
     "execution_count": 16,
     "metadata": {},
     "output_type": "execute_result"
    }
   ],
   "source": [
    "X = torch.tensor(data[:, 1:], dtype=torch.float32)\n",
    "X_mean = torch.mean(X, axis=0)\n",
    "X_std = torch.std(X, axis=0)\n",
    "XX = (X-X_mean) / X_std\n",
    "\n",
    "n=len(X)\n",
    "ones =torch.ones([n,1])\n",
    "XX = torch.concatenate([ones, XX], axis=1)\n",
    "XX.shape"
   ]
  },
  {
   "cell_type": "markdown",
   "id": "yFsk2UCrR-23",
   "metadata": {
    "id": "yFsk2UCrR-23"
   },
   "source": [
    "#### Create the trainloader with `T` and `XX`. Note that, while we use batch learning, we use `batch_size=20`."
   ]
  },
  {
   "cell_type": "code",
   "execution_count": 17,
   "id": "UIk4TGCtR-23",
   "metadata": {
    "id": "UIk4TGCtR-23"
   },
   "outputs": [],
   "source": [
    "dataset = TensorDataset(T,XX)\n",
    "trainloader = DataLoader(dataset=dataset, batch_size=20, shuffle=True) # We set batch_size = 20 on purpose. Otherwise, train is not working very well."
   ]
  },
  {
   "cell_type": "markdown",
   "id": "7EZ9fn5aSBOL",
   "metadata": {
    "id": "7EZ9fn5aSBOL"
   },
   "source": [
    "\n",
    "### Now, we define the model and train."
   ]
  },
  {
   "cell_type": "code",
   "execution_count": 18,
   "id": "IKCGw_REVX6m",
   "metadata": {
    "id": "IKCGw_REVX6m"
   },
   "outputs": [],
   "source": [
    "class softmax(torch.nn.Module):\n",
    "    def __init__(self, in_units, units):\n",
    "        super().__init__()\n",
    "        self.linear = torch.nn.Linear( in_units, units, bias=False)\n",
    "\n",
    "    def forward(self, X):\n",
    "        P = torch.exp( self.linear(X) )\n",
    "        P_sum = torch.sum(P, axis=1).reshape(-1, 1)\n",
    "        temp = P/P_sum\n",
    "        return temp\n",
    "\n",
    "softmax_ftn = softmax(3,2)\n",
    "\n",
    "def likelihood_function(tt, phat):\n",
    "  # tt: one-hot encoding of y, shape: [n,2]\n",
    "  # phat: probability of shape: [n,2]\n",
    "  Q = phat\n",
    "  temp = -torch.mean (tt * torch.log(Q))\n",
    "  return temp\n",
    "\n",
    "optimizer = torch.optim.SGD(softmax_ftn.parameters(), lr= 0.1)"
   ]
  },
  {
   "cell_type": "code",
   "execution_count": 19,
   "id": "AEP9vOs7VpKO",
   "metadata": {
    "id": "AEP9vOs7VpKO"
   },
   "outputs": [],
   "source": [
    "history=[]\n",
    "epochs = 1000\n",
    "n=len(XX)\n",
    "for i in range(epochs):\n",
    "  epoch_loss = 0.0\n",
    "  for tt, xx in trainloader:\n",
    "    phat = softmax_ftn(xx)\n",
    "    loss = likelihood_function(tt, phat)\n",
    "    loss.backward()\n",
    "    optimizer.step()\n",
    "    optimizer.zero_grad()\n",
    "    eopch_loss = epoch_loss + loss.item()*len(tt)\n",
    "  history.append(eopch_loss)"
   ]
  },
  {
   "cell_type": "code",
   "execution_count": 20,
   "id": "kaD2AkmEX8wK",
   "metadata": {
    "colab": {
     "base_uri": "https://localhost:8080/",
     "height": 448
    },
    "executionInfo": {
     "elapsed": 561,
     "status": "ok",
     "timestamp": 1698362294685,
     "user": {
      "displayName": "﻿안재윤(전임교원/통계학과)",
      "userId": "02619146530199681853"
     },
     "user_tz": -540
    },
    "id": "kaD2AkmEX8wK",
    "outputId": "fd74ec23-2252-495b-e2ba-15ba442eabac"
   },
   "outputs": [
    {
     "data": {
      "text/plain": [
       "[<matplotlib.lines.Line2D at 0x1247c30d0>]"
      ]
     },
     "execution_count": 20,
     "metadata": {},
     "output_type": "execute_result"
    },
    {
     "data": {
      "image/png": "[encoded data removed]",
      "text/plain": [
       "<Figure size 640x480 with 1 Axes>"
      ]
     },
     "metadata": {},
     "output_type": "display_data"
    }
   ],
   "source": [
    "plt.plot(history)"
   ]
  },
  {
   "cell_type": "markdown",
   "id": "J1T9pHDYZBIE",
   "metadata": {
    "id": "J1T9pHDYZBIE"
   },
   "source": [
    "Now, check the accuracy again."
   ]
  },
  {
   "cell_type": "code",
   "execution_count": null,
   "id": "P03bu52U7RRI",
   "metadata": {
    "id": "P03bu52U7RRI"
   },
   "outputs": [],
   "source": []
  },
  {
   "cell_type": "markdown",
   "id": "ejsDtjpS7Rai",
   "metadata": {
    "id": "ejsDtjpS7Rai"
   },
   "source": [
    "Now, check the accuracy of the model using `phat=model(XX)` of shape `[n,2]`and `Y` of shape `[n,1]`."
   ]
  },
  {
   "cell_type": "code",
   "execution_count": 21,
   "id": "PSLBp7gq7Rai",
   "metadata": {
    "id": "PSLBp7gq7Rai"
   },
   "outputs": [],
   "source": [
    "def accuracy_ftn(phat, t):\n",
    "  yhat = torch.argmax(phat, axis=1).to(torch.float32)\n",
    "  y = torch.argmax(t, axis=1).to(torch.float32)\n",
    "  accuracy = torch.mean((y.reshape([-1])==yhat).to(torch.float32))\n",
    "  return accuracy\n"
   ]
  },
  {
   "cell_type": "code",
   "execution_count": 22,
   "id": "N1hr9iQT7Rai",
   "metadata": {
    "colab": {
     "base_uri": "https://localhost:8080/"
    },
    "executionInfo": {
     "elapsed": 10,
     "status": "ok",
     "timestamp": 1698362294685,
     "user": {
      "displayName": "﻿안재윤(전임교원/통계학과)",
      "userId": "02619146530199681853"
     },
     "user_tz": -540
    },
    "id": "N1hr9iQT7Rai",
    "outputId": "dbbe72ea-307b-463b-fdff-73a0e40f3f3d"
   },
   "outputs": [
    {
     "data": {
      "text/plain": [
       "tensor(0.7500)"
      ]
     },
     "execution_count": 22,
     "metadata": {},
     "output_type": "execute_result"
    }
   ],
   "source": [
    "That = softmax_ftn(XX)\n",
    "accuracy = accuracy_ftn(That, T)\n",
    "accuracy"
   ]
  },
  {
   "cell_type": "markdown",
   "id": "H0HPxDYRRvyD",
   "metadata": {
    "id": "H0HPxDYRRvyD"
   },
   "source": [
    "Now, we want to use `torch.nn.Linear` with `bias=True`.\n",
    "Here,\n",
    "with the following parameters\n",
    "```\n",
    "weight0: [2,1]\n",
    "weight1: [2,1]\n",
    "bias0: [1,]\n",
    "bias1: [1,]\n",
    "```\n",
    "we design\n",
    "```\n",
    "p0_hat = torch.exp( XX @ weight0 + bias0 )\n",
    "p1_hat = torch.exp( XX @ weight1 + bias1 )\n",
    "```\n",
    "This model is equivalent with\n",
    "```\n",
    "p_hat = torch.exp( XX @ weight +bias )\n",
    "```\n",
    "with the following parameters\n",
    "```\n",
    "weight1: [2,2]\n",
    "bias0: [2,]\n",
    "\n",
    "```"
   ]
  },
  {
   "cell_type": "code",
   "execution_count": null,
   "id": "oyLiZtuVUUTZ",
   "metadata": {
    "id": "oyLiZtuVUUTZ"
   },
   "outputs": [],
   "source": []
  },
  {
   "cell_type": "markdown",
   "id": "Qzg_9CsdUUa_",
   "metadata": {
    "id": "Qzg_9CsdUUa_"
   },
   "source": [
    "#### Transformation of `Y` of shape `[n,1]` into one-hot encoding `T` of shape `[n,2]`."
   ]
  },
  {
   "cell_type": "code",
   "execution_count": null,
   "id": "tbzriQMUUUa_",
   "metadata": {
    "id": "tbzriQMUUUa_"
   },
   "outputs": [],
   "source": [
    "Y = torch.tensor(data[:, 0], dtype=torch.int64)\n",
    "T = torch.nn.functional.one_hot(Y, num_classes=2)\n",
    "T = T.to(torch.float32)"
   ]
  },
  {
   "cell_type": "markdown",
   "id": "0yxv1Ut0UUa_",
   "metadata": {
    "id": "0yxv1Ut0UUa_"
   },
   "source": [
    "#### Standardization of `X` of shape `[n,2]` into `XX` of shape `[n,2]`"
   ]
  },
  {
   "cell_type": "code",
   "execution_count": null,
   "id": "W7-KY4VUUUbA",
   "metadata": {
    "id": "W7-KY4VUUUbA"
   },
   "outputs": [],
   "source": [
    "X = torch.tensor(data[:, 1:], dtype=torch.float32)\n",
    "X_mean = torch.mean(X, axis=0)\n",
    "X_std = torch.std(X, axis=0)\n",
    "XX = (X-X_mean) / X_std"
   ]
  },
  {
   "cell_type": "markdown",
   "id": "umdS9ckOXOll",
   "metadata": {
    "id": "umdS9ckOXOll"
   },
   "source": [
    "XX: [n,2]"
   ]
  },
  {
   "cell_type": "markdown",
   "id": "XFE7KRzMUUbA",
   "metadata": {
    "id": "XFE7KRzMUUbA"
   },
   "source": [
    "#### Create the trainloader with `T` and `XX`. Note that, while we use batch learning, we use `batch_size=20`."
   ]
  },
  {
   "cell_type": "code",
   "execution_count": null,
   "id": "ofs3xSNvUUbA",
   "metadata": {
    "id": "ofs3xSNvUUbA"
   },
   "outputs": [],
   "source": [
    "dataset = TensorDataset(T,XX)\n",
    "trainloader = DataLoader(dataset=dataset, batch_size=20, shuffle=True) # We set batch_size = 20 on purpose. Otherwise, train is not working very well."
   ]
  },
  {
   "cell_type": "markdown",
   "id": "8FKvmsKmXXMJ",
   "metadata": {
    "id": "8FKvmsKmXXMJ"
   },
   "source": [
    "# Now, we train model."
   ]
  },
  {
   "cell_type": "code",
   "execution_count": null,
   "id": "5NutkqUTXWrD",
   "metadata": {
    "id": "5NutkqUTXWrD"
   },
   "outputs": [],
   "source": []
  },
  {
   "cell_type": "code",
   "execution_count": null,
   "id": "R5CsQ32uXZDp",
   "metadata": {
    "id": "R5CsQ32uXZDp"
   },
   "outputs": [],
   "source": [
    "class softmax(torch.nn.Module):\n",
    "    def __init__(self, in_units, units):\n",
    "        super().__init__()\n",
    "        self.linear = torch.nn.Linear( in_units, units, bias=True)\n",
    "\n",
    "    def forward(self, X):\n",
    "        P = torch.exp( self.linear(X) )\n",
    "        P_sum = torch.sum(P, axis=1).reshape(-1, 1)\n",
    "        temp = P/P_sum\n",
    "        return temp\n",
    "\n",
    "softmax_ftn = softmax(2,2)\n",
    "\n",
    "def likelihood_function(tt, phat):\n",
    "  # tt: one-hot encoding of y, shape: [n,2]\n",
    "  # phat: probability of shape: [n,2]\n",
    "  Q = phat\n",
    "  temp = -torch.mean (tt * torch.log(Q))\n",
    "  return temp\n",
    "\n",
    "optimizer = torch.optim.SGD(softmax_ftn.parameters(), lr= 0.1)"
   ]
  },
  {
   "cell_type": "code",
   "execution_count": null,
   "id": "umzV--O7XZDw",
   "metadata": {
    "id": "umzV--O7XZDw"
   },
   "outputs": [],
   "source": [
    "history=[]\n",
    "epochs = 1000\n",
    "n=len(XX)\n",
    "for i in range(epochs):\n",
    "  epoch_loss = 0.0\n",
    "  for tt, xx in trainloader:\n",
    "    phat = softmax_ftn(xx)\n",
    "    loss = likelihood_function(tt, phat)\n",
    "    loss.backward()\n",
    "    optimizer.step()\n",
    "    optimizer.zero_grad()\n",
    "    eopch_loss = epoch_loss + loss.item()*len(tt)\n",
    "  history.append(eopch_loss)"
   ]
  },
  {
   "cell_type": "code",
   "execution_count": null,
   "id": "OxrNuzQtXZDw",
   "metadata": {
    "colab": {
     "base_uri": "https://localhost:8080/",
     "height": 448
    },
    "executionInfo": {
     "elapsed": 539,
     "status": "ok",
     "timestamp": 1698362300157,
     "user": {
      "displayName": "﻿안재윤(전임교원/통계학과)",
      "userId": "02619146530199681853"
     },
     "user_tz": -540
    },
    "id": "OxrNuzQtXZDw",
    "outputId": "c32181e0-3321-4e64-f40a-c257e14f7829"
   },
   "outputs": [
    {
     "data": {
      "text/plain": [
       "[<matplotlib.lines.Line2D at 0x7bf0e5a61ff0>]"
      ]
     },
     "execution_count": 22,
     "metadata": {},
     "output_type": "execute_result"
    },
    {
     "data": {
      "image/png": "[encoded data removed]",
      "text/plain": [
       "<Figure size 640x480 with 1 Axes>"
      ]
     },
     "metadata": {},
     "output_type": "display_data"
    }
   ],
   "source": [
    "plt.plot(history)"
   ]
  },
  {
   "cell_type": "markdown",
   "id": "g1EShknHXl8y",
   "metadata": {
    "id": "g1EShknHXl8y"
   },
   "source": [
    "Now, we calculate accuracy"
   ]
  },
  {
   "cell_type": "code",
   "execution_count": null,
   "id": "vg7EV2wkXhv-",
   "metadata": {
    "id": "vg7EV2wkXhv-"
   },
   "outputs": [],
   "source": []
  },
  {
   "cell_type": "code",
   "execution_count": null,
   "id": "QcMvHAJHXnsL",
   "metadata": {
    "id": "QcMvHAJHXnsL"
   },
   "outputs": [],
   "source": [
    "def accuracy_ftn(phat, t):\n",
    "  yhat = torch.argmax(phat, axis=1).to(torch.float32)\n",
    "  y = torch.argmax(t, axis=1).to(torch.float32)\n",
    "  accuracy = torch.mean((y.reshape([-1])==yhat).to(torch.float32))\n",
    "  return accuracy\n"
   ]
  },
  {
   "cell_type": "code",
   "execution_count": null,
   "id": "ScqgjdwHXnsL",
   "metadata": {
    "colab": {
     "base_uri": "https://localhost:8080/"
    },
    "executionInfo": {
     "elapsed": 4,
     "status": "ok",
     "timestamp": 1698362301781,
     "user": {
      "displayName": "﻿안재윤(전임교원/통계학과)",
      "userId": "02619146530199681853"
     },
     "user_tz": -540
    },
    "id": "ScqgjdwHXnsL",
    "outputId": "62a3cd85-28eb-49bc-b5ec-5f9c17e382ea"
   },
   "outputs": [
    {
     "data": {
      "text/plain": [
       "tensor(0.7500)"
      ]
     },
     "execution_count": 24,
     "metadata": {},
     "output_type": "execute_result"
    }
   ],
   "source": [
    "That = softmax_ftn(XX)\n",
    "accuracy = accuracy_ftn(That, T)\n",
    "accuracy"
   ]
  },
  {
   "cell_type": "markdown",
   "id": "j0vlDSZUXnsM",
   "metadata": {
    "id": "j0vlDSZUXnsM"
   },
   "source": [
    "#### Transformation of `Y` of shape `[n,1]` into one-hot encoding `T` of shape `[n,2]`."
   ]
  },
  {
   "cell_type": "markdown",
   "id": "hevQIuD3TZ0i",
   "metadata": {
    "id": "hevQIuD3TZ0i"
   },
   "source": [
    "## Exercise 1.2.2: Logistic regression with Breast cancer data (Off-line)\n",
    "\n"
   ]
  },
  {
   "cell_type": "code",
   "execution_count": null,
   "id": "9zNtsYjaXS4g",
   "metadata": {
    "id": "9zNtsYjaXS4g"
   },
   "outputs": [],
   "source": []
  },
  {
   "cell_type": "markdown",
   "id": "PmcH9p7GTfB1",
   "metadata": {
    "id": "PmcH9p7GTfB1"
   },
   "source": [
    "FIrst, we load data"
   ]
  },
  {
   "cell_type": "code",
   "execution_count": null,
   "id": "Oqj8XjaKRU7W",
   "metadata": {
    "id": "Oqj8XjaKRU7W"
   },
   "outputs": [],
   "source": [
    "from sklearn.datasets import load_breast_cancer\n",
    "cancer1 = load_breast_cancer()"
   ]
  },
  {
   "cell_type": "code",
   "execution_count": null,
   "id": "FyJ1no3wwIvW",
   "metadata": {
    "colab": {
     "base_uri": "https://localhost:8080/"
    },
    "executionInfo": {
     "elapsed": 5,
     "status": "ok",
     "timestamp": 1698362305637,
     "user": {
      "displayName": "﻿안재윤(전임교원/통계학과)",
      "userId": "02619146530199681853"
     },
     "user_tz": -540
    },
    "id": "FyJ1no3wwIvW",
    "outputId": "44b43cfb-6a55-453d-bcc3-8de36c14ff69"
   },
   "outputs": [
    {
     "name": "stdout",
     "output_type": "stream",
     "text": [
      "Predictors:  ['mean radius' 'mean texture' 'mean perimeter' 'mean area'\n",
      " 'mean smoothness' 'mean compactness' 'mean concavity'\n",
      " 'mean concave points' 'mean symmetry' 'mean fractal dimension'\n",
      " 'radius error' 'texture error' 'perimeter error' 'area error'\n",
      " 'smoothness error' 'compactness error' 'concavity error'\n",
      " 'concave points error' 'symmetry error' 'fractal dimension error'\n",
      " 'worst radius' 'worst texture' 'worst perimeter' 'worst area'\n",
      " 'worst smoothness' 'worst compactness' 'worst concavity'\n",
      " 'worst concave points' 'worst symmetry' 'worst fractal dimension']\n"
     ]
    }
   ],
   "source": [
    "print(\"Predictors: \", cancer1.feature_names)"
   ]
  },
  {
   "cell_type": "code",
   "execution_count": null,
   "id": "gLYGiypQwJZ5",
   "metadata": {
    "colab": {
     "base_uri": "https://localhost:8080/"
    },
    "executionInfo": {
     "elapsed": 5,
     "status": "ok",
     "timestamp": 1698362306495,
     "user": {
      "displayName": "﻿안재윤(전임교원/통계학과)",
      "userId": "02619146530199681853"
     },
     "user_tz": -540
    },
    "id": "gLYGiypQwJZ5",
    "outputId": "fe3dd556-bc5a-4a22-ec1f-5006be60d3ed"
   },
   "outputs": [
    {
     "name": "stdout",
     "output_type": "stream",
     "text": [
      "\n",
      "Response:  ['malignant' 'benign']\n"
     ]
    }
   ],
   "source": [
    "print(\"\\nResponse: \", cancer1.target_names)"
   ]
  },
  {
   "cell_type": "markdown",
   "id": "EvDv1Rd6wGsz",
   "metadata": {
    "id": "EvDv1Rd6wGsz"
   },
   "source": [
    "Here we can see that there are 30 predictors available in our dataset that can be used in our logistic regression models.\n",
    "\n",
    "Purely for convenience, we convert this sklearn.utils.Bunch object to a pandas.DataFrame as pandas DataFrames are a very commonly used data structure. We then use the shape property to see it has 569 rows and 30 columns."
   ]
  },
  {
   "cell_type": "code",
   "execution_count": null,
   "id": "We2IsaCsTcLM",
   "metadata": {
    "colab": {
     "base_uri": "https://localhost:8080/"
    },
    "executionInfo": {
     "elapsed": 397,
     "status": "ok",
     "timestamp": 1698362308179,
     "user": {
      "displayName": "﻿안재윤(전임교원/통계학과)",
      "userId": "02619146530199681853"
     },
     "user_tz": -540
    },
    "id": "We2IsaCsTcLM",
    "outputId": "538be21d-d82e-4471-8f9c-bf340f0d8a22"
   },
   "outputs": [
    {
     "data": {
      "text/plain": [
       "(569, 30)"
      ]
     },
     "execution_count": 28,
     "metadata": {},
     "output_type": "execute_result"
    }
   ],
   "source": [
    "import pandas as pd\n",
    "\n",
    "cancer = pd.DataFrame(cancer1.data, columns=cancer1.feature_names)\n",
    "cancer.columns = cancer.columns.str.replace(' ','_')\n",
    "cancer.shape"
   ]
  },
  {
   "cell_type": "code",
   "execution_count": null,
   "id": "9oqgDfDaxJVG",
   "metadata": {
    "colab": {
     "base_uri": "https://localhost:8080/"
    },
    "executionInfo": {
     "elapsed": 5,
     "status": "ok",
     "timestamp": 1698362308180,
     "user": {
      "displayName": "﻿안재윤(전임교원/통계학과)",
      "userId": "02619146530199681853"
     },
     "user_tz": -540
    },
    "id": "9oqgDfDaxJVG",
    "outputId": "13638ed7-3e49-4944-d7e3-93f036e464f5"
   },
   "outputs": [
    {
     "data": {
      "text/plain": [
       "array([0, 0, 0, 0, 0, 0, 0, 0, 0, 0, 0, 0, 0, 0, 0, 0, 0, 0, 0, 1, 1, 1,\n",
       "       0, 0, 0, 0, 0, 0, 0, 0, 0, 0, 0, 0, 0, 0, 0, 1, 0, 0, 0, 0, 0, 0,\n",
       "       0, 0, 1, 0, 1, 1])"
      ]
     },
     "execution_count": 29,
     "metadata": {},
     "output_type": "execute_result"
    }
   ],
   "source": [
    "cancer1.target[:50] # 1 means malignant."
   ]
  },
  {
   "cell_type": "code",
   "execution_count": null,
   "id": "48c5nTmhUg6c",
   "metadata": {
    "id": "48c5nTmhUg6c"
   },
   "outputs": [],
   "source": [
    "\n",
    "X = torch.tensor(cancer.values, dtype=torch.float32)\n",
    "n=X.shape[0]\n",
    "\n",
    "\n",
    "X_mean = torch.mean(X, axis=0)\n",
    "X_std = torch.std(X, axis=0)\n",
    "XX = (X-X_mean)/X_std\n",
    "\n",
    "Y = torch.tensor(cancer1.target, dtype=torch.int64)\n",
    "T = torch.nn.functional.one_hot(Y, num_classes=2)\n",
    "T = Y.to(torch.float32)\n",
    "\n",
    "dataset = TensorDataset(XX,T)\n",
    "trainloader = DataLoader(dataset=dataset, batch_size=32, shuffle=True)"
   ]
  },
  {
   "cell_type": "markdown",
   "id": "Xf462OBCUN55",
   "metadata": {
    "id": "Xf462OBCUN55"
   },
   "source": [
    "With the given `trainloader`, train two logistic models and calculate the train accuracies."
   ]
  },
  {
   "cell_type": "code",
   "execution_count": null,
   "id": "icZWY7a-UY5Q",
   "metadata": {
    "id": "icZWY7a-UY5Q"
   },
   "outputs": [],
   "source": []
  },
  {
   "cell_type": "markdown",
   "id": "UgdtEIK7ItwQ",
   "metadata": {
    "id": "UgdtEIK7ItwQ"
   },
   "source": [
    "# 2. Multinomial logistic regression"
   ]
  },
  {
   "cell_type": "markdown",
   "id": "zb0eGVOnI0ew",
   "metadata": {
    "id": "zb0eGVOnI0ew"
   },
   "source": [
    "## 2.1 Definition of some torch functions"
   ]
  },
  {
   "cell_type": "markdown",
   "id": "fFVac6hZOd7f",
   "metadata": {
    "id": "fFVac6hZOd7f"
   },
   "source": [
    "### Softmax function\n",
    "\n",
    "$f$: softmax function\n",
    "\n",
    "$\n",
    "f(x_1, x_2, \\cdots, x_k) = \\frac{\\left[\\exp(x_1), \\cdots, \\exp(x_1)\\right]}{\\sum\\limits_{j=1}^{k}\\exp(x_j)}\n",
    "$"
   ]
  },
  {
   "cell_type": "code",
   "execution_count": null,
   "id": "uVreiHVNVnlc",
   "metadata": {
    "colab": {
     "base_uri": "https://localhost:8080/"
    },
    "executionInfo": {
     "elapsed": 455,
     "status": "ok",
     "timestamp": 1698364700811,
     "user": {
      "displayName": "﻿안재윤(전임교원/통계학과)",
      "userId": "02619146530199681853"
     },
     "user_tz": -540
    },
    "id": "uVreiHVNVnlc",
    "outputId": "699cb75f-9fd3-4712-f9d5-2881f78d8d2a"
   },
   "outputs": [
    {
     "data": {
      "text/plain": [
       "tensor([[0.0911, 0.7503, 0.6900],\n",
       "        [0.9089, 0.2497, 0.3100]])"
      ]
     },
     "execution_count": 112,
     "metadata": {},
     "output_type": "execute_result"
    }
   ],
   "source": [
    "import torch\n",
    "z2 = torch.tensor([[-1.3, 1.2, 0.3],\n",
    "                   [1.0, 0.1, -0.5]])\n",
    "f2  = torch.softmax(z2, dim=0)\n",
    "f2"
   ]
  },
  {
   "cell_type": "code",
   "execution_count": null,
   "id": "mwVyoycxVqEi",
   "metadata": {
    "colab": {
     "base_uri": "https://localhost:8080/"
    },
    "executionInfo": {
     "elapsed": 339,
     "status": "ok",
     "timestamp": 1698364578488,
     "user": {
      "displayName": "﻿안재윤(전임교원/통계학과)",
      "userId": "02619146530199681853"
     },
     "user_tz": -540
    },
    "id": "mwVyoycxVqEi",
    "outputId": "fa3163ea-863d-4f47-ce4b-475ab3157e44"
   },
   "outputs": [
    {
     "data": {
      "text/plain": [
       "tensor([[0.2725, 3.3201, 1.3499],\n",
       "        [2.7183, 1.1052, 0.6065]])"
      ]
     },
     "execution_count": 107,
     "metadata": {},
     "output_type": "execute_result"
    }
   ],
   "source": [
    "z2 = torch.tensor([[-1.3, 1.2, 0.3],\n",
    "                   [1.0, 0.1, -0.5]]) #[2,3]\n",
    "q2 = torch.exp(z2) #[2,3]\n",
    "q2"
   ]
  },
  {
   "cell_type": "code",
   "execution_count": null,
   "id": "4FPXqoUGawMt",
   "metadata": {
    "colab": {
     "base_uri": "https://localhost:8080/"
    },
    "executionInfo": {
     "elapsed": 292,
     "status": "ok",
     "timestamp": 1698364674798,
     "user": {
      "displayName": "﻿안재윤(전임교원/통계학과)",
      "userId": "02619146530199681853"
     },
     "user_tz": -540
    },
    "id": "4FPXqoUGawMt",
    "outputId": "504ae4d9-180a-4fcb-f900-6724e3d2604f"
   },
   "outputs": [
    {
     "data": {
      "text/plain": [
       "tensor([[4.9425],\n",
       "        [4.4300]])"
      ]
     },
     "execution_count": 110,
     "metadata": {},
     "output_type": "execute_result"
    }
   ],
   "source": [
    "sum2 = torch.sum(q2, axis=1).reshape([-1, 1]) #[2, 1]\n",
    "sum2\n"
   ]
  },
  {
   "cell_type": "code",
   "execution_count": null,
   "id": "lszxd56fa27j",
   "metadata": {
    "colab": {
     "base_uri": "https://localhost:8080/"
    },
    "executionInfo": {
     "elapsed": 279,
     "status": "ok",
     "timestamp": 1698364682567,
     "user": {
      "displayName": "﻿안재윤(전임교원/통계학과)",
      "userId": "02619146530199681853"
     },
     "user_tz": -540
    },
    "id": "lszxd56fa27j",
    "outputId": "9523ccbe-2604-4dd7-cdd8-438a7c6f3405"
   },
   "outputs": [
    {
     "data": {
      "text/plain": [
       "tensor([[0.0551, 0.6717, 0.2731],\n",
       "        [0.6136, 0.2495, 0.1369]])"
      ]
     },
     "execution_count": 111,
     "metadata": {},
     "output_type": "execute_result"
    }
   ],
   "source": [
    "q2 / sum2"
   ]
  },
  {
   "cell_type": "code",
   "execution_count": null,
   "id": "NUDvY-y4V4b7",
   "metadata": {
    "colab": {
     "base_uri": "https://localhost:8080/"
    },
    "executionInfo": {
     "elapsed": 478,
     "status": "ok",
     "timestamp": 1698363810224,
     "user": {
      "displayName": "﻿안재윤(전임교원/통계학과)",
      "userId": "02619146530199681853"
     },
     "user_tz": -540
    },
    "id": "NUDvY-y4V4b7",
    "outputId": "2334f5e6-8b68-48c6-9d54-afd281681d29"
   },
   "outputs": [
    {
     "data": {
      "text/plain": [
       "array([[4.94250752],\n",
       "       [4.42998341]])"
      ]
     },
     "execution_count": 84,
     "metadata": {},
     "output_type": "execute_result"
    }
   ],
   "source": [
    "sum2 = np.sum(temp2, axis=1).reshape([2,1])  #[2,]\n",
    "sum2 #[2,]  --> [2,1]"
   ]
  },
  {
   "cell_type": "code",
   "execution_count": null,
   "id": "a4AsarcUXfSX",
   "metadata": {
    "colab": {
     "base_uri": "https://localhost:8080/"
    },
    "executionInfo": {
     "elapsed": 427,
     "status": "ok",
     "timestamp": 1698363812459,
     "user": {
      "displayName": "﻿안재윤(전임교원/통계학과)",
      "userId": "02619146530199681853"
     },
     "user_tz": -540
    },
    "id": "a4AsarcUXfSX",
    "outputId": "3f3819fb-0f05-4b19-9920-8a91d9ecbe6c"
   },
   "outputs": [
    {
     "data": {
      "text/plain": [
       "array([[0.05514039, 0.67174747, 0.27311214],\n",
       "       [0.61360993, 0.24947518, 0.13691488]])"
      ]
     },
     "execution_count": 85,
     "metadata": {},
     "output_type": "execute_result"
    }
   ],
   "source": [
    "temp2/sum2"
   ]
  },
  {
   "cell_type": "code",
   "execution_count": null,
   "id": "uQux9kJvOgMz",
   "metadata": {
    "colab": {
     "base_uri": "https://localhost:8080/"
    },
    "executionInfo": {
     "elapsed": 2,
     "status": "ok",
     "timestamp": 1698362310940,
     "user": {
      "displayName": "﻿안재윤(전임교원/통계학과)",
      "userId": "02619146530199681853"
     },
     "user_tz": -540
    },
    "id": "uQux9kJvOgMz",
    "outputId": "6dd8ce4f-94dd-4585-d838-a09789c8220c"
   },
   "outputs": [
    {
     "name": "stdout",
     "output_type": "stream",
     "text": [
      "tensor([[0.0551, 0.6717, 0.2731]])\n",
      "tensor([[0.0551, 0.6717, 0.2731],\n",
      "        [0.6136, 0.2495, 0.1369]])\n"
     ]
    }
   ],
   "source": [
    "import torch\n",
    "z1 = torch.tensor([[-1.3, 1.2, 0.3]])\n",
    "f1  = torch.softmax(z1, dim=1)\n",
    "\n",
    "z2 = torch.tensor([[-1.3, 1.2, 0.3],\n",
    "                   [1.0, 0.1, -0.5]])\n",
    "f2  = torch.softmax(z2, dim=1)\n",
    "\n",
    "print(f1)\n",
    "print(f2)"
   ]
  },
  {
   "cell_type": "markdown",
   "id": "m_bKBkUXRw5G",
   "metadata": {
    "id": "m_bKBkUXRw5G"
   },
   "source": [
    "Cross-entropy function\n",
    "\n",
    "`T`: one-hot encoding of `Y`, shape: `[n, k]`\n",
    "`z_hat`: probabilities of each class,  shape: '[n,k]'\n",
    "\n",
    "```\n",
    "Cross-entropy(z_hat, T)= - torch.mean(sum(T * log(z_hat), axis=1))\n",
    "```"
   ]
  },
  {
   "cell_type": "code",
   "execution_count": null,
   "id": "WlG4ajhIb-ST",
   "metadata": {
    "colab": {
     "base_uri": "https://localhost:8080/"
    },
    "executionInfo": {
     "elapsed": 276,
     "status": "ok",
     "timestamp": 1698365060734,
     "user": {
      "displayName": "﻿안재윤(전임교원/통계학과)",
      "userId": "02619146530199681853"
     },
     "user_tz": -540
    },
    "id": "WlG4ajhIb-ST",
    "outputId": "749f613c-ccb6-45d8-d207-44bce129fe3c"
   },
   "outputs": [
    {
     "data": {
      "text/plain": [
       "tensor(0.1704)"
      ]
     },
     "execution_count": 120,
     "metadata": {},
     "output_type": "execute_result"
    }
   ],
   "source": [
    "t = torch.tensor([[0.3, -0.3, 0.4]])\n",
    "temp = torch.exp(t)\n",
    "z = temp/torch.sum(temp)\n",
    "\n",
    "-torch.sum(t*torch.log(z))"
   ]
  },
  {
   "cell_type": "code",
   "execution_count": null,
   "id": "4v3DtIZOcUO-",
   "metadata": {
    "colab": {
     "base_uri": "https://localhost:8080/"
    },
    "executionInfo": {
     "elapsed": 300,
     "status": "ok",
     "timestamp": 1698365070526,
     "user": {
      "displayName": "﻿안재윤(전임교원/통계학과)",
      "userId": "02619146530199681853"
     },
     "user_tz": -540
    },
    "id": "4v3DtIZOcUO-",
    "outputId": "7b614296-dd5c-4939-bf04-fb13a79497ad"
   },
   "outputs": [
    {
     "data": {
      "text/plain": [
       "tensor(0.1704)"
      ]
     },
     "execution_count": 121,
     "metadata": {},
     "output_type": "execute_result"
    }
   ],
   "source": [
    "t = torch.tensor([[0.3, -0.3, 0.4]])\n",
    "z= torch.softmax(t, axis=1)\n",
    "-torch.sum(t*torch.log(z))"
   ]
  },
  {
   "cell_type": "code",
   "execution_count": null,
   "id": "UpXQza1TcKpj",
   "metadata": {
    "colab": {
     "base_uri": "https://localhost:8080/"
    },
    "executionInfo": {
     "elapsed": 276,
     "status": "ok",
     "timestamp": 1698365040270,
     "user": {
      "displayName": "﻿안재윤(전임교원/통계학과)",
      "userId": "02619146530199681853"
     },
     "user_tz": -540
    },
    "id": "UpXQza1TcKpj",
    "outputId": "74983dfb-70e4-4636-b2b8-3958261e7914"
   },
   "outputs": [
    {
     "data": {
      "text/plain": [
       "tensor(0.1704)"
      ]
     },
     "execution_count": 119,
     "metadata": {},
     "output_type": "execute_result"
    }
   ],
   "source": [
    "-torch.sum(t*torch.log(z))"
   ]
  },
  {
   "cell_type": "code",
   "execution_count": null,
   "id": "aFAwSKefRwKu",
   "metadata": {
    "colab": {
     "base_uri": "https://localhost:8080/"
    },
    "executionInfo": {
     "elapsed": 282,
     "status": "ok",
     "timestamp": 1698362691026,
     "user": {
      "displayName": "﻿안재윤(전임교원/통계학과)",
      "userId": "02619146530199681853"
     },
     "user_tz": -540
    },
    "id": "aFAwSKefRwKu",
    "outputId": "d230d2d8-0649-4630-e5e7-6c23d9828c24"
   },
   "outputs": [
    {
     "name": "stdout",
     "output_type": "stream",
     "text": [
      "tensor(1.0331) 1.0330687599495758\n"
     ]
    }
   ],
   "source": [
    "t = torch.tensor([0.0, 0, 1])\n",
    "q = torch.tensor([0.3, 0.3, 0.4])\n",
    "loss = torch.nn.CrossEntropyLoss(reduction='mean')\n",
    "output = loss(q, t)\n",
    "\n",
    "\n",
    "print(output, -1*np.log( np.exp(0.4)/ (np.exp(0.3)+np.exp(0.3)+np.exp(0.4)) ))"
   ]
  },
  {
   "cell_type": "markdown",
   "id": "0ehzPggsN-cI",
   "metadata": {
    "id": "0ehzPggsN-cI"
   },
   "source": [
    "Note that it is also possible to have index instead of `t` as input."
   ]
  },
  {
   "cell_type": "code",
   "execution_count": null,
   "id": "1x7I68ALNDXR",
   "metadata": {
    "colab": {
     "base_uri": "https://localhost:8080/"
    },
    "executionInfo": {
     "elapsed": 334,
     "status": "ok",
     "timestamp": 1698362322098,
     "user": {
      "displayName": "﻿안재윤(전임교원/통계학과)",
      "userId": "02619146530199681853"
     },
     "user_tz": -540
    },
    "id": "1x7I68ALNDXR",
    "outputId": "8110e472-0f6c-4d80-cd81-fdaf3764be7d"
   },
   "outputs": [
    {
     "data": {
      "text/plain": [
       "tensor(1.0331)"
      ]
     },
     "execution_count": 34,
     "metadata": {},
     "output_type": "execute_result"
    }
   ],
   "source": [
    "loss(q, torch.tensor(2))"
   ]
  },
  {
   "cell_type": "code",
   "execution_count": null,
   "id": "X06CwhUncpXM",
   "metadata": {
    "colab": {
     "base_uri": "https://localhost:8080/"
    },
    "executionInfo": {
     "elapsed": 287,
     "status": "ok",
     "timestamp": 1698365959749,
     "user": {
      "displayName": "﻿안재윤(전임교원/통계학과)",
      "userId": "02619146530199681853"
     },
     "user_tz": -540
    },
    "id": "X06CwhUncpXM",
    "outputId": "0d6fbed7-9967-4cb2-8831-b24e774e262d"
   },
   "outputs": [
    {
     "data": {
      "text/plain": [
       "tensor(1.0579)"
      ]
     },
     "execution_count": 139,
     "metadata": {},
     "output_type": "execute_result"
    }
   ],
   "source": [
    "\n",
    "loss = torch.nn.CrossEntropyLoss(reduction='mean')\n",
    "\n",
    "t = torch.tensor([[0.0,   0,   1],\n",
    "                  [0,     1,   0]])\n",
    "z = torch.tensor([[0.3, -0.3, 0.4],\n",
    "                  [0.5, 0.2, 0.3]])\n",
    "\n",
    "output = loss(z, t)\n",
    "output\n"
   ]
  },
  {
   "cell_type": "code",
   "execution_count": null,
   "id": "XEOIObUxcz_p",
   "metadata": {
    "colab": {
     "base_uri": "https://localhost:8080/"
    },
    "executionInfo": {
     "elapsed": 394,
     "status": "ok",
     "timestamp": 1698365693361,
     "user": {
      "displayName": "﻿안재윤(전임교원/통계학과)",
      "userId": "02619146530199681853"
     },
     "user_tz": -540
    },
    "id": "XEOIObUxcz_p",
    "outputId": "daec3d93-985d-4887-bc5c-0895d69f5215"
   },
   "outputs": [
    {
     "data": {
      "text/plain": [
       "tensor([[0.3768, 0.2068, 0.4164],\n",
       "        [0.3907, 0.2894, 0.3199]])"
      ]
     },
     "execution_count": 132,
     "metadata": {},
     "output_type": "execute_result"
    }
   ],
   "source": [
    "q = torch.softmax(z, axis=1) #[2,3]\n",
    "q"
   ]
  },
  {
   "cell_type": "code",
   "execution_count": null,
   "id": "wXe0JJJYfAXB",
   "metadata": {
    "id": "wXe0JJJYfAXB"
   },
   "outputs": [],
   "source": []
  },
  {
   "cell_type": "code",
   "execution_count": null,
   "id": "Pgf3g2kXdRbx",
   "metadata": {
    "id": "Pgf3g2kXdRbx"
   },
   "outputs": [],
   "source": [
    "temp = t * torch.log(q)"
   ]
  },
  {
   "cell_type": "code",
   "execution_count": null,
   "id": "SC8RpZT9fBmh",
   "metadata": {
    "colab": {
     "base_uri": "https://localhost:8080/"
    },
    "executionInfo": {
     "elapsed": 285,
     "status": "ok",
     "timestamp": 1698365710816,
     "user": {
      "displayName": "﻿안재윤(전임교원/통계학과)",
      "userId": "02619146530199681853"
     },
     "user_tz": -540
    },
    "id": "SC8RpZT9fBmh",
    "outputId": "fbb98c1c-f91f-46b1-ade8-33f670df1152"
   },
   "outputs": [
    {
     "data": {
      "text/plain": [
       "tensor([[-0.0000, -0.0000, -0.8761],\n",
       "        [-0.0000, -1.2398, -0.0000]])"
      ]
     },
     "execution_count": 135,
     "metadata": {},
     "output_type": "execute_result"
    }
   ],
   "source": [
    "temp"
   ]
  },
  {
   "cell_type": "code",
   "execution_count": null,
   "id": "oRy_scOPe1c9",
   "metadata": {
    "colab": {
     "base_uri": "https://localhost:8080/"
    },
    "executionInfo": {
     "elapsed": 318,
     "status": "ok",
     "timestamp": 1698365751066,
     "user": {
      "displayName": "﻿안재윤(전임교원/통계학과)",
      "userId": "02619146530199681853"
     },
     "user_tz": -540
    },
    "id": "oRy_scOPe1c9",
    "outputId": "4f0bf92e-7d4b-465f-96ef-cb5ae83cf7a6"
   },
   "outputs": [
    {
     "data": {
      "text/plain": [
       "tensor(1.0579)"
      ]
     },
     "execution_count": 136,
     "metadata": {},
     "output_type": "execute_result"
    }
   ],
   "source": [
    "torch.mean(-torch.sum(temp, axis=1))"
   ]
  },
  {
   "cell_type": "code",
   "execution_count": null,
   "id": "11y9yKbMdDui",
   "metadata": {
    "colab": {
     "base_uri": "https://localhost:8080/"
    },
    "executionInfo": {
     "elapsed": 291,
     "status": "ok",
     "timestamp": 1698365241259,
     "user": {
      "displayName": "﻿안재윤(전임교원/통계학과)",
      "userId": "02619146530199681853"
     },
     "user_tz": -540
    },
    "id": "11y9yKbMdDui",
    "outputId": "4967916f-6178-46c0-efa3-00067b3eee29"
   },
   "outputs": [
    {
     "data": {
      "text/plain": [
       "tensor([-0.8761, -1.2398])"
      ]
     },
     "execution_count": 127,
     "metadata": {},
     "output_type": "execute_result"
    }
   ],
   "source": [
    "torch.sum(t * torch.log(q), axis=1)"
   ]
  },
  {
   "cell_type": "code",
   "execution_count": null,
   "id": "DHWPDEqWSW_D",
   "metadata": {
    "colab": {
     "base_uri": "https://localhost:8080/"
    },
    "executionInfo": {
     "elapsed": 290,
     "status": "ok",
     "timestamp": 1698362334093,
     "user": {
      "displayName": "﻿안재윤(전임교원/통계학과)",
      "userId": "02619146530199681853"
     },
     "user_tz": -540
    },
    "id": "DHWPDEqWSW_D",
    "outputId": "fbbdf52f-23c9-403a-e16d-810c38640b2b"
   },
   "outputs": [
    {
     "name": "stdout",
     "output_type": "stream",
     "text": [
      "1.0330687599495758 1.23983106084446\n",
      "tensor(1.1364)\n"
     ]
    }
   ],
   "source": [
    "t = torch.tensor([[0.0, 0, 1],\n",
    "                 [0, 1, 0]])\n",
    "q = torch.tensor([[0.3, 0.3, 0.4],\n",
    "                  [0.5, 0.2, 0.3]])\n",
    "loss = torch.nn.CrossEntropyLoss(reduction='mean')\n",
    "output = loss(q, t)\n",
    "\n",
    "print(-1*np.log( np.exp(0.4)/ (np.exp(0.3)+np.exp(0.3)+np.exp(0.4)) ),\n",
    "      -1*np.log( np.exp(0.2)/ (np.exp(0.5)+np.exp(0.2)+np.exp(0.3)) ))\n",
    "print(output)"
   ]
  },
  {
   "cell_type": "code",
   "execution_count": null,
   "id": "VCPaZQ-taN7M",
   "metadata": {
    "colab": {
     "base_uri": "https://localhost:8080/"
    },
    "executionInfo": {
     "elapsed": 3,
     "status": "ok",
     "timestamp": 1698362335519,
     "user": {
      "displayName": "﻿안재윤(전임교원/통계학과)",
      "userId": "02619146530199681853"
     },
     "user_tz": -540
    },
    "id": "VCPaZQ-taN7M",
    "outputId": "e9a9b420-d996-4ace-b110-fc363aa6b354"
   },
   "outputs": [
    {
     "data": {
      "text/plain": [
       "1.1360000000000001"
      ]
     },
     "execution_count": 39,
     "metadata": {},
     "output_type": "execute_result"
    }
   ],
   "source": [
    "(1.033+1.239)/2"
   ]
  },
  {
   "cell_type": "code",
   "execution_count": null,
   "id": "q0gc44KIOVqu",
   "metadata": {
    "colab": {
     "base_uri": "https://localhost:8080/"
    },
    "executionInfo": {
     "elapsed": 3,
     "status": "ok",
     "timestamp": 1698362335958,
     "user": {
      "displayName": "﻿안재윤(전임교원/통계학과)",
      "userId": "02619146530199681853"
     },
     "user_tz": -540
    },
    "id": "q0gc44KIOVqu",
    "outputId": "de19e826-9f2c-4e34-9af1-b225f4dda4cf"
   },
   "outputs": [
    {
     "data": {
      "text/plain": [
       "tensor([[0.3000, 0.3000, 0.4000],\n",
       "        [0.5000, 0.2000, 0.3000]])"
      ]
     },
     "execution_count": 40,
     "metadata": {},
     "output_type": "execute_result"
    }
   ],
   "source": [
    "q"
   ]
  },
  {
   "cell_type": "markdown",
   "id": "Fu5EWO2dOlVd",
   "metadata": {
    "id": "Fu5EWO2dOlVd"
   },
   "source": [
    "Now, we use label instead of one-hot encoding."
   ]
  },
  {
   "cell_type": "code",
   "execution_count": null,
   "id": "k-iZknZmzgJR",
   "metadata": {
    "colab": {
     "base_uri": "https://localhost:8080/"
    },
    "executionInfo": {
     "elapsed": 6,
     "status": "ok",
     "timestamp": 1698362337431,
     "user": {
      "displayName": "﻿안재윤(전임교원/통계학과)",
      "userId": "02619146530199681853"
     },
     "user_tz": -540
    },
    "id": "k-iZknZmzgJR",
    "outputId": "71441dea-bfad-488a-b251-dde28f61c020"
   },
   "outputs": [
    {
     "data": {
      "text/plain": [
       "tensor(1.1364)"
      ]
     },
     "execution_count": 41,
     "metadata": {},
     "output_type": "execute_result"
    }
   ],
   "source": [
    "loss(q, torch.tensor([2,1]))"
   ]
  },
  {
   "cell_type": "markdown",
   "id": "GqyLj8otzbul",
   "metadata": {
    "id": "GqyLj8otzbul"
   },
   "source": [
    "## 2.2 Load MNIST data"
   ]
  },
  {
   "cell_type": "code",
   "execution_count": 23,
   "id": "u0z0v8tJ1yE8",
   "metadata": {
    "id": "u0z0v8tJ1yE8"
   },
   "outputs": [],
   "source": [
    "import torch\n",
    "import torchvision\n",
    "import numpy as np\n",
    "import matplotlib.pyplot as plt\n",
    "import sklearn.datasets\n",
    "import torch.nn as nn\n",
    "from torch.utils.data import Dataset, DataLoader, TensorDataset\n",
    "import pandas as pd"
   ]
  },
  {
   "cell_type": "code",
   "execution_count": 24,
   "id": "d64Qxcr_xT5I",
   "metadata": {
    "colab": {
     "base_uri": "https://localhost:8080/"
    },
    "executionInfo": {
     "elapsed": 53568,
     "status": "ok",
     "timestamp": 1698366036325,
     "user": {
      "displayName": "﻿안재윤(전임교원/통계학과)",
      "userId": "02619146530199681853"
     },
     "user_tz": -540
    },
    "id": "d64Qxcr_xT5I",
    "outputId": "a720fd33-0ee4-4983-c747-0310125516a5"
   },
   "outputs": [
    {
     "name": "stderr",
     "output_type": "stream",
     "text": [
      "/Users/belen/anaconda3/envs/TongP/lib/python3.11/site-packages/sklearn/datasets/_openml.py:1022: FutureWarning: The default value of `parser` will change from `'liac-arff'` to `'auto'` in 1.4. You can set `parser='auto'` to silence this warning. Therefore, an `ImportError` will be raised from 1.4 if the dataset is dense and pandas is not installed. Note that the pandas parser may return different data types. See the Notes Section in fetch_openml's API doc for details.\n",
      "  warn(\n"
     ]
    }
   ],
   "source": [
    "\n",
    "\n",
    "mnist = sklearn.datasets.fetch_openml('mnist_784', data_home=\"mnist_784\")\n",
    "\n",
    "\n"
   ]
  },
  {
   "cell_type": "code",
   "execution_count": 25,
   "id": "NPIsYGX4LrE5",
   "metadata": {
    "colab": {
     "base_uri": "https://localhost:8080/"
    },
    "executionInfo": {
     "elapsed": 13,
     "status": "ok",
     "timestamp": 1698366036325,
     "user": {
      "displayName": "﻿안재윤(전임교원/통계학과)",
      "userId": "02619146530199681853"
     },
     "user_tz": -540
    },
    "id": "NPIsYGX4LrE5",
    "outputId": "1affdc15-b465-4e45-e309-d63a308397bd"
   },
   "outputs": [
    {
     "data": {
      "text/plain": [
       "dict_keys(['data', 'target', 'frame', 'categories', 'feature_names', 'target_names', 'DESCR', 'details', 'url'])"
      ]
     },
     "execution_count": 25,
     "metadata": {},
     "output_type": "execute_result"
    }
   ],
   "source": [
    "mnist.keys()"
   ]
  },
  {
   "cell_type": "code",
   "execution_count": 27,
   "id": "hDC0EhYpqUq2",
   "metadata": {
    "colab": {
     "base_uri": "https://localhost:8080/"
    },
    "executionInfo": {
     "elapsed": 12,
     "status": "ok",
     "timestamp": 1698366036325,
     "user": {
      "displayName": "﻿안재윤(전임교원/통계학과)",
      "userId": "02619146530199681853"
     },
     "user_tz": -540
    },
    "id": "hDC0EhYpqUq2",
    "outputId": "a25cf861-ffd8-4948-959f-cc6ad8207636"
   },
   "outputs": [
    {
     "data": {
      "text/plain": [
       "array([5., 0., 4., ..., 4., 5., 6.], dtype=float32)"
      ]
     },
     "execution_count": 27,
     "metadata": {},
     "output_type": "execute_result"
    }
   ],
   "source": [
    "np.array(mnist[\"target\"].values).astype(np.float32)"
   ]
  },
  {
   "cell_type": "code",
   "execution_count": 29,
   "id": "0Fbykd0MLZQr",
   "metadata": {
    "colab": {
     "base_uri": "https://localhost:8080/"
    },
    "executionInfo": {
     "elapsed": 9,
     "status": "ok",
     "timestamp": 1698366036325,
     "user": {
      "displayName": "﻿안재윤(전임교원/통계학과)",
      "userId": "02619146530199681853"
     },
     "user_tz": -540
    },
    "id": "0Fbykd0MLZQr",
    "outputId": "fe6ca7c0-647e-447a-ba7f-6e4f9e7fc544"
   },
   "outputs": [
    {
     "name": "stdout",
     "output_type": "stream",
     "text": [
      "torch.Size([70000, 784]) torch.Size([70000])\n"
     ]
    },
    {
     "name": "stderr",
     "output_type": "stream",
     "text": [
      "/var/folders/vl/yt67rw7s1tl_87hvr6bgvvw00000gn/T/ipykernel_3560/305117269.py:5: UserWarning: To copy construct from a tensor, it is recommended to use sourceTensor.clone().detach() or sourceTensor.clone().detach().requires_grad_(True), rather than torch.tensor(sourceTensor).\n",
      "  T = torch.nn.functional.one_hot(torch.tensor(Y, dtype=torch.int64), num_classes=10)\n",
      "/var/folders/vl/yt67rw7s1tl_87hvr6bgvvw00000gn/T/ipykernel_3560/305117269.py:6: UserWarning: To copy construct from a tensor, it is recommended to use sourceTensor.clone().detach() or sourceTensor.clone().detach().requires_grad_(True), rather than torch.tensor(sourceTensor).\n",
      "  T = torch.tensor(T, dtype=torch.float32)\n"
     ]
    }
   ],
   "source": [
    "X = torch.tensor(mnist[\"data\"].values, dtype=torch.float32).reshape([-1, 28* 28])\n",
    "Y = torch.tensor(np.array(mnist[\"target\"].values).astype(np.float32), dtype=torch.float32)\n",
    "print(X.shape, Y.shape)\n",
    "\n",
    "T = torch.nn.functional.one_hot(torch.tensor(Y, dtype=torch.int64), num_classes=10)\n",
    "T = torch.tensor(T, dtype=torch.float32)\n"
   ]
  },
  {
   "cell_type": "code",
   "execution_count": null,
   "id": "ixPz5OFrZmOE",
   "metadata": {
    "colab": {
     "base_uri": "https://localhost:8080/"
    },
    "executionInfo": {
     "elapsed": 8,
     "status": "ok",
     "timestamp": 1698366036326,
     "user": {
      "displayName": "﻿안재윤(전임교원/통계학과)",
      "userId": "02619146530199681853"
     },
     "user_tz": -540
    },
    "id": "ixPz5OFrZmOE",
    "outputId": "d2297f65-9889-4e4a-b42d-3f4aa03a8894"
   },
   "outputs": [
    {
     "data": {
      "text/plain": [
       "torch.Size([70000, 784])"
      ]
     },
     "execution_count": 145,
     "metadata": {},
     "output_type": "execute_result"
    }
   ],
   "source": [
    "X.shape"
   ]
  },
  {
   "cell_type": "code",
   "execution_count": null,
   "id": "i9HRZTjkaIM4",
   "metadata": {
    "colab": {
     "base_uri": "https://localhost:8080/"
    },
    "executionInfo": {
     "elapsed": 7,
     "status": "ok",
     "timestamp": 1698366036326,
     "user": {
      "displayName": "﻿안재윤(전임교원/통계학과)",
      "userId": "02619146530199681853"
     },
     "user_tz": -540
    },
    "id": "i9HRZTjkaIM4",
    "outputId": "54e2d42b-f8da-413d-ab5c-18e07953847f"
   },
   "outputs": [
    {
     "data": {
      "text/plain": [
       "torch.Size([70000])"
      ]
     },
     "execution_count": 146,
     "metadata": {},
     "output_type": "execute_result"
    }
   ],
   "source": [
    "Y.shape"
   ]
  },
  {
   "cell_type": "code",
   "execution_count": null,
   "id": "8-4WzUX87_Z6",
   "metadata": {
    "colab": {
     "base_uri": "https://localhost:8080/"
    },
    "executionInfo": {
     "elapsed": 5,
     "status": "ok",
     "timestamp": 1698366036326,
     "user": {
      "displayName": "﻿안재윤(전임교원/통계학과)",
      "userId": "02619146530199681853"
     },
     "user_tz": -540
    },
    "id": "8-4WzUX87_Z6",
    "outputId": "33435cfa-a93e-421e-9e95-efbb758d8d44"
   },
   "outputs": [
    {
     "data": {
      "text/plain": [
       "tensor([5., 0., 4., 1., 9., 2., 1., 3., 1., 4.])"
      ]
     },
     "execution_count": 147,
     "metadata": {},
     "output_type": "execute_result"
    }
   ],
   "source": [
    "Y[:10]"
   ]
  },
  {
   "cell_type": "code",
   "execution_count": null,
   "id": "YCFHm2WWEzjR",
   "metadata": {
    "colab": {
     "base_uri": "https://localhost:8080/"
    },
    "executionInfo": {
     "elapsed": 1194,
     "status": "ok",
     "timestamp": 1698366037516,
     "user": {
      "displayName": "﻿안재윤(전임교원/통계학과)",
      "userId": "02619146530199681853"
     },
     "user_tz": -540
    },
    "id": "YCFHm2WWEzjR",
    "outputId": "4f7e50a8-d847-4f7a-eba5-4f1825c817f9"
   },
   "outputs": [
    {
     "data": {
      "text/plain": [
       "tensor([[0., 0., 0., 0., 0., 1., 0., 0., 0., 0.],\n",
       "        [1., 0., 0., 0., 0., 0., 0., 0., 0., 0.],\n",
       "        [0., 0., 0., 0., 1., 0., 0., 0., 0., 0.],\n",
       "        [0., 1., 0., 0., 0., 0., 0., 0., 0., 0.],\n",
       "        [0., 0., 0., 0., 0., 0., 0., 0., 0., 1.],\n",
       "        [0., 0., 1., 0., 0., 0., 0., 0., 0., 0.],\n",
       "        [0., 1., 0., 0., 0., 0., 0., 0., 0., 0.],\n",
       "        [0., 0., 0., 1., 0., 0., 0., 0., 0., 0.],\n",
       "        [0., 1., 0., 0., 0., 0., 0., 0., 0., 0.],\n",
       "        [0., 0., 0., 0., 1., 0., 0., 0., 0., 0.]])"
      ]
     },
     "execution_count": 148,
     "metadata": {},
     "output_type": "execute_result"
    }
   ],
   "source": [
    "T[:10]"
   ]
  },
  {
   "cell_type": "code",
   "execution_count": null,
   "id": "GiU4lmQDpndK",
   "metadata": {
    "colab": {
     "base_uri": "https://localhost:8080/",
     "height": 448
    },
    "executionInfo": {
     "elapsed": 13,
     "status": "ok",
     "timestamp": 1698366037517,
     "user": {
      "displayName": "﻿안재윤(전임교원/통계학과)",
      "userId": "02619146530199681853"
     },
     "user_tz": -540
    },
    "id": "GiU4lmQDpndK",
    "outputId": "7209f8c7-c2b1-4766-f5b7-6058ef284262"
   },
   "outputs": [
    {
     "name": "stdout",
     "output_type": "stream",
     "text": [
      "tensor(0.)\n"
     ]
    },
    {
     "data": {
      "image/png": "[encoded data removed]",
      "text/plain": [
       "<Figure size 640x480 with 1 Axes>"
      ]
     },
     "metadata": {},
     "output_type": "display_data"
    }
   ],
   "source": [
    "plt.imshow(X[1].reshape(28,28))\n",
    "print(Y[1])"
   ]
  },
  {
   "cell_type": "markdown",
   "id": "gycDo-4IaVfW",
   "metadata": {
    "id": "gycDo-4IaVfW"
   },
   "source": [
    "\"그림: [28.28] matrix  =  길이가 [784]인 Vector =784개의 설명변수"
   ]
  },
  {
   "cell_type": "code",
   "execution_count": null,
   "id": "sUHpawbnZ96H",
   "metadata": {
    "colab": {
     "base_uri": "https://localhost:8080/"
    },
    "executionInfo": {
     "elapsed": 11,
     "status": "ok",
     "timestamp": 1698366037517,
     "user": {
      "displayName": "﻿안재윤(전임교원/통계학과)",
      "userId": "02619146530199681853"
     },
     "user_tz": -540
    },
    "id": "sUHpawbnZ96H",
    "outputId": "ea93f764-7190-49d3-d67d-9c9aff44214f"
   },
   "outputs": [
    {
     "data": {
      "text/plain": [
       "tensor([  0.,   0.,   0.,   0.,   0.,   0.,   0.,   0.,   0.,   0.,   0.,   0.,\n",
       "          0.,   0.,   0.,   0.,   0.,   0.,   0.,   0.,   0.,   0.,   0.,   0.,\n",
       "          0.,   0.,   0.,   0.,   0.,   0.,   0.,   0.,   0.,   0.,   0.,   0.,\n",
       "          0.,   0.,   0.,   0.,   0.,   0.,   0.,   0.,   0.,   0.,   0.,   0.,\n",
       "          0.,   0.,   0.,   0.,   0.,   0.,   0.,   0.,   0.,   0.,   0.,   0.,\n",
       "          0.,   0.,   0.,   0.,   0.,   0.,   0.,   0.,   0.,   0.,   0.,   0.,\n",
       "          0.,   0.,   0.,   0.,   0.,   0.,   0.,   0.,   0.,   0.,   0.,   0.,\n",
       "          0.,   0.,   0.,   0.,   0.,   0.,   0.,   0.,   0.,   0.,   0.,   0.,\n",
       "          0.,   0.,   0.,   0.,   0.,   0.,   0.,   0.,   0.,   0.,   0.,   0.,\n",
       "          0.,   0.,   0.,   0.,   0.,   0.,   0.,   0.,   0.,   0.,   0.,   0.,\n",
       "          0.,   0.,   0.,   0.,   0.,   0.,   0.,   0.,   0.,   0.,   0.,   0.,\n",
       "          0.,   0.,   0.,   0.,   0.,   0.,   0.,   0.,   0.,   0.,   0.,   0.,\n",
       "          0.,   0.,   0.,   0.,   0.,   0.,   0.,   0.,   3.,  18.,  18.,  18.,\n",
       "        126., 136., 175.,  26., 166., 255., 247., 127.,   0.,   0.,   0.,   0.,\n",
       "          0.,   0.,   0.,   0.,   0.,   0.,   0.,   0.,  30.,  36.,  94., 154.,\n",
       "        170., 253., 253., 253., 253., 253., 225., 172., 253., 242., 195.,  64.,\n",
       "          0.,   0.,   0.,   0.,   0.,   0.,   0.,   0.,   0.,   0.,   0.,  49.,\n",
       "        238., 253., 253., 253., 253., 253., 253., 253., 253., 251.,  93.,  82.,\n",
       "         82.,  56.,  39.,   0.,   0.,   0.,   0.,   0.,   0.,   0.,   0.,   0.,\n",
       "          0.,   0.,   0.,  18., 219., 253., 253., 253., 253., 253., 198., 182.,\n",
       "        247., 241.,   0.,   0.,   0.,   0.,   0.,   0.,   0.,   0.,   0.,   0.,\n",
       "          0.,   0.,   0.,   0.,   0.,   0.,   0.,   0.,  80., 156., 107., 253.,\n",
       "        253., 205.,  11.,   0.,  43., 154.,   0.,   0.,   0.,   0.,   0.,   0.,\n",
       "          0.,   0.,   0.,   0.,   0.,   0.,   0.,   0.,   0.,   0.,   0.,   0.,\n",
       "          0.,  14.,   1., 154., 253.,  90.,   0.,   0.,   0.,   0.,   0.,   0.,\n",
       "          0.,   0.,   0.,   0.,   0.,   0.,   0.,   0.,   0.,   0.,   0.,   0.,\n",
       "          0.,   0.,   0.,   0.,   0.,   0.,   0., 139., 253., 190.,   2.,   0.,\n",
       "          0.,   0.,   0.,   0.,   0.,   0.,   0.,   0.,   0.,   0.,   0.,   0.,\n",
       "          0.,   0.,   0.,   0.,   0.,   0.,   0.,   0.,   0.,   0.,   0.,  11.,\n",
       "        190., 253.,  70.,   0.,   0.,   0.,   0.,   0.,   0.,   0.,   0.,   0.,\n",
       "          0.,   0.,   0.,   0.,   0.,   0.,   0.,   0.,   0.,   0.,   0.,   0.,\n",
       "          0.,   0.,   0.,   0.,  35., 241., 225., 160., 108.,   1.,   0.,   0.,\n",
       "          0.,   0.,   0.,   0.,   0.,   0.,   0.,   0.,   0.,   0.,   0.,   0.,\n",
       "          0.,   0.,   0.,   0.,   0.,   0.,   0.,   0.,   0.,  81., 240., 253.,\n",
       "        253., 119.,  25.,   0.,   0.,   0.,   0.,   0.,   0.,   0.,   0.,   0.,\n",
       "          0.,   0.,   0.,   0.,   0.,   0.,   0.,   0.,   0.,   0.,   0.,   0.,\n",
       "          0.,   0.,  45., 186., 253., 253., 150.,  27.,   0.,   0.,   0.,   0.,\n",
       "          0.,   0.,   0.,   0.,   0.,   0.,   0.,   0.,   0.,   0.,   0.,   0.,\n",
       "          0.,   0.,   0.,   0.,   0.,   0.,   0.,  16.,  93., 252., 253., 187.,\n",
       "          0.,   0.,   0.,   0.,   0.,   0.,   0.,   0.,   0.,   0.,   0.,   0.,\n",
       "          0.,   0.,   0.,   0.,   0.,   0.,   0.,   0.,   0.,   0.,   0.,   0.,\n",
       "          0., 249., 253., 249.,  64.,   0.,   0.,   0.,   0.,   0.,   0.,   0.,\n",
       "          0.,   0.,   0.,   0.,   0.,   0.,   0.,   0.,   0.,   0.,   0.,   0.,\n",
       "          0.,   0.,  46., 130., 183., 253., 253., 207.,   2.,   0.,   0.,   0.,\n",
       "          0.,   0.,   0.,   0.,   0.,   0.,   0.,   0.,   0.,   0.,   0.,   0.,\n",
       "          0.,   0.,   0.,   0.,  39., 148., 229., 253., 253., 253., 250., 182.,\n",
       "          0.,   0.,   0.,   0.,   0.,   0.,   0.,   0.,   0.,   0.,   0.,   0.,\n",
       "          0.,   0.,   0.,   0.,   0.,   0.,  24., 114., 221., 253., 253., 253.,\n",
       "        253., 201.,  78.,   0.,   0.,   0.,   0.,   0.,   0.,   0.,   0.,   0.,\n",
       "          0.,   0.,   0.,   0.,   0.,   0.,   0.,   0.,  23.,  66., 213., 253.,\n",
       "        253., 253., 253., 198.,  81.,   2.,   0.,   0.,   0.,   0.,   0.,   0.,\n",
       "          0.,   0.,   0.,   0.,   0.,   0.,   0.,   0.,   0.,   0.,  18., 171.,\n",
       "        219., 253., 253., 253., 253., 195.,  80.,   9.,   0.,   0.,   0.,   0.,\n",
       "          0.,   0.,   0.,   0.,   0.,   0.,   0.,   0.,   0.,   0.,   0.,   0.,\n",
       "         55., 172., 226., 253., 253., 253., 253., 244., 133.,  11.,   0.,   0.,\n",
       "          0.,   0.,   0.,   0.,   0.,   0.,   0.,   0.,   0.,   0.,   0.,   0.,\n",
       "          0.,   0.,   0.,   0., 136., 253., 253., 253., 212., 135., 132.,  16.,\n",
       "          0.,   0.,   0.,   0.,   0.,   0.,   0.,   0.,   0.,   0.,   0.,   0.,\n",
       "          0.,   0.,   0.,   0.,   0.,   0.,   0.,   0.,   0.,   0.,   0.,   0.,\n",
       "          0.,   0.,   0.,   0.,   0.,   0.,   0.,   0.,   0.,   0.,   0.,   0.,\n",
       "          0.,   0.,   0.,   0.,   0.,   0.,   0.,   0.,   0.,   0.,   0.,   0.,\n",
       "          0.,   0.,   0.,   0.,   0.,   0.,   0.,   0.,   0.,   0.,   0.,   0.,\n",
       "          0.,   0.,   0.,   0.,   0.,   0.,   0.,   0.,   0.,   0.,   0.,   0.,\n",
       "          0.,   0.,   0.,   0.,   0.,   0.,   0.,   0.,   0.,   0.,   0.,   0.,\n",
       "          0.,   0.,   0.,   0.,   0.,   0.,   0.,   0.,   0.,   0.,   0.,   0.,\n",
       "          0.,   0.,   0.,   0.])"
      ]
     },
     "execution_count": 150,
     "metadata": {},
     "output_type": "execute_result"
    }
   ],
   "source": [
    "X[0]"
   ]
  },
  {
   "cell_type": "code",
   "execution_count": null,
   "id": "KeAOZe16MTUG",
   "metadata": {
    "colab": {
     "base_uri": "https://localhost:8080/"
    },
    "executionInfo": {
     "elapsed": 9,
     "status": "ok",
     "timestamp": 1698366037517,
     "user": {
      "displayName": "﻿안재윤(전임교원/통계학과)",
      "userId": "02619146530199681853"
     },
     "user_tz": -540
    },
    "id": "KeAOZe16MTUG",
    "outputId": "533b84d8-e904-4d3f-a09a-cb1e0ee09fa8"
   },
   "outputs": [
    {
     "name": "stderr",
     "output_type": "stream",
     "text": [
      "<ipython-input-151-fd234ed319a3>:1: UserWarning: To copy construct from a tensor, it is recommended to use sourceTensor.clone().detach() or sourceTensor.clone().detach().requires_grad_(True), rather than torch.tensor(sourceTensor).\n",
      "  x_train = torch.tensor(X[:60000, :]/255, dtype = torch.float32)\n",
      "<ipython-input-151-fd234ed319a3>:2: UserWarning: To copy construct from a tensor, it is recommended to use sourceTensor.clone().detach() or sourceTensor.clone().detach().requires_grad_(True), rather than torch.tensor(sourceTensor).\n",
      "  y_train = torch.tensor(Y[:60000], dtype = torch.float32)\n",
      "<ipython-input-151-fd234ed319a3>:3: UserWarning: To copy construct from a tensor, it is recommended to use sourceTensor.clone().detach() or sourceTensor.clone().detach().requires_grad_(True), rather than torch.tensor(sourceTensor).\n",
      "  t_train = torch.tensor(T[:60000], dtype = torch.float32)\n",
      "<ipython-input-151-fd234ed319a3>:5: UserWarning: To copy construct from a tensor, it is recommended to use sourceTensor.clone().detach() or sourceTensor.clone().detach().requires_grad_(True), rather than torch.tensor(sourceTensor).\n",
      "  x_test = torch.tensor(X[60000:, :]/255, dtype = torch.float32)\n",
      "<ipython-input-151-fd234ed319a3>:6: UserWarning: To copy construct from a tensor, it is recommended to use sourceTensor.clone().detach() or sourceTensor.clone().detach().requires_grad_(True), rather than torch.tensor(sourceTensor).\n",
      "  y_test = torch.tensor(Y[60000:], dtype = torch.float32)\n",
      "<ipython-input-151-fd234ed319a3>:7: UserWarning: To copy construct from a tensor, it is recommended to use sourceTensor.clone().detach() or sourceTensor.clone().detach().requires_grad_(True), rather than torch.tensor(sourceTensor).\n",
      "  t_test = torch.tensor(T[60000:], dtype = torch.float32)\n"
     ]
    }
   ],
   "source": [
    "x_train = torch.tensor(X[:60000, :]/255, dtype = torch.float32)\n",
    "y_train = torch.tensor(Y[:60000], dtype = torch.float32)\n",
    "t_train = torch.tensor(T[:60000], dtype = torch.float32)\n",
    "n=60000\n",
    "x_test = torch.tensor(X[60000:, :]/255, dtype = torch.float32)\n",
    "y_test = torch.tensor(Y[60000:], dtype = torch.float32)\n",
    "t_test = torch.tensor(T[60000:], dtype = torch.float32)"
   ]
  },
  {
   "cell_type": "code",
   "execution_count": null,
   "id": "7Bcaraqk9hAL",
   "metadata": {
    "colab": {
     "base_uri": "https://localhost:8080/"
    },
    "executionInfo": {
     "elapsed": 7,
     "status": "ok",
     "timestamp": 1698366037517,
     "user": {
      "displayName": "﻿안재윤(전임교원/통계학과)",
      "userId": "02619146530199681853"
     },
     "user_tz": -540
    },
    "id": "7Bcaraqk9hAL",
    "outputId": "aabf5e1a-652a-4dcd-a22b-51cae6014c2c"
   },
   "outputs": [
    {
     "data": {
      "text/plain": [
       "torch.Size([70000, 784])"
      ]
     },
     "execution_count": 152,
     "metadata": {},
     "output_type": "execute_result"
    }
   ],
   "source": [
    "X.shape"
   ]
  },
  {
   "cell_type": "code",
   "execution_count": null,
   "id": "0XR9YgM6JYYy",
   "metadata": {
    "id": "0XR9YgM6JYYy"
   },
   "outputs": [],
   "source": [
    "traindata = TensorDataset(x_train, t_train)\n",
    "trainloader=DataLoader(dataset = traindata, batch_size=32, shuffle=True)\n",
    "testdata = TensorDataset(x_test, t_test)\n",
    "testloader=DataLoader(dataset = testdata, batch_size=32, shuffle=True)"
   ]
  },
  {
   "cell_type": "code",
   "execution_count": null,
   "id": "LksePYw3LpbA",
   "metadata": {
    "id": "LksePYw3LpbA"
   },
   "outputs": [],
   "source": []
  },
  {
   "cell_type": "markdown",
   "id": "CISz4_3ZLs2o",
   "metadata": {
    "id": "CISz4_3ZLs2o"
   },
   "source": [
    "## 2.3 Multinomial logistic regression for MNIST data"
   ]
  },
  {
   "cell_type": "code",
   "execution_count": null,
   "id": "DzuKILXsj6mI",
   "metadata": {
    "colab": {
     "background_save": true
    },
    "id": "DzuKILXsj6mI"
   },
   "outputs": [],
   "source": []
  },
  {
   "cell_type": "markdown",
   "id": "a0yXFF85j67q",
   "metadata": {
    "id": "a0yXFF85j67q"
   },
   "source": [
    "## Example 2.3.1 MNIST data and multinomial logistic regression\n",
    "\n",
    "Train MNIST using basic torch function."
   ]
  },
  {
   "cell_type": "code",
   "execution_count": null,
   "id": "c1G6v34IkCB8",
   "metadata": {
    "colab": {
     "background_save": true
    },
    "id": "c1G6v34IkCB8"
   },
   "outputs": [],
   "source": []
  },
  {
   "cell_type": "code",
   "execution_count": null,
   "id": "CWgYQQKOkCLA",
   "metadata": {
    "colab": {
     "background_save": true
    },
    "id": "CWgYQQKOkCLA",
    "outputId": "37835c81-72aa-4293-a20a-010a67929e88"
   },
   "outputs": [
    {
     "data": {
      "text/plain": [
       "[<matplotlib.lines.Line2D at 0x7bf0bfe7a950>]"
      ]
     },
     "execution_count": 56,
     "metadata": {},
     "output_type": "execute_result"
    },
    {
     "data": {
      "image/png": "[encoded data removed]",
      "text/plain": [
       "<Figure size 640x480 with 1 Axes>"
      ]
     },
     "metadata": {},
     "output_type": "display_data"
    }
   ],
   "source": [
    "pre_z_model = nn.Linear(784, 10, bias=True)\n",
    "\n",
    "def loss_fn(zhat, t):\n",
    "  zhat\n",
    "  zhat2 = torch.sum(zhat, axis=1).reshape([-1, 1])\n",
    "  qhat = zhat/zhat2\n",
    "  loss = - torch.mean(torch.sum(t * torch.log(qhat), axis=1))\n",
    "  return loss\n",
    "\n",
    "optimizer = torch.optim.SGD(pre_z_model.parameters(), lr=0.01)\n",
    "history=[]\n",
    "epochs = 10\n",
    "\n",
    "for epoch in range(epochs):\n",
    "  epoch_loss = 0.0\n",
    "  for xx, tt in trainloader:\n",
    "    pre_zhat = pre_z_model(xx)\n",
    "    zhat = torch.exp(pre_zhat)\n",
    "    loss = loss_fn(zhat, tt)\n",
    "    loss.backward()\n",
    "    epoch_loss += loss.item()*len(xx)\n",
    "    optimizer.step()\n",
    "    optimizer.zero_grad()\n",
    "  history.append(epoch_loss/n)\n",
    "plt.plot(history)"
   ]
  },
  {
   "cell_type": "markdown",
   "id": "GeOcdbuakCLB",
   "metadata": {
    "id": "GeOcdbuakCLB"
   },
   "source": [
    "Now, check the accuracy of the model using `phat=model(XX)` of shape `[n,2]`and `Y` of shape `[n,1]`."
   ]
  },
  {
   "cell_type": "code",
   "execution_count": null,
   "id": "bQKW57HOkCLB",
   "metadata": {
    "colab": {
     "background_save": true
    },
    "id": "bQKW57HOkCLB"
   },
   "outputs": [],
   "source": [
    "def accuracy_ftn(phat, t):\n",
    "  yhat = torch.argmax(phat, axis=1).to(torch.float32)\n",
    "  y = torch.argmax(t, axis=1).to(torch.float32)\n",
    "  accuracy = torch.mean((y.reshape([-1])==yhat).to(torch.float32))\n",
    "  return accuracy\n"
   ]
  },
  {
   "cell_type": "code",
   "execution_count": null,
   "id": "x2yjvy-bkCLB",
   "metadata": {
    "colab": {
     "background_save": true
    },
    "id": "x2yjvy-bkCLB",
    "outputId": "432c4e1a-71eb-4305-d21a-d3c31488fc60"
   },
   "outputs": [
    {
     "data": {
      "text/plain": [
       "tensor(0.9158)"
      ]
     },
     "execution_count": 58,
     "metadata": {},
     "output_type": "execute_result"
    }
   ],
   "source": [
    "phat = torch.softmax(pre_z_model(x_test), axis=1)\n",
    "accuracy = accuracy_ftn(phat, t_test)\n",
    "accuracy"
   ]
  },
  {
   "cell_type": "markdown",
   "id": "1A3SYiYRk_vR",
   "metadata": {
    "id": "1A3SYiYRk_vR"
   },
   "source": [
    "## Example 2.3.2 MNIST data and multinomial logistic regression\n",
    "\n",
    "Repeat the above training process using `nn.CrossEntropyLoss()` function."
   ]
  },
  {
   "cell_type": "code",
   "execution_count": null,
   "id": "xi8yE784ghJv",
   "metadata": {
    "colab": {
     "base_uri": "https://localhost:8080/",
     "height": 880
    },
    "executionInfo": {
     "elapsed": 76731,
     "status": "ok",
     "timestamp": 1698366503126,
     "user": {
      "displayName": "﻿안재윤(전임교원/통계학과)",
      "userId": "02619146530199681853"
     },
     "user_tz": -540
    },
    "id": "xi8yE784ghJv",
    "outputId": "13dced94-f47d-4151-d860-3b022d7ac3ba"
   },
   "outputs": [
    {
     "data": {
      "text/plain": [
       "[<matplotlib.lines.Line2D at 0x7bf0be5189d0>]"
      ]
     },
     "execution_count": 154,
     "metadata": {},
     "output_type": "execute_result"
    },
    {
     "data": {
      "image/png": "[encoded data removed]",
      "text/plain": [
       "<Figure size 640x480 with 1 Axes>"
      ]
     },
     "metadata": {},
     "output_type": "display_data"
    },
    {
     "data": {
      "text/plain": [
       "[<matplotlib.lines.Line2D at 0x7bf0bfd2b9d0>]"
      ]
     },
     "execution_count": 155,
     "metadata": {},
     "output_type": "execute_result"
    },
    {
     "data": {
      "image/png": "[encoded data removed]",
      "text/plain": [
       "<Figure size 640x480 with 1 Axes>"
      ]
     },
     "metadata": {},
     "output_type": "display_data"
    }
   ],
   "source": [
    "z_model = nn.Linear(784, 10, bias=True) #X:[n, 784] #name changed\n",
    "\n",
    "loss_fn = torch.nn.CrossEntropyLoss(reduction='mean')# This is the only change\n",
    "\n",
    "optimizer = torch.optim.SGD(z_model.parameters(), lr=0.01)\n",
    "history=[]\n",
    "epochs = 10\n",
    "\n",
    "for epoch in range(epochs):\n",
    "  epoch_loss = 0.0\n",
    "  for xx, tt in trainloader:\n",
    "    zhat = z_model(xx)\n",
    "    loss = loss_fn(zhat, tt)\n",
    "    loss.backward()\n",
    "    epoch_loss += loss.item()*len(xx)\n",
    "    optimizer.step()\n",
    "    optimizer.zero_grad()\n",
    "  history.append(epoch_loss/n)\n",
    "plt.plot(history)"
   ]
  },
  {
   "cell_type": "code",
   "execution_count": null,
   "id": "O5Lj_0l6iDWm",
   "metadata": {
    "colab": {
     "base_uri": "https://localhost:8080/"
    },
    "executionInfo": {
     "elapsed": 303,
     "status": "ok",
     "timestamp": 1698366708889,
     "user": {
      "displayName": "﻿안재윤(전임교원/통계학과)",
      "userId": "02619146530199681853"
     },
     "user_tz": -540
    },
    "id": "O5Lj_0l6iDWm",
    "outputId": "f17b944b-38e4-4c5e-e211-71db7fb84c3c"
   },
   "outputs": [
    {
     "data": {
      "text/plain": [
       "tensor(0.9160)"
      ]
     },
     "execution_count": 157,
     "metadata": {},
     "output_type": "execute_result"
    }
   ],
   "source": [
    "zhat_test = z_model(x_test)\n",
    "Q_test = torch.softmax(zhat_test, axis=1)\n",
    "#y_test\n",
    "y_hat = torch.argmax(Q_test, axis=1).to(torch.float32)\n",
    "\n",
    "torch.mean((y_hat ==y_test.reshape([-1])).to(torch.float32))\n"
   ]
  },
  {
   "cell_type": "code",
   "execution_count": null,
   "id": "ibKycACJLpYw",
   "metadata": {
    "colab": {
     "background_save": true
    },
    "id": "ibKycACJLpYw"
   },
   "outputs": [],
   "source": []
  },
  {
   "cell_type": "markdown",
   "id": "vt77_VeQPMcM",
   "metadata": {
    "id": "vt77_VeQPMcM"
   },
   "source": [
    "Now, check the accuracy of the model using `phat=model(XX)` of shape `[n,2]`and `Y` of shape `[n,1]`."
   ]
  },
  {
   "cell_type": "code",
   "execution_count": null,
   "id": "-Vy93k0qPMcM",
   "metadata": {
    "colab": {
     "background_save": true
    },
    "id": "-Vy93k0qPMcM"
   },
   "outputs": [],
   "source": [
    "def accuracy_ftn(phat, t):\n",
    "  yhat = torch.argmax(phat, axis=1).to(torch.float32)\n",
    "  y = torch.argmax(t, axis=1).to(torch.float32)\n",
    "  accuracy = torch.mean((y.reshape([-1])==yhat).to(torch.float32))\n",
    "  return accuracy\n"
   ]
  },
  {
   "cell_type": "code",
   "execution_count": null,
   "id": "D-9a6XOoPMcN",
   "metadata": {
    "colab": {
     "background_save": true
    },
    "id": "D-9a6XOoPMcN",
    "outputId": "c0f5df87-568b-48ad-e23c-323fa46ccbad"
   },
   "outputs": [
    {
     "data": {
      "text/plain": [
       "tensor(0.9154)"
      ]
     },
     "execution_count": 61,
     "metadata": {},
     "output_type": "execute_result"
    }
   ],
   "source": [
    "phat = torch.softmax(z_model(x_test), axis=1)\n",
    "accuracy = accuracy_ftn(phat, t_test)\n",
    "accuracy"
   ]
  },
  {
   "cell_type": "markdown",
   "id": "MVkw95GEQGWg",
   "metadata": {
    "id": "MVkw95GEQGWg"
   },
   "source": [
    "### Exercise 2.3.3. Revisit MNIST data (Online)\n",
    "\n",
    "Modify `z_model` above using the customized layer which produce the probabilities based on `torch.softmax`. Then, you may want to redefine loss function."
   ]
  },
  {
   "cell_type": "code",
   "execution_count": null,
   "id": "0ZUrGv_LH7-f",
   "metadata": {
    "colab": {
     "background_save": true
    },
    "id": "0ZUrGv_LH7-f"
   },
   "outputs": [],
   "source": []
  },
  {
   "cell_type": "code",
   "execution_count": null,
   "id": "LzTi7KtYL1oC",
   "metadata": {
    "id": "LzTi7KtYL1oC"
   },
   "outputs": [],
   "source": []
  },
  {
   "cell_type": "markdown",
   "id": "jL6Q41VhSDtg",
   "metadata": {
    "id": "jL6Q41VhSDtg"
   },
   "source": [
    "## Exercise 2.3.3. Iris data (Offline)"
   ]
  },
  {
   "cell_type": "markdown",
   "id": "_dPfo6OoSXGe",
   "metadata": {
    "id": "_dPfo6OoSXGe"
   },
   "source": [
    "We will be using the famous Iris dataset, which contains measurements of the sepal length, sepal width, petal length, and petal width for three species of iris flowers (Iris setosa, Iris versicolor, and Iris virginica). The goal is to predict the species of an iris flower based on these measurements."
   ]
  },
  {
   "cell_type": "code",
   "execution_count": null,
   "id": "Kyo_KXiCSHBM",
   "metadata": {
    "colab": {
     "base_uri": "https://localhost:8080/"
    },
    "executionInfo": {
     "elapsed": 456,
     "status": "ok",
     "timestamp": 1697959888985,
     "user": {
      "displayName": "﻿안재윤(전임교원/통계학과)",
      "userId": "02619146530199681853"
     },
     "user_tz": -540
    },
    "id": "Kyo_KXiCSHBM",
    "outputId": "36f2aa6a-2345-40dc-d296-68f15c674054"
   },
   "outputs": [
    {
     "name": "stderr",
     "output_type": "stream",
     "text": [
      "<ipython-input-121-42939a159f2b>:11: UserWarning: To copy construct from a tensor, it is recommended to use sourceTensor.clone().detach() or sourceTensor.clone().detach().requires_grad_(True), rather than torch.tensor(sourceTensor).\n",
      "  t = torch.nn.functional.one_hot(torch.tensor(y, dtype=torch.int64), num_classes=3)\n",
      "<ipython-input-121-42939a159f2b>:12: UserWarning: To copy construct from a tensor, it is recommended to use sourceTensor.clone().detach() or sourceTensor.clone().detach().requires_grad_(True), rather than torch.tensor(sourceTensor).\n",
      "  t = torch.tensor(t, dtype=torch.float32)\n"
     ]
    }
   ],
   "source": [
    "from sklearn.datasets import load_iris\n",
    "from sklearn.model_selection import train_test_split\n",
    "\n",
    "# Load the Iris dataset\n",
    "iris = load_iris()\n",
    "\n",
    "# Convert the data to PyTorch tensors\n",
    "X = torch.tensor(iris.data, dtype=torch.float32)\n",
    "y = torch.tensor(iris.target, dtype=torch.long)\n",
    "\n",
    "t = torch.nn.functional.one_hot(torch.tensor(y, dtype=torch.int64), num_classes=3)\n",
    "t = torch.tensor(t, dtype=torch.float32)\n",
    "\n",
    "\n",
    "# Normalize the input data\n",
    "mean = torch.mean(X, dim=0)\n",
    "std = torch.std(X, dim=0)\n",
    "X = (X - mean) / std\n",
    "\n",
    "# Split the dataset into training and validation sets\n",
    "X_train, X_val, t_train, t_val = train_test_split(X, t, test_size=0.2, random_state=42)\n",
    "\n",
    "# Create PyTorch Datasets\n",
    "train_dataset = TensorDataset(X_train, t_train)\n",
    "val_dataset = TensorDataset(X_val, t_val)\n",
    "\n",
    "# Define the data loaders\n",
    "batch_size = 16\n",
    "train_loader = DataLoader(train_dataset, batch_size=batch_size, shuffle=True)\n",
    "test_loader = DataLoader(val_dataset, batch_size=batch_size, shuffle=False)\n"
   ]
  },
  {
   "cell_type": "markdown",
   "id": "NNktCPQ3Sf-w",
   "metadata": {
    "id": "NNktCPQ3Sf-w"
   },
   "source": [
    "Use multinomial logistic regression model to classiy the iris, and calculate the test error."
   ]
  },
  {
   "cell_type": "markdown",
   "id": "a2wB8GZWTAtV",
   "metadata": {
    "id": "a2wB8GZWTAtV"
   },
   "source": [
    "## Exercise 2.3.4 Revisiting Iris data (HW)\n",
    "\n",
    "We use `train_loader` to train the model, and use `test_loader` to calculate the test accuracy. Use the following code to train the model, and calculate the test accuracy. In this case, you need to define your own loss function to calculate cross-entropy function from `q_hat` and `tt`.\n",
    "```\n",
    "z_model = nn.Linear(784, 10, bias=True)\n",
    "```\n",
    "and\n",
    "```\n",
    "for xx, tt in train_loader:\n",
    "  zhat = z_model(xx)\n",
    "  q_hat = torch.softmax()\n",
    "```"
   ]
  },
  {
   "cell_type": "markdown",
   "id": "6MMnjhQOPR-2",
   "metadata": {
    "id": "6MMnjhQOPR-2"
   },
   "source": [
    "## Exercise 2.3.5: Fashion MNIST data (HW)"
   ]
  },
  {
   "cell_type": "markdown",
   "id": "Q0wBOhSpRP6A",
   "metadata": {
    "id": "Q0wBOhSpRP6A"
   },
   "source": [
    "You are given the following fashion MNIST data. Do the multinomial regression so that the regression machine can determine the label from the images. Calculate the test accuracy. In the test dataset, identify at least 5 cases where your predictions are wrong, and explain why possibly they were mis-classified.\n",
    "\n",
    "1. the picture\n",
    "\n",
    "2. predicted label\n",
    "\n",
    "3. real label\n",
    "\n",
    "4. Explain the possible reason why your model is wrong in this case."
   ]
  },
  {
   "cell_type": "markdown",
   "id": "f0332X2pWmn0",
   "metadata": {
    "id": "f0332X2pWmn0"
   },
   "source": [
    "Hint: Each training and test example is assigned to one of the following labels:\n",
    "\n",
    "0 T-shirt/top\n",
    "\n",
    "1 Trouser\n",
    "\n",
    "2 Pullover\n",
    "\n",
    "3 Dress\n",
    "\n",
    "4 Coat\n",
    "\n",
    "5 Sandal\n",
    "\n",
    "6 Shirt\n",
    "\n",
    "7 Sneaker\n",
    "\n",
    "8 Bag\n",
    "\n",
    "9 Ankle boot"
   ]
  },
  {
   "cell_type": "code",
   "execution_count": null,
   "id": "E-OllAGT6pr-",
   "metadata": {
    "id": "E-OllAGT6pr-"
   },
   "outputs": [],
   "source": [
    "import torch\n",
    "from torch import nn, optim\n",
    "import torch.nn.functional as F\n",
    "from torch.utils.data import DataLoader\n",
    "from torchvision import datasets, transforms"
   ]
  },
  {
   "cell_type": "code",
   "execution_count": null,
   "id": "Y2dqyxnr6psU",
   "metadata": {
    "colab": {
     "base_uri": "https://localhost:8080/"
    },
    "executionInfo": {
     "elapsed": 1415,
     "status": "ok",
     "timestamp": 1697960856510,
     "user": {
      "displayName": "﻿안재윤(전임교원/통계학과)",
      "userId": "02619146530199681853"
     },
     "user_tz": -540
    },
    "id": "Y2dqyxnr6psU",
    "outputId": "e1f688fe-a2be-471f-85ef-e8f7cec0f732"
   },
   "outputs": [
    {
     "name": "stdout",
     "output_type": "stream",
     "text": [
      "Downloading http://fashion-mnist.s3-website.eu-central-1.amazonaws.com/train-images-idx3-ubyte.gz\n",
      "Downloading http://fashion-mnist.s3-website.eu-central-1.amazonaws.com/train-images-idx3-ubyte.gz to ./data/FashionMNIST/raw/train-images-idx3-ubyte.gz\n"
     ]
    },
    {
     "name": "stderr",
     "output_type": "stream",
     "text": [
      "100%|██████████| 26421880/26421880 [00:00<00:00, 117457262.47it/s]\n"
     ]
    },
    {
     "name": "stdout",
     "output_type": "stream",
     "text": [
      "Extracting ./data/FashionMNIST/raw/train-images-idx3-ubyte.gz to ./data/FashionMNIST/raw\n",
      "\n",
      "Downloading http://fashion-mnist.s3-website.eu-central-1.amazonaws.com/train-labels-idx1-ubyte.gz\n",
      "Downloading http://fashion-mnist.s3-website.eu-central-1.amazonaws.com/train-labels-idx1-ubyte.gz to ./data/FashionMNIST/raw/train-labels-idx1-ubyte.gz\n"
     ]
    },
    {
     "name": "stderr",
     "output_type": "stream",
     "text": [
      "100%|██████████| 29515/29515 [00:00<00:00, 8144936.02it/s]"
     ]
    },
    {
     "name": "stdout",
     "output_type": "stream",
     "text": [
      "Extracting ./data/FashionMNIST/raw/train-labels-idx1-ubyte.gz to ./data/FashionMNIST/raw\n",
      "\n",
      "Downloading http://fashion-mnist.s3-website.eu-central-1.amazonaws.com/t10k-images-idx3-ubyte.gz\n",
      "Downloading http://fashion-mnist.s3-website.eu-central-1.amazonaws.com/t10k-images-idx3-ubyte.gz to ./data/FashionMNIST/raw/t10k-images-idx3-ubyte.gz\n"
     ]
    },
    {
     "name": "stderr",
     "output_type": "stream",
     "text": [
      "\n",
      "100%|██████████| 4422102/4422102 [00:00<00:00, 61049527.53it/s]\n"
     ]
    },
    {
     "name": "stdout",
     "output_type": "stream",
     "text": [
      "Extracting ./data/FashionMNIST/raw/t10k-images-idx3-ubyte.gz to ./data/FashionMNIST/raw\n",
      "\n",
      "Downloading http://fashion-mnist.s3-website.eu-central-1.amazonaws.com/t10k-labels-idx1-ubyte.gz\n",
      "Downloading http://fashion-mnist.s3-website.eu-central-1.amazonaws.com/t10k-labels-idx1-ubyte.gz to ./data/FashionMNIST/raw/t10k-labels-idx1-ubyte.gz\n"
     ]
    },
    {
     "name": "stderr",
     "output_type": "stream",
     "text": [
      "100%|██████████| 5148/5148 [00:00<00:00, 16101623.41it/s]\n"
     ]
    },
    {
     "name": "stdout",
     "output_type": "stream",
     "text": [
      "Extracting ./data/FashionMNIST/raw/t10k-labels-idx1-ubyte.gz to ./data/FashionMNIST/raw\n",
      "\n"
     ]
    }
   ],
   "source": [
    "# transform to normalize the data\n",
    "transform = transforms.Compose([transforms.ToTensor(),\n",
    "                                transforms.Normalize((0.5,), (0.5,))])\n",
    "\n",
    "# Download and load the training data\n",
    "trainset = datasets.FashionMNIST('./data', download=True, train=True, transform=transform)\n",
    "train_loader = DataLoader(trainset, batch_size=64, shuffle=True)\n",
    "\n",
    "# Download and load the test data\n",
    "validationset = datasets.FashionMNIST('./data', download=True, train=False, transform=transform)\n",
    "test_loader = DataLoader(validationset, batch_size=64, shuffle=True)"
   ]
  },
  {
   "cell_type": "code",
   "execution_count": null,
   "id": "fH_-sM1iXlj4",
   "metadata": {
    "id": "fH_-sM1iXlj4"
   },
   "outputs": [],
   "source": [
    "xx, yy = trainset[0]"
   ]
  },
  {
   "cell_type": "code",
   "execution_count": null,
   "id": "PEu4G4HsXug4",
   "metadata": {
    "colab": {
     "base_uri": "https://localhost:8080/",
     "height": 448
    },
    "executionInfo": {
     "elapsed": 477,
     "status": "ok",
     "timestamp": 1697961390322,
     "user": {
      "displayName": "﻿안재윤(전임교원/통계학과)",
      "userId": "02619146530199681853"
     },
     "user_tz": -540
    },
    "id": "PEu4G4HsXug4",
    "outputId": "179594e9-077b-45a5-dc55-2276cbabb288"
   },
   "outputs": [
    {
     "name": "stdout",
     "output_type": "stream",
     "text": [
      "Ankle boot\n"
     ]
    },
    {
     "data": {
      "image/png": "[encoded data removed]",
      "text/plain": [
       "<Figure size 640x480 with 1 Axes>"
      ]
     },
     "metadata": {},
     "output_type": "display_data"
    }
   ],
   "source": [
    "plt.imshow(xx.reshape(28,28))\n",
    "my_name = { 0: \"T-shirt/top\", 1: \"Trouser\",\n",
    "              2: \"Pullover\", 3: \"Dress\", 4: \"Coat\", 5: \"Sandal\", 6: \"Shirt\", 7: \"Sneaker\", 8: \"Bag\", 9: \"Ankle boot\"}\n",
    "print(my_name[yy])\n",
    "\n"
   ]
  }
 ],
 "metadata": {
  "accelerator": "GPU",
  "colab": {
   "machine_shape": "hm",
   "provenance": []
  },
  "kernelspec": {
   "display_name": "Python 3 (ipykernel)",
   "language": "python",
   "name": "python3"
  },
  "language_info": {
   "codemirror_mode": {
    "name": "ipython",
    "version": 3
   },
   "file_extension": ".py",
   "mimetype": "text/x-python",
   "name": "python",
   "nbconvert_exporter": "python",
   "pygments_lexer": "ipython3",
   "version": "3.11.5"
  }
 },
 "nbformat": 4,
 "nbformat_minor": 5
}
