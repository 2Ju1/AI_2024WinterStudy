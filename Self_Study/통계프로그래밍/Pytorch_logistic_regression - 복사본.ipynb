{
 "cells": [
  {
   "cell_type": "markdown",
   "id": "3oSL_cLemi3d",
   "metadata": {
    "id": "3oSL_cLemi3d"
   },
   "source": [
    "# 1. Logistic regression with Python\n",
    "## 1.1 Preparation of imaginary data"
   ]
  },
  {
   "cell_type": "code",
   "execution_count": 1,
   "id": "Oqj8XjaKRU7W",
   "metadata": {
    "colab": {
     "base_uri": "https://localhost:8080/",
     "height": 1000
    },
    "executionInfo": {
     "elapsed": 25081,
     "status": "ok",
     "timestamp": 1698817426536,
     "user": {
      "displayName": "﻿안재윤(전임교원/통계학과)",
      "userId": "02619146530199681853"
     },
     "user_tz": -540
    },
    "id": "Oqj8XjaKRU7W",
    "outputId": "cce9e39d-ea47-4537-d2a2-1c018de585b9"
   },
   "outputs": [
    {
     "name": "stdout",
     "output_type": "stream",
     "text": [
      "Collecting ISLP\n",
      "  Downloading ISLP-0.3.21-py3-none-any.whl (3.6 MB)\n",
      "\u001b[2K     \u001b[90m━━━━━━━━━━━━━━━━━━━━━━━━━━━━━━━━━━━━━━━━\u001b[0m \u001b[32m3.6/3.6 MB\u001b[0m \u001b[31m19.4 MB/s\u001b[0m eta \u001b[36m0:00:00\u001b[0m\n",
      "\u001b[?25hRequirement already satisfied: numpy<1.25,>=1.7.1 in /usr/local/lib/python3.10/dist-packages (from ISLP) (1.23.5)\n",
      "Requirement already satisfied: scipy>=0.9 in /usr/local/lib/python3.10/dist-packages (from ISLP) (1.11.3)\n",
      "Requirement already satisfied: pandas<=1.9,>=0.20 in /usr/local/lib/python3.10/dist-packages (from ISLP) (1.5.3)\n",
      "Requirement already satisfied: lxml in /usr/local/lib/python3.10/dist-packages (from ISLP) (4.9.3)\n",
      "Requirement already satisfied: scikit-learn>=1.2 in /usr/local/lib/python3.10/dist-packages (from ISLP) (1.2.2)\n",
      "Requirement already satisfied: joblib in /usr/local/lib/python3.10/dist-packages (from ISLP) (1.3.2)\n",
      "Requirement already satisfied: statsmodels>=0.13 in /usr/local/lib/python3.10/dist-packages (from ISLP) (0.14.0)\n",
      "Collecting lifelines (from ISLP)\n",
      "  Downloading lifelines-0.27.8-py3-none-any.whl (350 kB)\n",
      "\u001b[2K     \u001b[90m━━━━━━━━━━━━━━━━━━━━━━━━━━━━━━━━━━━━━━━━\u001b[0m \u001b[32m350.7/350.7 kB\u001b[0m \u001b[31m31.5 MB/s\u001b[0m eta \u001b[36m0:00:00\u001b[0m\n",
      "\u001b[?25hCollecting pygam (from ISLP)\n",
      "  Downloading pygam-0.9.0-py3-none-any.whl (522 kB)\n",
      "\u001b[2K     \u001b[90m━━━━━━━━━━━━━━━━━━━━━━━━━━━━━━━━━━━━━━━━\u001b[0m \u001b[32m522.2/522.2 kB\u001b[0m \u001b[31m31.8 MB/s\u001b[0m eta \u001b[36m0:00:00\u001b[0m\n",
      "\u001b[?25hRequirement already satisfied: torch in /usr/local/lib/python3.10/dist-packages (from ISLP) (2.1.0+cu118)\n",
      "Collecting pytorch-lightning (from ISLP)\n",
      "  Downloading pytorch_lightning-2.1.0-py3-none-any.whl (774 kB)\n",
      "\u001b[2K     \u001b[90m━━━━━━━━━━━━━━━━━━━━━━━━━━━━━━━━━━━━━━━━\u001b[0m \u001b[32m774.6/774.6 kB\u001b[0m \u001b[31m42.3 MB/s\u001b[0m eta \u001b[36m0:00:00\u001b[0m\n",
      "\u001b[?25hCollecting torchmetrics (from ISLP)\n",
      "  Downloading torchmetrics-1.2.0-py3-none-any.whl (805 kB)\n",
      "\u001b[2K     \u001b[90m━━━━━━━━━━━━━━━━━━━━━━━━━━━━━━━━━━━━━━━━\u001b[0m \u001b[32m805.2/805.2 kB\u001b[0m \u001b[31m48.6 MB/s\u001b[0m eta \u001b[36m0:00:00\u001b[0m\n",
      "\u001b[?25hRequirement already satisfied: python-dateutil>=2.8.1 in /usr/local/lib/python3.10/dist-packages (from pandas<=1.9,>=0.20->ISLP) (2.8.2)\n",
      "Requirement already satisfied: pytz>=2020.1 in /usr/local/lib/python3.10/dist-packages (from pandas<=1.9,>=0.20->ISLP) (2023.3.post1)\n",
      "Requirement already satisfied: threadpoolctl>=2.0.0 in /usr/local/lib/python3.10/dist-packages (from scikit-learn>=1.2->ISLP) (3.2.0)\n",
      "Requirement already satisfied: patsy>=0.5.2 in /usr/local/lib/python3.10/dist-packages (from statsmodels>=0.13->ISLP) (0.5.3)\n",
      "Requirement already satisfied: packaging>=21.3 in /usr/local/lib/python3.10/dist-packages (from statsmodels>=0.13->ISLP) (23.2)\n",
      "Requirement already satisfied: matplotlib>=3.0 in /usr/local/lib/python3.10/dist-packages (from lifelines->ISLP) (3.7.1)\n",
      "Requirement already satisfied: autograd>=1.5 in /usr/local/lib/python3.10/dist-packages (from lifelines->ISLP) (1.6.2)\n",
      "Collecting autograd-gamma>=0.3 (from lifelines->ISLP)\n",
      "  Downloading autograd-gamma-0.5.0.tar.gz (4.0 kB)\n",
      "  Preparing metadata (setup.py) ... \u001b[?25l\u001b[?25hdone\n",
      "Collecting formulaic>=0.2.2 (from lifelines->ISLP)\n",
      "  Downloading formulaic-0.6.6-py3-none-any.whl (91 kB)\n",
      "\u001b[2K     \u001b[90m━━━━━━━━━━━━━━━━━━━━━━━━━━━━━━━━━━━━━━━━\u001b[0m \u001b[32m91.0/91.0 kB\u001b[0m \u001b[31m14.1 MB/s\u001b[0m eta \u001b[36m0:00:00\u001b[0m\n",
      "\u001b[?25hCollecting numpy<1.25,>=1.7.1 (from ISLP)\n",
      "  Downloading numpy-1.24.4-cp310-cp310-manylinux_2_17_x86_64.manylinux2014_x86_64.whl (17.3 MB)\n",
      "\u001b[2K     \u001b[90m━━━━━━━━━━━━━━━━━━━━━━━━━━━━━━━━━━━━━━━━\u001b[0m \u001b[32m17.3/17.3 MB\u001b[0m \u001b[31m89.8 MB/s\u001b[0m eta \u001b[36m0:00:00\u001b[0m\n",
      "\u001b[?25hRequirement already satisfied: progressbar2<5.0.0,>=4.2.0 in /usr/local/lib/python3.10/dist-packages (from pygam->ISLP) (4.2.0)\n",
      "Requirement already satisfied: tqdm>=4.57.0 in /usr/local/lib/python3.10/dist-packages (from pytorch-lightning->ISLP) (4.66.1)\n",
      "Requirement already satisfied: PyYAML>=5.4 in /usr/local/lib/python3.10/dist-packages (from pytorch-lightning->ISLP) (6.0.1)\n",
      "Requirement already satisfied: fsspec[http]>2021.06.0 in /usr/local/lib/python3.10/dist-packages (from pytorch-lightning->ISLP) (2023.6.0)\n",
      "Requirement already satisfied: typing-extensions>=4.0.0 in /usr/local/lib/python3.10/dist-packages (from pytorch-lightning->ISLP) (4.5.0)\n",
      "Collecting lightning-utilities>=0.8.0 (from pytorch-lightning->ISLP)\n",
      "  Downloading lightning_utilities-0.9.0-py3-none-any.whl (23 kB)\n",
      "Requirement already satisfied: filelock in /usr/local/lib/python3.10/dist-packages (from torch->ISLP) (3.12.4)\n",
      "Requirement already satisfied: sympy in /usr/local/lib/python3.10/dist-packages (from torch->ISLP) (1.12)\n",
      "Requirement already satisfied: networkx in /usr/local/lib/python3.10/dist-packages (from torch->ISLP) (3.2)\n",
      "Requirement already satisfied: jinja2 in /usr/local/lib/python3.10/dist-packages (from torch->ISLP) (3.1.2)\n",
      "Requirement already satisfied: triton==2.1.0 in /usr/local/lib/python3.10/dist-packages (from torch->ISLP) (2.1.0)\n",
      "Requirement already satisfied: future>=0.15.2 in /usr/local/lib/python3.10/dist-packages (from autograd>=1.5->lifelines->ISLP) (0.18.3)\n",
      "Collecting astor>=0.8 (from formulaic>=0.2.2->lifelines->ISLP)\n",
      "  Downloading astor-0.8.1-py2.py3-none-any.whl (27 kB)\n",
      "Collecting interface-meta>=1.2.0 (from formulaic>=0.2.2->lifelines->ISLP)\n",
      "  Downloading interface_meta-1.3.0-py3-none-any.whl (14 kB)\n",
      "Requirement already satisfied: wrapt>=1.0 in /usr/local/lib/python3.10/dist-packages (from formulaic>=0.2.2->lifelines->ISLP) (1.14.1)\n",
      "Requirement already satisfied: requests in /usr/local/lib/python3.10/dist-packages (from fsspec[http]>2021.06.0->pytorch-lightning->ISLP) (2.31.0)\n",
      "Requirement already satisfied: aiohttp!=4.0.0a0,!=4.0.0a1 in /usr/local/lib/python3.10/dist-packages (from fsspec[http]>2021.06.0->pytorch-lightning->ISLP) (3.8.6)\n",
      "Requirement already satisfied: contourpy>=1.0.1 in /usr/local/lib/python3.10/dist-packages (from matplotlib>=3.0->lifelines->ISLP) (1.1.1)\n",
      "Requirement already satisfied: cycler>=0.10 in /usr/local/lib/python3.10/dist-packages (from matplotlib>=3.0->lifelines->ISLP) (0.12.1)\n",
      "Requirement already satisfied: fonttools>=4.22.0 in /usr/local/lib/python3.10/dist-packages (from matplotlib>=3.0->lifelines->ISLP) (4.43.1)\n",
      "Requirement already satisfied: kiwisolver>=1.0.1 in /usr/local/lib/python3.10/dist-packages (from matplotlib>=3.0->lifelines->ISLP) (1.4.5)\n",
      "Requirement already satisfied: pillow>=6.2.0 in /usr/local/lib/python3.10/dist-packages (from matplotlib>=3.0->lifelines->ISLP) (9.4.0)\n",
      "Requirement already satisfied: pyparsing>=2.3.1 in /usr/local/lib/python3.10/dist-packages (from matplotlib>=3.0->lifelines->ISLP) (3.1.1)\n",
      "Requirement already satisfied: six in /usr/local/lib/python3.10/dist-packages (from patsy>=0.5.2->statsmodels>=0.13->ISLP) (1.16.0)\n",
      "Requirement already satisfied: python-utils>=3.0.0 in /usr/local/lib/python3.10/dist-packages (from progressbar2<5.0.0,>=4.2.0->pygam->ISLP) (3.8.1)\n",
      "Requirement already satisfied: MarkupSafe>=2.0 in /usr/local/lib/python3.10/dist-packages (from jinja2->torch->ISLP) (2.1.3)\n",
      "Requirement already satisfied: mpmath>=0.19 in /usr/local/lib/python3.10/dist-packages (from sympy->torch->ISLP) (1.3.0)\n",
      "Requirement already satisfied: attrs>=17.3.0 in /usr/local/lib/python3.10/dist-packages (from aiohttp!=4.0.0a0,!=4.0.0a1->fsspec[http]>2021.06.0->pytorch-lightning->ISLP) (23.1.0)\n",
      "Requirement already satisfied: charset-normalizer<4.0,>=2.0 in /usr/local/lib/python3.10/dist-packages (from aiohttp!=4.0.0a0,!=4.0.0a1->fsspec[http]>2021.06.0->pytorch-lightning->ISLP) (3.3.1)\n",
      "Requirement already satisfied: multidict<7.0,>=4.5 in /usr/local/lib/python3.10/dist-packages (from aiohttp!=4.0.0a0,!=4.0.0a1->fsspec[http]>2021.06.0->pytorch-lightning->ISLP) (6.0.4)\n",
      "Requirement already satisfied: async-timeout<5.0,>=4.0.0a3 in /usr/local/lib/python3.10/dist-packages (from aiohttp!=4.0.0a0,!=4.0.0a1->fsspec[http]>2021.06.0->pytorch-lightning->ISLP) (4.0.3)\n",
      "Requirement already satisfied: yarl<2.0,>=1.0 in /usr/local/lib/python3.10/dist-packages (from aiohttp!=4.0.0a0,!=4.0.0a1->fsspec[http]>2021.06.0->pytorch-lightning->ISLP) (1.9.2)\n",
      "Requirement already satisfied: frozenlist>=1.1.1 in /usr/local/lib/python3.10/dist-packages (from aiohttp!=4.0.0a0,!=4.0.0a1->fsspec[http]>2021.06.0->pytorch-lightning->ISLP) (1.4.0)\n",
      "Requirement already satisfied: aiosignal>=1.1.2 in /usr/local/lib/python3.10/dist-packages (from aiohttp!=4.0.0a0,!=4.0.0a1->fsspec[http]>2021.06.0->pytorch-lightning->ISLP) (1.3.1)\n",
      "Requirement already satisfied: idna<4,>=2.5 in /usr/local/lib/python3.10/dist-packages (from requests->fsspec[http]>2021.06.0->pytorch-lightning->ISLP) (3.4)\n",
      "Requirement already satisfied: urllib3<3,>=1.21.1 in /usr/local/lib/python3.10/dist-packages (from requests->fsspec[http]>2021.06.0->pytorch-lightning->ISLP) (2.0.7)\n",
      "Requirement already satisfied: certifi>=2017.4.17 in /usr/local/lib/python3.10/dist-packages (from requests->fsspec[http]>2021.06.0->pytorch-lightning->ISLP) (2023.7.22)\n",
      "Building wheels for collected packages: autograd-gamma\n",
      "  Building wheel for autograd-gamma (setup.py) ... \u001b[?25l\u001b[?25hdone\n",
      "  Created wheel for autograd-gamma: filename=autograd_gamma-0.5.0-py3-none-any.whl size=4031 sha256=936a93dad5775aa5f6cc5fa3248ad7bb57f520f097efd390c2292c2a05cb0508\n",
      "  Stored in directory: /root/.cache/pip/wheels/25/cc/e0/ef2969164144c899fedb22b338f6703e2b9cf46eeebf254991\n",
      "Successfully built autograd-gamma\n",
      "Installing collected packages: numpy, lightning-utilities, interface-meta, astor, torchmetrics, pygam, formulaic, autograd-gamma, pytorch-lightning, lifelines, ISLP\n",
      "  Attempting uninstall: numpy\n",
      "    Found existing installation: numpy 1.23.5\n",
      "    Uninstalling numpy-1.23.5:\n",
      "      Successfully uninstalled numpy-1.23.5\n",
      "\u001b[31mERROR: pip's dependency resolver does not currently take into account all the packages that are installed. This behaviour is the source of the following dependency conflicts.\n",
      "lida 0.0.10 requires fastapi, which is not installed.\n",
      "lida 0.0.10 requires kaleido, which is not installed.\n",
      "lida 0.0.10 requires python-multipart, which is not installed.\n",
      "lida 0.0.10 requires uvicorn, which is not installed.\n",
      "numba 0.56.4 requires numpy<1.24,>=1.18, but you have numpy 1.24.4 which is incompatible.\u001b[0m\u001b[31m\n",
      "\u001b[0mSuccessfully installed ISLP-0.3.21 astor-0.8.1 autograd-gamma-0.5.0 formulaic-0.6.6 interface-meta-1.3.0 lifelines-0.27.8 lightning-utilities-0.9.0 numpy-1.24.4 pygam-0.9.0 pytorch-lightning-2.1.0 torchmetrics-1.2.0\n"
     ]
    },
    {
     "data": {
      "application/vnd.colab-display-data+json": {
       "pip_warning": {
        "packages": [
         "numpy"
        ]
       }
      }
     },
     "metadata": {},
     "output_type": "display_data"
    }
   ],
   "source": [
    "!pip install ISLP"
   ]
  },
  {
   "cell_type": "code",
   "execution_count": 1,
   "id": "u0z0v8tJ1yE8",
   "metadata": {
    "executionInfo": {
     "elapsed": 4982,
     "status": "ok",
     "timestamp": 1698817440716,
     "user": {
      "displayName": "﻿안재윤(전임교원/통계학과)",
      "userId": "02619146530199681853"
     },
     "user_tz": -540
    },
    "id": "u0z0v8tJ1yE8"
   },
   "outputs": [],
   "source": [
    "import torch\n",
    "import numpy as np\n",
    "import matplotlib.pyplot as plt\n",
    "import sklearn.datasets\n",
    "from torch.utils.data import Dataset, DataLoader, TensorDataset"
   ]
  },
  {
   "cell_type": "code",
   "execution_count": 2,
   "id": "48c5nTmhUg6c",
   "metadata": {
    "executionInfo": {
     "elapsed": 4,
     "status": "ok",
     "timestamp": 1698817440716,
     "user": {
      "displayName": "﻿안재윤(전임교원/통계학과)",
      "userId": "02619146530199681853"
     },
     "user_tz": -540
    },
    "id": "48c5nTmhUg6c"
   },
   "outputs": [],
   "source": [
    "from torch import nn"
   ]
  },
  {
   "cell_type": "code",
   "execution_count": null,
   "id": "GPlI3aahUKQS",
   "metadata": {
    "executionInfo": {
     "elapsed": 3,
     "status": "ok",
     "timestamp": 1698817440716,
     "user": {
      "displayName": "﻿안재윤(전임교원/통계학과)",
      "userId": "02619146530199681853"
     },
     "user_tz": -540
    },
    "id": "GPlI3aahUKQS"
   },
   "outputs": [],
   "source": []
  },
  {
   "cell_type": "code",
   "execution_count": 9,
   "id": "ougyb1c6Rv3n",
   "metadata": {
    "executionInfo": {
     "elapsed": 2104,
     "status": "ok",
     "timestamp": 1698817465894,
     "user": {
      "displayName": "﻿안재윤(전임교원/통계학과)",
      "userId": "02619146530199681853"
     },
     "user_tz": -540
    },
    "id": "ougyb1c6Rv3n"
   },
   "outputs": [],
   "source": [
    "import pandas as pd\n",
    "col_names = ['pregnant', 'glucose', 'bp', 'skin', 'insulin', 'bmi', 'pedigree', 'age', 'label']\n",
    "# load dataset\n",
    "pima = pd.read_csv(\"diabetes.csv\", header=0, names=col_names)"
   ]
  },
  {
   "cell_type": "code",
   "execution_count": 10,
   "id": "iD7zfxUMUkYC",
   "metadata": {
    "colab": {
     "base_uri": "https://localhost:8080/",
     "height": 206
    },
    "executionInfo": {
     "elapsed": 31,
     "status": "ok",
     "timestamp": 1698817465894,
     "user": {
      "displayName": "﻿안재윤(전임교원/통계학과)",
      "userId": "02619146530199681853"
     },
     "user_tz": -540
    },
    "id": "iD7zfxUMUkYC",
    "outputId": "f2f283b9-b7d3-4f67-f1b7-4cbacbb84bfc"
   },
   "outputs": [
    {
     "data": {
      "text/html": [
       "<div>\n",
       "<style scoped>\n",
       "    .dataframe tbody tr th:only-of-type {\n",
       "        vertical-align: middle;\n",
       "    }\n",
       "\n",
       "    .dataframe tbody tr th {\n",
       "        vertical-align: top;\n",
       "    }\n",
       "\n",
       "    .dataframe thead th {\n",
       "        text-align: right;\n",
       "    }\n",
       "</style>\n",
       "<table border=\"1\" class=\"dataframe\">\n",
       "  <thead>\n",
       "    <tr style=\"text-align: right;\">\n",
       "      <th></th>\n",
       "      <th>pregnant</th>\n",
       "      <th>glucose</th>\n",
       "      <th>bp</th>\n",
       "      <th>skin</th>\n",
       "      <th>insulin</th>\n",
       "      <th>bmi</th>\n",
       "      <th>pedigree</th>\n",
       "      <th>age</th>\n",
       "      <th>label</th>\n",
       "    </tr>\n",
       "  </thead>\n",
       "  <tbody>\n",
       "    <tr>\n",
       "      <th>0</th>\n",
       "      <td>6</td>\n",
       "      <td>148</td>\n",
       "      <td>72</td>\n",
       "      <td>35</td>\n",
       "      <td>0</td>\n",
       "      <td>33.6</td>\n",
       "      <td>0.627</td>\n",
       "      <td>50</td>\n",
       "      <td>1</td>\n",
       "    </tr>\n",
       "    <tr>\n",
       "      <th>1</th>\n",
       "      <td>1</td>\n",
       "      <td>85</td>\n",
       "      <td>66</td>\n",
       "      <td>29</td>\n",
       "      <td>0</td>\n",
       "      <td>26.6</td>\n",
       "      <td>0.351</td>\n",
       "      <td>31</td>\n",
       "      <td>0</td>\n",
       "    </tr>\n",
       "    <tr>\n",
       "      <th>2</th>\n",
       "      <td>8</td>\n",
       "      <td>183</td>\n",
       "      <td>64</td>\n",
       "      <td>0</td>\n",
       "      <td>0</td>\n",
       "      <td>23.3</td>\n",
       "      <td>0.672</td>\n",
       "      <td>32</td>\n",
       "      <td>1</td>\n",
       "    </tr>\n",
       "    <tr>\n",
       "      <th>3</th>\n",
       "      <td>1</td>\n",
       "      <td>89</td>\n",
       "      <td>66</td>\n",
       "      <td>23</td>\n",
       "      <td>94</td>\n",
       "      <td>28.1</td>\n",
       "      <td>0.167</td>\n",
       "      <td>21</td>\n",
       "      <td>0</td>\n",
       "    </tr>\n",
       "    <tr>\n",
       "      <th>4</th>\n",
       "      <td>0</td>\n",
       "      <td>137</td>\n",
       "      <td>40</td>\n",
       "      <td>35</td>\n",
       "      <td>168</td>\n",
       "      <td>43.1</td>\n",
       "      <td>2.288</td>\n",
       "      <td>33</td>\n",
       "      <td>1</td>\n",
       "    </tr>\n",
       "  </tbody>\n",
       "</table>\n",
       "</div>"
      ],
      "text/plain": [
       "   pregnant  glucose  bp  skin  insulin   bmi  pedigree  age  label\n",
       "0         6      148  72    35        0  33.6     0.627   50      1\n",
       "1         1       85  66    29        0  26.6     0.351   31      0\n",
       "2         8      183  64     0        0  23.3     0.672   32      1\n",
       "3         1       89  66    23       94  28.1     0.167   21      0\n",
       "4         0      137  40    35      168  43.1     2.288   33      1"
      ]
     },
     "execution_count": 10,
     "metadata": {},
     "output_type": "execute_result"
    }
   ],
   "source": [
    "pima.head()"
   ]
  },
  {
   "cell_type": "code",
   "execution_count": 11,
   "id": "mI_zB-KRUlud",
   "metadata": {
    "executionInfo": {
     "elapsed": 399,
     "status": "ok",
     "timestamp": 1698817470135,
     "user": {
      "displayName": "﻿안재윤(전임교원/통계학과)",
      "userId": "02619146530199681853"
     },
     "user_tz": -540
    },
    "id": "mI_zB-KRUlud"
   },
   "outputs": [],
   "source": [
    "feature_cols = ['pregnant', 'insulin', 'bmi', 'age','glucose','bp','pedigree']\n",
    "X = pima[feature_cols] # Features\n",
    "y = pima.label # Target variable"
   ]
  },
  {
   "cell_type": "code",
   "execution_count": 12,
   "id": "JxdTDzXmU8wJ",
   "metadata": {
    "colab": {
     "base_uri": "https://localhost:8080/"
    },
    "executionInfo": {
     "elapsed": 3,
     "status": "ok",
     "timestamp": 1698817475257,
     "user": {
      "displayName": "﻿안재윤(전임교원/통계학과)",
      "userId": "02619146530199681853"
     },
     "user_tz": -540
    },
    "id": "JxdTDzXmU8wJ",
    "outputId": "5e297b36-6f74-4d00-ef38-dbec36875e21"
   },
   "outputs": [
    {
     "data": {
      "text/plain": [
       "(768, 7)"
      ]
     },
     "execution_count": 12,
     "metadata": {},
     "output_type": "execute_result"
    }
   ],
   "source": [
    "X.shape"
   ]
  },
  {
   "cell_type": "code",
   "execution_count": 13,
   "id": "UKPoRLXxUqb3",
   "metadata": {
    "executionInfo": {
     "elapsed": 964,
     "status": "ok",
     "timestamp": 1698817487260,
     "user": {
      "displayName": "﻿안재윤(전임교원/통계학과)",
      "userId": "02619146530199681853"
     },
     "user_tz": -540
    },
    "id": "UKPoRLXxUqb3"
   },
   "outputs": [],
   "source": [
    "n=X.shape[0]\n",
    "X = torch.tensor(X.values, dtype=torch.float32)\n",
    "Y = torch.tensor(y.values, dtype=torch.float32).reshape([n,1])"
   ]
  },
  {
   "cell_type": "code",
   "execution_count": 14,
   "id": "8wPePlHnUqXf",
   "metadata": {
    "executionInfo": {
     "elapsed": 5,
     "status": "ok",
     "timestamp": 1698817488537,
     "user": {
      "displayName": "﻿안재윤(전임교원/통계학과)",
      "userId": "02619146530199681853"
     },
     "user_tz": -540
    },
    "id": "8wPePlHnUqXf"
   },
   "outputs": [],
   "source": [
    "X_mean = torch.mean(X, axis=0)\n",
    "X_std = torch.std(X, axis=0)"
   ]
  },
  {
   "cell_type": "code",
   "execution_count": 15,
   "id": "sXRNUK2SUqU6",
   "metadata": {
    "executionInfo": {
     "elapsed": 5,
     "status": "ok",
     "timestamp": 1698817489738,
     "user": {
      "displayName": "﻿안재윤(전임교원/통계학과)",
      "userId": "02619146530199681853"
     },
     "user_tz": -540
    },
    "id": "sXRNUK2SUqU6"
   },
   "outputs": [],
   "source": [
    "XX = (X-X_mean)/X_std\n",
    "dataset = TensorDataset(XX,Y)\n",
    "trainloader = DataLoader(dataset=dataset, batch_size=32, shuffle=True)"
   ]
  },
  {
   "cell_type": "code",
   "execution_count": null,
   "id": "9mFbDbJ2VyJB",
   "metadata": {
    "id": "9mFbDbJ2VyJB"
   },
   "outputs": [],
   "source": []
  },
  {
   "cell_type": "code",
   "execution_count": null,
   "id": "ouysoPmiVyGQ",
   "metadata": {
    "id": "ouysoPmiVyGQ"
   },
   "outputs": [],
   "source": []
  },
  {
   "cell_type": "code",
   "execution_count": null,
   "id": "DW9Z5DGrVyEE",
   "metadata": {
    "id": "DW9Z5DGrVyEE"
   },
   "outputs": [],
   "source": []
  },
  {
   "cell_type": "code",
   "execution_count": null,
   "id": "ivyfexNwVyBg",
   "metadata": {
    "id": "ivyfexNwVyBg"
   },
   "outputs": [],
   "source": []
  },
  {
   "cell_type": "code",
   "execution_count": null,
   "id": "bbiXdO8dII-p",
   "metadata": {
    "id": "bbiXdO8dII-p"
   },
   "outputs": [],
   "source": []
  },
  {
   "cell_type": "markdown",
   "id": "pdFjvBakmh2r",
   "metadata": {
    "id": "pdFjvBakmh2r"
   },
   "source": [
    "## 1.2 Logistic regression"
   ]
  },
  {
   "cell_type": "markdown",
   "id": "0oOXA4GknT0A",
   "metadata": {
    "id": "0oOXA4GknT0A"
   },
   "source": [
    "Assume\n",
    "\n",
    "$y_i \\sim {\\rm Ber}(p_i)\\quad$   for $\\quad i=1, \\cdots, n$\n",
    "\n",
    "where $p_i=\\sigma(X_iW+b)$. Here, $\\sigma$ is a sigmoid function defined by\n",
    "\n",
    "$\\sigma(x)=\\frac{1}{1+\\exp(-x)}$.\n",
    "\n",
    "In torch, we use `torch.sigmoid(x)`.\n",
    "\n",
    "Then likelihood function is given by\n",
    "\n",
    "$L(W, b):=\\prod\\limits_{i=1}^{n}f_{W, b}(y_i; X_i)$\n",
    "\n",
    "where\n",
    "\n",
    "$f_{W, b}(y_i; X_i)=\\left(p_i\\right)^{y_i}\\left(1-p_i\\right)^{1-y_i}=\n",
    "\\begin{cases}\n",
    "p_i, & y_i=1;\\\\\n",
    "1-p_i, & y_i=0.\\\\\n",
    "\\end{cases}\n",
    "$"
   ]
  },
  {
   "cell_type": "markdown",
   "id": "EMO3TIaMagV_",
   "metadata": {
    "id": "EMO3TIaMagV_"
   },
   "source": []
  },
  {
   "cell_type": "code",
   "execution_count": null,
   "id": "mDotl1tuaf5e",
   "metadata": {
    "id": "mDotl1tuaf5e"
   },
   "outputs": [],
   "source": []
  },
  {
   "cell_type": "code",
   "execution_count": 12,
   "id": "xVwYWCoLG9LF",
   "metadata": {
    "executionInfo": {
     "elapsed": 1288,
     "status": "ok",
     "timestamp": 1698817501967,
     "user": {
      "displayName": "﻿안재윤(전임교원/통계학과)",
      "userId": "02619146530199681853"
     },
     "user_tz": -540
    },
    "id": "xVwYWCoLG9LF"
   },
   "outputs": [],
   "source": [
    "linear_model = torch.nn.Linear(7,1, bias=True)\n",
    "def neg_log_lik(phat,y):\n",
    "    out = -1 * torch.mean(y * torch.log(phat) + (1 - y) * torch.log(1 - phat))\n",
    "    return out\n",
    "my_optimizer = torch.optim.SGD(linear_model.parameters(), lr = 0.1)"
   ]
  },
  {
   "cell_type": "code",
   "execution_count": 13,
   "id": "hU6ZvIP-SpiB",
   "metadata": {
    "executionInfo": {
     "elapsed": 2895,
     "status": "ok",
     "timestamp": 1698817521141,
     "user": {
      "displayName": "﻿안재윤(전임교원/통계학과)",
      "userId": "02619146530199681853"
     },
     "user_tz": -540
    },
    "id": "hU6ZvIP-SpiB"
   },
   "outputs": [],
   "source": [
    "epochs=100\n",
    "history=[]\n",
    "n=XX.shape[0]\n",
    "\n",
    "\n",
    "for epoch in range(epochs):\n",
    "  LOSS_sum = 0\n",
    "  for xx, yy in trainloader:\n",
    "    p_lin = linear_model(xx)\n",
    "    phat = torch.sigmoid(p_lin)\n",
    "    loss = neg_log_lik(phat, yy)\n",
    "    LOSS_sum = LOSS_sum + loss * len(yy)\n",
    "    my_optimizer.zero_grad()\n",
    "    loss.backward()\n",
    "    my_optimizer.step()\n",
    "  history.append(LOSS_sum.item()/n)\n"
   ]
  },
  {
   "cell_type": "code",
   "execution_count": 14,
   "id": "DmLP9VCsY1q5",
   "metadata": {
    "colab": {
     "base_uri": "https://localhost:8080/",
     "height": 451
    },
    "executionInfo": {
     "elapsed": 641,
     "status": "ok",
     "timestamp": 1698817528306,
     "user": {
      "displayName": "﻿안재윤(전임교원/통계학과)",
      "userId": "02619146530199681853"
     },
     "user_tz": -540
    },
    "id": "DmLP9VCsY1q5",
    "outputId": "363ae273-ffd9-439c-b66e-97a7bb5d5308"
   },
   "outputs": [
    {
     "data": {
      "text/plain": [
       "[<matplotlib.lines.Line2D at 0x7f75128a2080>]"
      ]
     },
     "execution_count": 14,
     "metadata": {},
     "output_type": "execute_result"
    },
    {
     "data": {
      "image/png": "[encoded data removed]",
      "text/plain": [
       "<Figure size 640x480 with 1 Axes>"
      ]
     },
     "metadata": {},
     "output_type": "display_data"
    }
   ],
   "source": [
    "import matplotlib.pyplot as plt\n",
    "plt.plot(history)"
   ]
  },
  {
   "cell_type": "markdown",
   "id": "tvqRIkVEaOx3",
   "metadata": {
    "id": "tvqRIkVEaOx3"
   },
   "source": [
    "### 1.2.1 Classification\n",
    "\n",
    "Now we calculate accuracy of the classification.\n",
    "\n",
    "Let's start with the classification.\n",
    "\n",
    "We classify\n",
    "\n",
    "$\n",
    "\\widehat{y}_i\n",
    "=\\begin{cases}\n",
    "1, & \\widehat{p}_i >0.5;\\\\\n",
    "0, & \\widehat{p}_i \\le 0.5.\n",
    "\\end{cases}\n",
    "$"
   ]
  },
  {
   "cell_type": "markdown",
   "id": "waTWAoldptcD",
   "metadata": {
    "id": "waTWAoldptcD"
   },
   "source": [
    "Calculate the probability of diabete of the first person:\n",
    "\n",
    "```\n",
    "['pregnant', 'insulin', 'bmi', 'age','glucose','bp','pedigree'] = [  6.0000,   0.0000,  33.6000,  50.0000, 148.0000,  72.0000,   0.6270]\n",
    "```"
   ]
  },
  {
   "cell_type": "code",
   "execution_count": 15,
   "id": "2qC4gVb0qOa8",
   "metadata": {
    "colab": {
     "base_uri": "https://localhost:8080/"
    },
    "executionInfo": {
     "elapsed": 460,
     "status": "ok",
     "timestamp": 1698817537201,
     "user": {
      "displayName": "﻿안재윤(전임교원/통계학과)",
      "userId": "02619146530199681853"
     },
     "user_tz": -540
    },
    "id": "2qC4gVb0qOa8",
    "outputId": "22dda6ce-8254-497a-83c2-9501d728c481"
   },
   "outputs": [
    {
     "data": {
      "text/plain": [
       "tensor([[0.7212]], grad_fn=<SigmoidBackward0>)"
      ]
     },
     "execution_count": 15,
     "metadata": {},
     "output_type": "execute_result"
    }
   ],
   "source": [
    "xx = (torch.tensor([[  6.0000,   0.0000,  33.6000,  50.0000, 148.0000,  72.0000,   0.6270]])-X_mean)/X_std\n",
    "phat = torch.sigmoid(linear_model(xx))\n",
    "phat\n"
   ]
  },
  {
   "cell_type": "markdown",
   "id": "07imh0fwbGoH",
   "metadata": {
    "id": "07imh0fwbGoH"
   },
   "source": [
    "Then, accuracy is calculated as follows:"
   ]
  },
  {
   "cell_type": "code",
   "execution_count": 16,
   "id": "-YfoIuapbAnY",
   "metadata": {
    "colab": {
     "base_uri": "https://localhost:8080/"
    },
    "executionInfo": {
     "elapsed": 395,
     "status": "ok",
     "timestamp": 1698817553710,
     "user": {
      "displayName": "﻿안재윤(전임교원/통계학과)",
      "userId": "02619146530199681853"
     },
     "user_tz": -540
    },
    "id": "-YfoIuapbAnY",
    "outputId": "8f9253e2-acc2-4ce0-cfa9-9a6a8b8e1e3c"
   },
   "outputs": [
    {
     "data": {
      "text/plain": [
       "tensor(0.7852)"
      ]
     },
     "execution_count": 16,
     "metadata": {},
     "output_type": "execute_result"
    }
   ],
   "source": [
    "phat = torch.sigmoid(linear_model(XX))\n",
    "yhat = (phat>0.5).type(torch.float32)\n",
    "\n",
    "accuracy = torch.mean((Y == yhat).type(torch.float32))\n",
    "accuracy"
   ]
  },
  {
   "cell_type": "code",
   "execution_count": null,
   "id": "vNyfGY8pdhyQ",
   "metadata": {
    "colab": {
     "base_uri": "https://localhost:8080/"
    },
    "executionInfo": {
     "elapsed": 468,
     "status": "ok",
     "timestamp": 1697680916865,
     "user": {
      "displayName": "﻿안재윤(전임교원/통계학과)",
      "userId": "02619146530199681853"
     },
     "user_tz": -540
    },
    "id": "vNyfGY8pdhyQ",
    "outputId": "7af0a0e7-3be2-4509-fa95-e0c64a53d33e"
   },
   "outputs": [
    {
     "data": {
      "text/plain": [
       "tensor([[0.7197],\n",
       "        [0.0479],\n",
       "        [0.7966]], grad_fn=<SliceBackward0>)"
      ]
     },
     "execution_count": 122,
     "metadata": {},
     "output_type": "execute_result"
    }
   ],
   "source": [
    "phat[0:3]"
   ]
  },
  {
   "cell_type": "markdown",
   "id": "QBxl77UWdiOH",
   "metadata": {
    "id": "QBxl77UWdiOH"
   },
   "source": [
    "### 1.2.2 Custom Layer\n",
    "\n",
    "Here, we use custom layer to define the logistic model:"
   ]
  },
  {
   "cell_type": "code",
   "execution_count": null,
   "id": "GTkqPZRYeePv",
   "metadata": {
    "id": "GTkqPZRYeePv"
   },
   "outputs": [],
   "source": [
    "class my_logistic(torch.nn.Module):\n",
    "    def __init__(self, in_units, units):\n",
    "        super().__init__()\n",
    "        self.linear = torch.nn.Linear(in_units, units, bias=True)\n",
    "\n",
    "    def forward(self, X):\n",
    "        temp = torch.sigmoid(self.linear(X))\n",
    "        return temp"
   ]
  },
  {
   "cell_type": "markdown",
   "id": "vEXScSRCjpAI",
   "metadata": {
    "id": "vEXScSRCjpAI"
   },
   "source": [
    "Note that we have `sigmoid` function inside the layer. Now, we train the model"
   ]
  },
  {
   "cell_type": "code",
   "execution_count": null,
   "id": "1UyQCiSnjnE5",
   "metadata": {
    "id": "1UyQCiSnjnE5"
   },
   "outputs": [],
   "source": []
  },
  {
   "cell_type": "code",
   "execution_count": null,
   "id": "e3SZLP6ejxup",
   "metadata": {
    "id": "e3SZLP6ejxup"
   },
   "outputs": [],
   "source": [
    "linear_model = my_logistic(7,1)\n",
    "def neg_log_lik(phat,y):\n",
    "    out = -1 * torch.mean(y * torch.log(phat) + (1 - y) * torch.log(1 - phat))\n",
    "    return out\n",
    "my_optimizer = torch.optim.SGD(linear_model.parameters(), lr = 0.1)"
   ]
  },
  {
   "cell_type": "code",
   "execution_count": null,
   "id": "yUdTDWnmjxup",
   "metadata": {
    "id": "yUdTDWnmjxup"
   },
   "outputs": [],
   "source": [
    "epochs=100\n",
    "history=[]\n",
    "n=XX.shape[0]\n",
    "\n",
    "\n",
    "for epoch in range(epochs):\n",
    "  LOSS_sum = 0\n",
    "  for xx, yy in trainloader:\n",
    "    phat = linear_model(xx)\n",
    "    loss = neg_log_lik(phat, yy)\n",
    "    LOSS_sum = LOSS_sum + loss * len(yy)\n",
    "    my_optimizer.zero_grad()\n",
    "    loss.backward()\n",
    "    my_optimizer.step()\n",
    "  history.append(LOSS_sum.item()/n)"
   ]
  },
  {
   "cell_type": "code",
   "execution_count": null,
   "id": "Vf80uZ6Xj5IF",
   "metadata": {
    "colab": {
     "base_uri": "https://localhost:8080/",
     "height": 452
    },
    "executionInfo": {
     "elapsed": 423,
     "status": "ok",
     "timestamp": 1697679127483,
     "user": {
      "displayName": "﻿안재윤(전임교원/통계학과)",
      "userId": "02619146530199681853"
     },
     "user_tz": -540
    },
    "id": "Vf80uZ6Xj5IF",
    "outputId": "b4f77829-2f77-490c-d08e-57c65dc3bba7"
   },
   "outputs": [
    {
     "data": {
      "text/plain": [
       "[<matplotlib.lines.Line2D at 0x7ba0c2b14940>]"
      ]
     },
     "execution_count": 98,
     "metadata": {},
     "output_type": "execute_result"
    },
    {
     "data": {
      "image/png": "[encoded data removed]",
      "text/plain": [
       "<Figure size 640x480 with 1 Axes>"
      ]
     },
     "metadata": {},
     "output_type": "display_data"
    }
   ],
   "source": [
    "plt.plot(history)"
   ]
  },
  {
   "cell_type": "markdown",
   "id": "ZdpHuttgj8FT",
   "metadata": {
    "id": "ZdpHuttgj8FT"
   },
   "source": [
    "Caculate the accyracy:"
   ]
  },
  {
   "cell_type": "code",
   "execution_count": null,
   "id": "ykYYw_9XkBp8",
   "metadata": {
    "id": "ykYYw_9XkBp8"
   },
   "outputs": [],
   "source": [
    "phat = linear_model(XX)\n",
    "yhat = (phat>0.5)*1.0"
   ]
  },
  {
   "cell_type": "code",
   "execution_count": null,
   "id": "8ShdoMVDkBp9",
   "metadata": {
    "colab": {
     "base_uri": "https://localhost:8080/"
    },
    "executionInfo": {
     "elapsed": 3,
     "status": "ok",
     "timestamp": 1697679170406,
     "user": {
      "displayName": "﻿안재윤(전임교원/통계학과)",
      "userId": "02619146530199681853"
     },
     "user_tz": -540
    },
    "id": "8ShdoMVDkBp9",
    "outputId": "91c45f6a-e380-479d-b0fe-bcc13dae155f"
   },
   "outputs": [
    {
     "data": {
      "text/plain": [
       "tensor(0.7852)"
      ]
     },
     "execution_count": 100,
     "metadata": {},
     "output_type": "execute_result"
    }
   ],
   "source": [
    "accuracy = torch.mean((Y == yhat)*1.0)\n",
    "accuracy"
   ]
  },
  {
   "cell_type": "markdown",
   "id": "UHmS9w60kViL",
   "metadata": {
    "id": "UHmS9w60kViL"
   },
   "source": [
    "### 1.2.3 Sequential model\n",
    "\n",
    "`torch.nn.Sequential` 은 순서를 갖는 모듈의 컨테이너입니다. 데이터는 정의된 것과 같은 순서로 모든 모듈들을 통해 전달됩니다. 순차 컨테이너(sequential container)를 사용하여 아래의 seq_modules 와 같은 신경망을 빠르게 만들 수 있습니다."
   ]
  },
  {
   "cell_type": "code",
   "execution_count": null,
   "id": "K2_k6zXvHx-5",
   "metadata": {
    "id": "K2_k6zXvHx-5"
   },
   "outputs": [],
   "source": [
    "model = torch.nn.Sequential(\n",
    "    torch.nn.Linear(7,1, bias=True),\n",
    "    torch.nn.Sigmoid()\n",
    ")\n",
    "yhat = model(XX)"
   ]
  },
  {
   "cell_type": "markdown",
   "id": "osbBpM5jk4mi",
   "metadata": {
    "id": "osbBpM5jk4mi"
   },
   "source": [
    "The above code can be understood as follows:\n",
    "\n",
    "```\n",
    "mod1 = torch.nn.Linear(7,1, bias=True)\n",
    "mod2 = torch.nn.Sigmoid()\n",
    "yhat = mod2(mod1(X))\n",
    "```"
   ]
  },
  {
   "cell_type": "markdown",
   "id": "QVPvRee2n_kl",
   "metadata": {
    "id": "QVPvRee2n_kl"
   },
   "source": [
    "### Exercise 1.2.3.1\n",
    "\n",
    "Complete the training using the above code, and calculate the train accuracy."
   ]
  },
  {
   "cell_type": "code",
   "execution_count": null,
   "id": "0DDpfWb_Hx8N",
   "metadata": {
    "id": "0DDpfWb_Hx8N"
   },
   "outputs": [],
   "source": [
    "\n",
    "\n",
    "def criterion(yhat0,y0):\n",
    "    out = -1 * torch.mean(y0 * torch.log(yhat0) + (1 - y0) * torch.log(1 - yhat0))\n",
    "    return out\n",
    "\n",
    "# Build in criterion\n",
    "# criterion = nn.BCELoss()\n",
    "learning_rate = 0.5\n",
    "optimizer = torch.optim.SGD(model.parameters(), lr = learning_rate)"
   ]
  },
  {
   "cell_type": "markdown",
   "id": "QLAciO71oX5P",
   "metadata": {
    "id": "QLAciO71oX5P"
   },
   "source": [
    "#### Exercise 1.2.3.2\n",
    "\n",
    "So far we have used the following loss function:\n",
    "\n",
    "```\n",
    "def neg_log_lik(phat,y):\n",
    "    out = -1 * torch.mean(y * torch.log(phat) + (1 - y) * torch.log(1 - phat))\n",
    "    return out\n",
    "```\n",
    "\n",
    "Equivalently, you can use `torch.distributions.bernoulli.Bernoulli` function to define the loss function. Train the model again using this loss function, and calculate the train accuracy.\n"
   ]
  },
  {
   "cell_type": "code",
   "execution_count": null,
   "id": "X6gRfjuVITav",
   "metadata": {
    "id": "X6gRfjuVITav"
   },
   "outputs": [],
   "source": [
    "history=[]\n",
    "epochs=10000\n",
    "for epoch in range(epochs):\n",
    "        Phat = model(X)\n",
    "        LOSS = criterion(Phat, Y)\n",
    "        #LOSS = torch.nn.functional.binary_cross_entropy(Phat, Y)\n",
    "        history.append(LOSS.item())\n",
    "        optimizer.zero_grad()\n",
    "        LOSS.backward()\n",
    "        optimizer.step()\n"
   ]
  },
  {
   "cell_type": "code",
   "execution_count": null,
   "id": "ik4U2bAmIj15",
   "metadata": {
    "colab": {
     "base_uri": "https://localhost:8080/",
     "height": 283
    },
    "executionInfo": {
     "elapsed": 22,
     "status": "ok",
     "timestamp": 1665708023931,
     "user": {
      "displayName": "﻿안재윤(전임교원/통계학과)",
      "userId": "02619146530199681853"
     },
     "user_tz": -540
    },
    "id": "ik4U2bAmIj15",
    "outputId": "e2bda567-55e5-46fb-a954-b6dfc959351b"
   },
   "outputs": [
    {
     "data": {
      "text/plain": [
       "[<matplotlib.lines.Line2D at 0x7f48e04c18d0>]"
      ]
     },
     "execution_count": 7,
     "metadata": {},
     "output_type": "execute_result"
    },
    {
     "data": {
      "image/png": "[encoded data removed]",
      "text/plain": [
       "<Figure size 432x288 with 1 Axes>"
      ]
     },
     "metadata": {
      "needs_background": "light"
     },
     "output_type": "display_data"
    }
   ],
   "source": [
    "plt.plot(history)"
   ]
  },
  {
   "cell_type": "code",
   "execution_count": null,
   "id": "iJNZUdtdHhcs",
   "metadata": {
    "colab": {
     "base_uri": "https://localhost:8080/"
    },
    "executionInfo": {
     "elapsed": 658,
     "status": "ok",
     "timestamp": 1665708027522,
     "user": {
      "displayName": "﻿안재윤(전임교원/통계학과)",
      "userId": "02619146530199681853"
     },
     "user_tz": -540
    },
    "id": "iJNZUdtdHhcs",
    "outputId": "f489f492-d9f0-4150-c4d6-a2b9d3cf86fb"
   },
   "outputs": [
    {
     "data": {
      "text/plain": [
       "tensor([[0.2131],\n",
       "        [0.5651],\n",
       "        [0.3318],\n",
       "        [0.8471],\n",
       "        [0.9196],\n",
       "        [0.9104],\n",
       "        [0.2131]], grad_fn=<SigmoidBackward0>)"
      ]
     },
     "execution_count": 8,
     "metadata": {},
     "output_type": "execute_result"
    }
   ],
   "source": [
    "yhat = model(X)\n",
    "yhat"
   ]
  },
  {
   "cell_type": "code",
   "execution_count": null,
   "id": "BTt7uyOYJ3d3",
   "metadata": {
    "colab": {
     "base_uri": "https://localhost:8080/"
    },
    "executionInfo": {
     "elapsed": 5,
     "status": "ok",
     "timestamp": 1665708028032,
     "user": {
      "displayName": "﻿안재윤(전임교원/통계학과)",
      "userId": "02619146530199681853"
     },
     "user_tz": -540
    },
    "id": "BTt7uyOYJ3d3",
    "outputId": "8cbdea03-6aad-41d6-b6bc-2de89b1d1bc2"
   },
   "outputs": [
    {
     "name": "stdout",
     "output_type": "stream",
     "text": [
      "The accuracy:  tensor(0.7143)\n"
     ]
    }
   ],
   "source": [
    "\n",
    "yhat = model(X)\n",
    "label = yhat > 0.5\n",
    "print(\"The accuracy: \", torch.mean((label == Y).type(torch.float)))"
   ]
  },
  {
   "cell_type": "code",
   "execution_count": null,
   "id": "Bu6IJeDCV1t_",
   "metadata": {
    "id": "Bu6IJeDCV1t_"
   },
   "outputs": [],
   "source": []
  },
  {
   "cell_type": "markdown",
   "id": "wr7trLZn5GhR",
   "metadata": {
    "id": "wr7trLZn5GhR"
   },
   "source": [
    "## Exercise 1.2.3: Heart attack patients\n"
   ]
  },
  {
   "cell_type": "markdown",
   "id": "6JhXDF387kPr",
   "metadata": {
    "id": "6JhXDF387kPr"
   },
   "source": [
    "Suppose that we are working with some doctors on heart attack patients. The dependent variable is whether the patient has had a second heart attack ($Y$)within 1 year (yes = 1). We have two independent variables, one is whether the patient completed a treatment consistent of anger control practices ($W_1$) (yes=1). The other is a score on a trait anxiety scale ($W_2$) (a higher score means more anxious). You want to model\n",
    "\n",
    "$Y\\sim {\\rm Ber}(p_i)$\n",
    "\n",
    "where $p_i=\\sigma(x_iW+b)$ with $W=\n",
    "\\left(\\begin{matrix}\n",
    "W_1\\\\\n",
    "W_2\n",
    "\\end{matrix}\\right).\n",
    "$\n",
    "\n",
    "Answer the following problems:\n",
    "\n",
    "1. Build the model which best describe the heart attack mechanism. You may want to standardize the explanatory variables before define the model.\n",
    "\n",
    "2. Using the model, train the model.\n",
    "\n",
    "3. What is the probability that a person of\n",
    "\n",
    "`Treatment of Anger =1` and `Trait Anxiety =75`\n",
    "\n",
    "4. Calculate the train accuracy of the model.\n",
    "\n",
    "<img src=\"https://drive.google.com/uc?id=1BJMmWmeDUJFXis6nc7X7Sd6o832B1_OC\" height=\"600\" width=\"400\">"
   ]
  },
  {
   "cell_type": "code",
   "execution_count": null,
   "id": "Vjge7ym-8T6u",
   "metadata": {
    "colab": {
     "base_uri": "https://localhost:8080/"
    },
    "executionInfo": {
     "elapsed": 3,
     "status": "ok",
     "timestamp": 1665708342786,
     "user": {
      "displayName": "﻿안재윤(전임교원/통계학과)",
      "userId": "02619146530199681853"
     },
     "user_tz": -540
    },
    "id": "Vjge7ym-8T6u",
    "outputId": "6d8d0857-fbe2-4813-eca8-fae1b2411b39"
   },
   "outputs": [
    {
     "data": {
      "text/plain": [
       "array([[ 1.,  1., 70.],\n",
       "       [ 1.,  1., 80.],\n",
       "       [ 1.,  1., 50.],\n",
       "       [ 1.,  0., 60.],\n",
       "       [ 1.,  0., 40.],\n",
       "       [ 1.,  0., 65.],\n",
       "       [ 1.,  0., 75.],\n",
       "       [ 1.,  0., 80.],\n",
       "       [ 1.,  0., 70.],\n",
       "       [ 1.,  0., 60.],\n",
       "       [ 0.,  1., 65.],\n",
       "       [ 0.,  1., 50.],\n",
       "       [ 0.,  1., 45.],\n",
       "       [ 0.,  1., 35.],\n",
       "       [ 0.,  1., 40.],\n",
       "       [ 0.,  1., 50.],\n",
       "       [ 0.,  0., 55.],\n",
       "       [ 0.,  0., 45.],\n",
       "       [ 0.,  0., 50.],\n",
       "       [ 0.,  0., 60.]], dtype=float32)"
      ]
     },
     "execution_count": 12,
     "metadata": {},
     "output_type": "execute_result"
    }
   ],
   "source": [
    "data = np.array([[1,1,70], [1,1,80], [1,1,50],[1,0,60], [1,0,40], [1, 0, 65], [1,0,75], [1,0,80], [1,0,70], [1,0,60], [0,1,65], [0,1,50], [0,1,45], [0,1,35], [0,1,40], [0,1,50], [0,0,55], [0,0,45], [0,0,50], [0,0,60]], dtype=np.float32)\n",
    "data"
   ]
  },
  {
   "cell_type": "markdown",
   "id": "ncmhbXdx7-dW",
   "metadata": {
    "id": "ncmhbXdx7-dW"
   },
   "source": [
    "## Exercise 2. Repeat the above using custom layer."
   ]
  },
  {
   "cell_type": "code",
   "execution_count": null,
   "id": "qFbkSDCp76Eg",
   "metadata": {
    "id": "qFbkSDCp76Eg"
   },
   "outputs": [],
   "source": []
  },
  {
   "cell_type": "code",
   "execution_count": null,
   "id": "EZNN4iLB76Bk",
   "metadata": {
    "id": "EZNN4iLB76Bk"
   },
   "outputs": [],
   "source": []
  },
  {
   "cell_type": "code",
   "execution_count": null,
   "id": "Ti_1BSxn5PUw",
   "metadata": {
    "id": "Ti_1BSxn5PUw"
   },
   "outputs": [],
   "source": []
  }
 ],
 "metadata": {
  "accelerator": "GPU",
  "colab": {
   "machine_shape": "hm",
   "provenance": []
  },
  "kernelspec": {
   "display_name": "Python 3 (ipykernel)",
   "language": "python",
   "name": "python3"
  },
  "language_info": {
   "codemirror_mode": {
    "name": "ipython",
    "version": 3
   },
   "file_extension": ".py",
   "mimetype": "text/x-python",
   "name": "python",
   "nbconvert_exporter": "python",
   "pygments_lexer": "ipython3",
   "version": "3.11.5"
  }
 },
 "nbformat": 4,
 "nbformat_minor": 5
}
