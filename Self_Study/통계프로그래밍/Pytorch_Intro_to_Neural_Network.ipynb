{
 "cells": [
  {
   "cell_type": "markdown",
   "metadata": {
    "id": "x43wVhW7f1Vp"
   },
   "source": [
    "# Introduction to Neural Networks"
   ]
  },
  {
   "cell_type": "code",
   "execution_count": null,
   "metadata": {
    "id": "Z4AM7Y9PgfdV"
   },
   "outputs": [],
   "source": []
  },
  {
   "cell_type": "code",
   "execution_count": null,
   "metadata": {
    "colab": {
     "base_uri": "https://localhost:8080/",
     "height": 1000
    },
    "executionInfo": {
     "elapsed": 19487,
     "status": "ok",
     "timestamp": 1698391669929,
     "user": {
      "displayName": "﻿안재윤(전임교원/통계학과)",
      "userId": "02619146530199681853"
     },
     "user_tz": -540
    },
    "id": "ym6_UY7v03iE",
    "outputId": "6cd02274-b9b6-407d-fd96-82bb6eb05be9"
   },
   "outputs": [
    {
     "name": "stdout",
     "output_type": "stream",
     "text": [
      "Collecting ISLP\n",
      "  Downloading ISLP-0.3.21-py3-none-any.whl (3.6 MB)\n",
      "\u001b[2K     \u001b[90m━━━━━━━━━━━━━━━━━━━━━━━━━━━━━━━━━━━━━━━━\u001b[0m \u001b[32m3.6/3.6 MB\u001b[0m \u001b[31m17.3 MB/s\u001b[0m eta \u001b[36m0:00:00\u001b[0m\n",
      "\u001b[?25hRequirement already satisfied: numpy<1.25,>=1.7.1 in /usr/local/lib/python3.10/dist-packages (from ISLP) (1.23.5)\n",
      "Requirement already satisfied: scipy>=0.9 in /usr/local/lib/python3.10/dist-packages (from ISLP) (1.11.3)\n",
      "Requirement already satisfied: pandas<=1.9,>=0.20 in /usr/local/lib/python3.10/dist-packages (from ISLP) (1.5.3)\n",
      "Requirement already satisfied: lxml in /usr/local/lib/python3.10/dist-packages (from ISLP) (4.9.3)\n",
      "Requirement already satisfied: scikit-learn>=1.2 in /usr/local/lib/python3.10/dist-packages (from ISLP) (1.2.2)\n",
      "Requirement already satisfied: joblib in /usr/local/lib/python3.10/dist-packages (from ISLP) (1.3.2)\n",
      "Requirement already satisfied: statsmodels>=0.13 in /usr/local/lib/python3.10/dist-packages (from ISLP) (0.14.0)\n",
      "Collecting lifelines (from ISLP)\n",
      "  Downloading lifelines-0.27.8-py3-none-any.whl (350 kB)\n",
      "\u001b[2K     \u001b[90m━━━━━━━━━━━━━━━━━━━━━━━━━━━━━━━━━━━━━━━━\u001b[0m \u001b[32m350.7/350.7 kB\u001b[0m \u001b[31m25.5 MB/s\u001b[0m eta \u001b[36m0:00:00\u001b[0m\n",
      "\u001b[?25hCollecting pygam (from ISLP)\n",
      "  Downloading pygam-0.9.0-py3-none-any.whl (522 kB)\n",
      "\u001b[2K     \u001b[90m━━━━━━━━━━━━━━━━━━━━━━━━━━━━━━━━━━━━━━━━\u001b[0m \u001b[32m522.2/522.2 kB\u001b[0m \u001b[31m29.9 MB/s\u001b[0m eta \u001b[36m0:00:00\u001b[0m\n",
      "\u001b[?25hRequirement already satisfied: torch in /usr/local/lib/python3.10/dist-packages (from ISLP) (2.1.0+cu118)\n",
      "Collecting pytorch-lightning (from ISLP)\n",
      "  Downloading pytorch_lightning-2.1.0-py3-none-any.whl (774 kB)\n",
      "\u001b[2K     \u001b[90m━━━━━━━━━━━━━━━━━━━━━━━━━━━━━━━━━━━━━━━━\u001b[0m \u001b[32m774.6/774.6 kB\u001b[0m \u001b[31m30.0 MB/s\u001b[0m eta \u001b[36m0:00:00\u001b[0m\n",
      "\u001b[?25hCollecting torchmetrics (from ISLP)\n",
      "  Downloading torchmetrics-1.2.0-py3-none-any.whl (805 kB)\n",
      "\u001b[2K     \u001b[90m━━━━━━━━━━━━━━━━━━━━━━━━━━━━━━━━━━━━━━━━\u001b[0m \u001b[32m805.2/805.2 kB\u001b[0m \u001b[31m31.6 MB/s\u001b[0m eta \u001b[36m0:00:00\u001b[0m\n",
      "\u001b[?25hRequirement already satisfied: python-dateutil>=2.8.1 in /usr/local/lib/python3.10/dist-packages (from pandas<=1.9,>=0.20->ISLP) (2.8.2)\n",
      "Requirement already satisfied: pytz>=2020.1 in /usr/local/lib/python3.10/dist-packages (from pandas<=1.9,>=0.20->ISLP) (2023.3.post1)\n",
      "Requirement already satisfied: threadpoolctl>=2.0.0 in /usr/local/lib/python3.10/dist-packages (from scikit-learn>=1.2->ISLP) (3.2.0)\n",
      "Requirement already satisfied: patsy>=0.5.2 in /usr/local/lib/python3.10/dist-packages (from statsmodels>=0.13->ISLP) (0.5.3)\n",
      "Requirement already satisfied: packaging>=21.3 in /usr/local/lib/python3.10/dist-packages (from statsmodels>=0.13->ISLP) (23.2)\n",
      "Requirement already satisfied: matplotlib>=3.0 in /usr/local/lib/python3.10/dist-packages (from lifelines->ISLP) (3.7.1)\n",
      "Requirement already satisfied: autograd>=1.5 in /usr/local/lib/python3.10/dist-packages (from lifelines->ISLP) (1.6.2)\n",
      "Collecting autograd-gamma>=0.3 (from lifelines->ISLP)\n",
      "  Downloading autograd-gamma-0.5.0.tar.gz (4.0 kB)\n",
      "  Preparing metadata (setup.py) ... \u001b[?25l\u001b[?25hdone\n",
      "Collecting formulaic>=0.2.2 (from lifelines->ISLP)\n",
      "  Downloading formulaic-0.6.6-py3-none-any.whl (91 kB)\n",
      "\u001b[2K     \u001b[90m━━━━━━━━━━━━━━━━━━━━━━━━━━━━━━━━━━━━━━━━\u001b[0m \u001b[32m91.0/91.0 kB\u001b[0m \u001b[31m10.5 MB/s\u001b[0m eta \u001b[36m0:00:00\u001b[0m\n",
      "\u001b[?25hCollecting numpy<1.25,>=1.7.1 (from ISLP)\n",
      "  Downloading numpy-1.24.4-cp310-cp310-manylinux_2_17_x86_64.manylinux2014_x86_64.whl (17.3 MB)\n",
      "\u001b[2K     \u001b[90m━━━━━━━━━━━━━━━━━━━━━━━━━━━━━━━━━━━━━━━━\u001b[0m \u001b[32m17.3/17.3 MB\u001b[0m \u001b[31m41.4 MB/s\u001b[0m eta \u001b[36m0:00:00\u001b[0m\n",
      "\u001b[?25hRequirement already satisfied: progressbar2<5.0.0,>=4.2.0 in /usr/local/lib/python3.10/dist-packages (from pygam->ISLP) (4.2.0)\n",
      "Requirement already satisfied: tqdm>=4.57.0 in /usr/local/lib/python3.10/dist-packages (from pytorch-lightning->ISLP) (4.66.1)\n",
      "Requirement already satisfied: PyYAML>=5.4 in /usr/local/lib/python3.10/dist-packages (from pytorch-lightning->ISLP) (6.0.1)\n",
      "Requirement already satisfied: fsspec[http]>2021.06.0 in /usr/local/lib/python3.10/dist-packages (from pytorch-lightning->ISLP) (2023.6.0)\n",
      "Requirement already satisfied: typing-extensions>=4.0.0 in /usr/local/lib/python3.10/dist-packages (from pytorch-lightning->ISLP) (4.5.0)\n",
      "Collecting lightning-utilities>=0.8.0 (from pytorch-lightning->ISLP)\n",
      "  Downloading lightning_utilities-0.9.0-py3-none-any.whl (23 kB)\n",
      "Requirement already satisfied: filelock in /usr/local/lib/python3.10/dist-packages (from torch->ISLP) (3.12.4)\n",
      "Requirement already satisfied: sympy in /usr/local/lib/python3.10/dist-packages (from torch->ISLP) (1.12)\n",
      "Requirement already satisfied: networkx in /usr/local/lib/python3.10/dist-packages (from torch->ISLP) (3.2)\n",
      "Requirement already satisfied: jinja2 in /usr/local/lib/python3.10/dist-packages (from torch->ISLP) (3.1.2)\n",
      "Requirement already satisfied: triton==2.1.0 in /usr/local/lib/python3.10/dist-packages (from torch->ISLP) (2.1.0)\n",
      "Requirement already satisfied: future>=0.15.2 in /usr/local/lib/python3.10/dist-packages (from autograd>=1.5->lifelines->ISLP) (0.18.3)\n",
      "Collecting astor>=0.8 (from formulaic>=0.2.2->lifelines->ISLP)\n",
      "  Downloading astor-0.8.1-py2.py3-none-any.whl (27 kB)\n",
      "Collecting interface-meta>=1.2.0 (from formulaic>=0.2.2->lifelines->ISLP)\n",
      "  Downloading interface_meta-1.3.0-py3-none-any.whl (14 kB)\n",
      "Requirement already satisfied: wrapt>=1.0 in /usr/local/lib/python3.10/dist-packages (from formulaic>=0.2.2->lifelines->ISLP) (1.14.1)\n",
      "Requirement already satisfied: requests in /usr/local/lib/python3.10/dist-packages (from fsspec[http]>2021.06.0->pytorch-lightning->ISLP) (2.31.0)\n",
      "Requirement already satisfied: aiohttp!=4.0.0a0,!=4.0.0a1 in /usr/local/lib/python3.10/dist-packages (from fsspec[http]>2021.06.0->pytorch-lightning->ISLP) (3.8.6)\n",
      "Requirement already satisfied: contourpy>=1.0.1 in /usr/local/lib/python3.10/dist-packages (from matplotlib>=3.0->lifelines->ISLP) (1.1.1)\n",
      "Requirement already satisfied: cycler>=0.10 in /usr/local/lib/python3.10/dist-packages (from matplotlib>=3.0->lifelines->ISLP) (0.12.1)\n",
      "Requirement already satisfied: fonttools>=4.22.0 in /usr/local/lib/python3.10/dist-packages (from matplotlib>=3.0->lifelines->ISLP) (4.43.1)\n",
      "Requirement already satisfied: kiwisolver>=1.0.1 in /usr/local/lib/python3.10/dist-packages (from matplotlib>=3.0->lifelines->ISLP) (1.4.5)\n",
      "Requirement already satisfied: pillow>=6.2.0 in /usr/local/lib/python3.10/dist-packages (from matplotlib>=3.0->lifelines->ISLP) (9.4.0)\n",
      "Requirement already satisfied: pyparsing>=2.3.1 in /usr/local/lib/python3.10/dist-packages (from matplotlib>=3.0->lifelines->ISLP) (3.1.1)\n",
      "Requirement already satisfied: six in /usr/local/lib/python3.10/dist-packages (from patsy>=0.5.2->statsmodels>=0.13->ISLP) (1.16.0)\n",
      "Requirement already satisfied: python-utils>=3.0.0 in /usr/local/lib/python3.10/dist-packages (from progressbar2<5.0.0,>=4.2.0->pygam->ISLP) (3.8.1)\n",
      "Requirement already satisfied: MarkupSafe>=2.0 in /usr/local/lib/python3.10/dist-packages (from jinja2->torch->ISLP) (2.1.3)\n",
      "Requirement already satisfied: mpmath>=0.19 in /usr/local/lib/python3.10/dist-packages (from sympy->torch->ISLP) (1.3.0)\n",
      "Requirement already satisfied: attrs>=17.3.0 in /usr/local/lib/python3.10/dist-packages (from aiohttp!=4.0.0a0,!=4.0.0a1->fsspec[http]>2021.06.0->pytorch-lightning->ISLP) (23.1.0)\n",
      "Requirement already satisfied: charset-normalizer<4.0,>=2.0 in /usr/local/lib/python3.10/dist-packages (from aiohttp!=4.0.0a0,!=4.0.0a1->fsspec[http]>2021.06.0->pytorch-lightning->ISLP) (3.3.1)\n",
      "Requirement already satisfied: multidict<7.0,>=4.5 in /usr/local/lib/python3.10/dist-packages (from aiohttp!=4.0.0a0,!=4.0.0a1->fsspec[http]>2021.06.0->pytorch-lightning->ISLP) (6.0.4)\n",
      "Requirement already satisfied: async-timeout<5.0,>=4.0.0a3 in /usr/local/lib/python3.10/dist-packages (from aiohttp!=4.0.0a0,!=4.0.0a1->fsspec[http]>2021.06.0->pytorch-lightning->ISLP) (4.0.3)\n",
      "Requirement already satisfied: yarl<2.0,>=1.0 in /usr/local/lib/python3.10/dist-packages (from aiohttp!=4.0.0a0,!=4.0.0a1->fsspec[http]>2021.06.0->pytorch-lightning->ISLP) (1.9.2)\n",
      "Requirement already satisfied: frozenlist>=1.1.1 in /usr/local/lib/python3.10/dist-packages (from aiohttp!=4.0.0a0,!=4.0.0a1->fsspec[http]>2021.06.0->pytorch-lightning->ISLP) (1.4.0)\n",
      "Requirement already satisfied: aiosignal>=1.1.2 in /usr/local/lib/python3.10/dist-packages (from aiohttp!=4.0.0a0,!=4.0.0a1->fsspec[http]>2021.06.0->pytorch-lightning->ISLP) (1.3.1)\n",
      "Requirement already satisfied: idna<4,>=2.5 in /usr/local/lib/python3.10/dist-packages (from requests->fsspec[http]>2021.06.0->pytorch-lightning->ISLP) (3.4)\n",
      "Requirement already satisfied: urllib3<3,>=1.21.1 in /usr/local/lib/python3.10/dist-packages (from requests->fsspec[http]>2021.06.0->pytorch-lightning->ISLP) (2.0.7)\n",
      "Requirement already satisfied: certifi>=2017.4.17 in /usr/local/lib/python3.10/dist-packages (from requests->fsspec[http]>2021.06.0->pytorch-lightning->ISLP) (2023.7.22)\n",
      "Building wheels for collected packages: autograd-gamma\n",
      "  Building wheel for autograd-gamma (setup.py) ... \u001b[?25l\u001b[?25hdone\n",
      "  Created wheel for autograd-gamma: filename=autograd_gamma-0.5.0-py3-none-any.whl size=4031 sha256=814caa5f55177eea625e5f50dd8c3c482d6d8ad95332e2fe8624121d04340865\n",
      "  Stored in directory: /root/.cache/pip/wheels/25/cc/e0/ef2969164144c899fedb22b338f6703e2b9cf46eeebf254991\n",
      "Successfully built autograd-gamma\n",
      "Installing collected packages: numpy, lightning-utilities, interface-meta, astor, torchmetrics, pygam, formulaic, autograd-gamma, pytorch-lightning, lifelines, ISLP\n",
      "  Attempting uninstall: numpy\n",
      "    Found existing installation: numpy 1.23.5\n",
      "    Uninstalling numpy-1.23.5:\n",
      "      Successfully uninstalled numpy-1.23.5\n",
      "\u001b[31mERROR: pip's dependency resolver does not currently take into account all the packages that are installed. This behaviour is the source of the following dependency conflicts.\n",
      "lida 0.0.10 requires fastapi, which is not installed.\n",
      "lida 0.0.10 requires kaleido, which is not installed.\n",
      "lida 0.0.10 requires python-multipart, which is not installed.\n",
      "lida 0.0.10 requires uvicorn, which is not installed.\n",
      "numba 0.56.4 requires numpy<1.24,>=1.18, but you have numpy 1.24.4 which is incompatible.\u001b[0m\u001b[31m\n",
      "\u001b[0mSuccessfully installed ISLP-0.3.21 astor-0.8.1 autograd-gamma-0.5.0 formulaic-0.6.6 interface-meta-1.3.0 lifelines-0.27.8 lightning-utilities-0.9.0 numpy-1.24.4 pygam-0.9.0 pytorch-lightning-2.1.0 torchmetrics-1.2.0\n"
     ]
    },
    {
     "data": {
      "application/vnd.colab-display-data+json": {
       "pip_warning": {
        "packages": [
         "numpy"
        ]
       }
      }
     },
     "metadata": {},
     "output_type": "display_data"
    }
   ],
   "source": [
    "%pip install ISLP\n"
   ]
  },
  {
   "cell_type": "code",
   "execution_count": 1,
   "metadata": {
    "id": "VCSoDHEdhpQL"
   },
   "outputs": [],
   "source": [
    "import torch\n",
    "import numpy as np\n",
    "import matplotlib.pyplot as plt\n",
    "from torch.utils.data import TensorDataset, DataLoader\n"
   ]
  },
  {
   "cell_type": "code",
   "execution_count": 2,
   "metadata": {
    "colab": {
     "base_uri": "https://localhost:8080/"
    },
    "executionInfo": {
     "elapsed": 85807,
     "status": "ok",
     "timestamp": 1698389027412,
     "user": {
      "displayName": "﻿안재윤(전임교원/통계학과)",
      "userId": "02619146530199681853"
     },
     "user_tz": -540
    },
    "id": "t2H7trWb13EZ",
    "outputId": "6499f35a-4f50-4f12-897d-5a408924eeee"
   },
   "outputs": [
    {
     "name": "stderr",
     "output_type": "stream",
     "text": [
      "/Users/belen/anaconda3/envs/TongP/lib/python3.11/site-packages/sklearn/datasets/_openml.py:1022: FutureWarning: The default value of `parser` will change from `'liac-arff'` to `'auto'` in 1.4. You can set `parser='auto'` to silence this warning. Therefore, an `ImportError` will be raised from 1.4 if the dataset is dense and pandas is not installed. Note that the pandas parser may return different data types. See the Notes Section in fetch_openml's API doc for details.\n",
      "  warn(\n"
     ]
    }
   ],
   "source": [
    "# Load MNIST data\n",
    "import sklearn.datasets\n",
    "mnist = sklearn.datasets.fetch_openml('mnist_784', data_home=\"mnist_784\")"
   ]
  },
  {
   "cell_type": "code",
   "execution_count": null,
   "metadata": {
    "id": "YroxPO5fmcGf"
   },
   "outputs": [],
   "source": []
  },
  {
   "cell_type": "code",
   "execution_count": 4,
   "metadata": {
    "colab": {
     "base_uri": "https://localhost:8080/"
    },
    "executionInfo": {
     "elapsed": 1251,
     "status": "ok",
     "timestamp": 1698389028660,
     "user": {
      "displayName": "﻿안재윤(전임교원/통계학과)",
      "userId": "02619146530199681853"
     },
     "user_tz": -540
    },
    "id": "0Fbykd0MLZQr",
    "outputId": "9909a784-20d1-4e2f-9ed8-dd171f557481"
   },
   "outputs": [
    {
     "name": "stdout",
     "output_type": "stream",
     "text": [
      "torch.Size([70000, 784]) torch.Size([70000])\n"
     ]
    },
    {
     "name": "stderr",
     "output_type": "stream",
     "text": [
      "/var/folders/vl/yt67rw7s1tl_87hvr6bgvvw00000gn/T/ipykernel_12344/305117269.py:5: UserWarning: To copy construct from a tensor, it is recommended to use sourceTensor.clone().detach() or sourceTensor.clone().detach().requires_grad_(True), rather than torch.tensor(sourceTensor).\n",
      "  T = torch.nn.functional.one_hot(torch.tensor(Y, dtype=torch.int64), num_classes=10)\n",
      "/var/folders/vl/yt67rw7s1tl_87hvr6bgvvw00000gn/T/ipykernel_12344/305117269.py:6: UserWarning: To copy construct from a tensor, it is recommended to use sourceTensor.clone().detach() or sourceTensor.clone().detach().requires_grad_(True), rather than torch.tensor(sourceTensor).\n",
      "  T = torch.tensor(T, dtype=torch.float32)\n"
     ]
    }
   ],
   "source": [
    "X = torch.tensor(mnist[\"data\"].values, dtype=torch.float32).reshape([-1, 28* 28])\n",
    "Y = torch.tensor(np.array(mnist[\"target\"].values).astype(np.float32), dtype=torch.float32)\n",
    "print(X.shape, Y.shape)\n",
    "\n",
    "T = torch.nn.functional.one_hot(torch.tensor(Y, dtype=torch.int64), num_classes=10)\n",
    "T = torch.tensor(T, dtype=torch.float32)\n"
   ]
  },
  {
   "cell_type": "code",
   "execution_count": 5,
   "metadata": {
    "colab": {
     "base_uri": "https://localhost:8080/"
    },
    "executionInfo": {
     "elapsed": 7,
     "status": "ok",
     "timestamp": 1698389028661,
     "user": {
      "displayName": "﻿안재윤(전임교원/통계학과)",
      "userId": "02619146530199681853"
     },
     "user_tz": -540
    },
    "id": "KeAOZe16MTUG",
    "outputId": "198d6493-9b23-498c-b041-74e9f097d2d1"
   },
   "outputs": [
    {
     "name": "stderr",
     "output_type": "stream",
     "text": [
      "/var/folders/vl/yt67rw7s1tl_87hvr6bgvvw00000gn/T/ipykernel_12344/1140395519.py:1: UserWarning: To copy construct from a tensor, it is recommended to use sourceTensor.clone().detach() or sourceTensor.clone().detach().requires_grad_(True), rather than torch.tensor(sourceTensor).\n",
      "  x_train = torch.tensor(X[:60000, :]/255, dtype = torch.float32)\n",
      "/var/folders/vl/yt67rw7s1tl_87hvr6bgvvw00000gn/T/ipykernel_12344/1140395519.py:2: UserWarning: To copy construct from a tensor, it is recommended to use sourceTensor.clone().detach() or sourceTensor.clone().detach().requires_grad_(True), rather than torch.tensor(sourceTensor).\n",
      "  y_train = torch.tensor(Y[:60000], dtype = torch.float32)\n",
      "/var/folders/vl/yt67rw7s1tl_87hvr6bgvvw00000gn/T/ipykernel_12344/1140395519.py:3: UserWarning: To copy construct from a tensor, it is recommended to use sourceTensor.clone().detach() or sourceTensor.clone().detach().requires_grad_(True), rather than torch.tensor(sourceTensor).\n",
      "  t_train = torch.tensor(T[:60000], dtype = torch.float32)\n",
      "/var/folders/vl/yt67rw7s1tl_87hvr6bgvvw00000gn/T/ipykernel_12344/1140395519.py:5: UserWarning: To copy construct from a tensor, it is recommended to use sourceTensor.clone().detach() or sourceTensor.clone().detach().requires_grad_(True), rather than torch.tensor(sourceTensor).\n",
      "  x_test = torch.tensor(X[60000:, :]/255, dtype = torch.float32)\n",
      "/var/folders/vl/yt67rw7s1tl_87hvr6bgvvw00000gn/T/ipykernel_12344/1140395519.py:6: UserWarning: To copy construct from a tensor, it is recommended to use sourceTensor.clone().detach() or sourceTensor.clone().detach().requires_grad_(True), rather than torch.tensor(sourceTensor).\n",
      "  y_test = torch.tensor(Y[60000:], dtype = torch.float32)\n",
      "/var/folders/vl/yt67rw7s1tl_87hvr6bgvvw00000gn/T/ipykernel_12344/1140395519.py:7: UserWarning: To copy construct from a tensor, it is recommended to use sourceTensor.clone().detach() or sourceTensor.clone().detach().requires_grad_(True), rather than torch.tensor(sourceTensor).\n",
      "  t_test = torch.tensor(T[60000:], dtype = torch.float32)\n"
     ]
    }
   ],
   "source": [
    "x_train = torch.tensor(X[:60000, :]/255, dtype = torch.float32)\n",
    "y_train = torch.tensor(Y[:60000], dtype = torch.float32)\n",
    "t_train = torch.tensor(T[:60000], dtype = torch.float32)\n",
    "n=60000\n",
    "x_test = torch.tensor(X[60000:, :]/255, dtype = torch.float32)\n",
    "y_test = torch.tensor(Y[60000:], dtype = torch.float32)\n",
    "t_test = torch.tensor(T[60000:], dtype = torch.float32)"
   ]
  },
  {
   "cell_type": "code",
   "execution_count": 6,
   "metadata": {
    "id": "XwooJKh3mp_5"
   },
   "outputs": [],
   "source": [
    "traindata = TensorDataset(x_train, t_train)\n",
    "trainloader=DataLoader(dataset = traindata, batch_size=32, shuffle=True)\n",
    "testdata = TensorDataset(x_test, t_test)\n",
    "testloader=DataLoader(dataset = testdata, batch_size=32, shuffle=True)"
   ]
  },
  {
   "cell_type": "markdown",
   "metadata": {
    "id": "3J6WYB8Ql29u"
   },
   "source": [
    "# 0. Review: Multinomial logistic regression with MNIST data."
   ]
  },
  {
   "cell_type": "code",
   "execution_count": 7,
   "metadata": {
    "colab": {
     "base_uri": "https://localhost:8080/"
    },
    "executionInfo": {
     "elapsed": 5,
     "status": "ok",
     "timestamp": 1698388323913,
     "user": {
      "displayName": "﻿안재윤(전임교원/통계학과)",
      "userId": "02619146530199681853"
     },
     "user_tz": -540
    },
    "id": "7mcCFYmF-_G1",
    "outputId": "0bb2b82e-0a6a-4765-a386-264db3546145"
   },
   "outputs": [
    {
     "data": {
      "text/plain": [
       "60000"
      ]
     },
     "execution_count": 7,
     "metadata": {},
     "output_type": "execute_result"
    }
   ],
   "source": [
    "len(trainloader.dataset)"
   ]
  },
  {
   "cell_type": "code",
   "execution_count": 8,
   "metadata": {
    "colab": {
     "base_uri": "https://localhost:8080/",
     "height": 448
    },
    "executionInfo": {
     "elapsed": 107375,
     "status": "ok",
     "timestamp": 1698388431285,
     "user": {
      "displayName": "﻿안재윤(전임교원/통계학과)",
      "userId": "02619146530199681853"
     },
     "user_tz": -540
    },
    "id": "eVbSISsZgNh7",
    "outputId": "d007fe0f-7f56-4fdd-947e-2025e3484015"
   },
   "outputs": [
    {
     "data": {
      "text/plain": [
       "[<matplotlib.lines.Line2D at 0x14d9ddd50>]"
      ]
     },
     "execution_count": 8,
     "metadata": {},
     "output_type": "execute_result"
    },
    {
     "data": {
      "image/png": "[encoded data removed]",
      "text/plain": [
       "<Figure size 640x480 with 1 Axes>"
      ]
     },
     "metadata": {},
     "output_type": "display_data"
    }
   ],
   "source": [
    "z_model = torch.nn.Linear(784, 10, bias=True) #X:[n, 784] #name changed\n",
    "\n",
    "#z_model(X) = X@W+b,    W:[784, 10],    b = [10]\n",
    "loss_fn = torch.nn.CrossEntropyLoss(reduction='mean')# This is the only change\n",
    "# loss_fn(Z, T): -loglike(Multinomial(Q, T))\n",
    "\n",
    "optimizer = torch.optim.SGD(z_model.parameters(), lr=0.01)\n",
    "history=[]\n",
    "epochs = 30\n",
    "n=len(trainloader.dataset)\n",
    "\n",
    "for epoch in range(epochs):\n",
    "  epoch_loss = 0.0\n",
    "  for xx, tt in trainloader:\n",
    "    zhat = z_model(xx) #xx@W+b\n",
    "    loss = loss_fn(zhat, tt) #cross-entropy loss = - log-lik(Multi(q, tt))\n",
    "    loss.backward()\n",
    "    epoch_loss += loss.item()*len(xx)\n",
    "    optimizer.step()\n",
    "    optimizer.zero_grad()\n",
    "  history.append(epoch_loss/n)\n",
    "plt.plot(history)"
   ]
  },
  {
   "cell_type": "code",
   "execution_count": 9,
   "metadata": {
    "colab": {
     "base_uri": "https://localhost:8080/"
    },
    "executionInfo": {
     "elapsed": 12,
     "status": "ok",
     "timestamp": 1698388431286,
     "user": {
      "displayName": "﻿안재윤(전임교원/통계학과)",
      "userId": "02619146530199681853"
     },
     "user_tz": -540
    },
    "id": "ztbf14VFmAd7",
    "outputId": "00a0ddbd-a5df-4764-e67e-d35d559cabbe"
   },
   "outputs": [
    {
     "data": {
      "text/plain": [
       "tensor(0.9205)"
      ]
     },
     "execution_count": 9,
     "metadata": {},
     "output_type": "execute_result"
    }
   ],
   "source": [
    "zhat_test = z_model(x_test) #x_test: [n_test, 784]\n",
    "Q_test = torch.softmax(zhat_test, axis=1) # Q_test: [n_test, 10]\n",
    "#y_test\n",
    "y_hat = torch.argmax(Q_test, axis=1).to(torch.float32) #y_hat: [n_test,]\n",
    "\n",
    "torch.mean((y_hat == y_test.reshape([-1])).to(torch.float32))"
   ]
  },
  {
   "cell_type": "markdown",
   "metadata": {
    "id": "99QfPopBgN8r"
   },
   "source": [
    "## 1. Create the neural networks using `torch.nn.Sequential`.\n",
    "\n",
    "A sequential container. Modules will be added to it in the order they are passed in the constructor. Alternatively, an OrderedDict of modules can be passed in. The forward() method of Sequential accepts any input and forwards it to the first module it contains. It then “chains” outputs to inputs sequentially for each subsequent module, finally returning the output of the last module."
   ]
  },
  {
   "cell_type": "code",
   "execution_count": 10,
   "metadata": {
    "id": "-2IcU1GEf6R4"
   },
   "outputs": [],
   "source": [
    "DN = torch.nn.Sequential(\n",
    "    torch.nn.Linear(784, 64, bias=True),\n",
    "    torch.nn.ReLU(),#A[1]\n",
    "    torch.nn.Linear(64, 32, bias=True),\n",
    "    torch.nn.ReLU(),#A[2]\n",
    "    torch.nn.Linear(32, 10, bias=True),\n",
    ")\n",
    "# DN(X), #X:[n, 784], output: [n,10]\n",
    "# z_model = torch.nn.Linear(784, 10, bias=True)\n",
    "# z_model(X) #X:[n, 784] , output: [n,10]\n",
    "\n",
    "loss_ftn = torch.nn.CrossEntropyLoss()\n",
    "optimizer = torch.optim.SGD(DN.parameters(), lr=0.01)\n",
    "history = []"
   ]
  },
  {
   "cell_type": "code",
   "execution_count": 11,
   "metadata": {
    "id": "C74rsI-zg11Z"
   },
   "outputs": [],
   "source": [
    "epochs=10\n",
    "history=[]\n",
    "\n",
    "for epoch in range(epochs):\n",
    "  running_loss =0\n",
    "  for xx, yy in trainloader:\n",
    "    optimizer.zero_grad()\n",
    "    yhat = DN(xx)\n",
    "    loss = loss_ftn(yhat, yy)\n",
    "    loss.backward()\n",
    "    optimizer.step()\n",
    "    running_loss += loss.item()*len(xx)\n",
    "  history.append(running_loss/len(trainloader.dataset))"
   ]
  },
  {
   "cell_type": "code",
   "execution_count": 12,
   "metadata": {
    "colab": {
     "base_uri": "https://localhost:8080/",
     "height": 448
    },
    "executionInfo": {
     "elapsed": 7,
     "status": "ok",
     "timestamp": 1698390496635,
     "user": {
      "displayName": "﻿안재윤(전임교원/통계학과)",
      "userId": "02619146530199681853"
     },
     "user_tz": -540
    },
    "id": "q6g-BBRwg7S_",
    "outputId": "e2c2ef9e-a126-4dd2-af30-a9ac9544f2f0"
   },
   "outputs": [
    {
     "data": {
      "text/plain": [
       "[<matplotlib.lines.Line2D at 0x14db77d90>]"
      ]
     },
     "execution_count": 12,
     "metadata": {},
     "output_type": "execute_result"
    },
    {
     "data": {
      "image/png": "[encoded data removed]",
      "text/plain": [
       "<Figure size 640x480 with 1 Axes>"
      ]
     },
     "metadata": {},
     "output_type": "display_data"
    }
   ],
   "source": [
    "plt.plot(history)"
   ]
  },
  {
   "cell_type": "code",
   "execution_count": 13,
   "metadata": {
    "id": "hG_cn6aiCoRA"
   },
   "outputs": [],
   "source": [
    "y_pred = DN(x_test)\n",
    "y_hat = torch.argmax(y_pred, axis=1)"
   ]
  },
  {
   "cell_type": "code",
   "execution_count": 14,
   "metadata": {
    "colab": {
     "base_uri": "https://localhost:8080/"
    },
    "executionInfo": {
     "elapsed": 6,
     "status": "ok",
     "timestamp": 1698390497242,
     "user": {
      "displayName": "﻿안재윤(전임교원/통계학과)",
      "userId": "02619146530199681853"
     },
     "user_tz": -540
    },
    "id": "dPujMFUZCoRA",
    "outputId": "d9f0829f-611b-415d-b161-9523614874f9"
   },
   "outputs": [
    {
     "data": {
      "text/plain": [
       "tensor(0.9548)"
      ]
     },
     "execution_count": 14,
     "metadata": {},
     "output_type": "execute_result"
    }
   ],
   "source": [
    "torch.mean((y_test == y_hat).to(torch.float32))"
   ]
  },
  {
   "cell_type": "code",
   "execution_count": 15,
   "metadata": {
    "colab": {
     "base_uri": "https://localhost:8080/"
    },
    "executionInfo": {
     "elapsed": 6,
     "status": "ok",
     "timestamp": 1698390497243,
     "user": {
      "displayName": "﻿안재윤(전임교원/통계학과)",
      "userId": "02619146530199681853"
     },
     "user_tz": -540
    },
    "id": "NrgZdH2OhMrI",
    "outputId": "f4f323bc-271a-4819-c1e9-af193f8b08c8"
   },
   "outputs": [
    {
     "data": {
      "text/plain": [
       "OrderedDict([('0.weight',\n",
       "              tensor([[-0.0108, -0.0252, -0.0204,  ..., -0.0326, -0.0108,  0.0128],\n",
       "                      [ 0.0054,  0.0319, -0.0044,  ...,  0.0276, -0.0032,  0.0093],\n",
       "                      [-0.0116, -0.0065,  0.0011,  ...,  0.0212, -0.0194, -0.0295],\n",
       "                      ...,\n",
       "                      [ 0.0105, -0.0112, -0.0280,  ..., -0.0216, -0.0017,  0.0145],\n",
       "                      [-0.0304,  0.0056,  0.0167,  ..., -0.0128,  0.0013,  0.0021],\n",
       "                      [ 0.0333,  0.0040,  0.0005,  ..., -0.0085, -0.0041,  0.0243]])),\n",
       "             ('0.bias',\n",
       "              tensor([ 0.1156,  0.0965,  0.1580,  0.0316, -0.0422,  0.0285,  0.0653,  0.0353,\n",
       "                      -0.0026,  0.0724,  0.0314,  0.1382, -0.0665, -0.0566,  0.0246, -0.0562,\n",
       "                       0.0389, -0.0010, -0.0678, -0.0535,  0.0591,  0.0531, -0.0519, -0.0479,\n",
       "                       0.0231,  0.0327,  0.0524, -0.0838, -0.0166,  0.0273,  0.1327, -0.0369,\n",
       "                       0.0279,  0.0497, -0.0085, -0.0403,  0.0052,  0.0595,  0.1178,  0.0772,\n",
       "                       0.0540,  0.0911, -0.0064,  0.0538,  0.1301, -0.0117, -0.0099,  0.0029,\n",
       "                       0.0856,  0.0138,  0.0093, -0.0473,  0.0879, -0.0058,  0.0229,  0.0507,\n",
       "                      -0.0339,  0.0139,  0.0418,  0.0463,  0.0973, -0.0022, -0.0211,  0.0838])),\n",
       "             ('2.weight',\n",
       "              tensor([[ 0.1267, -0.0729,  0.0426,  ...,  0.0653,  0.0572, -0.0507],\n",
       "                      [-0.0641, -0.0382,  0.2531,  ...,  0.0688,  0.2735, -0.0917],\n",
       "                      [-0.1162, -0.1074,  0.0097,  ...,  0.0822, -0.0055,  0.1746],\n",
       "                      ...,\n",
       "                      [ 0.3196,  0.2402,  0.2242,  ..., -0.1587,  0.0484,  0.2642],\n",
       "                      [-0.3057,  0.0947, -0.3553,  ...,  0.0055, -0.1974, -0.1695],\n",
       "                      [ 0.0238, -0.0975,  0.0146,  ..., -0.0047, -0.0727, -0.0079]])),\n",
       "             ('2.bias',\n",
       "              tensor([ 0.1984, -0.0313, -0.1453,  0.2202,  0.0094,  0.0708,  0.1221,  0.0191,\n",
       "                       0.2917, -0.0331, -0.0822, -0.0110,  0.1638, -0.0787, -0.0026,  0.0752,\n",
       "                      -0.1281,  0.0369,  0.0270,  0.2496,  0.0785,  0.1158,  0.2758, -0.0465,\n",
       "                       0.1641,  0.0343, -0.1320,  0.0894, -0.0830,  0.2256,  0.0511, -0.0966])),\n",
       "             ('4.weight',\n",
       "              tensor([[-2.7827e-01, -5.5475e-01,  3.1739e-01, -1.0225e-01, -3.9240e-01,\n",
       "                        5.0094e-01, -3.8361e-01, -1.2181e-01, -6.9204e-02, -7.2971e-02,\n",
       "                        1.8709e-01, -1.6220e-01, -4.0760e-01, -3.7184e-02,  9.7437e-02,\n",
       "                        6.0717e-01,  3.2981e-02, -3.0022e-01, -6.1296e-03, -2.1190e-01,\n",
       "                        7.6668e-01, -3.2880e-01, -2.3957e-01, -1.2699e-01,  9.8551e-02,\n",
       "                        1.9785e-02, -2.6776e-01,  2.2824e-02, -1.4643e-01, -3.8827e-01,\n",
       "                       -3.6132e-01, -1.0024e-01],\n",
       "                      [ 3.5733e-01,  3.1899e-01, -1.4430e-01,  5.7563e-01,  1.1473e-01,\n",
       "                       -5.1917e-01,  2.8856e-01, -6.9352e-02,  6.0425e-01,  6.6201e-02,\n",
       "                        6.5379e-02,  5.3411e-02,  2.6854e-01, -4.4900e-02, -1.6366e-01,\n",
       "                       -6.0893e-01, -9.9597e-02, -2.7384e-01, -2.8407e-02,  7.5816e-02,\n",
       "                       -9.2725e-01, -1.3740e-01, -2.5838e-01, -9.5784e-02, -3.4638e-01,\n",
       "                        5.7715e-01, -2.9948e-01,  1.4534e-01, -6.0708e-02,  4.1733e-03,\n",
       "                        5.9742e-02, -8.2453e-02],\n",
       "                      [ 2.7091e-01, -9.5946e-02,  5.7512e-01, -2.5068e-01,  7.8581e-02,\n",
       "                       -1.8890e-01, -1.3402e-01,  6.8233e-02,  1.3569e-01,  5.0623e-01,\n",
       "                       -1.3877e-01, -7.0896e-02,  3.1104e-01, -7.9353e-01, -3.7774e-02,\n",
       "                       -1.0671e-01, -1.3767e-01, -5.3768e-01,  6.3701e-02,  1.2773e-01,\n",
       "                        5.0507e-01,  2.4139e-01, -1.7529e-01,  1.2368e-01, -2.5668e-01,\n",
       "                       -5.4039e-01, -1.5448e-01,  2.8538e-01,  4.0268e-02, -1.2447e-01,\n",
       "                        7.7434e-01, -9.8789e-02],\n",
       "                      [ 1.4901e-01,  2.4857e-01, -4.8547e-01,  2.2380e-01, -4.1496e-01,\n",
       "                        4.3866e-01,  9.4701e-02,  3.2421e-02,  3.0916e-02, -4.7923e-01,\n",
       "                       -3.0098e-04, -2.9780e-02, -7.2849e-02, -1.5236e-01,  1.5264e-01,\n",
       "                        2.7415e-01, -8.4068e-02, -4.4196e-01, -1.6973e-01, -1.0978e-01,\n",
       "                       -3.3565e-01,  6.2025e-01, -2.8843e-01,  3.3697e-02,  1.1493e-01,\n",
       "                        7.3128e-02, -1.3680e-01, -2.6738e-01, -1.2642e-01, -4.5068e-01,\n",
       "                        9.7165e-01,  2.7473e-02],\n",
       "                      [-1.2416e-01,  6.7543e-01, -2.6988e-02, -2.4534e-01,  4.6133e-01,\n",
       "                       -3.3470e-01,  2.6425e-01, -2.6465e-02, -4.5125e-01, -3.1453e-01,\n",
       "                       -1.7110e-01, -1.0016e-01, -7.8018e-02,  7.2499e-02,  1.3082e-01,\n",
       "                       -4.9888e-02, -2.3854e-02,  6.3630e-03, -9.9619e-02,  8.2552e-01,\n",
       "                        2.5021e-01, -4.3643e-01,  6.9764e-01, -1.0082e-01, -3.9195e-01,\n",
       "                        5.5282e-02,  1.2522e-01, -1.1822e-01,  1.6394e-01,  5.4196e-02,\n",
       "                       -4.0933e-01,  3.2551e-02],\n",
       "                      [ 5.7731e-01, -5.1882e-01, -9.1133e-02,  6.0778e-01, -3.4047e-01,\n",
       "                        8.9654e-01, -2.7913e-01, -1.5009e-01,  1.5431e-01, -6.1127e-01,\n",
       "                        1.0855e-01,  1.4362e-02,  5.7073e-02,  2.5062e-01,  7.7210e-02,\n",
       "                       -7.5450e-02, -1.4914e-01,  1.8877e-01, -9.4864e-02, -2.3625e-01,\n",
       "                       -3.8039e-01, -4.0492e-01,  6.1338e-01,  1.2636e-01,  8.4155e-01,\n",
       "                       -1.7246e-01, -3.9589e-02,  4.0174e-01,  1.5919e-01,  3.4318e-01,\n",
       "                       -3.1221e-01,  9.9113e-02],\n",
       "                      [-6.2220e-01, -5.5688e-02, -1.6657e-01,  1.5272e-01,  5.0319e-01,\n",
       "                        1.0453e-01, -1.3874e-01, -9.2284e-02,  1.6796e-01, -1.8524e-02,\n",
       "                       -1.2737e-01, -5.3289e-02,  1.3458e-01,  4.2836e-01, -5.6201e-02,\n",
       "                       -7.0635e-01,  1.4473e-01, -5.9286e-02,  9.9475e-02, -1.3062e-02,\n",
       "                        7.7692e-01, -6.8812e-01, -2.4214e-01,  1.2516e-01, -4.4367e-01,\n",
       "                       -4.2190e-02, -2.5090e-01,  3.5729e-02,  1.3726e-01,  7.1696e-01,\n",
       "                       -1.5990e-01, -1.0255e-01],\n",
       "                      [-2.8467e-01, -6.3654e-01, -4.4128e-01, -5.4231e-01, -1.3754e-01,\n",
       "                       -5.4888e-01,  7.8507e-01, -5.0447e-02, -8.8295e-02,  4.3748e-01,\n",
       "                       -2.7893e-02,  1.2197e-01, -1.1800e-01, -1.7925e-01, -1.1023e-01,\n",
       "                        5.3958e-01, -9.1632e-02,  1.0338e-01,  7.8079e-02,  1.6301e-01,\n",
       "                       -1.8020e-01,  7.6225e-01,  5.4782e-01, -1.8169e-01, -2.2951e-01,\n",
       "                        1.5610e-01, -8.5120e-02,  2.0196e-01,  3.1233e-02, -3.2572e-01,\n",
       "                        2.8487e-01,  1.2634e-01],\n",
       "                      [ 2.7024e-01,  4.8420e-01,  5.7805e-01,  1.5606e-01,  4.7227e-01,\n",
       "                        3.0934e-01, -1.1514e-01, -8.7988e-02, -3.5788e-01,  4.7303e-01,\n",
       "                       -1.9256e-01,  4.5864e-02, -2.7053e-02,  3.1869e-01, -5.5217e-02,\n",
       "                       -1.9831e-01,  8.5814e-02,  4.9271e-01, -1.1488e-01, -8.5372e-01,\n",
       "                       -3.4559e-01,  1.1600e-01, -2.6479e-01,  2.1551e-02, -6.9493e-02,\n",
       "                       -2.7620e-01,  4.6167e-01, -1.2972e-01,  1.6032e-01, -3.9028e-01,\n",
       "                       -2.8637e-01, -1.5485e-01],\n",
       "                      [ 8.3398e-02,  2.3213e-01,  9.7436e-02, -4.0245e-01, -3.2926e-01,\n",
       "                       -3.6404e-01,  5.9506e-02, -1.2124e-01,  2.6250e-03, -2.7440e-01,\n",
       "                        4.6691e-02, -1.9609e-01, -3.7565e-03,  4.4071e-01, -1.7484e-01,\n",
       "                        5.4092e-01,  1.0786e-01,  5.4092e-01,  3.1079e-02,  4.2934e-01,\n",
       "                       -5.1043e-01, -4.9898e-02, -8.2756e-01,  1.4552e-01,  4.2796e-01,\n",
       "                       -2.0205e-01,  3.5943e-01, -8.8822e-03, -1.7055e-01,  4.1298e-01,\n",
       "                       -5.7759e-01,  7.5891e-02]])),\n",
       "             ('4.bias',\n",
       "              tensor([ 0.0127,  0.3107,  0.1564, -0.1939, -0.0040,  0.1673, -0.1916,  0.1035,\n",
       "                      -0.4219,  0.0148]))])"
      ]
     },
     "execution_count": 15,
     "metadata": {},
     "output_type": "execute_result"
    }
   ],
   "source": [
    "DN.state_dict()"
   ]
  },
  {
   "cell_type": "code",
   "execution_count": 16,
   "metadata": {
    "colab": {
     "base_uri": "https://localhost:8080/"
    },
    "executionInfo": {
     "elapsed": 11,
     "status": "ok",
     "timestamp": 1698388488551,
     "user": {
      "displayName": "﻿안재윤(전임교원/통계학과)",
      "userId": "02619146530199681853"
     },
     "user_tz": -540
    },
    "id": "ok4j-HmJh3OE",
    "outputId": "f43ef994-3ab6-431c-892f-6398d1a9d2ce"
   },
   "outputs": [
    {
     "name": "stdout",
     "output_type": "stream",
     "text": [
      "0.weight\n",
      "0.bias\n",
      "2.weight\n",
      "2.bias\n",
      "4.weight\n",
      "4.bias\n"
     ]
    }
   ],
   "source": [
    "for name in DN.state_dict():\n",
    "  print(name)"
   ]
  },
  {
   "cell_type": "code",
   "execution_count": 17,
   "metadata": {
    "colab": {
     "base_uri": "https://localhost:8080/"
    },
    "executionInfo": {
     "elapsed": 8,
     "status": "ok",
     "timestamp": 1698388488552,
     "user": {
      "displayName": "﻿안재윤(전임교원/통계학과)",
      "userId": "02619146530199681853"
     },
     "user_tz": -540
    },
    "id": "1ZIqza8lh-Tg",
    "outputId": "3baa7f55-faa4-4e55-a040-e619fff903b4"
   },
   "outputs": [
    {
     "data": {
      "text/plain": [
       "torch.Size([64])"
      ]
     },
     "execution_count": 17,
     "metadata": {},
     "output_type": "execute_result"
    }
   ],
   "source": [
    "DN[0].bias.shape"
   ]
  },
  {
   "cell_type": "code",
   "execution_count": 18,
   "metadata": {
    "colab": {
     "base_uri": "https://localhost:8080/"
    },
    "executionInfo": {
     "elapsed": 6,
     "status": "ok",
     "timestamp": 1698388488552,
     "user": {
      "displayName": "﻿안재윤(전임교원/통계학과)",
      "userId": "02619146530199681853"
     },
     "user_tz": -540
    },
    "id": "8brO9n9BxUkW",
    "outputId": "32192851-aaf8-4d5b-8d13-d15abb5903dd"
   },
   "outputs": [
    {
     "data": {
      "text/plain": [
       "tensor(3.)"
      ]
     },
     "execution_count": 18,
     "metadata": {},
     "output_type": "execute_result"
    }
   ],
   "source": [
    "torch.nn.functional.relu_(torch.tensor(3.0))"
   ]
  },
  {
   "cell_type": "code",
   "execution_count": null,
   "metadata": {
    "id": "jOl_2MbX1IhW"
   },
   "outputs": [],
   "source": []
  },
  {
   "cell_type": "code",
   "execution_count": null,
   "metadata": {
    "id": "nx2M9iSG1IdF"
   },
   "outputs": [],
   "source": []
  },
  {
   "cell_type": "markdown",
   "metadata": {
    "id": "CYMyQ1je1L4V"
   },
   "source": [
    "# 2. Custom Layer"
   ]
  },
  {
   "cell_type": "markdown",
   "metadata": {
    "id": "j0sNtYa83sCB"
   },
   "source": [
    "We replace the following neural networks with custom layer:\n",
    "\n",
    "```\n",
    "DN = torch.nn.Sequential(\n",
    "    torch.nn.Linear(784, 64, bias=True),\n",
    "    torch.nn.ReLU(),#A[1]\n",
    "    torch.nn.Linear(64, 32, bias=True),\n",
    "    torch.nn.ReLU(),#A[2]\n",
    "    torch.nn.Linear(32, 10, bias=True),\n",
    ")\n",
    "```"
   ]
  },
  {
   "cell_type": "code",
   "execution_count": null,
   "metadata": {
    "id": "d_qXzEnI1I6M"
   },
   "outputs": [],
   "source": [
    "class my_dn(torch.nn.Module):\n",
    "    def __init__(self):\n",
    "        \"\"\"\n",
    "        In the constructor we instantiate four parameters and assign them as\n",
    "        member parameters.\n",
    "        \"\"\"\n",
    "        super().__init__()\n",
    "        self.weight1 = torch.nn.Parameter(torch.randn(([784, 64])))\n",
    "        # torch.tensor(torch.randn(([784, 64])), requires_grad=True)\n",
    "        self.bias1 = torch.nn.Parameter(torch.randn(([64,])))\n",
    "        self.weight2 = torch.nn.Parameter(torch.randn(([64, 32])))\n",
    "        self.bias2 = torch.nn.Parameter(torch.randn(([32,])))\n",
    "        self.weight3 = torch.nn.Parameter(torch.randn(([32, 10])))\n",
    "        self.bias3 = torch.nn.Parameter(torch.randn(([10,])))\n",
    "\n",
    "    def forward(self, x):\n",
    "        \"\"\"\n",
    "        In the forward function we accept a Tensor of input data and we must return\n",
    "        a Tensor of output data. We can use Modules defined in the constructor as\n",
    "        well as arbitrary operators on Tensors.\n",
    "        \"\"\"\n",
    "        x = x@self.weight1 + self.bias1\n",
    "        x = torch.nn.functional.relu_(x)\n",
    "        x = x@self.weight2 + self.bias2\n",
    "        x = torch.nn.functional.relu_(x)\n",
    "        x= x@self.weight3 + self.bias3\n",
    "        return x"
   ]
  },
  {
   "cell_type": "code",
   "execution_count": null,
   "metadata": {
    "id": "BpAwULwI1I6M"
   },
   "outputs": [],
   "source": [
    "model = my_dn()\n",
    "loss_ftn = torch.nn.CrossEntropyLoss()\n",
    "history = []"
   ]
  },
  {
   "cell_type": "code",
   "execution_count": null,
   "metadata": {
    "colab": {
     "base_uri": "https://localhost:8080/"
    },
    "executionInfo": {
     "elapsed": 634,
     "status": "ok",
     "timestamp": 1698391099866,
     "user": {
      "displayName": "﻿안재윤(전임교원/통계학과)",
      "userId": "02619146530199681853"
     },
     "user_tz": -540
    },
    "id": "CxCtpd2I_0f4",
    "outputId": "824c1358-6ff9-48a8-e0d7-c628d37d581d"
   },
   "outputs": [],
   "source": []
  },
  {
   "cell_type": "code",
   "execution_count": null,
   "metadata": {
    "colab": {
     "base_uri": "https://localhost:8080/"
    },
    "executionInfo": {
     "elapsed": 198901,
     "status": "ok",
     "timestamp": 1698390823665,
     "user": {
      "displayName": "﻿안재윤(전임교원/통계학과)",
      "userId": "02619146530199681853"
     },
     "user_tz": -540
    },
    "id": "dtk_JOB_1I6M",
    "outputId": "ce3f3723-0cd6-40e8-ee1b-2931e70d8bf1"
   },
   "outputs": [],
   "source": [
    "optimizer = torch.optim.SGD(model.parameters(), lr=0.05)\n",
    "epochs=40\n",
    "history=[]\n",
    "\n",
    "for epoch in range(epochs):\n",
    "  running_loss =0\n",
    "  for xx, tt in trainloader:\n",
    "    optimizer.zero_grad()\n",
    "    zhat = model(xx)\n",
    "    loss = loss_ftn(zhat, tt)\n",
    "    loss.backward()\n",
    "    optimizer.step()\n",
    "    running_loss += loss.item()*len(xx)\n",
    "  print(epoch, running_loss/len(trainloader.dataset))\n",
    "  history.append(running_loss/len(trainloader.dataset))"
   ]
  },
  {
   "cell_type": "code",
   "execution_count": null,
   "metadata": {
    "colab": {
     "base_uri": "https://localhost:8080/",
     "height": 448
    },
    "executionInfo": {
     "elapsed": 705,
     "status": "ok",
     "timestamp": 1698390824358,
     "user": {
      "displayName": "﻿안재윤(전임교원/통계학과)",
      "userId": "02619146530199681853"
     },
     "user_tz": -540
    },
    "id": "inh5QPH91I6M",
    "outputId": "29286053-85ee-445e-9096-d75407e866b2"
   },
   "outputs": [
    {
     "data": {
      "text/plain": [
       "[<matplotlib.lines.Line2D at 0x7f1ce121f9d0>]"
      ]
     },
     "execution_count": 108,
     "metadata": {},
     "output_type": "execute_result"
    },
    {
     "data": {
      "image/png": "[encoded data removed]",
      "text/plain": [
       "<Figure size 640x480 with 1 Axes>"
      ]
     },
     "metadata": {},
     "output_type": "display_data"
    }
   ],
   "source": [
    "plt.plot(history)"
   ]
  },
  {
   "cell_type": "code",
   "execution_count": null,
   "metadata": {
    "colab": {
     "base_uri": "https://localhost:8080/"
    },
    "executionInfo": {
     "elapsed": 589,
     "status": "ok",
     "timestamp": 1698390830273,
     "user": {
      "displayName": "﻿안재윤(전임교원/통계학과)",
      "userId": "02619146530199681853"
     },
     "user_tz": -540
    },
    "id": "9jQtNqc633dU",
    "outputId": "2ccd75cf-b7a0-4601-8bed-a9de5cc39b2b"
   },
   "outputs": [
    {
     "data": {
      "text/plain": [
       "tensor(0.9313)"
      ]
     },
     "execution_count": 110,
     "metadata": {},
     "output_type": "execute_result"
    }
   ],
   "source": [
    "zhat_test = model(x_test) #x_test: [n_test, 784]\n",
    "Q_test = torch.softmax(zhat_test, axis=1) # Q_test: [n_test, 10]\n",
    "#y_test\n",
    "y_hat = torch.argmax(Q_test, axis=1).to(torch.float32) #y_hat: [n_test,]\n",
    "\n",
    "torch.mean((y_hat == y_test.reshape([-1])).to(torch.float32))"
   ]
  },
  {
   "cell_type": "markdown",
   "metadata": {
    "id": "O-BLZ_Tv1ZL4"
   },
   "source": []
  },
  {
   "cell_type": "markdown",
   "metadata": {
    "id": "VCldNRMv1ZJq"
   },
   "source": []
  },
  {
   "cell_type": "markdown",
   "metadata": {
    "id": "CrIHoQOm1ac7"
   },
   "source": [
    "### 3.1 Using predefined layer in the customed module"
   ]
  },
  {
   "cell_type": "code",
   "execution_count": null,
   "metadata": {
    "id": "ko8MVvfI1ac8"
   },
   "outputs": [],
   "source": [
    "class my_dn2(torch.nn.Module):\n",
    "    def __init__(self):\n",
    "        super().__init__()\n",
    "        self.linear1 = torch.nn.Linear(784, 64)\n",
    "        self.relu1 = torch.nn.ReLU()\n",
    "        self.linear2 = torch.nn.Linear(64, 32)\n",
    "        self.linear3 = torch.nn.Linear(32, 10)\n",
    "    def forward(self, x):\n",
    "        x = self.linear1(x)\n",
    "        x = self.relu1(x)\n",
    "        x = self.linear2(x)\n",
    "        x = self.relu1(x)\n",
    "        x = self.linear3(x)\n",
    "        return x"
   ]
  },
  {
   "cell_type": "code",
   "execution_count": null,
   "metadata": {
    "id": "GVpoaC8c1ac9"
   },
   "outputs": [],
   "source": [
    "DN2 = my_dn2()\n",
    "loss_ftn = torch.nn.CrossEntropyLoss()\n",
    "optimizer = torch.optim.SGD(DN2.parameters(), lr=0.01)\n",
    "history = []"
   ]
  },
  {
   "cell_type": "code",
   "execution_count": null,
   "metadata": {
    "colab": {
     "base_uri": "https://localhost:8080/"
    },
    "executionInfo": {
     "elapsed": 106894,
     "status": "ok",
     "timestamp": 1698391045813,
     "user": {
      "displayName": "﻿안재윤(전임교원/통계학과)",
      "userId": "02619146530199681853"
     },
     "user_tz": -540
    },
    "id": "0QMSQQ6p1ac9",
    "outputId": "86552864-9c38-4fb3-e3ee-e2f29761800c"
   },
   "outputs": [
    {
     "name": "stdout",
     "output_type": "stream",
     "text": [
      "0 1.1601285572052003\n",
      "1 0.391120159359773\n",
      "2 0.3179823364933332\n",
      "3 0.2804890096227328\n",
      "4 0.252340426303943\n",
      "5 0.2274276661624511\n",
      "6 0.20607046258350215\n",
      "7 0.1884268610040347\n",
      "8 0.17374648071924845\n",
      "9 0.1606384184067448\n",
      "10 0.14966689802855254\n",
      "11 0.13990953838378192\n",
      "12 0.1316429988178114\n",
      "13 0.12379932096948226\n",
      "14 0.11686810810640454\n",
      "15 0.11100778918390472\n",
      "16 0.10526516669392585\n",
      "17 0.10017663085286815\n",
      "18 0.09569220531483491\n",
      "19 0.09095184114178022\n"
     ]
    }
   ],
   "source": [
    "epochs=20\n",
    "history=[]\n",
    "\n",
    "for epoch in range(epochs):\n",
    "  running_loss =0\n",
    "  for xx, tt in trainloader:\n",
    "    optimizer.zero_grad()\n",
    "    zhat = DN2(xx)\n",
    "    loss = loss_ftn(zhat, tt)\n",
    "    loss.backward()\n",
    "    optimizer.step()\n",
    "    running_loss += loss.item()*len(xx)\n",
    "  print(epoch, running_loss/len(trainloader.dataset))\n",
    "  history.append(running_loss/len(trainloader.dataset))"
   ]
  },
  {
   "cell_type": "code",
   "execution_count": null,
   "metadata": {
    "colab": {
     "base_uri": "https://localhost:8080/",
     "height": 449
    },
    "executionInfo": {
     "elapsed": 451,
     "status": "ok",
     "timestamp": 1698391049895,
     "user": {
      "displayName": "﻿안재윤(전임교원/통계학과)",
      "userId": "02619146530199681853"
     },
     "user_tz": -540
    },
    "id": "bKvBW58K1ac9",
    "outputId": "ceaf83d7-dd2b-4634-8da0-5732d0a41a97"
   },
   "outputs": [
    {
     "data": {
      "text/plain": [
       "[<matplotlib.lines.Line2D at 0x7f1ce12c5d50>]"
      ]
     },
     "execution_count": 114,
     "metadata": {},
     "output_type": "execute_result"
    },
    {
     "data": {
      "image/png": "[encoded data removed]",
      "text/plain": [
       "<Figure size 640x480 with 1 Axes>"
      ]
     },
     "metadata": {},
     "output_type": "display_data"
    }
   ],
   "source": [
    "plt.plot(history)"
   ]
  },
  {
   "cell_type": "code",
   "execution_count": null,
   "metadata": {
    "colab": {
     "base_uri": "https://localhost:8080/"
    },
    "executionInfo": {
     "elapsed": 2,
     "status": "ok",
     "timestamp": 1698391051444,
     "user": {
      "displayName": "﻿안재윤(전임교원/통계학과)",
      "userId": "02619146530199681853"
     },
     "user_tz": -540
    },
    "id": "E5iygyPl_VTJ",
    "outputId": "50e59a9b-52a6-440f-f39e-0004cc75f860"
   },
   "outputs": [
    {
     "data": {
      "text/plain": [
       "tensor(0.9677)"
      ]
     },
     "execution_count": 115,
     "metadata": {},
     "output_type": "execute_result"
    }
   ],
   "source": [
    "zhat_test = DN2(x_test) #x_test: [n_test, 784]\n",
    "Q_test = torch.softmax(zhat_test, axis=1) # Q_test: [n_test, 10]\n",
    "#y_test\n",
    "y_hat = torch.argmax(Q_test, axis=1).to(torch.float32) #y_hat: [n_test,]\n",
    "\n",
    "torch.mean((y_hat == y_test.reshape([-1])).to(torch.float32))"
   ]
  },
  {
   "cell_type": "markdown",
   "metadata": {
    "id": "G5jjJkZH1ZHE"
   },
   "source": []
  },
  {
   "cell_type": "markdown",
   "metadata": {
    "id": "nq0H8dV_1ZEc"
   },
   "source": []
  },
  {
   "cell_type": "markdown",
   "metadata": {
    "id": "WLBxXPaTeMiU"
   },
   "source": [
    "## 2. Combining two layers."
   ]
  },
  {
   "cell_type": "code",
   "execution_count": null,
   "metadata": {
    "id": "aJZ9N2KSeQfb"
   },
   "outputs": [],
   "source": []
  },
  {
   "cell_type": "code",
   "execution_count": null,
   "metadata": {
    "id": "6oiDqAQJeSXt"
   },
   "outputs": [],
   "source": [
    "DN1 = torch.nn.Sequential(\n",
    "    torch.nn.Linear(784, 64),\n",
    "    torch.nn.ReLU(),\n",
    ")\n",
    "\n",
    "DN2 = torch.nn.Sequential(\n",
    "    torch.nn.Linear(64, 32),\n",
    "    torch.nn.ReLU(),\n",
    "    torch.nn.Linear(32, 10), )\n",
    "\n",
    "# DN2(DN1(X))\n",
    "\n",
    "loss_ftn = torch.nn.CrossEntropyLoss()\n",
    "all_params = list(DN1.parameters())+list(DN2.parameters())\n",
    "optimizer = torch.optim.SGD(all_params, lr=0.01) # You have option to have two optimizers.\n",
    "history = []"
   ]
  },
  {
   "cell_type": "code",
   "execution_count": null,
   "metadata": {
    "colab": {
     "base_uri": "https://localhost:8080/"
    },
    "executionInfo": {
     "elapsed": 104305,
     "status": "ok",
     "timestamp": 1698391363799,
     "user": {
      "displayName": "﻿안재윤(전임교원/통계학과)",
      "userId": "02619146530199681853"
     },
     "user_tz": -540
    },
    "id": "pEfOAJqveSXt",
    "outputId": "5923533e-90db-4857-812e-7a9c64633171"
   },
   "outputs": [
    {
     "name": "stdout",
     "output_type": "stream",
     "text": [
      "0 1.2112340073744456\n",
      "1 0.39462481980522474\n",
      "2 0.3196181095004082\n",
      "3 0.27793355433742206\n",
      "4 0.24762855254411698\n",
      "5 0.22229743012984593\n",
      "6 0.2013526392529408\n",
      "7 0.18434929173638423\n",
      "8 0.17072749834259351\n",
      "9 0.15872669340074064\n",
      "10 0.148744562411805\n",
      "11 0.13951153506189584\n",
      "12 0.1314229557817181\n",
      "13 0.12441530826389789\n",
      "14 0.11756060871084531\n",
      "15 0.11118177815228701\n",
      "16 0.10582925387794773\n",
      "17 0.1004238977993528\n",
      "18 0.09570339303985238\n",
      "19 0.0913080301133295\n"
     ]
    }
   ],
   "source": [
    "epochs=20\n",
    "history=[]\n",
    "\n",
    "for epoch in range(epochs):\n",
    "  running_loss =0\n",
    "  for xx, tt in trainloader:\n",
    "    optimizer.zero_grad()\n",
    "    zhat = DN2(DN1(xx))\n",
    "    loss = loss_ftn(zhat, tt)\n",
    "    loss.backward()\n",
    "    optimizer.step()\n",
    "    running_loss += loss.item()*len(xx)\n",
    "  print(epoch, running_loss/len(trainloader.dataset))\n",
    "  history.append(running_loss/len(trainloader.dataset))"
   ]
  },
  {
   "cell_type": "code",
   "execution_count": null,
   "metadata": {
    "colab": {
     "base_uri": "https://localhost:8080/",
     "height": 448
    },
    "executionInfo": {
     "elapsed": 9,
     "status": "ok",
     "timestamp": 1698391365434,
     "user": {
      "displayName": "﻿안재윤(전임교원/통계학과)",
      "userId": "02619146530199681853"
     },
     "user_tz": -540
    },
    "id": "C6ACB7_qeSXt",
    "outputId": "df5021ec-c0c2-400e-b9cb-51f9187b19ff"
   },
   "outputs": [
    {
     "data": {
      "text/plain": [
       "[<matplotlib.lines.Line2D at 0x7f1ce113e050>]"
      ]
     },
     "execution_count": 124,
     "metadata": {},
     "output_type": "execute_result"
    },
    {
     "data": {
      "image/png": "[encoded data removed]",
      "text/plain": [
       "<Figure size 640x480 with 1 Axes>"
      ]
     },
     "metadata": {},
     "output_type": "display_data"
    }
   ],
   "source": [
    "plt.plot(history)"
   ]
  },
  {
   "cell_type": "code",
   "execution_count": null,
   "metadata": {
    "id": "yvfzc2NQeQce"
   },
   "outputs": [],
   "source": []
  },
  {
   "cell_type": "code",
   "execution_count": null,
   "metadata": {
    "colab": {
     "base_uri": "https://localhost:8080/"
    },
    "executionInfo": {
     "elapsed": 404,
     "status": "ok",
     "timestamp": 1698391371730,
     "user": {
      "displayName": "﻿안재윤(전임교원/통계학과)",
      "userId": "02619146530199681853"
     },
     "user_tz": -540
    },
    "id": "2AH8P7QFAiW2",
    "outputId": "f1ec727e-eefb-495e-c2e5-f41fb300acc5"
   },
   "outputs": [
    {
     "data": {
      "text/plain": [
       "tensor(0.9674)"
      ]
     },
     "execution_count": 126,
     "metadata": {},
     "output_type": "execute_result"
    }
   ],
   "source": [
    "zhat_test = DN2(DN1(x_test)) #x_test: [n_test, 784]\n",
    "Q_test = torch.softmax(zhat_test, axis=1) # Q_test: [n_test, 10]\n",
    "#y_test\n",
    "y_hat = torch.argmax(Q_test, axis=1).to(torch.float32) #y_hat: [n_test,]\n",
    "\n",
    "torch.mean((y_hat == y_test.reshape([-1])).to(torch.float32))"
   ]
  },
  {
   "cell_type": "markdown",
   "metadata": {
    "id": "tYzd6osKe8Oz"
   },
   "source": [
    "### Exercise 2.1: The above example can be optimized with two separate optimizers:\n",
    "\n",
    "```\n",
    "optimizer1 = torch.optim.SGD(DN1.parameters(), lr=0.01)\n",
    "optimizer2 = torch.optim.SGD(DN2.parameters(), lr=0.01)\n",
    "```\n",
    "Train the model with two optimizers and calculate the accuracy."
   ]
  },
  {
   "cell_type": "code",
   "execution_count": null,
   "metadata": {
    "id": "iLBIoin4eQZ2"
   },
   "outputs": [],
   "source": [
    "DN1 = torch.nn.Sequential(\n",
    "    torch.nn.Linear(784, 64),\n",
    "    torch.nn.ReLU(),\n",
    ")\n",
    "\n",
    "DN2 = torch.nn.Sequential(\n",
    "    torch.nn.Linear(64, 32),\n",
    "    torch.nn.ReLU(),\n",
    "    torch.nn.Linear(32, 10), )\n",
    "\n",
    "# DN2(DN1(X))\n",
    "\n",
    "loss_ftn = torch.nn.CrossEntropyLoss()\n",
    "\n",
    "optimizer1 = torch.optim.SGD(DN1.parameters(), lr=0.01)\n",
    "optimizer2 = torch.optim.SGD(DN2.parameters(), lr=0.01)\n",
    "history = []"
   ]
  },
  {
   "cell_type": "code",
   "execution_count": null,
   "metadata": {
    "colab": {
     "base_uri": "https://localhost:8080/"
    },
    "executionInfo": {
     "elapsed": 119311,
     "status": "ok",
     "timestamp": 1698391573581,
     "user": {
      "displayName": "﻿안재윤(전임교원/통계학과)",
      "userId": "02619146530199681853"
     },
     "user_tz": -540
    },
    "id": "Ta9VDMTveQT3",
    "outputId": "13f5f696-dfc7-4be7-c8ef-05ddad309251"
   },
   "outputs": [
    {
     "name": "stdout",
     "output_type": "stream",
     "text": [
      "0 1.2069908891916274\n",
      "1 0.4061869699637095\n",
      "2 0.33573836386203765\n",
      "3 0.2958169570962588\n",
      "4 0.26416039765973887\n",
      "5 0.23712918001314004\n",
      "6 0.21441932291388513\n",
      "7 0.19501766999165218\n",
      "8 0.17855560879657667\n",
      "9 0.16550792706807455\n",
      "10 0.15329959096610546\n",
      "11 0.14333233961760997\n",
      "12 0.13378568572600683\n",
      "13 0.12565439413214724\n",
      "14 0.11814270199860136\n",
      "15 0.11133633464723826\n",
      "16 0.10552134303301573\n",
      "17 0.09965808110808333\n",
      "18 0.09455144532769919\n",
      "19 0.08988592983012399\n"
     ]
    }
   ],
   "source": [
    "epochs=20\n",
    "history=[]\n",
    "\n",
    "for epoch in range(epochs):\n",
    "  running_loss =0\n",
    "  for xx, tt in trainloader:\n",
    "    optimizer1.zero_grad()\n",
    "    optimizer2.zero_grad()\n",
    "    zhat = DN2(DN1(xx))\n",
    "    loss = loss_ftn(zhat, tt)\n",
    "    loss.backward()\n",
    "    optimizer1.step()\n",
    "    optimizer2.step()\n",
    "    running_loss += loss.item()*len(xx)\n",
    "  print(epoch, running_loss/len(trainloader.dataset))\n",
    "  history.append(running_loss/len(trainloader.dataset))"
   ]
  },
  {
   "cell_type": "code",
   "execution_count": null,
   "metadata": {
    "colab": {
     "base_uri": "https://localhost:8080/",
     "height": 448
    },
    "executionInfo": {
     "elapsed": 722,
     "status": "ok",
     "timestamp": 1698391574291,
     "user": {
      "displayName": "﻿안재윤(전임교원/통계학과)",
      "userId": "02619146530199681853"
     },
     "user_tz": -540
    },
    "id": "ruoHnz3ZBRXn",
    "outputId": "6cfe824f-7597-41fd-884f-2bf4e2499da8"
   },
   "outputs": [
    {
     "data": {
      "text/plain": [
       "[<matplotlib.lines.Line2D at 0x7f1c9142dcc0>]"
      ]
     },
     "execution_count": 129,
     "metadata": {},
     "output_type": "execute_result"
    },
    {
     "data": {
      "image/png": "[encoded data removed]",
      "text/plain": [
       "<Figure size 640x480 with 1 Axes>"
      ]
     },
     "metadata": {},
     "output_type": "display_data"
    }
   ],
   "source": [
    "plt.plot(history)"
   ]
  },
  {
   "cell_type": "code",
   "execution_count": null,
   "metadata": {
    "colab": {
     "base_uri": "https://localhost:8080/"
    },
    "executionInfo": {
     "elapsed": 5,
     "status": "ok",
     "timestamp": 1698391574292,
     "user": {
      "displayName": "﻿안재윤(전임교원/통계학과)",
      "userId": "02619146530199681853"
     },
     "user_tz": -540
    },
    "id": "kqaX4bF5BTnh",
    "outputId": "1d6d7bac-072a-435b-b770-9ff13d5fbade"
   },
   "outputs": [
    {
     "data": {
      "text/plain": [
       "tensor(0.9666)"
      ]
     },
     "execution_count": 130,
     "metadata": {},
     "output_type": "execute_result"
    }
   ],
   "source": [
    "zhat_test = DN2(DN1(x_test)) #x_test: [n_test, 784]\n",
    "Q_test = torch.softmax(zhat_test, axis=1) # Q_test: [n_test, 10]\n",
    "#y_test\n",
    "y_hat = torch.argmax(Q_test, axis=1).to(torch.float32) #y_hat: [n_test,]\n",
    "\n",
    "torch.mean((y_hat == y_test.reshape([-1])).to(torch.float32))"
   ]
  },
  {
   "cell_type": "code",
   "execution_count": null,
   "metadata": {
    "id": "R5nEdYkKx-ex"
   },
   "outputs": [],
   "source": []
  },
  {
   "cell_type": "code",
   "execution_count": null,
   "metadata": {
    "colab": {
     "base_uri": "https://localhost:8080/"
    },
    "executionInfo": {
     "elapsed": 13,
     "status": "ok",
     "timestamp": 1646898919245,
     "user": {
      "displayName": "﻿안재윤(전임교원/통계학과)",
      "photoUrl": "https://lh3.googleusercontent.com/a/default-user=s64",
      "userId": "02619146530199681853"
     },
     "user_tz": -540
    },
    "id": "3j6-EDVxzvIc",
    "outputId": "2aec7eaf-7831-4c80-fae4-48f3ba13dfc2"
   },
   "outputs": [
    {
     "name": "stdout",
     "output_type": "stream",
     "text": [
      "linear1.weight\n",
      "linear1.bias\n",
      "linear2.weight\n",
      "linear2.bias\n"
     ]
    }
   ],
   "source": [
    "for name, param in DN2.named_parameters():\n",
    "  print(name)"
   ]
  },
  {
   "cell_type": "markdown",
   "metadata": {
    "id": "HYKp-Xj0cjM-"
   },
   "source": [
    "# Exercises:"
   ]
  },
  {
   "cell_type": "markdown",
   "metadata": {
    "id": "NH9lV3uLclHa"
   },
   "source": [
    "## Exercise 1:\n",
    "\n",
    "You are given the following data:"
   ]
  },
  {
   "cell_type": "code",
   "execution_count": 19,
   "metadata": {
    "id": "ATpDHd0Sfg5w"
   },
   "outputs": [],
   "source": [
    "import torch\n",
    "import numpy as np\n",
    "from ISLP import load_data\n",
    "import matplotlib.pyplot as plt\n",
    "from torch.utils.data import TensorDataset, DataLoader"
   ]
  },
  {
   "cell_type": "code",
   "execution_count": 20,
   "metadata": {
    "colab": {
     "base_uri": "https://localhost:8080/"
    },
    "executionInfo": {
     "elapsed": 3,
     "status": "ok",
     "timestamp": 1698391689667,
     "user": {
      "displayName": "﻿안재윤(전임교원/통계학과)",
      "userId": "02619146530199681853"
     },
     "user_tz": -540
    },
    "id": "r8nkKvL4eF9o",
    "outputId": "f1481f55-29a0-420a-fbf6-f60061001d06"
   },
   "outputs": [
    {
     "data": {
      "text/plain": [
       "Index(['crim', 'zn', 'indus', 'chas', 'nox', 'rm', 'age', 'dis', 'rad', 'tax',\n",
       "       'ptratio', 'lstat', 'medv'],\n",
       "      dtype='object')"
      ]
     },
     "execution_count": 20,
     "metadata": {},
     "output_type": "execute_result"
    }
   ],
   "source": [
    "Boston = load_data(\"Boston\")\n",
    "Boston.columns"
   ]
  },
  {
   "cell_type": "code",
   "execution_count": 21,
   "metadata": {
    "id": "DAmIW2HHfmr6"
   },
   "outputs": [],
   "source": [
    "X = torch.tensor(Boston[['crim', 'zn', 'indus', 'chas', 'nox', 'rm', 'age', 'dis', 'rad', 'tax',\n",
    "       'ptratio', 'lstat']].values, dtype=torch.float32)\n",
    "X_mean = torch.mean(X, axis=0)\n",
    "X_std = torch.std(X, axis=0)\n",
    "X=(X-X_mean)/X_std"
   ]
  },
  {
   "cell_type": "code",
   "execution_count": null,
   "metadata": {
    "id": "RJarYMdBf61P"
   },
   "outputs": [],
   "source": [
    "Y=torch.tensor(Boston[\"medv\"], dtype=torch.float32).reshape([-1,1])"
   ]
  },
  {
   "cell_type": "code",
   "execution_count": null,
   "metadata": {
    "colab": {
     "base_uri": "https://localhost:8080/"
    },
    "executionInfo": {
     "elapsed": 392,
     "status": "ok",
     "timestamp": 1698391707074,
     "user": {
      "displayName": "﻿안재윤(전임교원/통계학과)",
      "userId": "02619146530199681853"
     },
     "user_tz": -540
    },
    "id": "da79clyjCLji",
    "outputId": "d69bea6a-05ca-4842-d5c7-e16b3d288266"
   },
   "outputs": [
    {
     "data": {
      "text/plain": [
       "torch.Size([506, 12])"
      ]
     },
     "execution_count": 5,
     "metadata": {},
     "output_type": "execute_result"
    }
   ],
   "source": [
    "X.shape"
   ]
  },
  {
   "cell_type": "code",
   "execution_count": null,
   "metadata": {
    "colab": {
     "base_uri": "https://localhost:8080/"
    },
    "executionInfo": {
     "elapsed": 4,
     "status": "ok",
     "timestamp": 1698391714839,
     "user": {
      "displayName": "﻿안재윤(전임교원/통계학과)",
      "userId": "02619146530199681853"
     },
     "user_tz": -540
    },
    "id": "wu_n-11bCNyC",
    "outputId": "ecbce6b8-ba7d-47b3-db72-6d48181863b0"
   },
   "outputs": [
    {
     "data": {
      "text/plain": [
       "torch.Size([506, 1])"
      ]
     },
     "execution_count": 6,
     "metadata": {},
     "output_type": "execute_result"
    }
   ],
   "source": [
    "Y.shape"
   ]
  },
  {
   "cell_type": "code",
   "execution_count": null,
   "metadata": {
    "id": "LFlLSA6AgCEF"
   },
   "outputs": [],
   "source": [
    "train_data = TensorDataset(X, Y)\n",
    "trainloader= DataLoader(dataset = train_data, batch_size=32, shuffle=True)"
   ]
  },
  {
   "cell_type": "code",
   "execution_count": null,
   "metadata": {
    "colab": {
     "base_uri": "https://localhost:8080/"
    },
    "executionInfo": {
     "elapsed": 6,
     "status": "ok",
     "timestamp": 1698392271014,
     "user": {
      "displayName": "﻿안재윤(전임교원/통계학과)",
      "userId": "02619146530199681853"
     },
     "user_tz": -540
    },
    "id": "89vhEqbTgNHw",
    "outputId": "4e3bfc65-db68-4079-dbc3-ed27f06544b1"
   },
   "outputs": [
    {
     "name": "stdout",
     "output_type": "stream",
     "text": [
      "torch.Size([506, 1]) torch.Size([506, 12])\n"
     ]
    }
   ],
   "source": [
    "print(Y.shape, X.shape)\n"
   ]
  },
  {
   "cell_type": "code",
   "execution_count": null,
   "metadata": {
    "id": "AYsB3RcLgPVL"
   },
   "outputs": [],
   "source": [
    "model = torch.nn.Linear(12, 1, bias=True)\n",
    "def loss_ftn(yhat, y):\n",
    "  temp = torch.mean((yhat-y)**2)\n",
    "  return temp\n",
    "optimizer = torch.optim.SGD(model.parameters(), lr=0.01)\n"
   ]
  },
  {
   "cell_type": "code",
   "execution_count": null,
   "metadata": {
    "id": "vKn-bGK_CsoU"
   },
   "outputs": [],
   "source": [
    "epochs=20\n",
    "history=[]\n",
    "\n",
    "for epoch in range(epochs):\n",
    "  running_loss =0\n",
    "  for xx, yy in trainloader:\n",
    "    optimizer.zero_grad()\n",
    "    yhat = model(xx)\n",
    "    loss = loss_ftn(yhat, yy)\n",
    "    loss.backward()\n",
    "    optimizer.step()\n",
    "    running_loss += loss.item()*len(xx)\n",
    "  history.append(running_loss/len(trainloader.dataset))"
   ]
  },
  {
   "cell_type": "code",
   "execution_count": null,
   "metadata": {
    "colab": {
     "base_uri": "https://localhost:8080/",
     "height": 448
    },
    "executionInfo": {
     "elapsed": 4,
     "status": "ok",
     "timestamp": 1698392271949,
     "user": {
      "displayName": "﻿안재윤(전임교원/통계학과)",
      "userId": "02619146530199681853"
     },
     "user_tz": -540
    },
    "id": "GQdkfPRDDSly",
    "outputId": "c3344a20-f0d6-4999-a0a0-44c13b548ecb"
   },
   "outputs": [
    {
     "data": {
      "text/plain": [
       "[<matplotlib.lines.Line2D at 0x7caa21618970>]"
      ]
     },
     "execution_count": 64,
     "metadata": {},
     "output_type": "execute_result"
    },
    {
     "data": {
      "image/png": "[encoded data removed]",
      "text/plain": [
       "<Figure size 640x480 with 1 Axes>"
      ]
     },
     "metadata": {},
     "output_type": "display_data"
    }
   ],
   "source": [
    "plt.plot(history)"
   ]
  },
  {
   "cell_type": "code",
   "execution_count": null,
   "metadata": {
    "colab": {
     "base_uri": "https://localhost:8080/"
    },
    "executionInfo": {
     "elapsed": 3,
     "status": "ok",
     "timestamp": 1698392272796,
     "user": {
      "displayName": "﻿안재윤(전임교원/통계학과)",
      "userId": "02619146530199681853"
     },
     "user_tz": -540
    },
    "id": "pcGzvS1YDWb8",
    "outputId": "69d17785-2c5d-40e3-e68e-34023e653166"
   },
   "outputs": [
    {
     "data": {
      "text/plain": [
       "tensor(23.0154, grad_fn=<MeanBackward0>)"
      ]
     },
     "execution_count": 65,
     "metadata": {},
     "output_type": "execute_result"
    }
   ],
   "source": [
    "Yhat=model(X)\n",
    "torch.mean((Y-Yhat)**2)"
   ]
  },
  {
   "cell_type": "markdown",
   "metadata": {
    "id": "L7TMA_suh3Cm"
   },
   "source": [
    "### Develope a neural network to predict the house price, and calculate the train MSE. (Note that the train MSE of linear regression is approximately 23.)"
   ]
  },
  {
   "cell_type": "code",
   "execution_count": null,
   "metadata": {
    "id": "ejMs-Ejjgoj8"
   },
   "outputs": [],
   "source": [
    "DN = torch.nn.Sequential(\n",
    "    torch.nn.Linear(12, 5),\n",
    "    torch.nn.ReLU(),\n",
    "    torch.nn.Linear(5, 5),\n",
    "    torch.nn.ReLU(),\n",
    "    torch.nn.Linear(5, 1),\n",
    ")\n",
    "\n",
    "def loss_ftn(yhat, y):\n",
    "  temp = torch.mean((yhat-y)**2)\n",
    "  return temp\n",
    "optimizer = torch.optim.SGD(DN.parameters(), lr=0.01)\n",
    "history = []"
   ]
  },
  {
   "cell_type": "code",
   "execution_count": null,
   "metadata": {
    "id": "OoQ94vOQgoj9"
   },
   "outputs": [],
   "source": [
    "epochs=40\n",
    "history=[]\n",
    "\n",
    "for epoch in range(epochs):\n",
    "  running_loss =0\n",
    "  for xx, yy in trainloader:\n",
    "    optimizer.zero_grad()\n",
    "    yhat = DN(xx)\n",
    "    loss = loss_ftn(yhat, yy)\n",
    "    loss.backward()\n",
    "    optimizer.step()\n",
    "    running_loss += loss.item()*len(xx)\n",
    "  history.append(running_loss/len(trainloader.dataset))"
   ]
  },
  {
   "cell_type": "code",
   "execution_count": null,
   "metadata": {
    "colab": {
     "base_uri": "https://localhost:8080/",
     "height": 448
    },
    "executionInfo": {
     "elapsed": 539,
     "status": "ok",
     "timestamp": 1698392290217,
     "user": {
      "displayName": "﻿안재윤(전임교원/통계학과)",
      "userId": "02619146530199681853"
     },
     "user_tz": -540
    },
    "id": "mkHEQCpIgoj9",
    "outputId": "796b289e-0dd1-494d-9b16-74fa51388384"
   },
   "outputs": [
    {
     "data": {
      "text/plain": [
       "[<matplotlib.lines.Line2D at 0x7caa1f194790>]"
      ]
     },
     "execution_count": 76,
     "metadata": {},
     "output_type": "execute_result"
    },
    {
     "data": {
      "image/png": "[encoded data removed]",
      "text/plain": [
       "<Figure size 640x480 with 1 Axes>"
      ]
     },
     "metadata": {},
     "output_type": "display_data"
    }
   ],
   "source": [
    "plt.plot(history)"
   ]
  },
  {
   "cell_type": "code",
   "execution_count": null,
   "metadata": {
    "colab": {
     "base_uri": "https://localhost:8080/"
    },
    "executionInfo": {
     "elapsed": 6,
     "status": "ok",
     "timestamp": 1698392290218,
     "user": {
      "displayName": "﻿안재윤(전임교원/통계학과)",
      "userId": "02619146530199681853"
     },
     "user_tz": -540
    },
    "id": "zfaSJcuIhVX-",
    "outputId": "9bddd39d-4308-4693-f6ba-9f67472fbbc5"
   },
   "outputs": [
    {
     "data": {
      "text/plain": [
       "tensor(8.6909, grad_fn=<MeanBackward0>)"
      ]
     },
     "execution_count": 77,
     "metadata": {},
     "output_type": "execute_result"
    }
   ],
   "source": [
    "Yhat=DN(X)\n",
    "torch.mean((Y-Yhat)**2)"
   ]
  },
  {
   "cell_type": "code",
   "execution_count": null,
   "metadata": {
    "id": "g3YopEFThhnH"
   },
   "outputs": [],
   "source": []
  },
  {
   "cell_type": "code",
   "execution_count": null,
   "metadata": {
    "id": "j8NZxQtvhmMm"
   },
   "outputs": [],
   "source": []
  },
  {
   "cell_type": "markdown",
   "metadata": {
    "id": "I6OeaYQjiNF4"
   },
   "source": [
    "## Exercise 2: Pima Indian Diabetes\n",
    "\n"
   ]
  },
  {
   "cell_type": "code",
   "execution_count": null,
   "metadata": {
    "colab": {
     "base_uri": "https://localhost:8080/"
    },
    "executionInfo": {
     "elapsed": 25226,
     "status": "ok",
     "timestamp": 1698392325867,
     "user": {
      "displayName": "﻿안재윤(전임교원/통계학과)",
      "userId": "02619146530199681853"
     },
     "user_tz": -540
    },
    "id": "zBF7rK3lUNe3",
    "outputId": "d23372ca-aa5b-45f7-b682-459885ab3104"
   },
   "outputs": [
    {
     "name": "stdout",
     "output_type": "stream",
     "text": [
      "Mounted at /content/drive\n"
     ]
    }
   ],
   "source": [
    "from google.colab import drive\n",
    "drive.mount('/content/drive')"
   ]
  },
  {
   "cell_type": "code",
   "execution_count": null,
   "metadata": {
    "id": "ougyb1c6Rv3n"
   },
   "outputs": [],
   "source": [
    "import pandas as pd\n",
    "col_names = ['pregnant', 'glucose', 'bp', 'skin', 'insulin', 'bmi', 'pedigree', 'age', 'label']\n",
    "# load dataset\n",
    "pima = pd.read_csv(\"/content/drive/MyDrive/Class/Programming_2023_Pytorch/Chapter_7_Neural_Networks/Python/diabetes.csv\", header=0, names=col_names)"
   ]
  },
  {
   "cell_type": "code",
   "execution_count": null,
   "metadata": {
    "colab": {
     "base_uri": "https://localhost:8080/",
     "height": 206
    },
    "executionInfo": {
     "elapsed": 398,
     "status": "ok",
     "timestamp": 1698392378495,
     "user": {
      "displayName": "﻿안재윤(전임교원/통계학과)",
      "userId": "02619146530199681853"
     },
     "user_tz": -540
    },
    "id": "iD7zfxUMUkYC",
    "outputId": "3fb07d1c-8ba7-44b5-f92e-a2da31950f22"
   },
   "outputs": [
    {
     "data": {
      "text/html": [
       "\n",
       "  <div id=\"df-652f314b-59b7-4d75-a46f-5e4a91949e65\" class=\"colab-df-container\">\n",
       "    <div>\n",
       "<style scoped>\n",
       "    .dataframe tbody tr th:only-of-type {\n",
       "        vertical-align: middle;\n",
       "    }\n",
       "\n",
       "    .dataframe tbody tr th {\n",
       "        vertical-align: top;\n",
       "    }\n",
       "\n",
       "    .dataframe thead th {\n",
       "        text-align: right;\n",
       "    }\n",
       "</style>\n",
       "<table border=\"1\" class=\"dataframe\">\n",
       "  <thead>\n",
       "    <tr style=\"text-align: right;\">\n",
       "      <th></th>\n",
       "      <th>pregnant</th>\n",
       "      <th>glucose</th>\n",
       "      <th>bp</th>\n",
       "      <th>skin</th>\n",
       "      <th>insulin</th>\n",
       "      <th>bmi</th>\n",
       "      <th>pedigree</th>\n",
       "      <th>age</th>\n",
       "      <th>label</th>\n",
       "    </tr>\n",
       "  </thead>\n",
       "  <tbody>\n",
       "    <tr>\n",
       "      <th>0</th>\n",
       "      <td>6</td>\n",
       "      <td>148</td>\n",
       "      <td>72</td>\n",
       "      <td>35</td>\n",
       "      <td>0</td>\n",
       "      <td>33.6</td>\n",
       "      <td>0.627</td>\n",
       "      <td>50</td>\n",
       "      <td>1</td>\n",
       "    </tr>\n",
       "    <tr>\n",
       "      <th>1</th>\n",
       "      <td>1</td>\n",
       "      <td>85</td>\n",
       "      <td>66</td>\n",
       "      <td>29</td>\n",
       "      <td>0</td>\n",
       "      <td>26.6</td>\n",
       "      <td>0.351</td>\n",
       "      <td>31</td>\n",
       "      <td>0</td>\n",
       "    </tr>\n",
       "    <tr>\n",
       "      <th>2</th>\n",
       "      <td>8</td>\n",
       "      <td>183</td>\n",
       "      <td>64</td>\n",
       "      <td>0</td>\n",
       "      <td>0</td>\n",
       "      <td>23.3</td>\n",
       "      <td>0.672</td>\n",
       "      <td>32</td>\n",
       "      <td>1</td>\n",
       "    </tr>\n",
       "    <tr>\n",
       "      <th>3</th>\n",
       "      <td>1</td>\n",
       "      <td>89</td>\n",
       "      <td>66</td>\n",
       "      <td>23</td>\n",
       "      <td>94</td>\n",
       "      <td>28.1</td>\n",
       "      <td>0.167</td>\n",
       "      <td>21</td>\n",
       "      <td>0</td>\n",
       "    </tr>\n",
       "    <tr>\n",
       "      <th>4</th>\n",
       "      <td>0</td>\n",
       "      <td>137</td>\n",
       "      <td>40</td>\n",
       "      <td>35</td>\n",
       "      <td>168</td>\n",
       "      <td>43.1</td>\n",
       "      <td>2.288</td>\n",
       "      <td>33</td>\n",
       "      <td>1</td>\n",
       "    </tr>\n",
       "  </tbody>\n",
       "</table>\n",
       "</div>\n",
       "    <div class=\"colab-df-buttons\">\n",
       "\n",
       "  <div class=\"colab-df-container\">\n",
       "    <button class=\"colab-df-convert\" onclick=\"convertToInteractive('df-652f314b-59b7-4d75-a46f-5e4a91949e65')\"\n",
       "            title=\"Convert this dataframe to an interactive table.\"\n",
       "            style=\"display:none;\">\n",
       "\n",
       "  <svg xmlns=\"http://www.w3.org/2000/svg\" height=\"24px\" viewBox=\"0 -960 960 960\">\n",
       "    <path d=\"M120-120v-720h720v720H120Zm60-500h600v-160H180v160Zm220 220h160v-160H400v160Zm0 220h160v-160H400v160ZM180-400h160v-160H180v160Zm440 0h160v-160H620v160ZM180-180h160v-160H180v160Zm440 0h160v-160H620v160Z\"/>\n",
       "  </svg>\n",
       "    </button>\n",
       "\n",
       "  <style>\n",
       "    .colab-df-container {\n",
       "      display:flex;\n",
       "      gap: 12px;\n",
       "    }\n",
       "\n",
       "    .colab-df-convert {\n",
       "      background-color: #E8F0FE;\n",
       "      border: none;\n",
       "      border-radius: 50%;\n",
       "      cursor: pointer;\n",
       "      display: none;\n",
       "      fill: #1967D2;\n",
       "      height: 32px;\n",
       "      padding: 0 0 0 0;\n",
       "      width: 32px;\n",
       "    }\n",
       "\n",
       "    .colab-df-convert:hover {\n",
       "      background-color: #E2EBFA;\n",
       "      box-shadow: 0px 1px 2px rgba(60, 64, 67, 0.3), 0px 1px 3px 1px rgba(60, 64, 67, 0.15);\n",
       "      fill: #174EA6;\n",
       "    }\n",
       "\n",
       "    .colab-df-buttons div {\n",
       "      margin-bottom: 4px;\n",
       "    }\n",
       "\n",
       "    [theme=dark] .colab-df-convert {\n",
       "      background-color: #3B4455;\n",
       "      fill: #D2E3FC;\n",
       "    }\n",
       "\n",
       "    [theme=dark] .colab-df-convert:hover {\n",
       "      background-color: #434B5C;\n",
       "      box-shadow: 0px 1px 3px 1px rgba(0, 0, 0, 0.15);\n",
       "      filter: drop-shadow(0px 1px 2px rgba(0, 0, 0, 0.3));\n",
       "      fill: #FFFFFF;\n",
       "    }\n",
       "  </style>\n",
       "\n",
       "    <script>\n",
       "      const buttonEl =\n",
       "        document.querySelector('#df-652f314b-59b7-4d75-a46f-5e4a91949e65 button.colab-df-convert');\n",
       "      buttonEl.style.display =\n",
       "        google.colab.kernel.accessAllowed ? 'block' : 'none';\n",
       "\n",
       "      async function convertToInteractive(key) {\n",
       "        const element = document.querySelector('#df-652f314b-59b7-4d75-a46f-5e4a91949e65');\n",
       "        const dataTable =\n",
       "          await google.colab.kernel.invokeFunction('convertToInteractive',\n",
       "                                                    [key], {});\n",
       "        if (!dataTable) return;\n",
       "\n",
       "        const docLinkHtml = 'Like what you see? Visit the ' +\n",
       "          '<a target=\"_blank\" href=https://colab.research.google.com/notebooks/data_table.ipynb>data table notebook</a>'\n",
       "          + ' to learn more about interactive tables.';\n",
       "        element.innerHTML = '';\n",
       "        dataTable['output_type'] = 'display_data';\n",
       "        await google.colab.output.renderOutput(dataTable, element);\n",
       "        const docLink = document.createElement('div');\n",
       "        docLink.innerHTML = docLinkHtml;\n",
       "        element.appendChild(docLink);\n",
       "      }\n",
       "    </script>\n",
       "  </div>\n",
       "\n",
       "\n",
       "<div id=\"df-799fbe75-b564-4692-8692-0157c6484506\">\n",
       "  <button class=\"colab-df-quickchart\" onclick=\"quickchart('df-799fbe75-b564-4692-8692-0157c6484506')\"\n",
       "            title=\"Suggest charts.\"\n",
       "            style=\"display:none;\">\n",
       "\n",
       "<svg xmlns=\"http://www.w3.org/2000/svg\" height=\"24px\"viewBox=\"0 0 24 24\"\n",
       "     width=\"24px\">\n",
       "    <g>\n",
       "        <path d=\"M19 3H5c-1.1 0-2 .9-2 2v14c0 1.1.9 2 2 2h14c1.1 0 2-.9 2-2V5c0-1.1-.9-2-2-2zM9 17H7v-7h2v7zm4 0h-2V7h2v10zm4 0h-2v-4h2v4z\"/>\n",
       "    </g>\n",
       "</svg>\n",
       "  </button>\n",
       "\n",
       "<style>\n",
       "  .colab-df-quickchart {\n",
       "      --bg-color: #E8F0FE;\n",
       "      --fill-color: #1967D2;\n",
       "      --hover-bg-color: #E2EBFA;\n",
       "      --hover-fill-color: #174EA6;\n",
       "      --disabled-fill-color: #AAA;\n",
       "      --disabled-bg-color: #DDD;\n",
       "  }\n",
       "\n",
       "  [theme=dark] .colab-df-quickchart {\n",
       "      --bg-color: #3B4455;\n",
       "      --fill-color: #D2E3FC;\n",
       "      --hover-bg-color: #434B5C;\n",
       "      --hover-fill-color: #FFFFFF;\n",
       "      --disabled-bg-color: #3B4455;\n",
       "      --disabled-fill-color: #666;\n",
       "  }\n",
       "\n",
       "  .colab-df-quickchart {\n",
       "    background-color: var(--bg-color);\n",
       "    border: none;\n",
       "    border-radius: 50%;\n",
       "    cursor: pointer;\n",
       "    display: none;\n",
       "    fill: var(--fill-color);\n",
       "    height: 32px;\n",
       "    padding: 0;\n",
       "    width: 32px;\n",
       "  }\n",
       "\n",
       "  .colab-df-quickchart:hover {\n",
       "    background-color: var(--hover-bg-color);\n",
       "    box-shadow: 0 1px 2px rgba(60, 64, 67, 0.3), 0 1px 3px 1px rgba(60, 64, 67, 0.15);\n",
       "    fill: var(--button-hover-fill-color);\n",
       "  }\n",
       "\n",
       "  .colab-df-quickchart-complete:disabled,\n",
       "  .colab-df-quickchart-complete:disabled:hover {\n",
       "    background-color: var(--disabled-bg-color);\n",
       "    fill: var(--disabled-fill-color);\n",
       "    box-shadow: none;\n",
       "  }\n",
       "\n",
       "  .colab-df-spinner {\n",
       "    border: 2px solid var(--fill-color);\n",
       "    border-color: transparent;\n",
       "    border-bottom-color: var(--fill-color);\n",
       "    animation:\n",
       "      spin 1s steps(1) infinite;\n",
       "  }\n",
       "\n",
       "  @keyframes spin {\n",
       "    0% {\n",
       "      border-color: transparent;\n",
       "      border-bottom-color: var(--fill-color);\n",
       "      border-left-color: var(--fill-color);\n",
       "    }\n",
       "    20% {\n",
       "      border-color: transparent;\n",
       "      border-left-color: var(--fill-color);\n",
       "      border-top-color: var(--fill-color);\n",
       "    }\n",
       "    30% {\n",
       "      border-color: transparent;\n",
       "      border-left-color: var(--fill-color);\n",
       "      border-top-color: var(--fill-color);\n",
       "      border-right-color: var(--fill-color);\n",
       "    }\n",
       "    40% {\n",
       "      border-color: transparent;\n",
       "      border-right-color: var(--fill-color);\n",
       "      border-top-color: var(--fill-color);\n",
       "    }\n",
       "    60% {\n",
       "      border-color: transparent;\n",
       "      border-right-color: var(--fill-color);\n",
       "    }\n",
       "    80% {\n",
       "      border-color: transparent;\n",
       "      border-right-color: var(--fill-color);\n",
       "      border-bottom-color: var(--fill-color);\n",
       "    }\n",
       "    90% {\n",
       "      border-color: transparent;\n",
       "      border-bottom-color: var(--fill-color);\n",
       "    }\n",
       "  }\n",
       "</style>\n",
       "\n",
       "  <script>\n",
       "    async function quickchart(key) {\n",
       "      const quickchartButtonEl =\n",
       "        document.querySelector('#' + key + ' button');\n",
       "      quickchartButtonEl.disabled = true;  // To prevent multiple clicks.\n",
       "      quickchartButtonEl.classList.add('colab-df-spinner');\n",
       "      try {\n",
       "        const charts = await google.colab.kernel.invokeFunction(\n",
       "            'suggestCharts', [key], {});\n",
       "      } catch (error) {\n",
       "        console.error('Error during call to suggestCharts:', error);\n",
       "      }\n",
       "      quickchartButtonEl.classList.remove('colab-df-spinner');\n",
       "      quickchartButtonEl.classList.add('colab-df-quickchart-complete');\n",
       "    }\n",
       "    (() => {\n",
       "      let quickchartButtonEl =\n",
       "        document.querySelector('#df-799fbe75-b564-4692-8692-0157c6484506 button');\n",
       "      quickchartButtonEl.style.display =\n",
       "        google.colab.kernel.accessAllowed ? 'block' : 'none';\n",
       "    })();\n",
       "  </script>\n",
       "</div>\n",
       "    </div>\n",
       "  </div>\n"
      ],
      "text/plain": [
       "   pregnant  glucose  bp  skin  insulin   bmi  pedigree  age  label\n",
       "0         6      148  72    35        0  33.6     0.627   50      1\n",
       "1         1       85  66    29        0  26.6     0.351   31      0\n",
       "2         8      183  64     0        0  23.3     0.672   32      1\n",
       "3         1       89  66    23       94  28.1     0.167   21      0\n",
       "4         0      137  40    35      168  43.1     2.288   33      1"
      ]
     },
     "execution_count": 81,
     "metadata": {},
     "output_type": "execute_result"
    }
   ],
   "source": [
    "pima.head()"
   ]
  },
  {
   "cell_type": "code",
   "execution_count": null,
   "metadata": {
    "id": "mI_zB-KRUlud"
   },
   "outputs": [],
   "source": [
    "feature_cols = ['pregnant', 'insulin', 'bmi', 'age','glucose','bp','pedigree']\n",
    "X = pima[feature_cols] # Features\n",
    "y = pima.label # Target variable"
   ]
  },
  {
   "cell_type": "code",
   "execution_count": null,
   "metadata": {
    "colab": {
     "base_uri": "https://localhost:8080/"
    },
    "executionInfo": {
     "elapsed": 3,
     "status": "ok",
     "timestamp": 1698392383934,
     "user": {
      "displayName": "﻿안재윤(전임교원/통계학과)",
      "userId": "02619146530199681853"
     },
     "user_tz": -540
    },
    "id": "Z_HAX2jzp80G",
    "outputId": "24dd140f-5a7d-4ac5-a13e-37abe1a96e5e"
   },
   "outputs": [
    {
     "data": {
      "text/plain": [
       "(768, 7)"
      ]
     },
     "execution_count": 83,
     "metadata": {},
     "output_type": "execute_result"
    }
   ],
   "source": [
    "X.shape"
   ]
  },
  {
   "cell_type": "code",
   "execution_count": null,
   "metadata": {
    "id": "UKPoRLXxUqb3"
   },
   "outputs": [],
   "source": [
    "n=X.shape[0]\n",
    "X = torch.tensor(X.values, dtype=torch.float32)\n",
    "Y = torch.tensor(y.values, dtype=torch.float32).reshape([n,1])"
   ]
  },
  {
   "cell_type": "code",
   "execution_count": null,
   "metadata": {
    "id": "8wPePlHnUqXf"
   },
   "outputs": [],
   "source": [
    "X_mean = torch.mean(X, axis=0)\n",
    "X_std = torch.std(X, axis=0)"
   ]
  },
  {
   "cell_type": "code",
   "execution_count": null,
   "metadata": {
    "id": "sXRNUK2SUqU6"
   },
   "outputs": [],
   "source": [
    "XX = (X-X_mean)/X_std\n",
    "dataset = TensorDataset(XX,Y)\n"
   ]
  },
  {
   "cell_type": "code",
   "execution_count": null,
   "metadata": {
    "id": "w1R4nG3tFX99"
   },
   "outputs": [],
   "source": [
    "train_set, val_set = torch.utils.data.random_split(dataset, [500, n-500])\n",
    "trainloader = DataLoader(dataset=train_set, batch_size=32, shuffle=True)\n",
    "testloader =  DataLoader(dataset=val_set, batch_size=n-500, shuffle=True)\n",
    "\n",
    "\n",
    "\n",
    "\n"
   ]
  },
  {
   "cell_type": "code",
   "execution_count": null,
   "metadata": {
    "id": "MAKgiGa2jV1Z"
   },
   "outputs": [],
   "source": []
  },
  {
   "cell_type": "code",
   "execution_count": null,
   "metadata": {
    "id": "u8-e7gOHjYuZ"
   },
   "outputs": [],
   "source": []
  },
  {
   "cell_type": "code",
   "execution_count": null,
   "metadata": {
    "id": "XA4ePsaMjYxx"
   },
   "outputs": [],
   "source": [
    "DN = torch.nn.Sequential(\n",
    "    torch.nn.Linear(7, 2, bias=True),\n",
    "    torch.nn.ReLU(),\n",
    "    torch.nn.Linear(2, 2, bias=True),\n",
    "    torch.nn.ReLU(),\n",
    "    torch.nn.Linear(2, 1, bias=True),\n",
    "    torch.nn.Sigmoid(),\n",
    ")\n",
    "# Phat = DN(X) #X:[n, 7]  # sigmoid(X@W+b)\n",
    "# Phat: [n,1]\n",
    "def neg_log_lik(phat,y):\n",
    "    out = -1 * torch.mean(y * torch.log(phat) + (1 - y) * torch.log(1 - phat))\n",
    "    return out\n",
    "\n",
    "optimizer = torch.optim.SGD(DN.parameters(), lr=0.1)\n",
    "history = []"
   ]
  },
  {
   "cell_type": "code",
   "execution_count": null,
   "metadata": {
    "id": "9XePESkYjYxy"
   },
   "outputs": [],
   "source": [
    "epochs=1000\n",
    "history=[]\n",
    "\n",
    "for epoch in range(epochs):\n",
    "  running_loss =0\n",
    "  for xx, yy in trainloader:\n",
    "    optimizer.zero_grad()\n",
    "    phat = DN(xx)\n",
    "    loss = neg_log_lik(phat, yy)\n",
    "    loss.backward()\n",
    "    optimizer.step()\n",
    "    running_loss += loss.item()*len(xx)\n",
    "  history.append(running_loss/len(trainloader.dataset))"
   ]
  },
  {
   "cell_type": "code",
   "execution_count": null,
   "metadata": {
    "colab": {
     "base_uri": "https://localhost:8080/",
     "height": 448
    },
    "executionInfo": {
     "elapsed": 10,
     "status": "ok",
     "timestamp": 1698393265510,
     "user": {
      "displayName": "﻿안재윤(전임교원/통계학과)",
      "userId": "02619146530199681853"
     },
     "user_tz": -540
    },
    "id": "LQx6GcOkjYxy",
    "outputId": "ab0deb5c-46e9-4198-94bf-d5bf3e3083b0"
   },
   "outputs": [
    {
     "data": {
      "text/plain": [
       "[<matplotlib.lines.Line2D at 0x7caa1e479e10>]"
      ]
     },
     "execution_count": 119,
     "metadata": {},
     "output_type": "execute_result"
    },
    {
     "data": {
      "image/png": "[encoded data removed]",
      "text/plain": [
       "<Figure size 640x480 with 1 Axes>"
      ]
     },
     "metadata": {},
     "output_type": "display_data"
    }
   ],
   "source": [
    "plt.plot(history)"
   ]
  },
  {
   "cell_type": "code",
   "execution_count": null,
   "metadata": {
    "id": "ajQ4qM2Vj7V2"
   },
   "outputs": [],
   "source": []
  },
  {
   "cell_type": "markdown",
   "metadata": {
    "id": "ZdpHuttgj8FT"
   },
   "source": [
    "Caculate the accyracy:"
   ]
  },
  {
   "cell_type": "code",
   "execution_count": null,
   "metadata": {
    "colab": {
     "base_uri": "https://localhost:8080/"
    },
    "executionInfo": {
     "elapsed": 6,
     "status": "ok",
     "timestamp": 1698393265510,
     "user": {
      "displayName": "﻿안재윤(전임교원/통계학과)",
      "userId": "02619146530199681853"
     },
     "user_tz": -540
    },
    "id": "ykYYw_9XkBp8",
    "outputId": "6b5d5bc7-8d06-4331-ffc4-c5da835e3e85"
   },
   "outputs": [
    {
     "name": "stdout",
     "output_type": "stream",
     "text": [
      "tensor(0.7537)\n"
     ]
    }
   ],
   "source": [
    "for xx, yy in testloader:\n",
    "  phat = DN(xx)\n",
    "  yhat = (phat>0.5)*1.0\n",
    "  accuracy = torch.mean((yy == yhat)*1.0)\n",
    "  print(accuracy)"
   ]
  },
  {
   "cell_type": "code",
   "execution_count": null,
   "metadata": {
    "id": "UZftUdpXkHj3"
   },
   "outputs": [],
   "source": []
  },
  {
   "cell_type": "code",
   "execution_count": null,
   "metadata": {
    "id": "VoT-Wc43Gfhy"
   },
   "outputs": [],
   "source": []
  },
  {
   "cell_type": "markdown",
   "metadata": {
    "id": "y-AKlLbLGguq"
   },
   "source": [
    "Now, we compare it with linear model."
   ]
  },
  {
   "cell_type": "code",
   "execution_count": null,
   "metadata": {
    "id": "DTBdSohAGfuB"
   },
   "outputs": [],
   "source": [
    "model = torch.nn.Linear(7, 1, bias=True)\n",
    "\n",
    "# Phat = DN(X) #X:[n, 7]  # sigmoid(X@W+b)\n",
    "# Phat: [n,1]\n",
    "def neg_log_lik(phat,y):\n",
    "    out = -1 * torch.mean(y * torch.log(phat) + (1 - y) * torch.log(1 - phat))\n",
    "    return out\n",
    "\n",
    "optimizer = torch.optim.SGD(model.parameters(), lr=0.05)\n",
    "history = []"
   ]
  },
  {
   "cell_type": "code",
   "execution_count": null,
   "metadata": {
    "id": "2762xgnFGfuC"
   },
   "outputs": [],
   "source": [
    "epochs=1000\n",
    "history=[]\n",
    "\n",
    "for epoch in range(epochs):\n",
    "  running_loss =0\n",
    "  for xx, yy in trainloader:\n",
    "    optimizer.zero_grad()\n",
    "    phat = torch.sigmoid(model(xx))\n",
    "    loss = neg_log_lik(phat, yy)\n",
    "    loss.backward()\n",
    "    optimizer.step()\n",
    "    running_loss += loss.item()*len(xx)\n",
    "  history.append(running_loss/len(trainloader.dataset))"
   ]
  },
  {
   "cell_type": "code",
   "execution_count": null,
   "metadata": {
    "colab": {
     "base_uri": "https://localhost:8080/",
     "height": 448
    },
    "executionInfo": {
     "elapsed": 438,
     "status": "ok",
     "timestamp": 1698393043751,
     "user": {
      "displayName": "﻿안재윤(전임교원/통계학과)",
      "userId": "02619146530199681853"
     },
     "user_tz": -540
    },
    "id": "OGXzYG18GfuC",
    "outputId": "cbb77488-08a8-4dd5-9a9b-60dde0e34804"
   },
   "outputs": [
    {
     "data": {
      "text/plain": [
       "[<matplotlib.lines.Line2D at 0x7caa1e7d32b0>]"
      ]
     },
     "execution_count": 99,
     "metadata": {},
     "output_type": "execute_result"
    },
    {
     "data": {
      "image/png": "[encoded data removed]",
      "text/plain": [
       "<Figure size 640x480 with 1 Axes>"
      ]
     },
     "metadata": {},
     "output_type": "display_data"
    }
   ],
   "source": [
    "plt.plot(history)"
   ]
  },
  {
   "cell_type": "code",
   "execution_count": null,
   "metadata": {
    "id": "AqjIKKzNGffe"
   },
   "outputs": [],
   "source": []
  },
  {
   "cell_type": "markdown",
   "metadata": {
    "id": "7mC5yhvpHClc"
   },
   "source": [
    "Caculate the accyracy:"
   ]
  },
  {
   "cell_type": "code",
   "execution_count": null,
   "metadata": {
    "colab": {
     "base_uri": "https://localhost:8080/"
    },
    "executionInfo": {
     "elapsed": 388,
     "status": "ok",
     "timestamp": 1698393062953,
     "user": {
      "displayName": "﻿안재윤(전임교원/통계학과)",
      "userId": "02619146530199681853"
     },
     "user_tz": -540
    },
    "id": "zPxw8q8OHCld",
    "outputId": "1bccff46-7c72-4496-8243-64cb75ad4cc2"
   },
   "outputs": [
    {
     "name": "stdout",
     "output_type": "stream",
     "text": [
      "tensor(0.7575)\n"
     ]
    }
   ],
   "source": [
    "for xx, yy in testloader:\n",
    "  phat = torch.sigmoid(model(xx))\n",
    "  yhat = (phat>0.5)*1.0\n",
    "  accuracy = torch.mean((yy == yhat)*1.0)\n",
    "  print(accuracy)"
   ]
  },
  {
   "cell_type": "code",
   "execution_count": 123,
   "metadata": {
    "executionInfo": {
     "elapsed": 411,
     "status": "ok",
     "timestamp": 1698394746467,
     "user": {
      "displayName": "﻿안재윤(전임교원/통계학과)",
      "userId": "02619146530199681853"
     },
     "user_tz": -540
    },
    "id": "Oz7lsZofGfbk"
   },
   "outputs": [],
   "source": []
  },
  {
   "cell_type": "markdown",
   "metadata": {
    "id": "GUxpo0IdNzmp"
   },
   "source": [
    "# HW Problem 1: Iris data"
   ]
  },
  {
   "cell_type": "markdown",
   "metadata": {
    "id": "_dPfo6OoSXGe"
   },
   "source": [
    "We will be using the famous Iris dataset, which contains measurements of the sepal length, sepal width, petal length, and petal width for three species of iris flowers (Iris setosa, Iris versicolor, and Iris virginica). The goal is to predict the species of an iris flower based on these measurements."
   ]
  },
  {
   "cell_type": "code",
   "execution_count": 126,
   "metadata": {
    "colab": {
     "base_uri": "https://localhost:8080/"
    },
    "executionInfo": {
     "elapsed": 386,
     "status": "ok",
     "timestamp": 1698394817518,
     "user": {
      "displayName": "﻿안재윤(전임교원/통계학과)",
      "userId": "02619146530199681853"
     },
     "user_tz": -540
    },
    "id": "Kyo_KXiCSHBM",
    "outputId": "c187f863-f25e-4d8a-9ec5-69982457ae80"
   },
   "outputs": [
    {
     "name": "stderr",
     "output_type": "stream",
     "text": [
      "<ipython-input-126-d11aa3dd3743>:11: UserWarning: To copy construct from a tensor, it is recommended to use sourceTensor.clone().detach() or sourceTensor.clone().detach().requires_grad_(True), rather than torch.tensor(sourceTensor).\n",
      "  t = torch.nn.functional.one_hot(torch.tensor(y, dtype=torch.int64), num_classes=3)\n",
      "<ipython-input-126-d11aa3dd3743>:12: UserWarning: To copy construct from a tensor, it is recommended to use sourceTensor.clone().detach() or sourceTensor.clone().detach().requires_grad_(True), rather than torch.tensor(sourceTensor).\n",
      "  t = torch.tensor(t, dtype=torch.float32)\n"
     ]
    }
   ],
   "source": [
    "from sklearn.datasets import load_iris\n",
    "from sklearn.model_selection import train_test_split\n",
    "\n",
    "# Load the Iris dataset\n",
    "iris = load_iris()\n",
    "\n",
    "# Convert the data to PyTorch tensors\n",
    "X = torch.tensor(iris.data, dtype=torch.float32)\n",
    "y = torch.tensor(iris.target, dtype=torch.long)\n",
    "\n",
    "t = torch.nn.functional.one_hot(torch.tensor(y, dtype=torch.int64), num_classes=3)\n",
    "t = torch.tensor(t, dtype=torch.float32)\n",
    "\n",
    "\n",
    "# Normalize the input data\n",
    "mean = torch.mean(X, dim=0)\n",
    "std = torch.std(X, dim=0)\n",
    "X = (X - mean) / std\n",
    "\n",
    "# Split the dataset into training and validation sets\n",
    "X_train, X_val, t_train, t_val = train_test_split(X, t, test_size=0.2, random_state=42)\n",
    "\n",
    "# Create PyTorch Datasets\n",
    "train_dataset = TensorDataset(X_train, t_train)\n",
    "val_dataset = TensorDataset(X_val, t_val)\n",
    "\n",
    "# Define the data loaders\n",
    "batch_size = 32\n",
    "train_loader = DataLoader(train_dataset, batch_size=batch_size, shuffle=True)\n",
    "test_loader = DataLoader(val_dataset, batch_size=batch_size, shuffle=False)\n"
   ]
  },
  {
   "cell_type": "markdown",
   "metadata": {
    "id": "NNktCPQ3Sf-w"
   },
   "source": [
    "Use `neural networks` and `multinomial logistic regression model` to classiy the iris, and calculate the test error. Try to provide the best `neural networks` with the smallest test error rate."
   ]
  },
  {
   "cell_type": "code",
   "execution_count": 125,
   "metadata": {
    "colab": {
     "base_uri": "https://localhost:8080/"
    },
    "executionInfo": {
     "elapsed": 391,
     "status": "ok",
     "timestamp": 1698394805722,
     "user": {
      "displayName": "﻿안재윤(전임교원/통계학과)",
      "userId": "02619146530199681853"
     },
     "user_tz": -540
    },
    "id": "4GWiXEyZM_qg",
    "outputId": "9eeadf52-25f4-452b-928f-9901c1a5c61c"
   },
   "outputs": [
    {
     "data": {
      "text/plain": [
       "torch.Size([150, 4])"
      ]
     },
     "execution_count": 125,
     "metadata": {},
     "output_type": "execute_result"
    }
   ],
   "source": [
    "X.shape"
   ]
  },
  {
   "cell_type": "code",
   "execution_count": null,
   "metadata": {
    "id": "N5F4qFXHOA5e"
   },
   "outputs": [],
   "source": []
  },
  {
   "cell_type": "markdown",
   "metadata": {
    "id": "jL6Q41VhSDtg"
   },
   "source": [
    "## Exercise 2.3.3. Iris data (Offline)"
   ]
  },
  {
   "cell_type": "markdown",
   "metadata": {
    "id": "hLwA7VKyOcwp"
   },
   "source": [
    "We will be using the famous Iris dataset, which contains measurements of the sepal length, sepal width, petal length, and petal width for three species of iris flowers (Iris setosa, Iris versicolor, and Iris virginica). The goal is to predict the species of an iris flower based on these measurements."
   ]
  },
  {
   "cell_type": "code",
   "execution_count": null,
   "metadata": {
    "colab": {
     "base_uri": "https://localhost:8080/"
    },
    "executionInfo": {
     "elapsed": 456,
     "status": "ok",
     "timestamp": 1697959888985,
     "user": {
      "displayName": "﻿안재윤(전임교원/통계학과)",
      "userId": "02619146530199681853"
     },
     "user_tz": -540
    },
    "id": "MapnLbhTOcwp",
    "outputId": "36f2aa6a-2345-40dc-d296-68f15c674054"
   },
   "outputs": [
    {
     "name": "stderr",
     "output_type": "stream",
     "text": [
      "<ipython-input-121-42939a159f2b>:11: UserWarning: To copy construct from a tensor, it is recommended to use sourceTensor.clone().detach() or sourceTensor.clone().detach().requires_grad_(True), rather than torch.tensor(sourceTensor).\n",
      "  t = torch.nn.functional.one_hot(torch.tensor(y, dtype=torch.int64), num_classes=3)\n",
      "<ipython-input-121-42939a159f2b>:12: UserWarning: To copy construct from a tensor, it is recommended to use sourceTensor.clone().detach() or sourceTensor.clone().detach().requires_grad_(True), rather than torch.tensor(sourceTensor).\n",
      "  t = torch.tensor(t, dtype=torch.float32)\n"
     ]
    }
   ],
   "source": [
    "from sklearn.datasets import load_iris\n",
    "from sklearn.model_selection import train_test_split\n",
    "\n",
    "# Load the Iris dataset\n",
    "iris = load_iris()\n",
    "\n",
    "# Convert the data to PyTorch tensors\n",
    "X = torch.tensor(iris.data, dtype=torch.float32)\n",
    "y = torch.tensor(iris.target, dtype=torch.long)\n",
    "\n",
    "t = torch.nn.functional.one_hot(torch.tensor(y, dtype=torch.int64), num_classes=3)\n",
    "t = torch.tensor(t, dtype=torch.float32)\n",
    "\n",
    "\n",
    "# Normalize the input data\n",
    "mean = torch.mean(X, dim=0)\n",
    "std = torch.std(X, dim=0)\n",
    "X = (X - mean) / std\n",
    "\n",
    "# Split the dataset into training and validation sets\n",
    "X_train, X_val, t_train, t_val = train_test_split(X, t, test_size=0.2, random_state=42)\n",
    "\n",
    "# Create PyTorch Datasets\n",
    "train_dataset = TensorDataset(X_train, t_train)\n",
    "val_dataset = TensorDataset(X_val, t_val)\n",
    "\n",
    "# Define the data loaders\n",
    "batch_size = 16\n",
    "train_loader = DataLoader(train_dataset, batch_size=batch_size, shuffle=True)\n",
    "test_loader = DataLoader(val_dataset, batch_size=batch_size, shuffle=False)\n"
   ]
  },
  {
   "cell_type": "markdown",
   "metadata": {
    "id": "y07LmOd0Ocwq"
   },
   "source": [
    "Use multinomial logistic regression model to classiy the iris, and calculate the test error."
   ]
  },
  {
   "cell_type": "markdown",
   "metadata": {
    "id": "6MMnjhQOPR-2"
   },
   "source": [
    "## HW Problem 2: Fashion MNIST data"
   ]
  },
  {
   "cell_type": "markdown",
   "metadata": {
    "id": "Q0wBOhSpRP6A"
   },
   "source": [
    "You are given the following fashion MNIST data. Use `the multinomial regression` and `neural networks` so that the model can determine the label from the images. Calculate the test accuracy. Compare your test accuracy with that of the `linear` version of the `multinomial regression`.\n",
    "\n",
    "1. the picture\n",
    "\n",
    "2. predicted label\n",
    "\n",
    "3. real label\n",
    "\n",
    "4. Explain the possible reason why your model is wrong in this case."
   ]
  },
  {
   "cell_type": "markdown",
   "metadata": {
    "id": "f0332X2pWmn0"
   },
   "source": [
    "Hint: Each training and test example is assigned to one of the following labels:\n",
    "\n",
    "0 T-shirt/top\n",
    "\n",
    "1 Trouser\n",
    "\n",
    "2 Pullover\n",
    "\n",
    "3 Dress\n",
    "\n",
    "4 Coat\n",
    "\n",
    "5 Sandal\n",
    "\n",
    "6 Shirt\n",
    "\n",
    "7 Sneaker\n",
    "\n",
    "8 Bag\n",
    "\n",
    "9 Ankle boot"
   ]
  },
  {
   "cell_type": "code",
   "execution_count": null,
   "metadata": {
    "id": "E-OllAGT6pr-"
   },
   "outputs": [],
   "source": [
    "import torch\n",
    "from torch import nn, optim\n",
    "import torch.nn.functional as F\n",
    "from torch.utils.data import DataLoader\n",
    "from torchvision import datasets, transforms"
   ]
  },
  {
   "cell_type": "code",
   "execution_count": null,
   "metadata": {
    "colab": {
     "base_uri": "https://localhost:8080/"
    },
    "executionInfo": {
     "elapsed": 1415,
     "status": "ok",
     "timestamp": 1697960856510,
     "user": {
      "displayName": "﻿안재윤(전임교원/통계학과)",
      "userId": "02619146530199681853"
     },
     "user_tz": -540
    },
    "id": "Y2dqyxnr6psU",
    "outputId": "e1f688fe-a2be-471f-85ef-e8f7cec0f732"
   },
   "outputs": [
    {
     "name": "stdout",
     "output_type": "stream",
     "text": [
      "Downloading http://fashion-mnist.s3-website.eu-central-1.amazonaws.com/train-images-idx3-ubyte.gz\n",
      "Downloading http://fashion-mnist.s3-website.eu-central-1.amazonaws.com/train-images-idx3-ubyte.gz to ./data/FashionMNIST/raw/train-images-idx3-ubyte.gz\n"
     ]
    },
    {
     "name": "stderr",
     "output_type": "stream",
     "text": [
      "100%|██████████| 26421880/26421880 [00:00<00:00, 117457262.47it/s]\n"
     ]
    },
    {
     "name": "stdout",
     "output_type": "stream",
     "text": [
      "Extracting ./data/FashionMNIST/raw/train-images-idx3-ubyte.gz to ./data/FashionMNIST/raw\n",
      "\n",
      "Downloading http://fashion-mnist.s3-website.eu-central-1.amazonaws.com/train-labels-idx1-ubyte.gz\n",
      "Downloading http://fashion-mnist.s3-website.eu-central-1.amazonaws.com/train-labels-idx1-ubyte.gz to ./data/FashionMNIST/raw/train-labels-idx1-ubyte.gz\n"
     ]
    },
    {
     "name": "stderr",
     "output_type": "stream",
     "text": [
      "100%|██████████| 29515/29515 [00:00<00:00, 8144936.02it/s]"
     ]
    },
    {
     "name": "stdout",
     "output_type": "stream",
     "text": [
      "Extracting ./data/FashionMNIST/raw/train-labels-idx1-ubyte.gz to ./data/FashionMNIST/raw\n",
      "\n",
      "Downloading http://fashion-mnist.s3-website.eu-central-1.amazonaws.com/t10k-images-idx3-ubyte.gz\n",
      "Downloading http://fashion-mnist.s3-website.eu-central-1.amazonaws.com/t10k-images-idx3-ubyte.gz to ./data/FashionMNIST/raw/t10k-images-idx3-ubyte.gz\n"
     ]
    },
    {
     "name": "stderr",
     "output_type": "stream",
     "text": [
      "\n",
      "100%|██████████| 4422102/4422102 [00:00<00:00, 61049527.53it/s]\n"
     ]
    },
    {
     "name": "stdout",
     "output_type": "stream",
     "text": [
      "Extracting ./data/FashionMNIST/raw/t10k-images-idx3-ubyte.gz to ./data/FashionMNIST/raw\n",
      "\n",
      "Downloading http://fashion-mnist.s3-website.eu-central-1.amazonaws.com/t10k-labels-idx1-ubyte.gz\n",
      "Downloading http://fashion-mnist.s3-website.eu-central-1.amazonaws.com/t10k-labels-idx1-ubyte.gz to ./data/FashionMNIST/raw/t10k-labels-idx1-ubyte.gz\n"
     ]
    },
    {
     "name": "stderr",
     "output_type": "stream",
     "text": [
      "100%|██████████| 5148/5148 [00:00<00:00, 16101623.41it/s]\n"
     ]
    },
    {
     "name": "stdout",
     "output_type": "stream",
     "text": [
      "Extracting ./data/FashionMNIST/raw/t10k-labels-idx1-ubyte.gz to ./data/FashionMNIST/raw\n",
      "\n"
     ]
    }
   ],
   "source": [
    "# transform to normalize the data\n",
    "transform = transforms.Compose([transforms.ToTensor(),\n",
    "                                transforms.Normalize((0.5,), (0.5,))])\n",
    "\n",
    "# Download and load the training data\n",
    "trainset = datasets.FashionMNIST('./data', download=True, train=True, transform=transform)\n",
    "train_loader = DataLoader(trainset, batch_size=64, shuffle=True)\n",
    "\n",
    "# Download and load the test data\n",
    "validationset = datasets.FashionMNIST('./data', download=True, train=False, transform=transform)\n",
    "test_loader = DataLoader(validationset, batch_size=64, shuffle=True)"
   ]
  },
  {
   "cell_type": "code",
   "execution_count": null,
   "metadata": {
    "id": "fH_-sM1iXlj4"
   },
   "outputs": [],
   "source": [
    "xx, yy = trainset[0]"
   ]
  },
  {
   "cell_type": "code",
   "execution_count": null,
   "metadata": {
    "colab": {
     "base_uri": "https://localhost:8080/",
     "height": 448
    },
    "executionInfo": {
     "elapsed": 477,
     "status": "ok",
     "timestamp": 1697961390322,
     "user": {
      "displayName": "﻿안재윤(전임교원/통계학과)",
      "userId": "02619146530199681853"
     },
     "user_tz": -540
    },
    "id": "PEu4G4HsXug4",
    "outputId": "179594e9-077b-45a5-dc55-2276cbabb288"
   },
   "outputs": [
    {
     "name": "stdout",
     "output_type": "stream",
     "text": [
      "Ankle boot\n"
     ]
    },
    {
     "data": {
      "image/png": "[encoded data removed]",
      "text/plain": [
       "<Figure size 640x480 with 1 Axes>"
      ]
     },
     "metadata": {},
     "output_type": "display_data"
    }
   ],
   "source": [
    "plt.imshow(xx.reshape(28,28))\n",
    "my_name = { 0: \"T-shirt/top\", 1: \"Trouser\",\n",
    "              2: \"Pullover\", 3: \"Dress\", 4: \"Coat\", 5: \"Sandal\", 6: \"Shirt\", 7: \"Sneaker\", 8: \"Bag\", 9: \"Ankle boot\"}\n",
    "print(my_name[yy])\n",
    "\n"
   ]
  }
 ],
 "metadata": {
  "colab": {
   "authorship_tag": "ABX9TyMLHixYv6u+VTyGUVnt6Dhh",
   "provenance": []
  },
  "kernelspec": {
   "display_name": "Python 3 (ipykernel)",
   "language": "python",
   "name": "python3"
  },
  "language_info": {
   "codemirror_mode": {
    "name": "ipython",
    "version": 3
   },
   "file_extension": ".py",
   "mimetype": "text/x-python",
   "name": "python",
   "nbconvert_exporter": "python",
   "pygments_lexer": "ipython3",
   "version": "3.11.5"
  }
 },
 "nbformat": 4,
 "nbformat_minor": 1
}
