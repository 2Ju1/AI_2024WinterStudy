{
 "cells": [
  {
   "cell_type": "markdown",
   "id": "Adw-5Rx02ohB",
   "metadata": {
    "id": "Adw-5Rx02ohB"
   },
   "source": [
    "# Pytorch Session 2: Linear regression"
   ]
  },
  {
   "cell_type": "code",
   "execution_count": 10,
   "id": "sZ5KyFvM3bdS",
   "metadata": {
    "executionInfo": {
     "elapsed": 341,
     "status": "ok",
     "timestamp": 1696397143769,
     "user": {
      "displayName": "﻿안재윤(전임교원/통계학과)",
      "userId": "02619146530199681853"
     },
     "user_tz": -540
    },
    "id": "sZ5KyFvM3bdS"
   },
   "outputs": [],
   "source": [
    "import torch\n",
    "import numpy as np"
   ]
  },
  {
   "cell_type": "markdown",
   "id": "lYUwt5RBFUS0",
   "metadata": {
    "id": "lYUwt5RBFUS0"
   },
   "source": [
    "## 2. Linear Regression 1D (using autograd):\n"
   ]
  },
  {
   "cell_type": "markdown",
   "id": "Ne4AmwinFUS8",
   "metadata": {
    "id": "Ne4AmwinFUS8"
   },
   "source": [
    "Let us create the following expressions:\n"
   ]
  },
  {
   "cell_type": "markdown",
   "id": "yVMK11q4FUS8",
   "metadata": {
    "id": "yVMK11q4FUS8"
   },
   "source": [
    "$b=-1,w=2$\n",
    "\n",
    "$\\hat{y}=wx+b$\n"
   ]
  },
  {
   "cell_type": "markdown",
   "id": "Ujs1awtUFUS8",
   "metadata": {
    "id": "Ujs1awtUFUS8"
   },
   "source": [
    "First, define the parameters:\n"
   ]
  },
  {
   "cell_type": "code",
   "execution_count": 11,
   "id": "1IOBXYrl3SJS",
   "metadata": {
    "executionInfo": {
     "elapsed": 2,
     "status": "ok",
     "timestamp": 1696397145306,
     "user": {
      "displayName": "﻿안재윤(전임교원/통계학과)",
      "userId": "02619146530199681853"
     },
     "user_tz": -540
    },
    "id": "1IOBXYrl3SJS"
   },
   "outputs": [],
   "source": [
    "import torch\n",
    "w0 = torch.tensor(2.0)\n",
    "b0 = torch.tensor(-1.0)"
   ]
  },
  {
   "cell_type": "code",
   "execution_count": 12,
   "id": "j-H3aSTt3SDA",
   "metadata": {
    "executionInfo": {
     "elapsed": 2,
     "status": "ok",
     "timestamp": 1696397145882,
     "user": {
      "displayName": "﻿안재윤(전임교원/통계학과)",
      "userId": "02619146530199681853"
     },
     "user_tz": -540
    },
    "id": "j-H3aSTt3SDA"
   },
   "outputs": [],
   "source": [
    "xs=torch.tensor([1.5, 3.0, 2.7])\n",
    "yhats = w0*xs+b0"
   ]
  },
  {
   "cell_type": "markdown",
   "id": "YRHdGBP5Gcu0",
   "metadata": {
    "id": "YRHdGBP5Gcu0"
   },
   "source": [
    "## 2.1 Make some data"
   ]
  },
  {
   "cell_type": "code",
   "execution_count": 13,
   "id": "khkshLll5vl8",
   "metadata": {
    "colab": {
     "base_uri": "https://localhost:8080/"
    },
    "executionInfo": {
     "elapsed": 2,
     "status": "ok",
     "timestamp": 1696397146571,
     "user": {
      "displayName": "﻿안재윤(전임교원/통계학과)",
      "userId": "02619146530199681853"
     },
     "user_tz": -540
    },
    "id": "khkshLll5vl8",
    "outputId": "42c40f95-392c-43f3-b57c-284de8bb1c15"
   },
   "outputs": [
    {
     "name": "stdout",
     "output_type": "stream",
     "text": [
      "torch.Size([20, 1]) torch.Size([20, 1])\n"
     ]
    }
   ],
   "source": [
    "torch.manual_seed(2021)\n",
    "X = torch.arange(-3,3, 0.3).view(-1, 1)\n",
    "f = w0*X+b0\n",
    "print(X.shape, f.shape)"
   ]
  },
  {
   "cell_type": "code",
   "execution_count": 14,
   "id": "cKgwavJrA8cB",
   "metadata": {
    "colab": {
     "base_uri": "https://localhost:8080/"
    },
    "executionInfo": {
     "elapsed": 2,
     "status": "ok",
     "timestamp": 1696397147329,
     "user": {
      "displayName": "﻿안재윤(전임교원/통계학과)",
      "userId": "02619146530199681853"
     },
     "user_tz": -540
    },
    "id": "cKgwavJrA8cB",
    "outputId": "31e1d0f4-43bc-48ec-9aef-cd348c8baef3"
   },
   "outputs": [
    {
     "data": {
      "text/plain": [
       "tensor([-3.0000e+00, -2.7000e+00, -2.4000e+00, -2.1000e+00, -1.8000e+00,\n",
       "        -1.5000e+00, -1.2000e+00, -9.0000e-01, -6.0000e-01, -3.0000e-01,\n",
       "        -2.3842e-08,  3.0000e-01,  6.0000e-01,  9.0000e-01,  1.2000e+00,\n",
       "         1.5000e+00,  1.8000e+00,  2.1000e+00,  2.4000e+00,  2.7000e+00])"
      ]
     },
     "execution_count": 14,
     "metadata": {},
     "output_type": "execute_result"
    }
   ],
   "source": [
    "X.reshape(-1)"
   ]
  },
  {
   "cell_type": "code",
   "execution_count": 15,
   "id": "A13S4OyJBDm4",
   "metadata": {
    "colab": {
     "base_uri": "https://localhost:8080/"
    },
    "executionInfo": {
     "elapsed": 3,
     "status": "ok",
     "timestamp": 1696397147676,
     "user": {
      "displayName": "﻿안재윤(전임교원/통계학과)",
      "userId": "02619146530199681853"
     },
     "user_tz": -540
    },
    "id": "A13S4OyJBDm4",
    "outputId": "df9d74ff-fc85-4817-84f5-f12ed5f705c9"
   },
   "outputs": [
    {
     "data": {
      "text/plain": [
       "tensor([-7.0000, -6.4000, -5.8000, -5.2000, -4.6000, -4.0000, -3.4000, -2.8000,\n",
       "        -2.2000, -1.6000, -1.0000, -0.4000,  0.2000,  0.8000,  1.4000,  2.0000,\n",
       "         2.6000,  3.2000,  3.8000,  4.4000])"
      ]
     },
     "execution_count": 15,
     "metadata": {},
     "output_type": "execute_result"
    }
   ],
   "source": [
    "f.reshape(-1)"
   ]
  },
  {
   "cell_type": "code",
   "execution_count": 16,
   "id": "wpvf8US2Gtvp",
   "metadata": {
    "executionInfo": {
     "elapsed": 1,
     "status": "ok",
     "timestamp": 1696397148553,
     "user": {
      "displayName": "﻿안재윤(전임교원/통계학과)",
      "userId": "02619146530199681853"
     },
     "user_tz": -540
    },
    "id": "wpvf8US2Gtvp"
   },
   "outputs": [],
   "source": [
    "Y = f + torch.randn(f.shape)"
   ]
  },
  {
   "cell_type": "code",
   "execution_count": 17,
   "id": "L17KOuvrBJpJ",
   "metadata": {
    "colab": {
     "base_uri": "https://localhost:8080/"
    },
    "executionInfo": {
     "elapsed": 3,
     "status": "ok",
     "timestamp": 1696397148910,
     "user": {
      "displayName": "﻿안재윤(전임교원/통계학과)",
      "userId": "02619146530199681853"
     },
     "user_tz": -540
    },
    "id": "L17KOuvrBJpJ",
    "outputId": "e8be4087-55d7-4494-9dfd-e99a9ba15351"
   },
   "outputs": [
    {
     "data": {
      "text/plain": [
       "tensor([-7.1452, -5.4253, -5.1977, -3.6225, -3.8022, -4.4101, -4.6622, -3.1932,\n",
       "        -1.7325, -1.8879, -1.0742, -0.2320,  1.8226,  1.5453, -1.5535,  0.8857,\n",
       "         1.7537,  3.1607,  1.8912,  4.0895])"
      ]
     },
     "execution_count": 17,
     "metadata": {},
     "output_type": "execute_result"
    }
   ],
   "source": [
    "Y.reshape(-1)"
   ]
  },
  {
   "cell_type": "code",
   "execution_count": 18,
   "id": "Aoa7lhKGWc9Q",
   "metadata": {
    "colab": {
     "base_uri": "https://localhost:8080/"
    },
    "executionInfo": {
     "elapsed": 3,
     "status": "ok",
     "timestamp": 1696397149394,
     "user": {
      "displayName": "﻿안재윤(전임교원/통계학과)",
      "userId": "02619146530199681853"
     },
     "user_tz": -540
    },
    "id": "Aoa7lhKGWc9Q",
    "outputId": "8d0516ce-add8-4770-8a1c-3c7b9a1d2e40"
   },
   "outputs": [
    {
     "data": {
      "text/plain": [
       "torch.Size([20, 1])"
      ]
     },
     "execution_count": 18,
     "metadata": {},
     "output_type": "execute_result"
    }
   ],
   "source": [
    "X.shape\n",
    "Y.shape"
   ]
  },
  {
   "cell_type": "code",
   "execution_count": 19,
   "id": "nrKKtqzWG-vg",
   "metadata": {
    "colab": {
     "base_uri": "https://localhost:8080/",
     "height": 448
    },
    "executionInfo": {
     "elapsed": 726,
     "status": "ok",
     "timestamp": 1696397150578,
     "user": {
      "displayName": "﻿안재윤(전임교원/통계학과)",
      "userId": "02619146530199681853"
     },
     "user_tz": -540
    },
    "id": "nrKKtqzWG-vg",
    "outputId": "24979f42-99e1-46ee-e061-92368c415d20"
   },
   "outputs": [
    {
     "data": {
      "text/plain": [
       "[<matplotlib.lines.Line2D at 0x787fa7ce7d60>]"
      ]
     },
     "execution_count": 19,
     "metadata": {},
     "output_type": "execute_result"
    },
    {
     "data": {
      "image/png": "[encoded data removed]",
      "text/plain": [
       "<Figure size 640x480 with 1 Axes>"
      ]
     },
     "metadata": {},
     "output_type": "display_data"
    }
   ],
   "source": [
    "import matplotlib.pyplot as plt\n",
    "plt.scatter(X.numpy(),Y.numpy())\n",
    "plt.plot(X.numpy(),f.numpy())"
   ]
  },
  {
   "cell_type": "markdown",
   "id": "9k4yI2P_Htjc",
   "metadata": {
    "id": "9k4yI2P_Htjc"
   },
   "source": [
    "## 2.2 Create the model and cost function"
   ]
  },
  {
   "cell_type": "markdown",
   "id": "3FknTBaFIUQj",
   "metadata": {
    "id": "3FknTBaFIUQj"
   },
   "source": [
    "You are given X and Y.\n",
    "\n",
    "Your goal is to find the best linear model to explain the relation between X and Y by minimizing the following\n",
    "\n",
    "$Loss(w, b)=\\sum\\limits_{i=1}^{n}(Y_i-Yhat_i)^2$\n",
    "\n",
    "where\n",
    "\n",
    "$Yhat_i:=X_i*w +b$."
   ]
  },
  {
   "cell_type": "code",
   "execution_count": 20,
   "id": "tdM7lZzxHH1I",
   "metadata": {
    "executionInfo": {
     "elapsed": 3,
     "status": "ok",
     "timestamp": 1696397152653,
     "user": {
      "displayName": "﻿안재윤(전임교원/통계학과)",
      "userId": "02619146530199681853"
     },
     "user_tz": -540
    },
    "id": "tdM7lZzxHH1I"
   },
   "outputs": [],
   "source": [
    "def forward(x):\n",
    "  return x*w+b\n",
    "\n",
    "def criterion(yhat, y):\n",
    "  return torch.mean((yhat-y)**2)\n",
    "\n",
    "w = torch.tensor(10.0, requires_grad=True) # beta1\n",
    "b = torch.tensor(10.0, requires_grad=True) # beta2"
   ]
  },
  {
   "cell_type": "code",
   "execution_count": 21,
   "id": "muCeizk7JXK7",
   "metadata": {
    "executionInfo": {
     "elapsed": 2,
     "status": "ok",
     "timestamp": 1696397153864,
     "user": {
      "displayName": "﻿안재윤(전임교원/통계학과)",
      "userId": "02619146530199681853"
     },
     "user_tz": -540
    },
    "id": "muCeizk7JXK7"
   },
   "outputs": [],
   "source": [
    "history=[]\n",
    "lr=0.1\n",
    "for epoch in range(100):\n",
    "  Yhat = forward(X)\n",
    "  loss = criterion(Yhat,Y)\n",
    "  history.append(loss.item())\n",
    "  loss.backward()\n",
    "  w.data = w.data-lr*w.grad.data\n",
    "  b.data = b.data-lr*b.grad.data\n",
    "  w.grad.data.zero_() # w.grad = None\n",
    "  b.grad.data.zero_() # b.grad = None\n",
    "\n",
    "\n"
   ]
  },
  {
   "cell_type": "markdown",
   "id": "T-8by--iKBc7",
   "metadata": {
    "id": "T-8by--iKBc7"
   },
   "source": [
    "Now our goal is to find ```w``` and ```b``` which minimize ```loss``` function."
   ]
  },
  {
   "cell_type": "code",
   "execution_count": 22,
   "id": "yQp3BeFKKIqs",
   "metadata": {
    "colab": {
     "base_uri": "https://localhost:8080/"
    },
    "executionInfo": {
     "elapsed": 3,
     "status": "ok",
     "timestamp": 1696397155716,
     "user": {
      "displayName": "﻿안재윤(전임교원/통계학과)",
      "userId": "02619146530199681853"
     },
     "user_tz": -540
    },
    "id": "yQp3BeFKKIqs",
    "outputId": "e7010828-95c7-41d9-b814-6c9e867a646a"
   },
   "outputs": [
    {
     "data": {
      "text/plain": [
       "tensor(1.7149, requires_grad=True)"
      ]
     },
     "execution_count": 22,
     "metadata": {},
     "output_type": "execute_result"
    }
   ],
   "source": [
    "w"
   ]
  },
  {
   "cell_type": "code",
   "execution_count": 23,
   "id": "9jMmTs2eWIwP",
   "metadata": {
    "colab": {
     "base_uri": "https://localhost:8080/"
    },
    "executionInfo": {
     "elapsed": 2,
     "status": "ok",
     "timestamp": 1696397156227,
     "user": {
      "displayName": "﻿안재윤(전임교원/통계학과)",
      "userId": "02619146530199681853"
     },
     "user_tz": -540
    },
    "id": "9jMmTs2eWIwP",
    "outputId": "e2430601-a19b-4986-ba26-0b91a526a09c"
   },
   "outputs": [
    {
     "data": {
      "text/plain": [
       "tensor(-1.1823, requires_grad=True)"
      ]
     },
     "execution_count": 23,
     "metadata": {},
     "output_type": "execute_result"
    }
   ],
   "source": [
    "b"
   ]
  },
  {
   "cell_type": "code",
   "execution_count": 24,
   "id": "At1ER7CVWJa7",
   "metadata": {
    "colab": {
     "base_uri": "https://localhost:8080/",
     "height": 448
    },
    "executionInfo": {
     "elapsed": 463,
     "status": "ok",
     "timestamp": 1696397157177,
     "user": {
      "displayName": "﻿안재윤(전임교원/통계학과)",
      "userId": "02619146530199681853"
     },
     "user_tz": -540
    },
    "id": "At1ER7CVWJa7",
    "outputId": "24f46f17-96bb-49fe-ec88-b9e48b66f1a4"
   },
   "outputs": [
    {
     "data": {
      "text/plain": [
       "[<matplotlib.lines.Line2D at 0x787f9f7d4190>]"
      ]
     },
     "execution_count": 24,
     "metadata": {},
     "output_type": "execute_result"
    },
    {
     "data": {
      "image/png": "[encoded data removed]",
      "text/plain": [
       "<Figure size 640x480 with 1 Axes>"
      ]
     },
     "metadata": {},
     "output_type": "display_data"
    }
   ],
   "source": [
    "plt.plot(history)"
   ]
  },
  {
   "cell_type": "markdown",
   "id": "uuKnPCfUKaPY",
   "metadata": {
    "id": "uuKnPCfUKaPY"
   },
   "source": [
    "# 3. Stochastic Gradient Descent (SGD) using Dataset and DataLoader"
   ]
  },
  {
   "cell_type": "code",
   "execution_count": 25,
   "id": "WmtPmA5eXBH7",
   "metadata": {
    "executionInfo": {
     "elapsed": 1,
     "status": "ok",
     "timestamp": 1696397158984,
     "user": {
      "displayName": "﻿안재윤(전임교원/통계학과)",
      "userId": "02619146530199681853"
     },
     "user_tz": -540
    },
    "id": "WmtPmA5eXBH7"
   },
   "outputs": [],
   "source": [
    "# Import libraries\n",
    "import torch\n",
    "from torch.utils.data import Dataset, DataLoader, TensorDataset"
   ]
  },
  {
   "cell_type": "code",
   "execution_count": 26,
   "id": "xJQGBA18K6eV",
   "metadata": {
    "executionInfo": {
     "elapsed": 1,
     "status": "ok",
     "timestamp": 1696397159314,
     "user": {
      "displayName": "﻿안재윤(전임교원/통계학과)",
      "userId": "02619146530199681853"
     },
     "user_tz": -540
    },
    "id": "xJQGBA18K6eV"
   },
   "outputs": [],
   "source": [
    "dataset = TensorDataset(X,Y)"
   ]
  },
  {
   "cell_type": "code",
   "execution_count": 27,
   "id": "13FBz6JrK8e4",
   "metadata": {
    "executionInfo": {
     "elapsed": 2,
     "status": "ok",
     "timestamp": 1696397159791,
     "user": {
      "displayName": "﻿안재윤(전임교원/통계학과)",
      "userId": "02619146530199681853"
     },
     "user_tz": -540
    },
    "id": "13FBz6JrK8e4"
   },
   "outputs": [],
   "source": [
    "trainloader=DataLoader(dataset = dataset, batch_size=1, shuffle=True)"
   ]
  },
  {
   "cell_type": "code",
   "execution_count": 28,
   "id": "lA3v5DZyLJgB",
   "metadata": {
    "colab": {
     "base_uri": "https://localhost:8080/"
    },
    "executionInfo": {
     "elapsed": 5,
     "status": "ok",
     "timestamp": 1696397160569,
     "user": {
      "displayName": "﻿안재윤(전임교원/통계학과)",
      "userId": "02619146530199681853"
     },
     "user_tz": -540
    },
    "id": "lA3v5DZyLJgB",
    "outputId": "d2976eae-3b5d-42a8-f950-be57e1294ede",
    "scrolled": true
   },
   "outputs": [
    {
     "name": "stdout",
     "output_type": "stream",
     "text": [
      "[tensor([[2.4000]]), tensor([[1.8912]])]\n",
      "[tensor([[-2.7000]]), tensor([[-5.4253]])]\n",
      "[tensor([[-3.]]), tensor([[-7.1452]])]\n",
      "[tensor([[0.6000]]), tensor([[1.8226]])]\n",
      "[tensor([[-1.8000]]), tensor([[-3.8022]])]\n",
      "[tensor([[-1.5000]]), tensor([[-4.4101]])]\n",
      "[tensor([[1.2000]]), tensor([[-1.5535]])]\n",
      "[tensor([[-2.3842e-08]]), tensor([[-1.0742]])]\n",
      "[tensor([[0.9000]]), tensor([[1.5453]])]\n",
      "[tensor([[1.8000]]), tensor([[1.7537]])]\n",
      "[tensor([[-0.6000]]), tensor([[-1.7325]])]\n",
      "[tensor([[-2.4000]]), tensor([[-5.1977]])]\n",
      "[tensor([[-2.1000]]), tensor([[-3.6225]])]\n",
      "[tensor([[1.5000]]), tensor([[0.8857]])]\n",
      "[tensor([[-0.3000]]), tensor([[-1.8879]])]\n",
      "[tensor([[0.3000]]), tensor([[-0.2320]])]\n",
      "[tensor([[2.1000]]), tensor([[3.1607]])]\n",
      "[tensor([[-1.2000]]), tensor([[-4.6622]])]\n",
      "[tensor([[-0.9000]]), tensor([[-3.1932]])]\n",
      "[tensor([[2.7000]]), tensor([[4.0895]])]\n"
     ]
    }
   ],
   "source": [
    "for i in trainloader:\n",
    "  print(i)"
   ]
  },
  {
   "cell_type": "code",
   "execution_count": 29,
   "id": "xEi-PX2y8uYT",
   "metadata": {
    "colab": {
     "base_uri": "https://localhost:8080/",
     "height": 448
    },
    "executionInfo": {
     "elapsed": 806,
     "status": "ok",
     "timestamp": 1696397164073,
     "user": {
      "displayName": "﻿안재윤(전임교원/통계학과)",
      "userId": "02619146530199681853"
     },
     "user_tz": -540
    },
    "id": "xEi-PX2y8uYT",
    "outputId": "4f5e9639-af5e-4556-835b-20880861998a"
   },
   "outputs": [
    {
     "data": {
      "text/plain": [
       "[<matplotlib.lines.Line2D at 0x787f9f863880>]"
      ]
     },
     "execution_count": 29,
     "metadata": {},
     "output_type": "execute_result"
    },
    {
     "data": {
      "image/png": "[encoded data removed]",
      "text/plain": [
       "<Figure size 640x480 with 1 Axes>"
      ]
     },
     "metadata": {},
     "output_type": "display_data"
    }
   ],
   "source": [
    "w = torch.tensor(10.0, requires_grad=True)  # beta1\n",
    "b = torch.tensor(10.0, requires_grad=True)  # beta2\n",
    "def forward(x):\n",
    "  return x*w+b\n",
    "\n",
    "def criterion(yhat, y):\n",
    "  return torch.mean((yhat-y)**2)  # MSE (Mean Squared Error)\n",
    "\n",
    "epochs=100\n",
    "lr=0.01\n",
    "history=[]\n",
    "for epoch in range(epochs):\n",
    "  Yhat = forward(X)\n",
    "  epoch_loss = criterion(Yhat, Y)\n",
    "  history.append(epoch_loss.item())  # MSE 계산 값을 history에 append\n",
    "  for xx,yy in trainloader:\n",
    "    yhat = forward(xx)\n",
    "    loss = criterion(yhat, yy)  # criterion = loss = MSE 의 min을 찾는 과정\n",
    "    loss.backward()\n",
    "    w.data = w.data - lr*w.grad.data  # MSE를 작게하는 w(beta1)를 찾아나감\n",
    "    b.data = b.data - lr*b.grad.data  # MSE를 작게하는 b(beta2)를 찾아나감\n",
    "    w.grad.data.zero_()  # w.grad = None\n",
    "    b.grad.data.zero_()  # b.grad = None\n",
    "\n",
    "plt.plot(history)\n"
   ]
  },
  {
   "cell_type": "code",
   "execution_count": 30,
   "id": "qxOnfbRET6a5",
   "metadata": {
    "colab": {
     "base_uri": "https://localhost:8080/"
    },
    "executionInfo": {
     "elapsed": 2,
     "status": "ok",
     "timestamp": 1696397165166,
     "user": {
      "displayName": "﻿안재윤(전임교원/통계학과)",
      "userId": "02619146530199681853"
     },
     "user_tz": -540
    },
    "id": "qxOnfbRET6a5",
    "outputId": "b3a6a59c-965d-4945-907b-add0a0f18b69"
   },
   "outputs": [
    {
     "name": "stdout",
     "output_type": "stream",
     "text": [
      "tensor(1.7383, requires_grad=True) tensor(-1.1583, requires_grad=True)\n"
     ]
    }
   ],
   "source": [
    "print(w,b)"
   ]
  },
  {
   "cell_type": "markdown",
   "id": "9oHEoiX-Utai",
   "metadata": {
    "id": "9oHEoiX-Utai"
   },
   "source": [
    "## Exercise:\n",
    "\n",
    "Repeat the above procedure with\n",
    "\n",
    "   1> batch size equals 5\n",
    "   \n",
    "   2> XX[i, :]=torch.tensor([1.0, X[i]]) without using the intercept."
   ]
  },
  {
   "cell_type": "code",
   "execution_count": null,
   "id": "JYbhk935_BMd",
   "metadata": {
    "colab": {
     "base_uri": "https://localhost:8080/"
    },
    "executionInfo": {
     "elapsed": 421,
     "status": "ok",
     "timestamp": 1665541090909,
     "user": {
      "displayName": "﻿안재윤(전임교원/통계학과)",
      "userId": "02619146530199681853"
     },
     "user_tz": -540
    },
    "id": "JYbhk935_BMd",
    "outputId": "c56b8c4d-c110-4233-b8d5-0d51e42cab1d"
   },
   "outputs": [
    {
     "data": {
      "text/plain": [
       "tensor([[-0.8078],\n",
       "        [ 2.0247]])"
      ]
     },
     "execution_count": 54,
     "metadata": {},
     "output_type": "execute_result"
    }
   ],
   "source": []
  },
  {
   "cell_type": "markdown",
   "id": "4o1LtK_kVy0C",
   "metadata": {
    "id": "4o1LtK_kVy0C"
   },
   "source": [
    "# 4. Stochastic Gradient Descent (SGD) using Pytorch functions\n",
    "\n"
   ]
  },
  {
   "cell_type": "code",
   "execution_count": 7,
   "id": "U8pFOyiGUIWm",
   "metadata": {
    "executionInfo": {
     "elapsed": 335,
     "status": "ok",
     "timestamp": 1696397112119,
     "user": {
      "displayName": "﻿안재윤(전임교원/통계학과)",
      "userId": "02619146530199681853"
     },
     "user_tz": -540
    },
    "id": "U8pFOyiGUIWm"
   },
   "outputs": [],
   "source": [
    "from torch import nn, optim"
   ]
  },
  {
   "cell_type": "code",
   "execution_count": 32,
   "id": "9uLhSDj2WZqy",
   "metadata": {
    "executionInfo": {
     "elapsed": 2,
     "status": "ok",
     "timestamp": 1696397297935,
     "user": {
      "displayName": "﻿안재윤(전임교원/통계학과)",
      "userId": "02619146530199681853"
     },
     "user_tz": -540
    },
    "id": "9uLhSDj2WZqy"
   },
   "outputs": [],
   "source": [
    "temp = nn.Linear(2,1)"
   ]
  },
  {
   "cell_type": "code",
   "execution_count": 38,
   "id": "D-LRyV1FWdqR",
   "metadata": {
    "colab": {
     "base_uri": "https://localhost:8080/"
    },
    "executionInfo": {
     "elapsed": 4,
     "status": "ok",
     "timestamp": 1696397353761,
     "user": {
      "displayName": "﻿안재윤(전임교원/통계학과)",
      "userId": "02619146530199681853"
     },
     "user_tz": -540
    },
    "id": "D-LRyV1FWdqR",
    "outputId": "d52e9ba8-c178-4ad1-c2f0-56ba1087f3a0"
   },
   "outputs": [
    {
     "data": {
      "text/plain": [
       "[Parameter containing:\n",
       " tensor([[0.6604, 0.6402]], requires_grad=True),\n",
       " Parameter containing:\n",
       " tensor([0.1774], requires_grad=True)]"
      ]
     },
     "execution_count": 38,
     "metadata": {},
     "output_type": "execute_result"
    }
   ],
   "source": [
    "list(temp.parameters())\n"
   ]
  },
  {
   "cell_type": "code",
   "execution_count": 40,
   "id": "NLlvkRU8KzVF",
   "metadata": {
    "colab": {
     "base_uri": "https://localhost:8080/"
    },
    "executionInfo": {
     "elapsed": 3,
     "status": "ok",
     "timestamp": 1696397477283,
     "user": {
      "displayName": "﻿안재윤(전임교원/통계학과)",
      "userId": "02619146530199681853"
     },
     "user_tz": -540
    },
    "id": "NLlvkRU8KzVF",
    "outputId": "7a19347a-0e73-43be-8e7b-41132b1294bd"
   },
   "outputs": [
    {
     "data": {
      "text/plain": [
       "OrderedDict([('weight', tensor([[0.6604, 0.6402]])),\n",
       "             ('bias', tensor([0.1774]))])"
      ]
     },
     "execution_count": 40,
     "metadata": {},
     "output_type": "execute_result"
    }
   ],
   "source": [
    "temp.state_dict()"
   ]
  },
  {
   "cell_type": "code",
   "execution_count": 45,
   "id": "jWifDCoTK1j5",
   "metadata": {
    "colab": {
     "base_uri": "https://localhost:8080/"
    },
    "executionInfo": {
     "elapsed": 3,
     "status": "ok",
     "timestamp": 1696397542671,
     "user": {
      "displayName": "﻿안재윤(전임교원/통계학과)",
      "userId": "02619146530199681853"
     },
     "user_tz": -540
    },
    "id": "jWifDCoTK1j5",
    "outputId": "75c10a3b-5ddb-4e8f-9d3c-30289835022a"
   },
   "outputs": [
    {
     "data": {
      "text/plain": [
       "Parameter containing:\n",
       "tensor([[0.6604, 0.6402]], requires_grad=True)"
      ]
     },
     "execution_count": 45,
     "metadata": {},
     "output_type": "execute_result"
    }
   ],
   "source": [
    "temp.weight"
   ]
  },
  {
   "cell_type": "code",
   "execution_count": 44,
   "id": "bQ8pBL4xLAYb",
   "metadata": {
    "colab": {
     "base_uri": "https://localhost:8080/"
    },
    "executionInfo": {
     "elapsed": 351,
     "status": "ok",
     "timestamp": 1696397539754,
     "user": {
      "displayName": "﻿안재윤(전임교원/통계학과)",
      "userId": "02619146530199681853"
     },
     "user_tz": -540
    },
    "id": "bQ8pBL4xLAYb",
    "outputId": "14f5abdb-938c-421e-f4ca-f6e6f64190e4"
   },
   "outputs": [
    {
     "data": {
      "text/plain": [
       "tensor([[0.6604, 0.6402]])"
      ]
     },
     "execution_count": 44,
     "metadata": {},
     "output_type": "execute_result"
    }
   ],
   "source": [
    "temp.weight.data"
   ]
  },
  {
   "cell_type": "code",
   "execution_count": 43,
   "id": "adXhkLKN4bs5",
   "metadata": {
    "executionInfo": {
     "elapsed": 5,
     "status": "ok",
     "timestamp": 1696397537026,
     "user": {
      "displayName": "﻿안재윤(전임교원/통계학과)",
      "userId": "02619146530199681853"
     },
     "user_tz": -540
    },
    "id": "adXhkLKN4bs5"
   },
   "outputs": [],
   "source": [
    "temp.weight.grad"
   ]
  },
  {
   "cell_type": "code",
   "execution_count": null,
   "id": "VMFPoi9e4AkE",
   "metadata": {
    "colab": {
     "base_uri": "https://localhost:8080/"
    },
    "executionInfo": {
     "elapsed": 4,
     "status": "ok",
     "timestamp": 1665706367231,
     "user": {
      "displayName": "﻿안재윤(전임교원/통계학과)",
      "userId": "02619146530199681853"
     },
     "user_tz": -540
    },
    "id": "VMFPoi9e4AkE",
    "outputId": "277fbff3-3b58-414c-bf8c-e6951ca2fc18"
   },
   "outputs": [
    {
     "name": "stdout",
     "output_type": "stream",
     "text": [
      "Parameter containing:\n",
      "tensor([[ 0.6384, -0.0754]], requires_grad=True) Parameter containing:\n",
      "tensor([-0.2360], requires_grad=True)\n"
     ]
    }
   ],
   "source": [
    "print(temp.weight, temp.bias)\n",
    "\n"
   ]
  },
  {
   "cell_type": "markdown",
   "id": "KoaxYNUV5MWS",
   "metadata": {
    "id": "KoaxYNUV5MWS"
   },
   "source": [
    "Now, we obtain\n",
    "\n",
    "$Z = \\left(\n",
    "  \\begin{array}{cc}\n",
    "    2.0 & 1.0 \\\\\n",
    "    1.0 & -1.0 \\\\\n",
    "  \\end{array}\n",
    "\\right)$\n",
    "\n",
    "and calculate\n",
    "\n",
    "$\\widehat{Y}=Z\\, W^T +b$"
   ]
  },
  {
   "cell_type": "code",
   "execution_count": null,
   "id": "yk8jMa7x43Go",
   "metadata": {
    "colab": {
     "base_uri": "https://localhost:8080/"
    },
    "executionInfo": {
     "elapsed": 4,
     "status": "ok",
     "timestamp": 1665706367232,
     "user": {
      "displayName": "﻿안재윤(전임교원/통계학과)",
      "userId": "02619146530199681853"
     },
     "user_tz": -540
    },
    "id": "yk8jMa7x43Go",
    "outputId": "0bf95fed-2f4c-4fec-edd2-b4b24e197800"
   },
   "outputs": [
    {
     "name": "stdout",
     "output_type": "stream",
     "text": [
      "tensor([[0.9655],\n",
      "        [0.4779]], grad_fn=<AddmmBackward0>)\n"
     ]
    }
   ],
   "source": [
    "Z = torch.tensor([[2.0, 1.0],\n",
    "                         [1.0, -1.0]])\n",
    "print(temp(Z))"
   ]
  },
  {
   "cell_type": "code",
   "execution_count": null,
   "id": "2L000w5w471z",
   "metadata": {
    "colab": {
     "base_uri": "https://localhost:8080/"
    },
    "executionInfo": {
     "elapsed": 1,
     "status": "ok",
     "timestamp": 1665706367822,
     "user": {
      "displayName": "﻿안재윤(전임교원/통계학과)",
      "userId": "02619146530199681853"
     },
     "user_tz": -540
    },
    "id": "2L000w5w471z",
    "outputId": "4eb01e90-6694-4766-ac6d-54f067947fd0"
   },
   "outputs": [
    {
     "data": {
      "text/plain": [
       "tensor([[0.9655],\n",
       "        [0.4779]], grad_fn=<AddBackward0>)"
      ]
     },
     "execution_count": 47,
     "metadata": {},
     "output_type": "execute_result"
    }
   ],
   "source": [
    "Z @ temp.weight.T +temp.bias"
   ]
  },
  {
   "cell_type": "code",
   "execution_count": null,
   "id": "wvZ3-p49XQql",
   "metadata": {
    "colab": {
     "base_uri": "https://localhost:8080/"
    },
    "executionInfo": {
     "elapsed": 2,
     "status": "ok",
     "timestamp": 1665706369320,
     "user": {
      "displayName": "﻿안재윤(전임교원/통계학과)",
      "userId": "02619146530199681853"
     },
     "user_tz": -540
    },
    "id": "wvZ3-p49XQql",
    "outputId": "8924acf1-0279-461a-eb88-57012edf9fc1"
   },
   "outputs": [
    {
     "name": "stdout",
     "output_type": "stream",
     "text": [
      "Parameter containing:\n",
      "tensor([[ 0.6384, -0.0754]], requires_grad=True)\n",
      "Parameter containing:\n",
      "tensor([-0.2360], requires_grad=True)\n"
     ]
    }
   ],
   "source": [
    "for i in temp.parameters():\n",
    "  print(i)"
   ]
  },
  {
   "cell_type": "code",
   "execution_count": null,
   "id": "hY37nvTvWC6K",
   "metadata": {
    "id": "hY37nvTvWC6K"
   },
   "outputs": [],
   "source": []
  },
  {
   "cell_type": "code",
   "execution_count": null,
   "id": "omeaJNoXXC8u",
   "metadata": {
    "id": "omeaJNoXXC8u"
   },
   "outputs": [],
   "source": [
    "dataset = TensorDataset(X,Y)\n",
    "trainloader = DataLoader(dataset=dataset, batch_size=10, shuffle=True)\n",
    "model = nn.Linear(1,1)\n",
    "def criterion(yhat, y):\n",
    "  return torch.mean((yhat-y)**2)\n",
    "optimizer = optim.SGD(model.parameters(), lr=0.01)"
   ]
  },
  {
   "cell_type": "code",
   "execution_count": null,
   "id": "gLGCPHAGYsR4",
   "metadata": {
    "colab": {
     "base_uri": "https://localhost:8080/"
    },
    "executionInfo": {
     "elapsed": 2,
     "status": "ok",
     "timestamp": 1665730000110,
     "user": {
      "displayName": "﻿안재윤(전임교원/통계학과)",
      "userId": "02619146530199681853"
     },
     "user_tz": -540
    },
    "id": "gLGCPHAGYsR4",
    "outputId": "f058664a-4a2b-4d93-b400-e3cb19452056"
   },
   "outputs": [
    {
     "data": {
      "text/plain": [
       "tensor([[-3.0000e+00],\n",
       "        [-2.9000e+00],\n",
       "        [-2.8000e+00],\n",
       "        [-2.7000e+00],\n",
       "        [-2.6000e+00],\n",
       "        [-2.5000e+00],\n",
       "        [-2.4000e+00],\n",
       "        [-2.3000e+00],\n",
       "        [-2.2000e+00],\n",
       "        [-2.1000e+00],\n",
       "        [-2.0000e+00],\n",
       "        [-1.9000e+00],\n",
       "        [-1.8000e+00],\n",
       "        [-1.7000e+00],\n",
       "        [-1.6000e+00],\n",
       "        [-1.5000e+00],\n",
       "        [-1.4000e+00],\n",
       "        [-1.3000e+00],\n",
       "        [-1.2000e+00],\n",
       "        [-1.1000e+00],\n",
       "        [-1.0000e+00],\n",
       "        [-9.0000e-01],\n",
       "        [-8.0000e-01],\n",
       "        [-7.0000e-01],\n",
       "        [-6.0000e-01],\n",
       "        [-5.0000e-01],\n",
       "        [-4.0000e-01],\n",
       "        [-3.0000e-01],\n",
       "        [-2.0000e-01],\n",
       "        [-1.0000e-01],\n",
       "        [-2.3842e-08],\n",
       "        [ 1.0000e-01],\n",
       "        [ 2.0000e-01],\n",
       "        [ 3.0000e-01],\n",
       "        [ 4.0000e-01],\n",
       "        [ 5.0000e-01],\n",
       "        [ 6.0000e-01],\n",
       "        [ 7.0000e-01],\n",
       "        [ 8.0000e-01],\n",
       "        [ 9.0000e-01],\n",
       "        [ 1.0000e+00],\n",
       "        [ 1.1000e+00],\n",
       "        [ 1.2000e+00],\n",
       "        [ 1.3000e+00],\n",
       "        [ 1.4000e+00],\n",
       "        [ 1.5000e+00],\n",
       "        [ 1.6000e+00],\n",
       "        [ 1.7000e+00],\n",
       "        [ 1.8000e+00],\n",
       "        [ 1.9000e+00],\n",
       "        [ 2.0000e+00],\n",
       "        [ 2.1000e+00],\n",
       "        [ 2.2000e+00],\n",
       "        [ 2.3000e+00],\n",
       "        [ 2.4000e+00],\n",
       "        [ 2.5000e+00],\n",
       "        [ 2.6000e+00],\n",
       "        [ 2.7000e+00],\n",
       "        [ 2.8000e+00],\n",
       "        [ 2.9000e+00]])"
      ]
     },
     "execution_count": 144,
     "metadata": {},
     "output_type": "execute_result"
    }
   ],
   "source": [
    "dataset.tensors[0]"
   ]
  },
  {
   "cell_type": "code",
   "execution_count": null,
   "id": "H0T1Zqve-tLF",
   "metadata": {
    "colab": {
     "base_uri": "https://localhost:8080/"
    },
    "executionInfo": {
     "elapsed": 9,
     "status": "ok",
     "timestamp": 1665706437290,
     "user": {
      "displayName": "﻿안재윤(전임교원/통계학과)",
      "userId": "02619146530199681853"
     },
     "user_tz": -540
    },
    "id": "H0T1Zqve-tLF",
    "outputId": "d76a9d38-06a9-48a0-ecdc-f100694f927f"
   },
   "outputs": [
    {
     "data": {
      "text/plain": [
       "['__add__',\n",
       " '__annotations__',\n",
       " '__class__',\n",
       " '__class_getitem__',\n",
       " '__delattr__',\n",
       " '__dict__',\n",
       " '__dir__',\n",
       " '__doc__',\n",
       " '__eq__',\n",
       " '__format__',\n",
       " '__ge__',\n",
       " '__getattribute__',\n",
       " '__getitem__',\n",
       " '__gt__',\n",
       " '__hash__',\n",
       " '__init__',\n",
       " '__init_subclass__',\n",
       " '__le__',\n",
       " '__len__',\n",
       " '__lt__',\n",
       " '__module__',\n",
       " '__ne__',\n",
       " '__new__',\n",
       " '__orig_bases__',\n",
       " '__parameters__',\n",
       " '__reduce__',\n",
       " '__reduce_ex__',\n",
       " '__repr__',\n",
       " '__setattr__',\n",
       " '__sizeof__',\n",
       " '__slots__',\n",
       " '__str__',\n",
       " '__subclasshook__',\n",
       " '__weakref__',\n",
       " 'tensors']"
      ]
     },
     "execution_count": 66,
     "metadata": {},
     "output_type": "execute_result"
    }
   ],
   "source": [
    "dir(dataset)"
   ]
  },
  {
   "cell_type": "code",
   "execution_count": null,
   "id": "XdtKgelYYU3T",
   "metadata": {
    "id": "XdtKgelYYU3T"
   },
   "outputs": [],
   "source": [
    "iters = 30\n",
    "history = []\n",
    "for epoch in range(iters):\n",
    "  Yhat = model(dataset.tensors[0])\n",
    "  LOSS = criterion(Yhat, dataset.tensors[1])\n",
    "  history.append(LOSS.item())\n",
    "  for x,y in trainloader:\n",
    "    yhat = model(x)\n",
    "    loss = criterion(yhat, y)\n",
    "    loss.backward()\n",
    "    optimizer.step()\n",
    "    optimizer.zero_grad()\n"
   ]
  },
  {
   "cell_type": "code",
   "execution_count": null,
   "id": "4vZ7gjtTZKq0",
   "metadata": {
    "colab": {
     "base_uri": "https://localhost:8080/",
     "height": 283
    },
    "executionInfo": {
     "elapsed": 3,
     "status": "ok",
     "timestamp": 1665706439531,
     "user": {
      "displayName": "﻿안재윤(전임교원/통계학과)",
      "userId": "02619146530199681853"
     },
     "user_tz": -540
    },
    "id": "4vZ7gjtTZKq0",
    "outputId": "d771859e-6ae6-40f4-e52a-f21b43269687"
   },
   "outputs": [
    {
     "data": {
      "text/plain": [
       "[<matplotlib.lines.Line2D at 0x7f6059352210>]"
      ]
     },
     "execution_count": 68,
     "metadata": {},
     "output_type": "execute_result"
    },
    {
     "data": {
      "image/png": "[encoded data removed]",
      "text/plain": [
       "<Figure size 432x288 with 1 Axes>"
      ]
     },
     "metadata": {
      "needs_background": "light"
     },
     "output_type": "display_data"
    }
   ],
   "source": [
    "plt.plot(history)"
   ]
  },
  {
   "cell_type": "code",
   "execution_count": null,
   "id": "vNMgNPGZZkes",
   "metadata": {
    "colab": {
     "base_uri": "https://localhost:8080/"
    },
    "executionInfo": {
     "elapsed": 10,
     "status": "ok",
     "timestamp": 1665706445386,
     "user": {
      "displayName": "﻿안재윤(전임교원/통계학과)",
      "userId": "02619146530199681853"
     },
     "user_tz": -540
    },
    "id": "vNMgNPGZZkes",
    "outputId": "c96aa1d1-7922-4b54-cf4b-9c43ff3ebdc0"
   },
   "outputs": [
    {
     "data": {
      "text/plain": [
       "[Parameter containing:\n",
       " tensor([[2.0379]], requires_grad=True), Parameter containing:\n",
       " tensor([-0.7708], requires_grad=True)]"
      ]
     },
     "execution_count": 69,
     "metadata": {},
     "output_type": "execute_result"
    }
   ],
   "source": [
    "list(model.parameters())"
   ]
  },
  {
   "cell_type": "code",
   "execution_count": null,
   "id": "NQAAZztyZuTf",
   "metadata": {
    "colab": {
     "base_uri": "https://localhost:8080/"
    },
    "executionInfo": {
     "elapsed": 550,
     "status": "ok",
     "timestamp": 1665706450217,
     "user": {
      "displayName": "﻿안재윤(전임교원/통계학과)",
      "userId": "02619146530199681853"
     },
     "user_tz": -540
    },
    "id": "NQAAZztyZuTf",
    "outputId": "ac5f9e98-ca97-4052-9ca1-905d52728560"
   },
   "outputs": [
    {
     "data": {
      "text/plain": [
       "OrderedDict([('weight', tensor([[2.0379]])), ('bias', tensor([-0.7708]))])"
      ]
     },
     "execution_count": 70,
     "metadata": {},
     "output_type": "execute_result"
    }
   ],
   "source": [
    "model.state_dict()"
   ]
  },
  {
   "cell_type": "code",
   "execution_count": 39,
   "id": "l3XafQT8aIm3",
   "metadata": {
    "colab": {
     "base_uri": "https://localhost:8080/",
     "height": 181
    },
    "executionInfo": {
     "elapsed": 4,
     "status": "error",
     "timestamp": 1696397456498,
     "user": {
      "displayName": "﻿안재윤(전임교원/통계학과)",
      "userId": "02619146530199681853"
     },
     "user_tz": -540
    },
    "id": "l3XafQT8aIm3",
    "outputId": "2662c210-0c83-4eeb-e975-cf592cfc813f"
   },
   "outputs": [
    {
     "ename": "NameError",
     "evalue": "ignored",
     "output_type": "error",
     "traceback": [
      "\u001b[0;31m---------------------------------------------------------------------------\u001b[0m",
      "\u001b[0;31mNameError\u001b[0m                                 Traceback (most recent call last)",
      "\u001b[0;32m<ipython-input-39-50702579d21e>\u001b[0m in \u001b[0;36m<cell line: 1>\u001b[0;34m()\u001b[0m\n\u001b[0;32m----> 1\u001b[0;31m \u001b[0mmodel\u001b[0m\u001b[0;34m.\u001b[0m\u001b[0mweight\u001b[0m\u001b[0;34m.\u001b[0m\u001b[0mdata\u001b[0m\u001b[0;34m\u001b[0m\u001b[0;34m\u001b[0m\u001b[0m\n\u001b[0m",
      "\u001b[0;31mNameError\u001b[0m: name 'model' is not defined"
     ]
    }
   ],
   "source": [
    "model.weight"
   ]
  },
  {
   "cell_type": "markdown",
   "id": "JmHovKlRawP-",
   "metadata": {
    "id": "JmHovKlRawP-"
   },
   "source": [
    "### Exercise:\n",
    "\n",
    "1.   Calculate MSE (mean squared error).\n",
    "1.   Calculate MAE (mean absolute error).\n",
    "2.   Assume that you are given ```x=1```. What woud be your yhat?\n",
    "\n",
    "\n",
    "\n",
    "\n"
   ]
  },
  {
   "cell_type": "markdown",
   "id": "UyVfUifc1Wtw",
   "metadata": {
    "id": "UyVfUifc1Wtw"
   },
   "source": [
    "#5. Custom layer\n",
    "\n",
    "Repeat the above procedure with user defined layer."
   ]
  },
  {
   "cell_type": "code",
   "execution_count": null,
   "id": "XW0iNks019h5",
   "metadata": {
    "id": "XW0iNks019h5"
   },
   "outputs": [],
   "source": [
    "nn.Linear?"
   ]
  },
  {
   "cell_type": "markdown",
   "id": "Bn2vtiMP4SN1",
   "metadata": {
    "id": "Bn2vtiMP4SN1"
   },
   "source": [
    "## 5.1 Using torch.nn module"
   ]
  },
  {
   "cell_type": "code",
   "execution_count": 1,
   "id": "h_Hg5cN2Iz3s",
   "metadata": {
    "executionInfo": {
     "elapsed": 3519,
     "status": "ok",
     "timestamp": 1696396965140,
     "user": {
      "displayName": "﻿안재윤(전임교원/통계학과)",
      "userId": "02619146530199681853"
     },
     "user_tz": -540
    },
    "id": "h_Hg5cN2Iz3s"
   },
   "outputs": [],
   "source": [
    "import torch\n",
    "import numpy as np"
   ]
  },
  {
   "cell_type": "code",
   "execution_count": 8,
   "id": "6o0fpT20fh6y",
   "metadata": {
    "executionInfo": {
     "elapsed": 4,
     "status": "ok",
     "timestamp": 1696397119960,
     "user": {
      "displayName": "﻿안재윤(전임교원/통계학과)",
      "userId": "02619146530199681853"
     },
     "user_tz": -540
    },
    "id": "6o0fpT20fh6y"
   },
   "outputs": [],
   "source": [
    "class linear_regression(nn.Module):\n",
    "  def __init__(self, input_size, output_size):\n",
    "    super(linear_regression, self).__init__()\n",
    "    self.linear = nn.Linear(input_size, output_size)\n",
    "  def forward(self,x):\n",
    "    yhat = self.linear(x)\n",
    "    return yhat"
   ]
  },
  {
   "cell_type": "code",
   "execution_count": 9,
   "id": "GN91t3Z22N-m",
   "metadata": {
    "colab": {
     "base_uri": "https://localhost:8080/",
     "height": 252
    },
    "executionInfo": {
     "elapsed": 11,
     "status": "error",
     "timestamp": 1696397121937,
     "user": {
      "displayName": "﻿안재윤(전임교원/통계학과)",
      "userId": "02619146530199681853"
     },
     "user_tz": -540
    },
    "id": "GN91t3Z22N-m",
    "outputId": "8e0bb76d-a78f-41d6-f5aa-c0836da6c77e"
   },
   "outputs": [
    {
     "ename": "NameError",
     "evalue": "ignored",
     "output_type": "error",
     "traceback": [
      "\u001b[0;31m---------------------------------------------------------------------------\u001b[0m",
      "\u001b[0;31mNameError\u001b[0m                                 Traceback (most recent call last)",
      "\u001b[0;32m<ipython-input-9-b000ff922812>\u001b[0m in \u001b[0;36m<cell line: 1>\u001b[0;34m()\u001b[0m\n\u001b[0;32m----> 1\u001b[0;31m \u001b[0mdataset\u001b[0m \u001b[0;34m=\u001b[0m \u001b[0mTensorDataset\u001b[0m\u001b[0;34m(\u001b[0m\u001b[0mX\u001b[0m\u001b[0;34m,\u001b[0m\u001b[0mY\u001b[0m\u001b[0;34m)\u001b[0m\u001b[0;34m\u001b[0m\u001b[0;34m\u001b[0m\u001b[0m\n\u001b[0m\u001b[1;32m      2\u001b[0m \u001b[0mtrainloader\u001b[0m \u001b[0;34m=\u001b[0m \u001b[0mDataLoader\u001b[0m\u001b[0;34m(\u001b[0m\u001b[0mdataset\u001b[0m\u001b[0;34m=\u001b[0m\u001b[0mdataset\u001b[0m\u001b[0;34m,\u001b[0m \u001b[0mbatch_size\u001b[0m\u001b[0;34m=\u001b[0m\u001b[0;36m10\u001b[0m\u001b[0;34m,\u001b[0m \u001b[0mshuffle\u001b[0m\u001b[0;34m=\u001b[0m\u001b[0;32mTrue\u001b[0m\u001b[0;34m)\u001b[0m\u001b[0;34m\u001b[0m\u001b[0;34m\u001b[0m\u001b[0m\n\u001b[1;32m      3\u001b[0m \u001b[0mmodel\u001b[0m \u001b[0;34m=\u001b[0m \u001b[0mlinear_regression\u001b[0m\u001b[0;34m(\u001b[0m\u001b[0;36m1\u001b[0m\u001b[0;34m,\u001b[0m\u001b[0;36m1\u001b[0m\u001b[0;34m)\u001b[0m\u001b[0;34m\u001b[0m\u001b[0;34m\u001b[0m\u001b[0m\n\u001b[1;32m      4\u001b[0m \u001b[0;32mdef\u001b[0m \u001b[0mcriterion\u001b[0m\u001b[0;34m(\u001b[0m\u001b[0myhat\u001b[0m\u001b[0;34m,\u001b[0m \u001b[0my\u001b[0m\u001b[0;34m)\u001b[0m\u001b[0;34m:\u001b[0m\u001b[0;34m\u001b[0m\u001b[0;34m\u001b[0m\u001b[0m\n\u001b[1;32m      5\u001b[0m   \u001b[0;32mreturn\u001b[0m \u001b[0mtorch\u001b[0m\u001b[0;34m.\u001b[0m\u001b[0mmean\u001b[0m\u001b[0;34m(\u001b[0m\u001b[0;34m(\u001b[0m\u001b[0myhat\u001b[0m\u001b[0;34m-\u001b[0m\u001b[0my\u001b[0m\u001b[0;34m)\u001b[0m\u001b[0;34m**\u001b[0m\u001b[0;36m2\u001b[0m\u001b[0;34m)\u001b[0m\u001b[0;34m\u001b[0m\u001b[0;34m\u001b[0m\u001b[0m\n",
      "\u001b[0;31mNameError\u001b[0m: name 'X' is not defined"
     ]
    }
   ],
   "source": [
    "dataset = TensorDataset(X,Y)\n",
    "trainloader = DataLoader(dataset=dataset, batch_size=10, shuffle=True)\n",
    "model = linear_regression(1,1)\n",
    "def criterion(yhat, y):\n",
    "  return torch.mean((yhat-y)**2)\n",
    "optimizer = optim.SGD(model.parameters(), lr=0.01)"
   ]
  },
  {
   "cell_type": "code",
   "execution_count": null,
   "id": "ByjQ9S4v2UWe",
   "metadata": {
    "executionInfo": {
     "elapsed": 4,
     "status": "aborted",
     "timestamp": 1696397074546,
     "user": {
      "displayName": "﻿안재윤(전임교원/통계학과)",
      "userId": "02619146530199681853"
     },
     "user_tz": -540
    },
    "id": "ByjQ9S4v2UWe"
   },
   "outputs": [],
   "source": [
    "iters = 30\n",
    "history = []\n",
    "for epoch in range(iters):\n",
    "  Yhat = model(dataset.tensors[0])\n",
    "  LOSS = criterion(Yhat, dataset.tensors[1])\n",
    "  history.append(LOSS.item())\n",
    "  for x,y in trainloader:\n",
    "    yhat = model(x)\n",
    "    loss = criterion(yhat, y)\n",
    "    loss.backward()\n",
    "    optimizer.step()\n",
    "    optimizer.zero_grad()\n"
   ]
  },
  {
   "cell_type": "code",
   "execution_count": null,
   "id": "w8LrqNlq2VGx",
   "metadata": {
    "colab": {
     "base_uri": "https://localhost:8080/",
     "height": 283
    },
    "executionInfo": {
     "elapsed": 1130,
     "status": "ok",
     "timestamp": 1665706589936,
     "user": {
      "displayName": "﻿안재윤(전임교원/통계학과)",
      "userId": "02619146530199681853"
     },
     "user_tz": -540
    },
    "id": "w8LrqNlq2VGx",
    "outputId": "3f5bc106-9343-4b16-cdfe-cbaf88fb0522"
   },
   "outputs": [
    {
     "data": {
      "text/plain": [
       "[<matplotlib.lines.Line2D at 0x7f605894e310>]"
      ]
     },
     "execution_count": 76,
     "metadata": {},
     "output_type": "execute_result"
    },
    {
     "data": {
      "image/png": "[encoded data removed]",
      "text/plain": [
       "<Figure size 432x288 with 1 Axes>"
      ]
     },
     "metadata": {
      "needs_background": "light"
     },
     "output_type": "display_data"
    }
   ],
   "source": [
    "plt.plot(history)"
   ]
  },
  {
   "cell_type": "markdown",
   "id": "8AwHLLgt4a6w",
   "metadata": {
    "id": "8AwHLLgt4a6w"
   },
   "source": [
    "## 5.2 Defining the parameters and model directly."
   ]
  },
  {
   "cell_type": "code",
   "execution_count": null,
   "id": "M_WjHA_E2lVO",
   "metadata": {
    "id": "M_WjHA_E2lVO"
   },
   "outputs": [],
   "source": [
    "class my_linear_regression(nn.Module):\n",
    "  def __init__(self, input_size, output_size):\n",
    "    super(my_linear_regression, self).__init__()\n",
    "    self.w = nn.Parameter(torch.randn(1,1), requires_grad=True)\n",
    "    self.b = nn.Parameter(torch.randn(1), requires_grad=True)\n",
    "  def forward(self,x):\n",
    "    yhat = x @ self.w.T +b\n",
    "    return yhat"
   ]
  },
  {
   "cell_type": "code",
   "execution_count": null,
   "id": "BLpf36Wl3Ybq",
   "metadata": {
    "id": "BLpf36Wl3Ybq"
   },
   "outputs": [],
   "source": [
    "dataset = TensorDataset(X,Y)\n",
    "trainloader = DataLoader(dataset=dataset, batch_size=10, shuffle=True)\n",
    "model = my_linear_regression(1,1)\n",
    "def criterion(yhat, y):\n",
    "  return torch.mean((yhat-y)**2)\n",
    "optimizer = optim.SGD(model.parameters(), lr=0.01)"
   ]
  },
  {
   "cell_type": "code",
   "execution_count": null,
   "id": "4I8Nt2Gg3Ybq",
   "metadata": {
    "id": "4I8Nt2Gg3Ybq"
   },
   "outputs": [],
   "source": [
    "iters = 30\n",
    "history = []\n",
    "for epoch in range(iters):\n",
    "  Yhat = model(dataset.tensors[0])\n",
    "  LOSS = criterion(Yhat, dataset.tensors[1])\n",
    "  history.append(LOSS.item())\n",
    "  for x,y in trainloader:\n",
    "    yhat = model(x)\n",
    "    loss = criterion(yhat, y)\n",
    "    loss.backward()\n",
    "    optimizer.step()\n",
    "    optimizer.zero_grad()\n"
   ]
  },
  {
   "cell_type": "code",
   "execution_count": null,
   "id": "Bl56uMMy3-WM",
   "metadata": {
    "colab": {
     "base_uri": "https://localhost:8080/",
     "height": 283
    },
    "executionInfo": {
     "elapsed": 6,
     "status": "ok",
     "timestamp": 1665707914189,
     "user": {
      "displayName": "﻿안재윤(전임교원/통계학과)",
      "userId": "02619146530199681853"
     },
     "user_tz": -540
    },
    "id": "Bl56uMMy3-WM",
    "outputId": "adeb3d17-b39f-454b-a359-26df06aebb11"
   },
   "outputs": [
    {
     "data": {
      "text/plain": [
       "[<matplotlib.lines.Line2D at 0x7f603ead0750>]"
      ]
     },
     "execution_count": 130,
     "metadata": {},
     "output_type": "execute_result"
    },
    {
     "data": {
      "image/png": "[encoded data removed]",
      "text/plain": [
       "<Figure size 432x288 with 1 Axes>"
      ]
     },
     "metadata": {
      "needs_background": "light"
     },
     "output_type": "display_data"
    }
   ],
   "source": [
    "plt.plot(history)"
   ]
  },
  {
   "cell_type": "code",
   "execution_count": null,
   "id": "gVy8-egi3_5y",
   "metadata": {
    "colab": {
     "base_uri": "https://localhost:8080/"
    },
    "executionInfo": {
     "elapsed": 4,
     "status": "ok",
     "timestamp": 1665707914189,
     "user": {
      "displayName": "﻿안재윤(전임교원/통계학과)",
      "userId": "02619146530199681853"
     },
     "user_tz": -540
    },
    "id": "gVy8-egi3_5y",
    "outputId": "0b47d3b1-b684-46cd-aa4d-8913d5570144"
   },
   "outputs": [
    {
     "data": {
      "text/plain": [
       "[Parameter containing:\n",
       " tensor([[2.0349]], requires_grad=True), Parameter containing:\n",
       " tensor([1.4787], requires_grad=True)]"
      ]
     },
     "execution_count": 131,
     "metadata": {},
     "output_type": "execute_result"
    }
   ],
   "source": [
    "list(model.parameters())"
   ]
  },
  {
   "cell_type": "code",
   "execution_count": null,
   "id": "kICcoO4s7ZSW",
   "metadata": {
    "colab": {
     "base_uri": "https://localhost:8080/"
    },
    "executionInfo": {
     "elapsed": 3,
     "status": "ok",
     "timestamp": 1665707915368,
     "user": {
      "displayName": "﻿안재윤(전임교원/통계학과)",
      "userId": "02619146530199681853"
     },
     "user_tz": -540
    },
    "id": "kICcoO4s7ZSW",
    "outputId": "c5445332-515b-4653-cf46-fafc083bb487"
   },
   "outputs": [
    {
     "data": {
      "text/plain": [
       "OrderedDict([('w', tensor([[2.0349]])), ('b', tensor([1.4787]))])"
      ]
     },
     "execution_count": 132,
     "metadata": {},
     "output_type": "execute_result"
    }
   ],
   "source": [
    "model.state_dict()"
   ]
  },
  {
   "cell_type": "markdown",
   "id": "OcfIjgCf4jyi",
   "metadata": {
    "id": "OcfIjgCf4jyi"
   },
   "source": [
    "## Exercise:\n",
    "\n",
    "By using the following command,\n",
    "\n",
    "```\n",
    "self.linear = nn.Linear(input_size, output_size, bias=False)\n",
    "```\n",
    "\n",
    "you obtain the linear layer without a bias. Then, you want to add a bias `b` manually in your customed layer. Train the model."
   ]
  },
  {
   "cell_type": "code",
   "execution_count": null,
   "id": "CbyVlI5x7MJc",
   "metadata": {
    "id": "CbyVlI5x7MJc"
   },
   "outputs": [],
   "source": []
  },
  {
   "cell_type": "code",
   "execution_count": null,
   "id": "M4-bqAamI5hm",
   "metadata": {
    "id": "M4-bqAamI5hm"
   },
   "outputs": [],
   "source": []
  },
  {
   "cell_type": "markdown",
   "id": "P9hrbW9-I9MX",
   "metadata": {
    "id": "P9hrbW9-I9MX"
   },
   "source": [
    "## Exercise:\n",
    "\n",
    "By using the following command,\n",
    "\n",
    "```\n",
    "self.linear = nn.Linear(input_size, output_size, bias=False)\n",
    "```\n",
    "\n",
    "you obtain the linear (customed) layer without a bias. Then, you want to add a bias `b` manually in outside of the customed layer. Train the model."
   ]
  },
  {
   "cell_type": "code",
   "execution_count": null,
   "id": "kYDVLOv7I8ah",
   "metadata": {
    "id": "kYDVLOv7I8ah"
   },
   "outputs": [],
   "source": [
    "import torch.nn as nn\n",
    "import torch.optim as optim"
   ]
  },
  {
   "cell_type": "code",
   "execution_count": null,
   "id": "sKx5ugQZJnGS",
   "metadata": {
    "id": "sKx5ugQZJnGS"
   },
   "outputs": [],
   "source": [
    "dataset = TensorDataset(X,Y)"
   ]
  },
  {
   "cell_type": "code",
   "execution_count": null,
   "id": "TvPWEhhkJnGS",
   "metadata": {
    "id": "TvPWEhhkJnGS"
   },
   "outputs": [],
   "source": [
    "trainloader=DataLoader(dataset = dataset, batch_size=1, shuffle=True)"
   ]
  },
  {
   "cell_type": "code",
   "execution_count": null,
   "id": "55OdPQS8Jn3x",
   "metadata": {
    "id": "55OdPQS8Jn3x"
   },
   "outputs": [],
   "source": [
    "class my_linear_regression(nn.Module):\n",
    "  def __init__(self, input_size, output_size):\n",
    "    super(my_linear_regression, self).__init__()\n",
    "    self.linear = nn.Linear(input_size, output_size, bias=False)\n",
    "  def forward(self,x):\n",
    "    yhat = self.linear(x)\n",
    "    return yhat\n"
   ]
  },
  {
   "cell_type": "code",
   "execution_count": null,
   "id": "CpL1y9ypJn0l",
   "metadata": {
    "id": "CpL1y9ypJn0l"
   },
   "outputs": [],
   "source": [
    "import itertools"
   ]
  },
  {
   "cell_type": "code",
   "execution_count": null,
   "id": "2tjO0loqMxD9",
   "metadata": {
    "colab": {
     "base_uri": "https://localhost:8080/"
    },
    "executionInfo": {
     "elapsed": 6,
     "status": "ok",
     "timestamp": 1665730013576,
     "user": {
      "displayName": "﻿안재윤(전임교원/통계학과)",
      "userId": "02619146530199681853"
     },
     "user_tz": -540
    },
    "id": "2tjO0loqMxD9",
    "outputId": "99aad2ee-5f3d-40d3-8fc5-3904f4154de9"
   },
   "outputs": [
    {
     "data": {
      "text/plain": [
       "[Parameter containing:\n",
       " tensor([[-0.0575]], requires_grad=True), Parameter containing:\n",
       " tensor([0.9956], requires_grad=True)]"
      ]
     },
     "execution_count": 147,
     "metadata": {},
     "output_type": "execute_result"
    }
   ],
   "source": [
    "list(model.parameters())"
   ]
  },
  {
   "cell_type": "code",
   "execution_count": null,
   "id": "-hbDUa0KMOkj",
   "metadata": {
    "colab": {
     "base_uri": "https://localhost:8080/"
    },
    "executionInfo": {
     "elapsed": 3,
     "status": "ok",
     "timestamp": 1665730014846,
     "user": {
      "displayName": "﻿안재윤(전임교원/통계학과)",
      "userId": "02619146530199681853"
     },
     "user_tz": -540
    },
    "id": "-hbDUa0KMOkj",
    "outputId": "a9e6d373-62cf-4608-db45-b26bcf72c5f9"
   },
   "outputs": [
    {
     "data": {
      "text/plain": [
       "[tensor(-0.4045, grad_fn=<UnbindBackward0>)]"
      ]
     },
     "execution_count": 148,
     "metadata": {},
     "output_type": "execute_result"
    }
   ],
   "source": [
    "list(b)"
   ]
  },
  {
   "cell_type": "code",
   "execution_count": null,
   "id": "Wbnhg7kDJxji",
   "metadata": {
    "id": "Wbnhg7kDJxji"
   },
   "outputs": [],
   "source": [
    "dataset = TensorDataset(X,Y)\n",
    "trainloader = DataLoader(dataset=dataset, batch_size=10, shuffle=True)\n",
    "model = my_linear_regression(1,1)\n",
    "b = nn.Parameter(torch.randn(1), requires_grad=True)\n",
    "all_params = list(model.parameters())+list([b])\n",
    "#itertools.chain(model.parameters(), b)\n",
    "def criterion(yhat, y):\n",
    "  return torch.mean((yhat-y)**2)\n",
    "optimizer = optim.SGD(all_params, lr=0.001)"
   ]
  },
  {
   "cell_type": "code",
   "execution_count": null,
   "id": "H6UAkWy6Jxjj",
   "metadata": {
    "id": "H6UAkWy6Jxjj"
   },
   "outputs": [],
   "source": [
    "iters = 500\n",
    "history = []\n",
    "for epoch in range(iters):\n",
    "  Yhat = model(dataset.tensors[0])\n",
    "  LOSS = criterion(Yhat, dataset.tensors[1])\n",
    "  history.append(LOSS.item())\n",
    "  for x,y in trainloader:\n",
    "    yhat = model(x)+b\n",
    "    loss = criterion(yhat, y)\n",
    "    loss.backward()\n",
    "    optimizer.step()\n",
    "    optimizer.zero_grad()\n"
   ]
  },
  {
   "cell_type": "code",
   "execution_count": null,
   "id": "k1bnOSmWJnyF",
   "metadata": {
    "colab": {
     "base_uri": "https://localhost:8080/",
     "height": 283
    },
    "executionInfo": {
     "elapsed": 10,
     "status": "ok",
     "timestamp": 1665730084486,
     "user": {
      "displayName": "﻿안재윤(전임교원/통계학과)",
      "userId": "02619146530199681853"
     },
     "user_tz": -540
    },
    "id": "k1bnOSmWJnyF",
    "outputId": "6ed340cc-a880-4895-c035-81711354ccf0"
   },
   "outputs": [
    {
     "data": {
      "text/plain": [
       "[<matplotlib.lines.Line2D at 0x7fa0987d9090>]"
      ]
     },
     "execution_count": 176,
     "metadata": {},
     "output_type": "execute_result"
    },
    {
     "data": {
      "image/png": "[encoded data removed]",
      "text/plain": [
       "<Figure size 432x288 with 1 Axes>"
      ]
     },
     "metadata": {
      "needs_background": "light"
     },
     "output_type": "display_data"
    }
   ],
   "source": [
    "plt.plot(history)"
   ]
  },
  {
   "cell_type": "code",
   "execution_count": null,
   "id": "0AnNZR2aOIeu",
   "metadata": {
    "colab": {
     "base_uri": "https://localhost:8080/"
    },
    "executionInfo": {
     "elapsed": 2,
     "status": "ok",
     "timestamp": 1665730087142,
     "user": {
      "displayName": "﻿안재윤(전임교원/통계학과)",
      "userId": "02619146530199681853"
     },
     "user_tz": -540
    },
    "id": "0AnNZR2aOIeu",
    "outputId": "9db61aa1-9c99-4878-98e8-ee8ae30f4931"
   },
   "outputs": [
    {
     "data": {
      "text/plain": [
       "Parameter containing:\n",
       "tensor([-0.8063], requires_grad=True)"
      ]
     },
     "execution_count": 177,
     "metadata": {},
     "output_type": "execute_result"
    }
   ],
   "source": [
    "b"
   ]
  },
  {
   "cell_type": "code",
   "execution_count": null,
   "id": "pHNc3wOIOKTv",
   "metadata": {
    "colab": {
     "base_uri": "https://localhost:8080/"
    },
    "executionInfo": {
     "elapsed": 4,
     "status": "ok",
     "timestamp": 1665730087855,
     "user": {
      "displayName": "﻿안재윤(전임교원/통계학과)",
      "userId": "02619146530199681853"
     },
     "user_tz": -540
    },
    "id": "pHNc3wOIOKTv",
    "outputId": "5dc7cdc6-50e2-4cf4-cf15-db21629414e5"
   },
   "outputs": [
    {
     "data": {
      "text/plain": [
       "[Parameter containing:\n",
       " tensor([[2.0346]], requires_grad=True)]"
      ]
     },
     "execution_count": 178,
     "metadata": {},
     "output_type": "execute_result"
    }
   ],
   "source": [
    "list(model.parameters())"
   ]
  },
  {
   "cell_type": "code",
   "execution_count": null,
   "id": "DnzwwfTxOOv-",
   "metadata": {
    "colab": {
     "base_uri": "https://localhost:8080/"
    },
    "executionInfo": {
     "elapsed": 4,
     "status": "ok",
     "timestamp": 1665730098709,
     "user": {
      "displayName": "﻿안재윤(전임교원/통계학과)",
      "userId": "02619146530199681853"
     },
     "user_tz": -540
    },
    "id": "DnzwwfTxOOv-",
    "outputId": "d981aa8d-3b14-420f-ed53-25f53e4c5707"
   },
   "outputs": [
    {
     "data": {
      "text/plain": [
       "tensor([[4.2803]], grad_fn=<AddBackward0>)"
      ]
     },
     "execution_count": 180,
     "metadata": {},
     "output_type": "execute_result"
    }
   ],
   "source": [
    "model(torch.tensor([[2.5000]]))+b #4.88"
   ]
  },
  {
   "cell_type": "code",
   "execution_count": null,
   "id": "-J52hRfHOV6B",
   "metadata": {
    "colab": {
     "base_uri": "https://localhost:8080/"
    },
    "executionInfo": {
     "elapsed": 2,
     "status": "ok",
     "timestamp": 1665730041504,
     "user": {
      "displayName": "﻿안재윤(전임교원/통계학과)",
      "userId": "02619146530199681853"
     },
     "user_tz": -540
    },
    "id": "-J52hRfHOV6B",
    "outputId": "09850d7f-8eb1-4609-d2e9-affdf8cf90d8"
   },
   "outputs": [
    {
     "data": {
      "text/plain": [
       "tensor([[-0.2000]])"
      ]
     },
     "execution_count": 161,
     "metadata": {},
     "output_type": "execute_result"
    }
   ],
   "source": [
    "x[:1]"
   ]
  },
  {
   "cell_type": "code",
   "execution_count": null,
   "id": "mhIs_DObOtYs",
   "metadata": {
    "colab": {
     "base_uri": "https://localhost:8080/"
    },
    "executionInfo": {
     "elapsed": 5,
     "status": "ok",
     "timestamp": 1665729910032,
     "user": {
      "displayName": "﻿안재윤(전임교원/통계학과)",
      "userId": "02619146530199681853"
     },
     "user_tz": -540
    },
    "id": "mhIs_DObOtYs",
    "outputId": "510bba89-284d-4c98-b7ab-bd782960929e"
   },
   "outputs": [
    {
     "data": {
      "text/plain": [
       "-0.66"
      ]
     },
     "execution_count": 136,
     "metadata": {},
     "output_type": "execute_result"
    }
   ],
   "source": [
    "-1.32/2"
   ]
  },
  {
   "cell_type": "code",
   "execution_count": null,
   "id": "R1MFGtMKO2Oc",
   "metadata": {
    "id": "R1MFGtMKO2Oc"
   },
   "outputs": [],
   "source": []
  }
 ],
 "metadata": {
  "accelerator": "GPU",
  "colab": {
   "machine_shape": "hm",
   "provenance": []
  },
  "kernelspec": {
   "display_name": "Python 3 (ipykernel)",
   "language": "python",
   "name": "python3"
  },
  "language_info": {
   "codemirror_mode": {
    "name": "ipython",
    "version": 3
   },
   "file_extension": ".py",
   "mimetype": "text/x-python",
   "name": "python",
   "nbconvert_exporter": "python",
   "pygments_lexer": "ipython3",
   "version": "3.11.5"
  }
 },
 "nbformat": 4,
 "nbformat_minor": 5
}
